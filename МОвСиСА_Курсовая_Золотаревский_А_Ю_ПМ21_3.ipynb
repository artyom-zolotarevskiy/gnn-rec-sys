{
  "cells": [
    {
      "cell_type": "markdown",
      "metadata": {
        "id": "view-in-github",
        "colab_type": "text"
      },
      "source": [
        "<a href=\"https://colab.research.google.com/github/artyom-zolotarevskiy/gnn-rec-sys/blob/main/%D0%9C%D0%9E%D0%B2%D0%A1%D0%B8%D0%A1%D0%90_%D0%9A%D1%83%D1%80%D1%81%D0%BE%D0%B2%D0%B0%D1%8F_%D0%97%D0%BE%D0%BB%D0%BE%D1%82%D0%B0%D1%80%D0%B5%D0%B2%D1%81%D0%BA%D0%B8%D0%B8%CC%86_%D0%90_%D0%AE_%D0%9F%D0%9C21_3.ipynb\" target=\"_parent\"><img src=\"https://colab.research.google.com/assets/colab-badge.svg\" alt=\"Open In Colab\"/></a>"
      ]
    },
    {
      "cell_type": "markdown",
      "metadata": {
        "id": "dm2K6LnFm-IC"
      },
      "source": [
        "# Построение рекомендательной системы с помощью графовых нейронных сетей использующих атрибуты товаров и пользователей\n",
        "\n",
        "Золотаревский А. Ю."
      ]
    },
    {
      "cell_type": "markdown",
      "metadata": {
        "id": "ZhxYiP-hm-IG"
      },
      "source": [
        "**Тип системы**: рекомендательная сеансовая система на основе графовой нейронной сети\\\n",
        "**Реализованная модель**: SR-GNN\\\n",
        "**Датасет**: Retail Rocket Dataset\\\n",
        "**Фреймворк**: Pytorch Geometric"
      ]
    },
    {
      "cell_type": "markdown",
      "metadata": {
        "id": "mV4pOr_3m-IH"
      },
      "source": [
        "Этапы работы:\n",
        "  \n",
        "1. Предобработка данных\n",
        "\n",
        "2. Построение графов пользовательских сессий\n",
        "\n",
        "3. Получение эмбеддингов товаров на основе графов сессий\n",
        "\n",
        "4. Генерация эмбеддингов сессий\n",
        "\n",
        "5. Обучение модели и совершение рекомендаций\n",
        "\n",
        "6. Оценка качества полученных результатов"
      ]
    },
    {
      "cell_type": "markdown",
      "metadata": {
        "id": "WIjdpIpL6hog"
      },
      "source": [
        "## Установка зависимоcтей и подготовка окружения"
      ]
    },
    {
      "cell_type": "markdown",
      "metadata": {
        "id": "lX0Qjg9kGyqo"
      },
      "source": [
        "**Установка Pytorch Gemoetric**\\\n",
        "Фрейворк PyG - наиболее популярный фреймворк глубокого обучения на графах, построенный поверх PyTorch, который предлагает удобные элементы для использования графовых данных и разработки графовых моделей машинного обучения.\n"
      ]
    },
    {
      "cell_type": "code",
      "execution_count": 1,
      "metadata": {
        "colab": {
          "base_uri": "https://localhost:8080/"
        },
        "id": "qPhXYVKO5qou",
        "outputId": "fc82e565-ac93-4003-efa1-3c4bda0284da"
      },
      "outputs": [
        {
          "output_type": "stream",
          "name": "stdout",
          "text": [
            "Collecting torch-geometric\n",
            "  Downloading torch_geometric-2.5.3-py3-none-any.whl (1.1 MB)\n",
            "\u001b[2K     \u001b[90m━━━━━━━━━━━━━━━━━━━━━━━━━━━━━━━━━━━━━━━━\u001b[0m \u001b[32m1.1/1.1 MB\u001b[0m \u001b[31m5.2 MB/s\u001b[0m eta \u001b[36m0:00:00\u001b[0m\n",
            "\u001b[?25hRequirement already satisfied: tqdm in /usr/local/lib/python3.10/dist-packages (from torch-geometric) (4.66.4)\n",
            "Requirement already satisfied: numpy in /usr/local/lib/python3.10/dist-packages (from torch-geometric) (1.25.2)\n",
            "Requirement already satisfied: scipy in /usr/local/lib/python3.10/dist-packages (from torch-geometric) (1.11.4)\n",
            "Requirement already satisfied: fsspec in /usr/local/lib/python3.10/dist-packages (from torch-geometric) (2023.6.0)\n",
            "Requirement already satisfied: jinja2 in /usr/local/lib/python3.10/dist-packages (from torch-geometric) (3.1.4)\n",
            "Requirement already satisfied: aiohttp in /usr/local/lib/python3.10/dist-packages (from torch-geometric) (3.9.5)\n",
            "Requirement already satisfied: requests in /usr/local/lib/python3.10/dist-packages (from torch-geometric) (2.31.0)\n",
            "Requirement already satisfied: pyparsing in /usr/local/lib/python3.10/dist-packages (from torch-geometric) (3.1.2)\n",
            "Requirement already satisfied: scikit-learn in /usr/local/lib/python3.10/dist-packages (from torch-geometric) (1.2.2)\n",
            "Requirement already satisfied: psutil>=5.8.0 in /usr/local/lib/python3.10/dist-packages (from torch-geometric) (5.9.5)\n",
            "Requirement already satisfied: aiosignal>=1.1.2 in /usr/local/lib/python3.10/dist-packages (from aiohttp->torch-geometric) (1.3.1)\n",
            "Requirement already satisfied: attrs>=17.3.0 in /usr/local/lib/python3.10/dist-packages (from aiohttp->torch-geometric) (23.2.0)\n",
            "Requirement already satisfied: frozenlist>=1.1.1 in /usr/local/lib/python3.10/dist-packages (from aiohttp->torch-geometric) (1.4.1)\n",
            "Requirement already satisfied: multidict<7.0,>=4.5 in /usr/local/lib/python3.10/dist-packages (from aiohttp->torch-geometric) (6.0.5)\n",
            "Requirement already satisfied: yarl<2.0,>=1.0 in /usr/local/lib/python3.10/dist-packages (from aiohttp->torch-geometric) (1.9.4)\n",
            "Requirement already satisfied: async-timeout<5.0,>=4.0 in /usr/local/lib/python3.10/dist-packages (from aiohttp->torch-geometric) (4.0.3)\n",
            "Requirement already satisfied: MarkupSafe>=2.0 in /usr/local/lib/python3.10/dist-packages (from jinja2->torch-geometric) (2.1.5)\n",
            "Requirement already satisfied: charset-normalizer<4,>=2 in /usr/local/lib/python3.10/dist-packages (from requests->torch-geometric) (3.3.2)\n",
            "Requirement already satisfied: idna<4,>=2.5 in /usr/local/lib/python3.10/dist-packages (from requests->torch-geometric) (3.7)\n",
            "Requirement already satisfied: urllib3<3,>=1.21.1 in /usr/local/lib/python3.10/dist-packages (from requests->torch-geometric) (2.0.7)\n",
            "Requirement already satisfied: certifi>=2017.4.17 in /usr/local/lib/python3.10/dist-packages (from requests->torch-geometric) (2024.2.2)\n",
            "Requirement already satisfied: joblib>=1.1.1 in /usr/local/lib/python3.10/dist-packages (from scikit-learn->torch-geometric) (1.4.2)\n",
            "Requirement already satisfied: threadpoolctl>=2.0.0 in /usr/local/lib/python3.10/dist-packages (from scikit-learn->torch-geometric) (3.5.0)\n",
            "Installing collected packages: torch-geometric\n",
            "Successfully installed torch-geometric-2.5.3\n"
          ]
        }
      ],
      "source": [
        "# устанавливаем зависимости\n",
        "!pip install torch-geometric"
      ]
    },
    {
      "cell_type": "code",
      "execution_count": 2,
      "metadata": {
        "id": "CRxB48iDiAF_"
      },
      "outputs": [],
      "source": [
        "import os\n",
        "import copy\n",
        "import pickle\n",
        "import random\n",
        "import time\n",
        "\n",
        "import matplotlib.pyplot as plt\n",
        "import numpy as np\n",
        "import pandas as pd\n",
        "from tqdm import tqdm, trange\n",
        "\n",
        "import torch\n",
        "import torch.nn as nn\n",
        "import torch.nn.functional as F\n",
        "import torch.optim as optim\n",
        "from torch.utils import data\n",
        "\n",
        "import torch_geometric as pyg\n",
        "import torch_geometric.data as pyg_data"
      ]
    },
    {
      "cell_type": "markdown",
      "metadata": {
        "id": "DYrSfhkh6nIc"
      },
      "source": [
        "## Предобработка данных"
      ]
    },
    {
      "cell_type": "markdown",
      "metadata": {
        "id": "MKM4wAYG9ssq"
      },
      "source": [
        "## Сведения о датасете\n",
        "\n",
        "- Используется открытый датасет **Retail Rocket**, который собран на данных реальных платформ электронной торговли.\n",
        "- Поведенческие данные, т.е. события взаимодействий, такие как клики, добавление в корзину, покупка, были собраны за период в 4.5 месяца. Они находятся в файле \"events.csv\".\n",
        "- Пользователь может совершать 3 типа событий: \"view\", \"addtocart\" или \"transaction\".\n",
        "-  В общей сумме имеется **2 756 101** событий, включая 2 664 312 \"view\", 69 332 \"addtocart\" и 22 457 \"transaction\", совершенные **1 407 580** уникальных пользователей.\n",
        "- Файл с характеристиками товаров содержит 20 275 902 строк, т.е. различных характеристик, описывающих 417 053 уникальных товаров.\n",
        "- В данной работе используется только файл \"events.csv\".\n",
        "- Также имеется файл \"category_tree.csv\", описывающий дерево категорий товаров."
      ]
    },
    {
      "cell_type": "code",
      "execution_count": 3,
      "metadata": {
        "colab": {
          "base_uri": "https://localhost:8080/"
        },
        "id": "j8J6nRzjm-IL",
        "outputId": "8bde4bbb-c461-412a-ab15-8f774a34f72d"
      },
      "outputs": [
        {
          "output_type": "stream",
          "name": "stdout",
          "text": [
            "--2024-05-12 17:25:49--  https://zltrvsk.ru/upload/RetailRocketDataset.zip\n",
            "Resolving zltrvsk.ru (zltrvsk.ru)... 95.214.63.131\n",
            "Connecting to zltrvsk.ru (zltrvsk.ru)|95.214.63.131|:443... connected.\n",
            "HTTP request sent, awaiting response... 401 Unauthorized\n",
            "Authentication selected: Basic realm=\"Authorization\"\n",
            "Reusing existing connection to zltrvsk.ru:443.\n",
            "HTTP request sent, awaiting response... 200 OK\n",
            "Length: 304719974 (291M) [application/zip]\n",
            "Saving to: ‘RetailRocketDataset.zip’\n",
            "\n",
            "RetailRocketDataset 100%[===================>] 290.60M  19.8MB/s    in 16s     \n",
            "\n",
            "2024-05-12 17:26:06 (18.2 MB/s) - ‘RetailRocketDataset.zip’ saved [304719974/304719974]\n",
            "\n"
          ]
        }
      ],
      "source": [
        "# скачиваем датасет\n",
        "!wget --user artyom --password zolotarevskiy https://zltrvsk.ru/upload/RetailRocketDataset.zip"
      ]
    },
    {
      "cell_type": "code",
      "execution_count": 4,
      "metadata": {
        "scrolled": true,
        "colab": {
          "base_uri": "https://localhost:8080/"
        },
        "id": "x9HOG6Pcm-IM",
        "outputId": "aaf0e7e6-0ce5-4465-bb37-55ec8710668e"
      },
      "outputs": [
        {
          "output_type": "stream",
          "name": "stdout",
          "text": [
            "Archive:  /content/RetailRocketDataset.zip\n",
            "  inflating: category_tree.csv       \n",
            "  inflating: events.csv              \n",
            "  inflating: item_properties_part1.csv  \n",
            "  inflating: item_properties_part2.csv  \n"
          ]
        }
      ],
      "source": [
        "# распаковываем датасет\n",
        "!unzip /content/RetailRocketDataset.zip"
      ]
    },
    {
      "cell_type": "code",
      "execution_count": 5,
      "metadata": {
        "colab": {
          "base_uri": "https://localhost:8080/"
        },
        "id": "Pn79u2Vc7Bi7",
        "outputId": "e9f50bd2-06da-4cd3-f16f-c63bc35ebe1d"
      },
      "outputs": [
        {
          "output_type": "stream",
          "name": "stdout",
          "text": [
            "       timestamp  visitorid event  itemid  transactionid\n",
            "0  1433221332117     257597  view  355908            NaN\n",
            "1  1433224214164     992329  view  248676            NaN\n",
            "2  1433221999827     111016  view  318965            NaN\n",
            "3  1433221955914     483717  view  253185            NaN\n",
            "4  1433221337106     951259  view  367447            NaN\n",
            "Кол-во строк: 2756101.\n"
          ]
        }
      ],
      "source": [
        "# смотрим на данные\n",
        "events_df = pd.read_csv('events.csv')\n",
        "print(events_df.head())\n",
        "print(f'Кол-во строк: {len(events_df)}.')"
      ]
    },
    {
      "cell_type": "code",
      "execution_count": 6,
      "metadata": {
        "colab": {
          "base_uri": "https://localhost:8080/",
          "height": 300
        },
        "id": "oD7SEiObBC8x",
        "outputId": "4b3ef11d-d36a-446c-99cf-51bdc10e881b"
      },
      "outputs": [
        {
          "output_type": "execute_result",
          "data": {
            "text/plain": [
              "          timestamp     visitorid        itemid  transactionid\n",
              "count  2.756101e+06  2.756101e+06  2.756101e+06   22457.000000\n",
              "mean   1.436424e+12  7.019229e+05  2.349225e+05    8826.497796\n",
              "std    3.366312e+09  4.056875e+05  1.341954e+05    5098.996290\n",
              "min    1.430622e+12  0.000000e+00  3.000000e+00       0.000000\n",
              "25%    1.433478e+12  3.505660e+05  1.181200e+05    4411.000000\n",
              "50%    1.436453e+12  7.020600e+05  2.360670e+05    8813.000000\n",
              "75%    1.439225e+12  1.053437e+06  3.507150e+05   13224.000000\n",
              "max    1.442545e+12  1.407579e+06  4.668670e+05   17671.000000"
            ],
            "text/html": [
              "\n",
              "  <div id=\"df-2cc90bb6-1be5-4073-a786-4706e4af0a37\" class=\"colab-df-container\">\n",
              "    <div>\n",
              "<style scoped>\n",
              "    .dataframe tbody tr th:only-of-type {\n",
              "        vertical-align: middle;\n",
              "    }\n",
              "\n",
              "    .dataframe tbody tr th {\n",
              "        vertical-align: top;\n",
              "    }\n",
              "\n",
              "    .dataframe thead th {\n",
              "        text-align: right;\n",
              "    }\n",
              "</style>\n",
              "<table border=\"1\" class=\"dataframe\">\n",
              "  <thead>\n",
              "    <tr style=\"text-align: right;\">\n",
              "      <th></th>\n",
              "      <th>timestamp</th>\n",
              "      <th>visitorid</th>\n",
              "      <th>itemid</th>\n",
              "      <th>transactionid</th>\n",
              "    </tr>\n",
              "  </thead>\n",
              "  <tbody>\n",
              "    <tr>\n",
              "      <th>count</th>\n",
              "      <td>2.756101e+06</td>\n",
              "      <td>2.756101e+06</td>\n",
              "      <td>2.756101e+06</td>\n",
              "      <td>22457.000000</td>\n",
              "    </tr>\n",
              "    <tr>\n",
              "      <th>mean</th>\n",
              "      <td>1.436424e+12</td>\n",
              "      <td>7.019229e+05</td>\n",
              "      <td>2.349225e+05</td>\n",
              "      <td>8826.497796</td>\n",
              "    </tr>\n",
              "    <tr>\n",
              "      <th>std</th>\n",
              "      <td>3.366312e+09</td>\n",
              "      <td>4.056875e+05</td>\n",
              "      <td>1.341954e+05</td>\n",
              "      <td>5098.996290</td>\n",
              "    </tr>\n",
              "    <tr>\n",
              "      <th>min</th>\n",
              "      <td>1.430622e+12</td>\n",
              "      <td>0.000000e+00</td>\n",
              "      <td>3.000000e+00</td>\n",
              "      <td>0.000000</td>\n",
              "    </tr>\n",
              "    <tr>\n",
              "      <th>25%</th>\n",
              "      <td>1.433478e+12</td>\n",
              "      <td>3.505660e+05</td>\n",
              "      <td>1.181200e+05</td>\n",
              "      <td>4411.000000</td>\n",
              "    </tr>\n",
              "    <tr>\n",
              "      <th>50%</th>\n",
              "      <td>1.436453e+12</td>\n",
              "      <td>7.020600e+05</td>\n",
              "      <td>2.360670e+05</td>\n",
              "      <td>8813.000000</td>\n",
              "    </tr>\n",
              "    <tr>\n",
              "      <th>75%</th>\n",
              "      <td>1.439225e+12</td>\n",
              "      <td>1.053437e+06</td>\n",
              "      <td>3.507150e+05</td>\n",
              "      <td>13224.000000</td>\n",
              "    </tr>\n",
              "    <tr>\n",
              "      <th>max</th>\n",
              "      <td>1.442545e+12</td>\n",
              "      <td>1.407579e+06</td>\n",
              "      <td>4.668670e+05</td>\n",
              "      <td>17671.000000</td>\n",
              "    </tr>\n",
              "  </tbody>\n",
              "</table>\n",
              "</div>\n",
              "    <div class=\"colab-df-buttons\">\n",
              "\n",
              "  <div class=\"colab-df-container\">\n",
              "    <button class=\"colab-df-convert\" onclick=\"convertToInteractive('df-2cc90bb6-1be5-4073-a786-4706e4af0a37')\"\n",
              "            title=\"Convert this dataframe to an interactive table.\"\n",
              "            style=\"display:none;\">\n",
              "\n",
              "  <svg xmlns=\"http://www.w3.org/2000/svg\" height=\"24px\" viewBox=\"0 -960 960 960\">\n",
              "    <path d=\"M120-120v-720h720v720H120Zm60-500h600v-160H180v160Zm220 220h160v-160H400v160Zm0 220h160v-160H400v160ZM180-400h160v-160H180v160Zm440 0h160v-160H620v160ZM180-180h160v-160H180v160Zm440 0h160v-160H620v160Z\"/>\n",
              "  </svg>\n",
              "    </button>\n",
              "\n",
              "  <style>\n",
              "    .colab-df-container {\n",
              "      display:flex;\n",
              "      gap: 12px;\n",
              "    }\n",
              "\n",
              "    .colab-df-convert {\n",
              "      background-color: #E8F0FE;\n",
              "      border: none;\n",
              "      border-radius: 50%;\n",
              "      cursor: pointer;\n",
              "      display: none;\n",
              "      fill: #1967D2;\n",
              "      height: 32px;\n",
              "      padding: 0 0 0 0;\n",
              "      width: 32px;\n",
              "    }\n",
              "\n",
              "    .colab-df-convert:hover {\n",
              "      background-color: #E2EBFA;\n",
              "      box-shadow: 0px 1px 2px rgba(60, 64, 67, 0.3), 0px 1px 3px 1px rgba(60, 64, 67, 0.15);\n",
              "      fill: #174EA6;\n",
              "    }\n",
              "\n",
              "    .colab-df-buttons div {\n",
              "      margin-bottom: 4px;\n",
              "    }\n",
              "\n",
              "    [theme=dark] .colab-df-convert {\n",
              "      background-color: #3B4455;\n",
              "      fill: #D2E3FC;\n",
              "    }\n",
              "\n",
              "    [theme=dark] .colab-df-convert:hover {\n",
              "      background-color: #434B5C;\n",
              "      box-shadow: 0px 1px 3px 1px rgba(0, 0, 0, 0.15);\n",
              "      filter: drop-shadow(0px 1px 2px rgba(0, 0, 0, 0.3));\n",
              "      fill: #FFFFFF;\n",
              "    }\n",
              "  </style>\n",
              "\n",
              "    <script>\n",
              "      const buttonEl =\n",
              "        document.querySelector('#df-2cc90bb6-1be5-4073-a786-4706e4af0a37 button.colab-df-convert');\n",
              "      buttonEl.style.display =\n",
              "        google.colab.kernel.accessAllowed ? 'block' : 'none';\n",
              "\n",
              "      async function convertToInteractive(key) {\n",
              "        const element = document.querySelector('#df-2cc90bb6-1be5-4073-a786-4706e4af0a37');\n",
              "        const dataTable =\n",
              "          await google.colab.kernel.invokeFunction('convertToInteractive',\n",
              "                                                    [key], {});\n",
              "        if (!dataTable) return;\n",
              "\n",
              "        const docLinkHtml = 'Like what you see? Visit the ' +\n",
              "          '<a target=\"_blank\" href=https://colab.research.google.com/notebooks/data_table.ipynb>data table notebook</a>'\n",
              "          + ' to learn more about interactive tables.';\n",
              "        element.innerHTML = '';\n",
              "        dataTable['output_type'] = 'display_data';\n",
              "        await google.colab.output.renderOutput(dataTable, element);\n",
              "        const docLink = document.createElement('div');\n",
              "        docLink.innerHTML = docLinkHtml;\n",
              "        element.appendChild(docLink);\n",
              "      }\n",
              "    </script>\n",
              "  </div>\n",
              "\n",
              "\n",
              "<div id=\"df-0221efa2-1ae8-4ff1-a118-b102f087d68c\">\n",
              "  <button class=\"colab-df-quickchart\" onclick=\"quickchart('df-0221efa2-1ae8-4ff1-a118-b102f087d68c')\"\n",
              "            title=\"Suggest charts\"\n",
              "            style=\"display:none;\">\n",
              "\n",
              "<svg xmlns=\"http://www.w3.org/2000/svg\" height=\"24px\"viewBox=\"0 0 24 24\"\n",
              "     width=\"24px\">\n",
              "    <g>\n",
              "        <path d=\"M19 3H5c-1.1 0-2 .9-2 2v14c0 1.1.9 2 2 2h14c1.1 0 2-.9 2-2V5c0-1.1-.9-2-2-2zM9 17H7v-7h2v7zm4 0h-2V7h2v10zm4 0h-2v-4h2v4z\"/>\n",
              "    </g>\n",
              "</svg>\n",
              "  </button>\n",
              "\n",
              "<style>\n",
              "  .colab-df-quickchart {\n",
              "      --bg-color: #E8F0FE;\n",
              "      --fill-color: #1967D2;\n",
              "      --hover-bg-color: #E2EBFA;\n",
              "      --hover-fill-color: #174EA6;\n",
              "      --disabled-fill-color: #AAA;\n",
              "      --disabled-bg-color: #DDD;\n",
              "  }\n",
              "\n",
              "  [theme=dark] .colab-df-quickchart {\n",
              "      --bg-color: #3B4455;\n",
              "      --fill-color: #D2E3FC;\n",
              "      --hover-bg-color: #434B5C;\n",
              "      --hover-fill-color: #FFFFFF;\n",
              "      --disabled-bg-color: #3B4455;\n",
              "      --disabled-fill-color: #666;\n",
              "  }\n",
              "\n",
              "  .colab-df-quickchart {\n",
              "    background-color: var(--bg-color);\n",
              "    border: none;\n",
              "    border-radius: 50%;\n",
              "    cursor: pointer;\n",
              "    display: none;\n",
              "    fill: var(--fill-color);\n",
              "    height: 32px;\n",
              "    padding: 0;\n",
              "    width: 32px;\n",
              "  }\n",
              "\n",
              "  .colab-df-quickchart:hover {\n",
              "    background-color: var(--hover-bg-color);\n",
              "    box-shadow: 0 1px 2px rgba(60, 64, 67, 0.3), 0 1px 3px 1px rgba(60, 64, 67, 0.15);\n",
              "    fill: var(--button-hover-fill-color);\n",
              "  }\n",
              "\n",
              "  .colab-df-quickchart-complete:disabled,\n",
              "  .colab-df-quickchart-complete:disabled:hover {\n",
              "    background-color: var(--disabled-bg-color);\n",
              "    fill: var(--disabled-fill-color);\n",
              "    box-shadow: none;\n",
              "  }\n",
              "\n",
              "  .colab-df-spinner {\n",
              "    border: 2px solid var(--fill-color);\n",
              "    border-color: transparent;\n",
              "    border-bottom-color: var(--fill-color);\n",
              "    animation:\n",
              "      spin 1s steps(1) infinite;\n",
              "  }\n",
              "\n",
              "  @keyframes spin {\n",
              "    0% {\n",
              "      border-color: transparent;\n",
              "      border-bottom-color: var(--fill-color);\n",
              "      border-left-color: var(--fill-color);\n",
              "    }\n",
              "    20% {\n",
              "      border-color: transparent;\n",
              "      border-left-color: var(--fill-color);\n",
              "      border-top-color: var(--fill-color);\n",
              "    }\n",
              "    30% {\n",
              "      border-color: transparent;\n",
              "      border-left-color: var(--fill-color);\n",
              "      border-top-color: var(--fill-color);\n",
              "      border-right-color: var(--fill-color);\n",
              "    }\n",
              "    40% {\n",
              "      border-color: transparent;\n",
              "      border-right-color: var(--fill-color);\n",
              "      border-top-color: var(--fill-color);\n",
              "    }\n",
              "    60% {\n",
              "      border-color: transparent;\n",
              "      border-right-color: var(--fill-color);\n",
              "    }\n",
              "    80% {\n",
              "      border-color: transparent;\n",
              "      border-right-color: var(--fill-color);\n",
              "      border-bottom-color: var(--fill-color);\n",
              "    }\n",
              "    90% {\n",
              "      border-color: transparent;\n",
              "      border-bottom-color: var(--fill-color);\n",
              "    }\n",
              "  }\n",
              "</style>\n",
              "\n",
              "  <script>\n",
              "    async function quickchart(key) {\n",
              "      const quickchartButtonEl =\n",
              "        document.querySelector('#' + key + ' button');\n",
              "      quickchartButtonEl.disabled = true;  // To prevent multiple clicks.\n",
              "      quickchartButtonEl.classList.add('colab-df-spinner');\n",
              "      try {\n",
              "        const charts = await google.colab.kernel.invokeFunction(\n",
              "            'suggestCharts', [key], {});\n",
              "      } catch (error) {\n",
              "        console.error('Error during call to suggestCharts:', error);\n",
              "      }\n",
              "      quickchartButtonEl.classList.remove('colab-df-spinner');\n",
              "      quickchartButtonEl.classList.add('colab-df-quickchart-complete');\n",
              "    }\n",
              "    (() => {\n",
              "      let quickchartButtonEl =\n",
              "        document.querySelector('#df-0221efa2-1ae8-4ff1-a118-b102f087d68c button');\n",
              "      quickchartButtonEl.style.display =\n",
              "        google.colab.kernel.accessAllowed ? 'block' : 'none';\n",
              "    })();\n",
              "  </script>\n",
              "</div>\n",
              "    </div>\n",
              "  </div>\n"
            ],
            "application/vnd.google.colaboratory.intrinsic+json": {
              "type": "dataframe",
              "summary": "{\n  \"name\": \"events_df\",\n  \"rows\": 8,\n  \"fields\": [\n    {\n      \"column\": \"timestamp\",\n      \"properties\": {\n        \"dtype\": \"number\",\n        \"std\": 664181090835.8025,\n        \"min\": 2756101.0,\n        \"max\": 1442545187788.0,\n        \"num_unique_values\": 8,\n        \"samples\": [\n          1436424488348.1033,\n          1436453013599.0,\n          2756101.0\n        ],\n        \"semantic_type\": \"\",\n        \"description\": \"\"\n      }\n    },\n    {\n      \"column\": \"visitorid\",\n      \"properties\": {\n        \"dtype\": \"number\",\n        \"std\": 858320.2726337845,\n        \"min\": 0.0,\n        \"max\": 2756101.0,\n        \"num_unique_values\": 8,\n        \"samples\": [\n          701922.8832292431,\n          702060.0,\n          2756101.0\n        ],\n        \"semantic_type\": \"\",\n        \"description\": \"\"\n      }\n    },\n    {\n      \"column\": \"itemid\",\n      \"properties\": {\n        \"dtype\": \"number\",\n        \"std\": 908052.7928183659,\n        \"min\": 3.0,\n        \"max\": 2756101.0,\n        \"num_unique_values\": 8,\n        \"samples\": [\n          234922.4783750668,\n          236067.0,\n          2756101.0\n        ],\n        \"semantic_type\": \"\",\n        \"description\": \"\"\n      }\n    },\n    {\n      \"column\": \"transactionid\",\n      \"properties\": {\n        \"dtype\": \"number\",\n        \"std\": 7391.37203337412,\n        \"min\": 0.0,\n        \"max\": 22457.0,\n        \"num_unique_values\": 8,\n        \"samples\": [\n          8826.497795787505,\n          8813.0,\n          22457.0\n        ],\n        \"semantic_type\": \"\",\n        \"description\": \"\"\n      }\n    }\n  ]\n}"
            }
          },
          "metadata": {},
          "execution_count": 6
        }
      ],
      "source": [
        "# описательная статистика датасета\n",
        "events_df.describe()"
      ]
    },
    {
      "cell_type": "code",
      "execution_count": 7,
      "metadata": {
        "colab": {
          "base_uri": "https://localhost:8080/"
        },
        "id": "WLaXTMI3TqYe",
        "outputId": "7cd143f4-8581-488e-c696-32eab28c3dea"
      },
      "outputs": [
        {
          "output_type": "execute_result",
          "data": {
            "text/plain": [
              "466867"
            ]
          },
          "metadata": {},
          "execution_count": 7
        }
      ],
      "source": [
        "# максимальный уникальный идентификатор товара\n",
        "max(events_df['itemid'])"
      ]
    },
    {
      "cell_type": "markdown",
      "metadata": {
        "id": "VNke6VEX-Tp1"
      },
      "source": [
        "## Генерация пользовательских сессий\n",
        "**Разделений файла с логами на отдельные сеансы**\n",
        "\n",
        "Данные в исходной форме представлены в формате лога, который необходимо разбить на сессии для всех пользователей.\n",
        "\n",
        "Применяется стратегия динамической длины сессии, при которой сессия считается завершенной после определенного времени отсутствия активности от пользователя. В данном случае максимальное время простоя установлено в 1 час.\n",
        "\n",
        "\n",
        "Вот что происходит в ячейках ниже:\n",
        "\n",
        "1. Отфильтровываются только события просмотра товаров. Ставится задача предсказать товар, который будет просмотрен следующим.\n",
        "2. Отбрасываются те пользователи, которые имеют всего лишь 1 страницу в истории просмотра.\n",
        "3. События группируются по идентификатору пользователя visitorid.\n",
        "4. Полученные группы событий разбиваются на сессии."
      ]
    },
    {
      "cell_type": "code",
      "execution_count": 8,
      "metadata": {
        "colab": {
          "base_uri": "https://localhost:8080/"
        },
        "id": "36yeTCZ6-O6_",
        "outputId": "5ba626a6-c332-42c3-f899-47634ab0e227"
      },
      "outputs": [
        {
          "output_type": "stream",
          "name": "stdout",
          "text": [
            "Кол-во событий просмотра: 2664312.\n"
          ]
        }
      ],
      "source": [
        "# Получаем только события просмотра товаров\n",
        "events_df_filtered = events_df[events_df['event'] == 'view']\n",
        "print(f'Кол-во событий просмотра: {len(events_df_filtered)}.')"
      ]
    },
    {
      "cell_type": "code",
      "execution_count": 9,
      "metadata": {
        "id": "72rxoxUqBT3J"
      },
      "outputs": [],
      "source": [
        "# Отбрасываем пользователей, которые имеют всего лишь 1 страницу в истории просмотров.\n",
        "visit_counts_per_visitor = events_df_filtered['visitorid'].value_counts(dropna=False)\n",
        "visit_counts_per_visitor.head()\n",
        "\n",
        "visitors_with_significant_visits = visit_counts_per_visitor[\n",
        "    visit_counts_per_visitor > 1\n",
        "].index\n",
        "events_df_filtered = events_df_filtered[\n",
        "    events_df_filtered['visitorid'].isin(visitors_with_significant_visits)]"
      ]
    },
    {
      "cell_type": "code",
      "execution_count": 10,
      "metadata": {
        "colab": {
          "base_uri": "https://localhost:8080/"
        },
        "id": "jQDjX6S1D-nH",
        "outputId": "cfcc93a7-aaeb-4147-bebd-449d8d142a9e"
      },
      "outputs": [
        {
          "output_type": "stream",
          "name": "stderr",
          "text": [
            "1656582it [01:42, 16105.47it/s]"
          ]
        },
        {
          "output_type": "stream",
          "name": "stdout",
          "text": [
            "\n",
            "Кол-во оставшихся пользователей: 396449.\n"
          ]
        },
        {
          "output_type": "stream",
          "name": "stderr",
          "text": [
            "\n"
          ]
        }
      ],
      "source": [
        "# Группируем события по идентификатору пользователя\n",
        "visits_by_visitors = {}\n",
        "for _, row in enumerate(tqdm(events_df_filtered.iterrows())):\n",
        "    timestamp, visitorid, event, itemid, transactionid = row[1].values\n",
        "\n",
        "    if visitorid not in visits_by_visitors:\n",
        "        visits_by_visitors[visitorid] = {'itemids': [], 'timestamps': []}\n",
        "    visits_by_visitors[visitorid]['itemids'].append(itemid)\n",
        "    visits_by_visitors[visitorid]['timestamps'].append(timestamp)\n",
        "\n",
        "print()\n",
        "print(f'Кол-во оставшихся пользователей: {len(visits_by_visitors)}.')"
      ]
    },
    {
      "cell_type": "code",
      "execution_count": 11,
      "metadata": {
        "colab": {
          "base_uri": "https://localhost:8080/"
        },
        "id": "0YdCvwXpIpN6",
        "outputId": "72d0c77e-75c4-4026-eef6-c526384c934b"
      },
      "outputs": [
        {
          "output_type": "stream",
          "name": "stdout",
          "text": [
            "\n",
            "Кол-во сессий: 396449.\n"
          ]
        }
      ],
      "source": [
        "# Максимальное времся простой пользователя 1 час для генерации сессий\n",
        "delay = 1 * 3600 * 1000\n",
        "\n",
        "# Разбиение истории посещений каждого пользователя на сессии\n",
        "sessions_by_visitors = {}\n",
        "for visitorid, visitor_dict in visits_by_visitors.items():\n",
        "    sessions = [[]]\n",
        "    events_sorted = sorted(zip(visitor_dict['timestamps'],\n",
        "                               visitor_dict['itemids']))\n",
        "    for i in range(len(events_sorted) - 1):\n",
        "        sessions[-1].append(events_sorted[i][1])\n",
        "        if (events_sorted[i+1][0] - events_sorted[i][0]) > delay:\n",
        "            sessions.append([])\n",
        "    sessions[-1].append(events_sorted[len(events_sorted) - 1][1])\n",
        "    sessions_by_visitors[visitorid] = sessions\n",
        "\n",
        "print()\n",
        "print(f'Кол-во сессий: {len(sessions_by_visitors)}.')"
      ]
    },
    {
      "cell_type": "markdown",
      "metadata": {
        "id": "Z4DjtBWb_sdR"
      },
      "source": [
        "## Разбиение датасета на обучающий и тестовый наборы\n",
        "\n",
        "- Разбиение происходит по идентификаторам пользователей.\n",
        "- Каждый пользователь будет присутствовать только в 1 из 3 наборов.\n",
        "- Берется часть исходного датасета для уменьшения требуемых вычислительных мощностей. Для этого вводится параметр `sampling_rate`, принимающий значения от 0 до 1. Установка 1 приведет к тому, что будет использованы все исходные данные.\n",
        "- Разбиение на обучающий, валидационный и тестовый наборы идет в процентном соотношении соответственно 80 %, 10% и 10 %."
      ]
    },
    {
      "cell_type": "code",
      "execution_count": 12,
      "metadata": {
        "id": "80Shzu4P-s_9"
      },
      "outputs": [],
      "source": [
        "# Используем половину от исходных данных\n",
        "sampling_rate = 0.5\n",
        "\n",
        "seed = 42\n",
        "all_visitors = list(sessions_by_visitors.keys())\n",
        "random.Random(seed).shuffle(all_visitors)\n",
        "\n",
        "num_train = int(len(all_visitors) * 0.8 * sampling_rate)\n",
        "num_val = int(len(all_visitors) * 0.1 * sampling_rate)\n",
        "num_test = int(len(all_visitors) * 0.1 * sampling_rate)\n",
        "\n",
        "train_visitors = all_visitors[:num_train]\n",
        "val_visitors = all_visitors[num_train : num_train+num_val]\n",
        "test_visitors = all_visitors[num_train+num_val:num_train+num_val+num_test]"
      ]
    },
    {
      "cell_type": "markdown",
      "metadata": {
        "id": "rq0Wlvd-m-IO"
      },
      "source": [
        "### Аугментация данных\n",
        "\n",
        "Для увеличения кол-ва обучающих примеров из каждой сессии получаем все подпоследовательности.\\\n",
        "Так сессия (1, 2, 3) даст две отдельных сессии (1, 2) и (1, 2, 3).\\\n",
        "Данный подход соответствует оригинальной статье SR-GNN"
      ]
    },
    {
      "cell_type": "code",
      "execution_count": 13,
      "metadata": {
        "id": "vOt9UVcesil7"
      },
      "outputs": [],
      "source": [
        "def extract_subsessions(sessions):\n",
        "    all_sessions = []\n",
        "    for session in sessions:\n",
        "        for i in range(1, len(session)):\n",
        "            all_sessions.append(session[:i+1])\n",
        "    return all_sessions"
      ]
    },
    {
      "cell_type": "code",
      "execution_count": 14,
      "metadata": {
        "colab": {
          "base_uri": "https://localhost:8080/"
        },
        "id": "dOTFciFbAHDl",
        "outputId": "5b30d4de-2985-4807-ce41-3c6ccfbbccc3"
      },
      "outputs": [
        {
          "output_type": "stream",
          "name": "stdout",
          "text": [
            "Пользователей в train, validation и test: (158579, 19822, 19822)\n"
          ]
        }
      ],
      "source": [
        "# Проверим количество пользователей в каждой наборе данных\n",
        "print(f'Пользователей в train, validation и test: {len(train_visitors), len(val_visitors), len(test_visitors)}')\n",
        "\n",
        "# Получаем сессии для каждого пользователя\n",
        "# Генерируем подсессии для каждой сессии\n",
        "train_sessions, val_sessions, test_sessions = [], [], []\n",
        "for visitor in train_visitors:\n",
        "    train_sessions.extend(extract_subsessions(sessions_by_visitors[visitor]))\n",
        "for visitor in val_visitors:\n",
        "    val_sessions.extend(extract_subsessions(sessions_by_visitors[visitor]))\n",
        "for visitor in test_visitors:\n",
        "    test_sessions.extend(extract_subsessions(sessions_by_visitors[visitor]))"
      ]
    },
    {
      "cell_type": "markdown",
      "metadata": {
        "id": "WDJlaUbn_3Tf"
      },
      "source": [
        "Проверим размеры каждой выборки и сохраним предобработанные данные."
      ]
    },
    {
      "cell_type": "code",
      "execution_count": 15,
      "metadata": {
        "colab": {
          "base_uri": "https://localhost:8080/"
        },
        "id": "sHNN9AV55P-v",
        "outputId": "02cdf735-1d84-4a1e-cce1-95f61ed945ff"
      },
      "outputs": [
        {
          "output_type": "stream",
          "name": "stdout",
          "text": [
            "Сессий в train, val и test: (373755, 49563, 52584)\n"
          ]
        }
      ],
      "source": [
        "print(f'Сессий в train, val и test: {len(train_sessions), len(val_sessions), len(test_sessions)}')\n",
        "\n",
        "os.makedirs('raw', exist_ok=True)\n",
        "\n",
        "with open('raw/train.txt', 'wb') as f:\n",
        "    pickle.dump(train_sessions, f)\n",
        "with open('raw/val.txt', 'wb') as f:\n",
        "    pickle.dump(val_sessions, f)\n",
        "with open('raw/test.txt', 'wb') as f:\n",
        "    pickle.dump(test_sessions, f)"
      ]
    },
    {
      "cell_type": "markdown",
      "metadata": {
        "id": "AK8wBmby8SWt"
      },
      "source": [
        "## Конвеер данных\n",
        "\n",
        "- Для приема данных используется классы `dataloader` из PyTorch и `Data` из PyG.\n",
        "- Объект `data` описывает гомогенный граф и может содержать атрибуты узлов, связей и самого графа. Интерфейс этой структуры данных очень похож на обычные словари Python, предоставляя при этом полезную функциональность для анализа графовых струкутур, а также базовые возможноcти оперирования над тензорами от PyTorch."
      ]
    },
    {
      "cell_type": "markdown",
      "metadata": {
        "id": "tttaVRSvFk5e"
      },
      "source": [
        "- Параметры класса **Data** Pytorch Geometric\n",
        "\n",
        "![image.png](data:image/png;base64,iVBORw0KGgoAAAANSUhEUgAAArYAAAE7CAYAAAAoxcJ3AAAgAElEQVR4nOy9f1yUZb7w/z5Rd3GaltO05pQ6/XDMHNoe5+X3gdP3YHLArGF1h83FPQV7CkuGOsJuj5jfMBPzSGvCsQN1lsETbM/C9kryLLMWkyVsJq1Bx2d4XJlSxspR81bXSba7yFtwvn/MAMMwAwPiL/Z6v17zesH943N9rh/3dX3uz/W5rvtvuru7fQgEAoFAIBAIBJc5V1xsBQQCgUAgEAgEgrFAGLYCgUAgEAgEgnGBMGwFAoFAIBAIBOMCYdgKBAKBQCAQCMYFwrAVCAQCgUAgEIwLhGErEAgEAoFAIBgXCMNWIBAIBAKBQDAuEIatQCAQCAQCgWBcIAxbgUAgEAgEAsG4QBi2AoFAIBAIBIJxgTBsBQKBQCAQCATjgivHRoyCc3M1zceDj2kxJCWS+AMD2pjQ61VcW200HgTNzAyyk3SDJHreK8e+L4w8owGtFEENuZnqN50o6El9zIIxNuT8F02Uv9UOk1PJTjeiiZSdLhf2VxvxoCPpZxmY4oBOJ3W/aUYOe0M8lqUG3C/baY8kE6BX3lcBPcJxYxLZi0xowqSnmRxP4qwkjFMGF4DyRRP2t9o5+Jevue57txBvNpMyVTukNgKBQCAQCATjiTEzbD077dg/CTlcXw2SDsvaCvJmBZmR3kaq/92OE+BjLalJmehDbj3psmPfGqW8AK7flVBbrwDw9Q/MGOeEGIAn27HX24FGmLKZvFnhLWTPlhLK6z2AEf1PAoZtl4ed9XZcEUogaen1tNfbsUc47ycgr0+PMMzQk7HIhCZsenZqAWlWHlXFFnSBFwa5Pp/FL7tQg6+sr6Zi4QZqnjAR6T1AIBAIBAKBYDwxRoZtP5b128mbBaoi464vpuDXLuyryjBtKSQp4EH1bK/DCWjiNChH6nDszcR6V3h5xqU1lKXrUDtl3FvDywOgq5n6rQrEadB0KjQ1NJI7x0x4n6WCvaIOS0Um+lBvsrcJ2289Q+QwhcIt+SQMOCahQSJ+Sz3ZgSNyQwG5r7rhvkLqc/uvljTAkcA/U7OpeNHCAH91jBTiSbawYXseJlVBOdZK2dPFNO0up3CLiapFeuhsovxlF6pkxFpeQsZUCfVQC9X/Xo0mWRi1AoFAIBAI/no4bzG2kkaHMauQ7KmA2oSzz/XooeU9D5BC/gozGhTsbzcP8DaGlRcXLK+V9i8Gnld3f0CzCrofP4N1FrC7jsZDEWRJEnxei63JO+ic640yWlQNmrhImlzH9XEaNAN+UkDHoGOxAZPymusHXCsFG9JSqBwNGk0EU1TSoJmSQuFTZgA8bW4UAHc7LQD3Z5MxNaDHlESsJRVkzoiUB4FAIBAIBILxx3lfPCaF2ml7HdR+DtJ995KUYCZjEqjvOWjujEaaivodgB7d9cHHvTRubUJFj2VOIqlpKYCHWkf4wAHDw1YscSotFXW4eoJOyHYqtigwI5vse6PP44VE7ToNgDTxer9n9wat3+O7rZrq3TJqz+B7vE1FpM1NY3lD+AhhgUAgEAgEgvHA+TVsD+2k8RMAE4bbAFSa37ajIGGem4SEntk/1AMtOHYN9p4OoMtDy8vF1B4B6a5UEoPn7w81UrcbmGFh9hSQEu4lRQJl286BhmsvmkQyfmaEzjoqtvYaeyrNr9lwoSXjScugmN9+nLz5cjnlfb8mhgpcGJIvG6kNlrXZ6ffChqNHxfuJneKKJkCLeU68//itqWTcJYHqonZFFmnpi1i+0Y4zyIaV3W2oqLT/yT2sZ1wgEAgEAoHgcmXMY2wd67NoiQV6FLyygoqEbuHDpGqBzmYc76kQl0HqTP/1+nvM6CttOLc04nkgY5BB6Xo5i7kv9/4noZuTR9FTA+NSXY5aPIDph7P9x2MTuHeORNN7dup3ZWNMGjy9r1uQS8Yb+dRVVtE8t5CkP9dR9Z6KlJBLxgw4+G6kHHpoqR9oyiYtTRnCEB6CTheO+iCvcu/CsQEX2Vk+N2ihWayBjOJirDN786TDUrqZ+Pds2KoacXq9ON8ux/l2LZb1VeTN0mB8rIKyH3jRJhhFzK1AIBAIBIJxy5gbtqpXRsYfE6udOZuMhzKxzPKbod5dDn88qEHD160t/r+RiJ8Ans9rcezNGLSITPfDZeTNcFNdZseNHvPDFgzBll+Pi53bFECH7mwHLbsCx78fDzhp2tpIblKYRWQxRjJzU7CvbaKqPpWvXbV40JOdk4IWOBgxh4HFXKMsnwHMyKOmPGTx2CBMZK81I22rwNbsRXtPFhkJIbmJ0WB4YBkbHlgGXjeOqiLK35GxF9eSusWKMUaH8Z6hUxEIBAKBQCC43DlvuyIMxkPjFqf/z93VrNwdel7BsdOF9S7jgKPa20wkPmBmWoxM1voWqp+1YaqxYgwswlJ31WPvBJBx/NtKHKFidzfR4jVjDrM9giYpi8zbmqj+7RrKVRXNgjwybh1hhs87eoz3pGBK0OHNyqeuqZjS/1nDuvsi7FGrNWB+Kg/XOytxdKqcvrDKCgQCgUAgEFw0LtyXxwKLxrgtk7It9dQH/6r9HlBlaz3NXeFv1963jIIECU7UUfQrZyBWtHfRmETKipqBMrfUsy5dAzip2x4hCjZGT0auBY2qomIk+6eX8PZYMUasz2WgRaVlYxH23hhabwu1rzbhGbAIzuP3ON+m4waAHhWlUwm7sEwgEAgEAoFgvDDmHttIOBvtKIDxh2aMcSEfV4gzY7nPhvO9Juw7ckl6IJw3UktKvpX6xeW46l/AllRDnm4njt2AZMacokMTsidtoiUTfb0NzxsOXAutGMNIlWZlU7wUWq7PwBLVbL2DFx5pCTGAUyl8LTus/CE5UE3BI3UDjxkyKVsVYf/dGdk8k97I8noXtl/aSXzJzMHX1lD9tkr1ljKMSalMi5VxNrXgQSJxUSp6wP2bLHJrvEgLNtDw8zEJohAIBAKBQCC45LgwHlulGcc2FaRE0u8NZz1KJNzvN+acWxoj7zKgs1C41ISEF/t6G9sa/F/m0qanYhr02V5gymwsd0nQaad+V6T9ADQY0/PInhNtDKqK94iMPOCnjG7KX1VC5MjIx9Uhdi6QMD32DBk6CXWvjeJ6L4n5NWzISUEfq+JqsmN/uwVZMpJR3B+uoLlBh4SENu7q0WgpEAgEAoFAcFnwN93d3b6LrYRgjFAVFDSE/cZDDxDO+BcIBAKBQCAYJwjDViAQCAQCgUAwLrhwi8cEAoFAIBAIBILziDBsBQKBQCAQCATjAmHYCgQCgUAgEAjGBcKwFQgEAoFAIBCMC4RhKxAIBAKBQCAYFwjDViAQCAQCgUAwLhCGrUAgEAgEAoFgXCAMW4FAIBAIBALBuEAYtgKBQCAQCASCccGVF1uB84uCLINOp7nYigiGo0dB9kroJoT7HrBAIBgPnDlzhu7ubnrOnr3YqggElxwxV1zBlVdeyVVXXTXym0/IeLU6tDFjr9flxvj22H5SS/5iGy0qqEectOxqifxrk1Evtr4XG6+T2pftuJQLlaBCc0kWWa+6UHaUsLiwDk/P2KfiPdCC81CkTKnIbS20HPCeayo41vrzcq7Iu+1Uv1xO+VaXaJNjhLLXTvmrzcjnoX2F5Ugz1cM+S/42U/TOuba98yVv7Djr89HV1cVpVRVGrUAQgZ6zZzmtqnR1dXHW5xvBnV6aNi6msF6OeH5U41OPjLO+mvKXy7F/Mkaj0d5qsh4pwnFibMSFYxwbtl4cv65D82gGiRJ4PqymvKLc/3vlBdasWsmajeX9x3Z7+avyFXY2U1poJ/gx8H5YTXV9OZtbL5Rlq3C0Q0Z7gxbNnMVkUktN89inffCtlSy3FmI/Eu6sl5ZXV7LyrYPnmIqKelxGVk6fkxS5Pp/FqxwcvMFAglE3Rm3STe2T1Zy7yX2J0dlM6VoHw5txCq1vlmN/vQzHgQugF+B+r4zakGfJ/Xou1XuDr/K3Ge93Y/X6Mtbyxo7T330nDFqBIEp6zp7l9HffRX/D3jrK2pLIStNFuGAU41OPjH3ZYlY6DqI1JBA/cYwspNMK8hEvapCTYXDfeG6M31CEQ43U7U4kq1APgGFRGTWLAud2lzN3RQd5ZWVYIrWDcY7a9gGOb+PJDjqmTSumyuBFe8eFCt04inwAdNdrIUYi9YcGshp2kjvHjHask1JdlBeUo6/KwxQ71sLHChf237gw5NRQlD6GDfNEOy37FYxjJ/HS4HMnjcf1ZA57oYaUp6rQ/UyDceoF0Asw/KyMskQw9D1LXtpb3Ch3XJj0LyXOnDkjjFqBYIT0nD3LmTNnoghLUGl+2w7pJSSN5di23071XgPWmqLzbCeNfd94WXhs1U4FpVMZYOHTo6J0Kiid4b0T8u6deBJSSYgbfE7xyoCOG8KcU5UwMntUlK6Qa7oYTK9OQ50LVTdYdo+KMuiCyITVFaArqKwC6aohU7Dufa1wm36gARmjQT9DjyYkRkftVMLrFUU6fYSrrxMeOpC4Ls7/Jqj7+1SMu5tp64wg41xIsmDBzguVTqL1CfvLN0ydBV8zRBsMlROxbPo4jdoJ06aE6UWGae/958Ok82cZT4TrQ68d0LZ71P68q2HS7hq+fPrlqpHT7RqifIbIt3IiTPhQJJ1jtei/r4msQ9/x8O087HMbJuOq0itXi/7m4BdEGflQmPyF3BtdO2HoviYaeUO0FzUoX8O172h07u7ujnDmGA1PW0i3WEi3rKDheGQZAsH4Yg+VluHbfuRnJ4iedpw7JMyzB7suhh2fhhpXvlVRmIY+nFHb2/eH9j/hxonhbIMo+saRcll4bL3bC8n6lQvNA+uoKUhEA8hbC1j8sgvDEzWULQwteRW3y4VhViHhfI/eYwdBSuTa4LebEy3YVq/BfkyLNsaLVzKzriIPkwb4k41FhbBucyptTxdQu18FJEz/q4oNAde//F4RBWVtoNWgnPCiSS+hKseIhIK7voSiyma8MRJqFxiySih51OjX7U82FhXA6tdNND9VjKPLQtkW69DetYCudV+AhAraJArWF5EyCcCL/ZlFNCbXUHyrnYLCOtwqMMHChk15mDQuqh8pou6IAixn7tYQ2Qs2sP3nJgCU/XZKnrfR3AlSlwp3ZFLyYjZGTVA6qTUUXlNBwcZmZBUkXQbrNln7vaI9Xloqi3hhqxtpgha8Mt6peWx+yYL2GwUvhv4HRzeN+Lhy2t2QMmuoAhgF1yeRXQA7V6yk8JYqyobyiHY6qX5mJbX7QRMHSifof1hISX5Sf2D+kSaKVpTQ7JXQacHLNAyhQfu99XRI47/mhETCUyUU3Rcm7bZy0grsfkNtxVzs0FcX3lYbhWvr8MTq0OLFKyUE1Td43imm6JUmPIFORtIlUVBSRIoOXK9mUbhFRgGWz7UDYFm/nbxJDgqzypm2fjt5fWUt43gmi3JDoA202Ugv07Ih38sLK+x4MZJXU4ZF48a+sQjbLgXtBH971y0KatODcGJLL0WzIgNXWTnOLkAykrepGP3vcllZHzBQY03kVWzAMgnoUXD+ppA1m119RqV0RzYlpZkYY7041uZSvsMLtJA1txx6dTsSXufEjwrJenkaG7bnYVLbqc5dzs5/2EDNUpM/3KPHQ23uYhrnVFGVpR+gvWdrPovfSBzwXMpbC8h6+WqWbd6Aufft8BMbi/I85G9ZR4rbRvqKDr9Of64ma3Udcmdo3d7kv++Uk+onywP9ysD6C4e8dTmL/70dSadF6pRRpmRT9lImht6ZwmHkDdVe+upqbS7eV4pxyL0yLP39IYyobQ/nrZ2+pJL18ycOec0lS5uN9NWfkbNpPWk3XmxlLk32VFh47jMrthfTOKdabrORvroh8E8az9ut3D1KUcfeWoF10+3nJOPcuJscu52c4w2sWLIj4lVRzXQcctGiziYv2OMZxfg01LjifDmN5fX+Z3/AuGFwUr16DXV7lYBTQcLwaAllWUYkQG4I6md7EzoRbqwJsDdS33gLTcX5bI7NpfippBHP4F4Whq0uvZC8nYspf6eU6rk15OkcFFe64K48CsMaKF5OHoVpc8OPDCdPyjBVz029BxQn5flr6PhJBQ0L9YAX+y8WUb09A1O6DrXza9QpV9O8thrtLzaz/Q5oKclipaMFOc2CzuugdL0Xy2v1ZEwCemTcX2r8FV1fSP4bOgqqtvsHjv3VLH6ykNr/px7rXfhlT72a1ortGFZWUT9RM3RcZa+uPyyjvtyABoWm9YsoLnMwc70ZLQrKV6A7XEfBvniKtm5HpzRR/FBxID9Gsl97BmXucr5e1UDhnN7UZOx5WdTdcIP/3yN2Cn9Ri66giu0pOuhxU52bS+FvEql/wgiBdLSf1VH03b2UbC1CJ9eR/4iNZpcV0yz6YnRq/y6PsnozeglaSuay8qqAp/ikF3nAG6GeadOh/pAMs8Z+7kMzK4+ypR0sfrmQ2plVZN4a5qIeD7UFy7HfVkhNeQq6GKCzhfLcleS+WsbmHKP/mqJi2oyF1Kzov6Z0sbM/jrXHQ23hShrvWkd9eaLfC37ETv6SfGyTN2OdEZLuzDwatiVQev9KDi6t6Te8v6iloLARU3E9FQl+q0Kuz2dxgQ1djRVjjEz7/wFLaT2WOzTQI1P3iyxKXmsmaUUSxsdqqJ9ZztwVDOxsIq0xCOVIHS+8nsqy6nrivyehiVNoLs7HdjKbiq0Z6GPwt8klBbwwqYZ190XqgmTq3lapqN+OPgbcv15Mfu4i9AvWsXmbCQ0e6n6xmPJXmkgtTkGjdtB6IJ5nqspI1AFKC6WPrKRk62yqFukxr9qM6Qf5ZDWmUlNuoa+1HAmnc0h2Y03kPZfBzrwXsCXVkDdTwvVqAdXXWKl5SB+qOPqEVHSVDpxfWDHe6s9LS6MHTZxCU6sX8wP+PLt2OlAS8gfPEt2VTc2WmZTPXQ4hLxIArm0tpK7ZzPY7NH3PWckbTlJ+bmIQJ+wU//tRMv6jgew7gB4Fz34v2qBOY2h5Q7cXqbeuXnGyuqyBZVr62v+aV5PY/HMT0kjbtkBwzhyj4bcNYF5Lfe7FMUUvWU56kafquaXXcI1mfBpmXDEtbWB7QilzCw/6X84DHaza1op7+jNUlSaiiwGltZSswhLsc6rImDIK3SP2jW4O/knGTQdeRm7YXrBQhG3btrFw4UIWLlzItm3bRnZzjA7LcitGyYt9fQmlZTZcGLEut/grbRBH8XwCUthzMh43YND3DYaehnLs37dSuDAwqMlttB+S0H3fX5zer2Q4sBN14Woy79AAGm4xBA2An7txouWGXm9GjA7DFA10NlFR6SbpXwr6vS93mDFPVXD80TVANmmFWGbo0GiHNmzdb76AXZNNQZbBP6DEaEiZmwp9U/gn8R6Bpv+rpbAg0KjjjMRPBdfBo34hnV8hB4UA+PEifwnaOA2g0LTJhntOPgW9iscYMD9gQNm+M/Bw+NNpduso6k1nkoFpQRI9Wwop/yaTklV+oxZk5IOgCxjP8qEOmKTlhr47NFw/1Ct90PRp6C+q6VtAl15MYYpM9TPlOMPFJPzJTu3nRrIXp/S3rbhEMh8x4d1cT3MXsN9B3ec6Mh4OvuYWDDcHyWmzU/t5Cvk5if2hHZMsZKZ4ceyMsIwrRhpU9057LZ6UfKwJ/b5Q3YJMUk842LkfQIe5sNBvpADE6JidakQ9fDKKRVXRoMWyNI/EKRo0cRLIjWxu0pL5i4BRC6AxkfETPS1/aBsyzMP8s/57DD8woXbpSf2hKdCO9cxONUJbOx0AsSasa61+oxZAk0jKveA5enLkOodjhpWSRzXY19tw7rZRVK8j7//LCN+f3Dob8ySZlraAeSy30HgggeyfJeL8oDfPHpwfKpjunRnBax0Z409zg+rPQOocHarbE/7dQ1VRUfCeDJR0b/hQ1PKiay/mp/JI7B1N4hLJ+IkBZVsz7TC6tj0S2mykW2xUVgyeqt1TYSH96QaOARxvYIXFQmWb//iKp1f4r6+wBaZ5bewZMiF/KMSKChsreqeFK/rvOPZWQN4gWUHTyH0exAABnQZPMQeHXQTlYZTsqQjOZ/gyGVBexxtYYVnBiqf9elVW+PO24q1htBiiLgZOp4fIarP1HX/OEUb3MOU9NMc4vA+mTw4dIAaWa78OA3Xr0ztQPtZNnwINPBc47y+vgKxendpsg+6rrLCFSSuSDgPLIT2oXsYS+VAHSEH9XBTj0/DjChAzuO+UZlpZ90Rin1xNQgqpeJDHPIzIQHbNdrbXZGMYxd0XzGNbWVlJZ2dn39/333//yARMslD4WCNZv2rCcQIMTxT6pyxHjN+A0yX2mlMedr7tQXNtO3UbW2nf5cRDPJaCKqz3+Cv26EEXzMgjM6gRHD3oguvS/QOKMZXMqQUUP5RO/X3ZZD9kwaQDte0jmtVU1t0zsIFIEqjq6X45t1mxzIpmxaGHlj94MfxoNgP8SjES8DVfq4Dsj1tNeSTI8Aigib3a/8dXRzmIgYRgp2jP1yidMO1mLXQ181GzSmpx0kBDK0aCLpXT9KdjeTTIGJA9dKAh/m+BHheONzyk5AfrcRTPAbjlR/4R8+hhN1yfGr0h4G2kpKAW96ATBjJLijBPiEaIhqT8dViWLGfls3qqShMHnJW/6EANE1ekvcWAhnZOdoK8rx2FxID3LjzyoQ5UXBQtaBp0TkqPdmWqjMetwidFpA0SI2EJFqN6cbs68Hzhwvn+oIjac8A0MJ9HPLiQcT0+l+rQS+/6eoTbk0mDXz5DBXR5cLUd5eAXrTT/X+B/jELnCOgfKsbaksXyFWBcWjNEf6Jn9n06qhtbkNMtSG3NuOdYKPlHldaXG2ntTCGly0nLERPmhHNf9ihphpAxyYw13c7KVek06hOx/OgnWBaYIrzgDyFvhO1Fd2s8qB14TsBNY9K2h6OBBtZSb59Iw9M5VP7XHtKG8dTtYw62NbdjXf0ZkzetJW1JLYePw93DhAjsc3xGziY767+0kb66loYH7ybtSxvWTZCzyU7ajcdoeDqH556egu3FWex+ehUNvZ7DQCiCnz1ULrExdY2d9TMD091LbEy2W5n41r9Rue/cps8H4WiANXbqb25gxRIb9rY0cm4e6oZPmfpwJXN+m0Mla7EtqcV6+BgMGyAQri4m0jCoHHKonGwn5+YGVqxuIG2NnZyZvaEIfknH3lrhD0uwpzGRPVRaVrFi8tChKHsqgozjTTmkb+oPX9lTkUPl7Wupf/Fuv/G5JKDDzMBUf7CMkgZmvZjGenvaqEMRGj6bgs1uh7dWYN1Uz575Voiowx4qVzdc8FCb4cenEYwrEVAPuXAePoh7dzNOIMzc0rlzDvvxXhahCH5kWna6QZKQVBX3+zuR0yN4WLgJ/Qxwh1004Tfg/J5J6PU8Tns0laR7biE7V4dmwMpCha+OgTS938Pbe4yJ1/uNslgj2f9Rj+WLZupKS1i+uJXCmnUYv5JhUiI3DdDRb1gb5t3SL/t/GBg8ARoOv6767w8cqBSvDNI09BOAT2Q8GEidHmSS9vgNyoSfBN59BoUAACdkDmIkdRLQeRIZHYkhA4L3uAfuSOUWgK8C6QQr/pWMBz2p1wMnOmjvNA7UY28rjSqkajWAyjd/UUMWsHnxfA7+BMIwwUzRa+bhi2k4NCbySvLoWGKjeKuO2dHcc1odkdEmxQCShQ0Neefw0EsQA1L6BhqWRpDS46W5rICSZg0Jaan8vdGI8ZZGHJ+Fv/yciQEJI9bXy7BE9SIxShQ3dcUF1MrxzL4viaRbEzBOsNMylml0umg7oEE7QcXd6sKbros45aVPMqP7dSuuztmc/kM7SQvWIcUpJM0q5qM2FeNXjbhmmSka8+08QtFgWlpDw8NumrZtpv43K6l7w8yGaHf7GG176VGB67hOGqu2PRx3kvPg3TASv+btk5nIIeB2Jt8Ih/mUw18Cw8W+mjP98bFf9h/a81EDTLcy60aAicy6907YdIhjx2HHPkh7OIw51LaLBoDVFvr9uLcDMHHy7fg9hGM4nT7dimUmELW37E4mBwzfPs/nZ4c5xt3DmLZh6uL47oHlMPMe0mjgwOFjHDu8g32kkTkzVM4xdn/wKez7FKvF1p+NYbS+O9dOfa7fCD4wwEjcw0cOgFWkB3mFezc+8Ruvn/afGC6hKEh7OBAnPH899fP9OlRG1GEik6dDw6Yc0jfded7isHVTpoE6otFp+HElAsr+Ol54ppajxtmk/kMShllG2urHtFceEy6YYZuTk0NlZWXf3yNF3lqMba+K/tEy8k4Vsby+muKtsyMsAtJyw03gOCQz0C1JwIALeCZ7keD6KSZMU8N5Tb0cPQKGhJuCjimcPAnG4GMxEtqpKVjLr0W5fyXtn8PMGOCIl5PQZ7iquxtxdJqw/oMW8ISRPQwSyF95oc/Mlmn8fQuaBWX+QeZrxb+SMcjoUJodOEihMCEQQXeoAyYlBoUAEPDE6VgUB/65VRnvSaD3ra/LSeM2BdOS2WgB9fjJQen0pa0jYGCrQSECXpp+a0fBiD6wyO3kUTAkB+fdvzoy7K4AY80kC4U5jSx++QU8cdA736GbHo+Gnbi+yMMU9MbrlT2ogZcH3a3TkOjAI4MpgqpaQzwatQX3ITCNJvbIL4VpRg3qx248mMK+/Ki7Kihujmf1a8tIDLyrycdqYThDJfY6rhuNSrfFY8JB+z4Vy3n8SpynoRjb15nUbOp/eZVaxzIFL00lJbSnrKZm8Te8kFVC6XszI8cI32pidlw1H/1hJ9/8KQlzkQRoSfxHE6UfOohXXBjvKRz7beoioTWQ8lAhKQuaKEovptmV549rH4bRthfX7p0wKQND3Fi17fFKBANmppV6uzXgfVxFuuP8GTqXPGMcJxvWI9pmw7rp07Be4/NBeK/sRNJetJN23O9Rr1xiofJ8xAjfoEV3wMPBHtDFRDM+DT+uhMeDY4ONrx+uoapvwb5EcLesuXZUo8qYc8FibO+//362bNnClsBpV3IAACAASURBVC1bRh6GINsp/pULdUIGBQ8ZMT26DHOciquyOMKm+xIGoxH3btfgmD/ZgxsDur4Kj8c0R6LpzVrcgW2mvJ/UsXxBbkC230uquz54yPLvv3rdtf54VNc7TX1fzFI+aaNdSsFkBO3/TMWIgzcb/NFt6hcOiksc6JcuC6yk9su+5eag1ic7WPlILra2cG9g8STdr8H1th1nJ9DjxVlZhO3PFlb/zL9eW/7yINCB+wv//cr+WgrXN2N4YnHIHnd+o1M+4o+s83t9r/PvFDEhkdQZ4Kh3+L/UpHpwrH8Bx5Q8lt0XFHc8ID42kHacxNUAN08jHjc7P/Sgql6clYV8dKsZXd82a/446Bu+FxSIIHfQ3plI/GiCakaBLr2YdQsklODtxWZYyL7LS+1LtbgCQYfqF3ZKNznRP2zBFAP8IBVLnIvqqiZkFejx4tpcTvWBUDky1f9qw+kN1KXXjWPjcmo/iV5H44+yMR6pprjSSZ+YAw5KC2px9YDa9Q1q12nO9N4gN1H75uBgDejAfQiQ3XgUIM7AzNuC6rjHi6u+grrhPmAQl8RP0jU0vVKM40BAIVXG+euVFDeN3RevlFNe+K7fS67sr+O328Nc+KWbg52gfOHBO4KvislbiyjZl8ozuYlotCnkPWHAubGUyFkwMvt+Da2/qcY5514SAs+SNiEFU7MNW6uR1L8f/oWs44DHv7g04pfwhkFx4XjH1ZdXZV87LqJ/ZqJtL47f1OHpbW+f1FKxVSUxy+wfBMeobZ8re/7Lxr7zJHvi5Dth3w52H4c+T6P5Hu6+cTJTgQOHj9G3oKmXm6cwnU+p/K/IcaN359qpX5MGvd7kXnpjMaOOOY2C4w3UOoa/bFQEyqHho9541F00cCdzEiYGvNOfcfh4qA4TmXw74Kgdo63d/B7RfZvqI8RSBzzUoyqHkLodtQ7AjWmst1eSM52Ah3yE9MjYV2WRW+kMP2s4xUiitJO23tjYKMan4caV8Ch4vaB09W7dqODe/FuCi1Zz50z0QTYPXhf2TXVhwgcHM7Bv9NJUnEXuxuZRrRW59EMRemTsv7ThUrVkPGfFGANoErHmp9C4tgnbBjuJpYMXkelmzUb/soOd3pT+7XgI7EKAnpv6jkkk/UsJmc8Wkr+wFhWQ9ClYS0v8MXeBWNJpwYtQTnjoAKZp/auK5f9TQ0lJCcQCcQlYXyrwG5GxFopWuSkoyWLuvwGxelIeK6O418vcG5Ma/JJzRuHkCTftrW6sM0M3/ZIwPVaCtbiAlQvrUJHQ3GVhdZm1bxueowddMMuC98V05u5XQdKRlF9B0QP9g65uugndiVpy769Dc08eVWvNqH85CVMTAjtF6LA8V4R7RTFZ95cCEvoUK2X/2l/ORw+6BsXHHj3shptT/V6ruBSyczaTX7mYtF/rSMovpkhnJ60+YDx3foUM6LT9Ejwf2HHNyqAozP7C5wcNpqUlWF259E+M6bD8axmUFVOwqNrfkUg6En9WRlnvivkYI5kvWPE8U0JWWnGgjItZnd7O8q7BclYuqgvI0WC8L5+CkWxErbNQ/BKU/XIlizYHNliJM5L6LwX+ZyEpk+zfFVC0KB2dBvhBNkVPZdDy6yAZxlQypzqwZc/FJumwFFWQl6DHstJKa16pv44lHUk5ReSmtVI0pIEoYXqignUxRbyQl0apP2Po78kk78dj5680/iifpA9KWJxuRyepaOY+Q0F+EvlBa5N0f59O0hvFrFzogFgjef9RhiUa4UfsFP9Kxry2uM9rqUsrxNq4mJISBzPXmsN+b9042wyb7ST9Q0J/7Lk2kZQflOL8NrV/oVtY4knNMuCoXMzcSgndgtVU/DxSzM0QdH2N550XKC9RkeJAUfVkFBeTEuUzo4mmvQAJM8H2UBotnYE+JKeMgj5v9hi17VFw94NWpi+x+aeyzWmkEY3xMXImzl/P84ctPLfEQiXAdCu2gKctZ00a6asDsZ7mNKbvC7gCb0xj/ZpDpK8Ompae7t/mitBpcfNacoKn6m+ewnRgX1ShAUNwYxqZZhvPrbbQwJ2kme9k33nxVN5NziYrB5b05zVtjd3vgb7RyvPm3rIbqMPduZXkfJbj917Sf1/OoLCFaJhI2otrOWxZ5Q/xAPo85jPTyZnem04aOUvuZN8HQXfOzyRtU/99fh0mkvZwGpWB+htQt6PR4UZ/+ER/C72TnE2j2PJMddO+W8YT85XfPgk9HxOPaY5KyfsurDOM0Y1Pw40rYTFi+ZckdpYsJu33OqQeDeYVBRQk5fsXlQJMsVD0RCu5/+a3eSRdEtbncjHvKhoig+H6xhvOaVeEv+nu7h7JB4kvI7w4ViyiblYVVYuidLb3qKjhFrREea+iSiHxuf2o6sCFi0PhfaeI2gmF5A21oCysrgpNhemU3ByInRkq0R4VtUcaXqeRKB42HaILAu9xYVtUwMmn6ilMunQ+bqx2gTRU7GKU5TOsnGgYqn12KaiSZsi2qyoqkmawrpGOR4PapSLFnr/6UhUFYkeXr0sSVUGNGTo/UTFMfzMsEduLc+DWO1G07+HatvLNNxHO+Bdl7bj3Mt7Hdszwl0Xl7WI7q78qAvvYzhkiLEVz7bXD2yZ7baQ/fZKCLYUDZ2ajGZ9GavcEPiqlGarPHU3/FNo39jpYRtFXXvoe21GjxfxoBtXL6mhJX0ZiNONemO2WoiZm6EqM2jbsbKLabcH6wDA3hNXVH/vbF7M7VKIxUTbkczFqIepGqezYTJ02k6p7Li0DZVhjNMryOWejFoZun7HD7H8MEY2/czEKz6dRCyBpht8z47IxagGk4espKobpb4YlivYCRNW+h2vbMVdcMeRG8/vO4+KaQQuI+rh0Ylz7dLxIe7QO2HVgAGO8i8MlrsOFJdibeydzIlwVc0UgWnQ42+SuDPJnZlHTIJMU/MGqaMankdo9MRLDdsuj6Z9C+8ZzePkfxx5bABWl079B+2VFtF7OQbiofqQY9akarKOa2rm4KJ1q5H1HBQLBBcDfh7C8huy7xkbimTNnOD2iVdsCgQDgakniqquuiu5iRUGJ1fTvLf1XzDg3bAUCgUBwsenq6oru86ACgQDwe2tjY8diqu+vjwu2K4JAIBAI/jq5+ppr+qdVBQLBkMRccQVXX3PNxVbjskV4bAUCgUBwQThz5gzd3d3CeysQhCHmiiu48sorow8/EIRFGLYCgUAgEAgEgnGBmBsSCAQCgUAgEIwLhGErEAgEAoFAIBgXCMNWIBAIBAKBQDAuEIatQCAQCAQCgWBcIAxbgUAgEAgEAsG44LL7pO6F3i4m7PYbPTJypw6d9oKoIBAIBAKBQCCIgsvGY3vW56Orq4vTqnpB90DsOXuW06pKV1cXZ33+ndHcv8lncUUzygXTQiAQCAQCgUAwHJeNYXv6u+8u6qbePWfPcvq77wAw/CSfpOYq7F9cNHUEAoFAIBAIBCFcFobtmTNnLokv1fScPcuZM2dAk4T5fpk6h+tiqyQQCAQCgUAgCHBZGLbd3d0XW4U+enUxJZlRt+9EmLYCgUAgEAgElwaXhWE72Fu7h0qLhXSLjT29RyospFfsCb31/OliiMfU2U6HfN6TFAgEAoFAIBBEwWVh2Eamgdq3jl2cpON06ONceI5cnOQFAoFAIBAIBAO57Lb7Cmb69DvZt6mePfOtIWf2UGlZRUPvdUsqWT9/IrTZSF8NaeYGGhwAd5KzaT1pNwIco+HpHCr3hdwTES26m8EzxnkSCAQCgUAgEIyOy9pjO/XeOUyngY/ago8eo+HpVTSY11Jvt1O/Jo19m3Ko7LumgQbWUm+vJGf6p1T+lz98YU9FDpW3B+7ZZIUB9wgEAoFAIBAILnUua48tk9PINNt47rcNTL49cOz4bnbsg7SH7/b/P/Me0mjgwOFjMBngTnIevBsIDmHYw0cOgFWkO/qPTh0y8aN4DoxVRgQCgUAgEAgE58rlbdgCdz9oZfqSHewAuH24q4dm+PCDIDq/QlaNJEw6tzQFAoFAIBAIBGPDZR2KAMCNs5gz/VP27ev9fzJTgYaPAjsktO2igTuZkzCUwTqRydPxx+tGm667HWdcPNN0o9ZcIBAIBAKBQDCGXPYeW5hI2sNpVK7uXSp2NzmbrBxY0h9WkLbG7l8g9uUQMl5cy2HLKp6z9MoJXlgWikrzdgfS3BKMY5gTgUAgEAgEAsHo+Zvu7m7fxVZiOJRvvrnYKgxAc/oDli+qI6G6iowpF1sbgUAgEAgEAgFcJqEIMVdcOmrGXHEF7t9X056yGLMwagUCgUAgEAguGS4Lj+2ZM2c4raoXWw0ArpYkrrriNEqXBo3mYmsjEAgEAoFAIOjlsjBsAbq6usJ8WvfCEnPFFcTGxl5UHQQCgUAgEAgE4bl05viH4eprrrmoIQkxV1zB1ddcc9HSFwgEAoFAIBAMzWXjse3lzJkzdHd3XzDvbcwVV3DllVdy1VVXXZD0BAKBQCAQCASj47IzbAUCgUAgEAgEgnBcNqEIAoFAIBAIBALBUAjDViAQCAQCgUAwLhCGrUAgEAgEAoFgXCAMW4FAIBAIBALBuEAYtgKBQCAQCASCccGVF1sBwUXmhIxXq0Mbc7EVEVyyyDJenQ7txdZDIBAI/go4e/Ys3T09nO3poefsWXy+sdu8SnPttWMm61Il5rnnniu62EqcL7zvFLFk7X+yJzaZZMMF+GKY4sT2i+X85/4b+X/v0TP6FF1UP/IUpfWd3PljExPGUMWBeGla9whlf0llvlEDqMht/037N3/LZO2F+sKaF/euPXQcPsKRCL/vrp3MBVPnkkTF897/5r8O34Tp1gv0HefOZkqtheybdjdtK3N5f4KF2bdK5y89rxvnDgdvvrOD1lYXsnI1fzdpApoL8cK1t5qs5W3n+Vm73FBw/XoNL+2/idnxExi+GhRc9TbeOnbL2LbRHpnm6mqcUjx33jgG7U+Vce1o5K2336O51Y1X+ltumKAlNszcpfeAk/e3vck7O1pxffkNV183iQnfG6IkelTkfTto/P1bvPfHVtxeib/V3hR939Xpoel3/5u3drg4ozeh/6v4ZHu07cY/JrZNexDTjWOR7ljLGzt6zp7ljKpyprubs2No0PYiSeexH79EGNceW/U7L/IRGe136oVJcF8zdftl2L+ZnVlJWEY9Sp5GOSIjo3B6LPULZW8dZW1JFKzSBQ64sa9dyc4fV5E49QL55xQX9ooKnIF/Va+Mt0eDbkJvJ2cgsyQRw4XR5pLA/XoujVPLsCb0dkDt2DfWYo+D2XOyL0xZKEfpOKLF/H0DqblJLKqx40nKRD/WhmaPl+aN+RS/I6PGatFp/Xneua2W8mIJU04ZqxcZOK9j/GkF+Qjn91m7pHFT++ROTP+RjbHvWAeNm1toidXjXmQMOh4BpZXNL9tpnqAJaqPh5I6QAw7KXrfjPRRP6l0p59AOFNyb15Bf6QxqZyqO+mpKYw1kvlBC9l0B6SeaKX2qGIcMGp3W/3L1gYPal4uRZlkpW5WBIUQRZX8da5bZcHZJaCdpkQD+4KC6BHQPFFL2VNLQs2KKk/Lc5eyclEFm2kwMcaPO6HlkDOozlKjbjX9MHLuHdKzljQ1nA0Ztd0/PxVblsmZcG7YXnJmZrHsMXDdnnINRe6FQaX7bDuklJPV6FHq+RukEbdwFdBVoklj2WlLgHxl7XhblhtXU/Nx04XS4pPDQ8o4H9angt2oTeVVlpGK8cAa+LONGxw1xoEkyY16/BscnmVjvGstEFJpLsijaocVcWMOyFF3/qR4VubWa8gPq+TVqBXCinZb9SoixYiJvSz3ZMZroyl+TQsF/6sj6XlAbDSt3hNyRTVl5Ikw1nlM7kOsLya+USVhaQcECQ/9MQI9MS2Ut8vUB6YqT8vwiGr+XwYbNVkxB7/fKfjslq8vJf1aiqtSCrlfGETuFv7AhJyyjqtCMPujRlXeVU7S2iNyrNlD1c1PEPCi73sTeaWFDjRXTpRoWNhb1Gcr5ajeXKd09PcKoHQMur8VjPSrKIRctu1x4usJfog5zvv8aJ245gic3inTCoyE+LZuMWdp+OZ0Kak9Qup94+v4fqJQXd1sLzgPe8OeH0ktVUDoVFCUkP12B4+Gy2dOOc4eEeXZQ93FC5iAw7eYhvLWBPA2S2aOiBOmkKsqA/4NRw+kKgBf5S9DdcEP06Xb1l29oeQ9IU1Einustv0Hn1KBjaoRyDEckXQE1+GBXmHLodOM6YkCvG3gYnRFj6LExqIs+PULkeL/sAOk6ro0FYkwk3a/i+KNrCCEjR91dTcl7kLKiYqBRCxAjobvHyrqs/vbZV3bh6rk3D6H57FH789VbXkOVRTTXhLs+UtuKpBcD20Kk9hnNNYPSitRO+3QNueDPMp5w18dq0ASMNDVSuj1qXxuWvq9HFzztHkbukHJC9QqgvVnfbxCOtD4BZDvFL7vQPVpCUbphYHhLjI7EJ5ZhmQSg4nx1DXbVzOrSgUYtgOYOC0UvZKPbW07pe95e4dh/WY5rqpWyVQONWgDdPXmUrEhB2bqG2r2RVVS++Rqm6rkpnFEbbRsKqvtIxwMnI7ejodpzpHYy4N4wddgVRtYI200oarh2HPHiYZ6L4eSNRd8S6dkL4Wwko7bNRrrF4v9V7BlShuAy8tj2T/X0HpEGTvH0yNgLF1O+W+0/rwvpZRQn5bkrsYczaBdsYPvPTcOnMxQnHBRmleOakUdNuQVd4H/PAxmkttn705WM5G0qC3SmoOwuJ3eVnb7TOt2gN/sh9VLbsS1eiaPTiPW1MjImBfK6ZDl21cy615aRGBpWc8hFizqbvDuCjh3x4MLA7FADyq8B7voSiiqb8cZIqF1gyCqh5NGAJ+VPNhYVwrrNqbQ9XUDtfhWQMP2vKjakBQQesrPyFzbaY7Vourx4Y7RoY0G6r5CqLCN0eTk5yGPcm24r6gQt6gkv056oYsMCHeDF/swiGlNrKLymgoKNzcgqSLoM1m2yYooFFBfVTxdQ92ctWrzIXSaWVa3DPAHo8dJSWciaLR6IBbVHS9JTJRTd59fXWbmI5T2r2Tyzmfz1DpT0MupzhvIjDFNGJ+wUPNRI6mvF6N8uYOVmNyqgXeD35qjvFJG/qRUZlZasuZQPkG0kr6YMi26M6gK/B6rslzaaO7VoYxW8soq5pIG8maB0ev0DbeDaaUYTyu87kDEStnmMGJXWbXaUuAzS50Tji3NiSy9FW7IM7/rl2E+AcWkNZf94lOrVa6jbqxAYJjE8WkJZltE/HdxmI71Mw7rFXsrXOwLPmIQufR0VS4M9aCru94ooDbShQXLC4G21Ubi2DjdadJKCrOr7p7R7PDiKCynfIUOcBjpVpIRsSgp7p7FlHM9k0W5ex01vrQnUEUi6JApKivDb+dFcAyhu7BuLsO1S0E7QoJzwolsU1B6C20usDo0qo8QlUbC+CN07WRRukVGA5XPtgzO5YAPbfx5Pa8UiiimkfkVSUHl4cRQuwnZrGfVPaHE8k0W5wd+Pul4dLNeyvgHT9kUUefPYvN4ctBhRpbkkPYz8QL0vXE7H0hrK0nV99VmYdZCqKOtK/qgRF4kULtBHqMkAPe00b1PQpJtJjNQkbzWTMaua0rd3Ij9gQSe30PgJJK4w93twQ9AkpWOJa8Le6MR6V+hMlBf7LxZRvhfARdbccvqe9QlRtqEfVxD/+3zK96qB+roJxzNZOOcVcsMbJYFxR4tlfRUZX65h8b87/c+KpMOytoK8Wf7Met4ppuiVpj6nSXA7C1+f28mbFZQVtZWyh4r45ql61t0XKMAeJ+ULl9O4oIz6J3r7ToWmVemU3VpGfU407aY/HfWLJoo2ltAcGCylO7IpKc3EGDaOWcH5ci4r671oJvnHDk1SIWWFSX1tb0h5nc4x6Vt6+wlPrA4tXrxSAgXri0iZNFjjnrNnw2UkQBrP263cHXzoeAMrltjY13vFGjs5M4cQ8ddCd3e375L/nXrf9/y8ZF9yxvO+dz//1td9+lvfp2886ZuXPM+3wnHc193d7fvs1//sS05O9j347BbfnsOnfKc+/9C38bF5vuTkZN+Tbx72dXd3+/aUz/clJz/o2/jHU77u7m7f8ffX++YnJ/vm//J93/Fvo0tnyN/hLb4nk5N9yU9s8R0O/j/5Qd+zv/3Y99nJw749v37SNy852Zf89Lu+U8F5m/e4b+POz3ynTh727XnzWd+Dycm+5OSNvo+jzP+plo2+B5OTffOWbvEd7v7W9/FLD/rz2nIqvK4tG33Jj73u1zPwO+VY4UtOft73/teDrz/85pO+eRnP+949HDjm2uT75+T5vlfa/P9/2/i8L/mx9b6Ny57yveY65evuPuX78Jfz+8vi9B7fKxnz+uqi+2t/np53nBpUfhtbQtPd6PvwZODYf2/0ze8tl+7PfK9lJvueLd3oe3zdu77Dp7t93QdfHyBjT/l83/xffugv6+5u3yn3Z77jp7t93d2nfB+XPuibt/Q136cB2afefd43L/kp39bj3b7u7m997z+f7Hv8lxt9z672t6njJ78dsv6HK6Nu92u+f0p+3rfxpcd9z797OCjNJ31bDvfLSM58zfdZaF0F1cs510Vve5n3uO+VlkC7Pvi67/EgPT4uTfYll37cr8OfXgkq97H4HfZteSLZl/zLD6O8/mPfxuRk3/yMpwLPySnft6e7fd/+9yu+FeUf+uu+u9t36o/rffOT/9n3+ufBZTfP908vfRio927fqT9u9D2YPN+3seXbAdc8/lKQnJB6GfRzv+b75+R5viff+Kz/+XF96Pv4qL9tvf/8PF/yE5v62lb36c98ry+d55v39Lu+48H5z3jWt8UVeAZOf+rblJ3sm9dX7tFc409r3tLXfZ+d7u0vP/ZtzAjqGxqf980L6ve6u7t9h1s+9H16KriMQus2kHZvOm2v+Ob3PRuB3/Gtvqf62l3I9ZHktr0ysH4GyQlf7339xijq6uPS5EF93VD99/o/Dn3dZ7/+p/58tWz0JSc/7nv94FD3+PuS4OdvUN/xxuMhZRV9G5pvedz37Jt7fIdPnvKd+ja43fT3m6fefd43zzzPN/+Zrf5yOx3oEyyv+PYEZG19/vmgdnbY9/oTyb556973fTtUfYbL5/MD75lnme+bb3nFt6e3fZ5817cieb7vlT+NoN0E2sG8xzb6PjzcL+f5eUFtI/T33xt985Kf9b3bV36HfXtcx6OWNyZ9i/s13z+HPntvPumblxFUHkG/U52d4X87XvQlJ7/o+yDk+Afrk33W2v2+U52dvn21uWGvCf2Nvs++fH4XLBRh27ZtLFy4kIULF7Jt27YR3ev9w2aaVDA9kkvKFAliJAwLc7HEqbS8vRMvLhy/8wAmsvMtGHUaNFMSyTAHRyR66dinAIkkBN5QtbMSSQCUq65FK0WTziiZkUnuIhP6OB3GhzJJBWhrpwNQdjloUkGzIJ+8e/Ro4nQY0y3MHlH+QTMrm2cWaFH32igvKeGFei/aBc+QPSu860E+1AEhqyOVv5zsn34OprOJiko3Sf9S0O8lusOMearSNz3t/UqGAztRF64m8w4NoOEWQ5CHZP9OHCdSyVwQEBCr55YJDNThiAcXRvS9b7JdzVRVejAXWEmMA3oU3G0dKLfp8AcrnMR7BJrdOooKUvwek0kGpvXnkg6Xgub6G/renjW36v2e9/11vLBVQ/ayzL6FGpo5qaTipHm3Ang5eRTcu8BS4G9T2rghVpNGUUac9CLThPPvCikMXKQxxmPAheeI/xLvcQ9cPzCuUfHK/fUyFnXR1UzZKgczV5Rg7Q2bCYqpBRmPOyQk5HodQ/q7eqf7Qn8R5/9U1O+AqwaXqdJWR/nL5YFfHc7O/nPaH+YFnhMNUgxIM62seyKxz1umSUghFQ/y8WCJZpYtTeybcdEkZJAxVcGxq33ANdalQXLuuZekoHoJxflWLZ4ZVgoX9peK5o5ETBOAE41sbgLLo9n9i4Bi9GQ8bkFqrcLxRb8c409zsdwRqO0YA6lzdKhuDzJRXiM3srlJS+YvMvoX9mlMZPxET8sf2lDw0vi7JljwDHkJ/a1KNytx0AKoIblrNuY4J3Xb+yeJPdvrcN6WiXkkcdd3mcm8zUPtW/1hLZ7tdThnZGOJWs7I6goY1NeF5YyKAkjDzMxJmiBfc9fXgDTMPRLD7rAUE6LfCNqQOiuLgnQjurj+0BEA408z/P0mgX6mS2X2goBnOUZD4j+mQmc7HScAdJgLC4PamY7ZqUbUwydHMO5JJPxDCjQ7aQ/MqDubHeh+mo0ZBzv3B/Rt+4iWODOz74gsKRLmnDwSe/u9uCTuTQLXwaPhL1ZVVLyc/At9eTLeMTC+ZCh5Y9G3OO21eFLysQY/ewsyST3RXx7nwt25dtbPnwjAxMm3A59x+PjQ9/w1cMFCESorK+ns7Oz7+/7774/63oOf+TtBZ8ki5paEnLwZ1BMdtHcC6NFFDA/VkphqxLa3kepfGbku9RYOvltFExIps+KjSydqjYcgRvJPYwSEdezz7wegvylyXGt0emkwPbYM8wcrcbzTBBoz63IiL1YIx9HDbphq7pt+7kVt+4hmNZV19wzsfCUJVNW/rPToQRfMyCMz6AE+etAF16X7dfieFh1uvJ2AFvhiJ40nEsn6Qb9MxStDn3EFausHNKkaEpttFL/eQus+Be092VSUWPxGluyhAwnLoxn904Cyhw40xP8tgI7EHydRW5xL2oeJZGRZyZijRxMDntZGvFMtzJ4SlKFA3Xz9nQocxfMJ6HMs/pCGYYimjPwvEyksXhhqImqQ/hZAxftnBW7TD9gzVvnLSZiawE1jVBfeHXaaJmRSFRQC4P2yA+LiA1sTHcVzALTzom893qYS8l93Dz5hyKRslTnMHrgapGuBzz14MQ04L10dyNsxJ/ZdGvQ/ycAUaBOmGeHNa/WQC+fhg7h3N+MES3dKlgAAIABJREFUhl56qMNgBNU9OO0+Yq/luoj3y3j2qWDQhw/L8PhDelJDpxqnTCOeOrwngVvDSw42miIx4JojHlzIuB6fS3XohXd9jcpBPHvBkBz6VI8UI+af6ql7w4FrkRVjjwvHGx5MS1KHfuEZhB5zVgrV62tp+uk6UuJcON6QSXnKPPoQlyHrCr/ReMDDURg6jWskNEDHl16YFbkejh52g+R/fZY01yHRjEceSrgXz+dADBHDWgYxgjZkMEa/a0hYAzw4rFP14nZ14PnChfP94SJdw8hPuJcUtZjmtjxMM120fqDD/JKF+FPVFO50YZ1hpL2tGc3cEoznvEhumBeGWZnkzVpMeXYatXclkfGjLCyB/n8k8kbft9yEx63CJ0WkNQ1OyzLGOzLs+agBSGPyJbZ92cXgsoixvTpWAyikrNhMfkJI1yBp0ChhYsPCoFtQSN6uXMq3lVNQD5Iunoy1xVgDRsKw6Zx7VkZFtHqp7lZaOv371KnKTpr/ZCUxIbzWuinTQA021QOd7y26Qf2z9ysZJiWGLGzwL/QyzLsFUPjqGEjTgwd6/zEmXu/Xb5IZ64I6Vi7JxzkL2na50eVUkRK86vgvJ0HS9XmM/emaSEpIJf7RbAo0moEd81cyHgyk6kOP6Um9PpDPlCI23+PBubWK0pLFONxlbM4xcvL/Z+/9w5sq04T/j0SOdo3by7hKVAgqxWKKbLO82w7vlGG2ravNyiTvYjvX2M7lti5NnbGd8bXYr+VFyrCGRdpxtp0fTVmpvtOO11DZaZaZRFeoq3QX233ZdhkJYoMjAYYDDHE6HLdySvD7R5I2bZM0/QUUn8919YKc8/y4nx/nnPvcz/3c55wMC+8YqdT0f4KMxOIFOujvRUbCdF9ij+3x+yhkjb0vZ6Q/2EkfXjIouDuY/twpMOaMVEJOnfAOKVHyNIxFz5Ee+LPHIhQSP12dHrgzJ9gfA59yXh21iVD2EUVtHUL3cA0tD4/XSyNyYPqfBmjqpMtvIS+iKul+C+X3AwcacO7vi1uK8mEbW55r5ZRxJTlfziJluZHe9q5xa1cHgT+6OXFFYzpQz3OecZSriaIBCSO21+pjRGLpiXZwUhhy8zE1Odj3vo2U37fjHMimetXEwwJqs6xY6ito2eMj6852nFioXTFzI5GWnoXUvpfu98sxxbMK32Zi5T3g6OzCvzrayxgQ8ND9toq0ykQaQKqJLMnJ3v0eytNj+N/7u+h8HwylMV6iJsJMzCEIht2rr6S2U0uGOYcvGY0YF+7F/dEEy0nK4CvZKrUHPJTfsA+3Lo/6BWD4n3mwrQffExfofFMi78XLEPNAo8ey1UXeyR7c//w6zpdKaP3ncnb8wJJQ/0393iIFr0/rNlxPzXCUn14Hz7vBvGmUD+4XlMvmilBaWkpycjLJycmUlpZOKG+KMQMJ6P6vPkjWog3/abVok4DbFpOWDNAXfHMOofx+5CKK0tFIQ7eEZXM7rj0u2lu2YVuhT7yeGWBxanDCeyOXU5RPOBeRJiG5BnpwbHXil7Kp/oENo6TgfqmZHiVGxbfq0B/1cWzobV1B+QS0fzzW9iFpgJP+ETKpB/bi7jeR92Ud4OfUSUiZH6mQKZw7B8aF4WNaTN/ZSfurdioqqil+wMDKPx95ewlajIc3LAWVWD1pK4wYkrVjrA3qmXMoLMYQ+UA/rwSPRRadZMBUUEPtEyn4f90XXMLVSHBq5DKb/HY7XckWch4APjnFMaJEJ4jB+H0E5/8w2hqr0PmmGx78ChlhS+lh0N8S+fgb6RYw9bEIKbmDES81h9toPsCwBbL/HDIp6CParpyVUe83jLHmTwWDuYRsqQfHji6USUW48eHe5uD8Y43s2PwMhQ9nkrnCOL4FMeChdz/oJ2DpGomexQ9o4T890Xdvp6SRiYdDR0at8ZyW8UW62kwH96Rhwju2riEWk5YBHo936itOuhwsD6o4f9XB3nc7kFZbh0MFTgRN0Prr+3kLta4O9F/PmwbrXWykFVYstym0OdrwRZtn/TKyAmAgpyAT6UAzrd3RbpwK3p820tZvoPDroU1uSVlYrTqU3Y20HY+SJeCno9FBj5RNiXkCtu3LOYcAdX8j9s40nnu1nuonLGSvyMR0z2TUcIn0P89E+bcenP/uRvdgZvB6vH8leYqbfbu72UsOGfdPr/xxJbrLhOXJF9hRV4ju/b10yePnmZ57i47FRi3qf3nHjfIwJXodWDe6xMaxCC6bYvvQQw+xa9cudu3aNSE3BABpRQm2pRLKG5uorHXSsb8L9yvrKbHmUrHTh4qRlQ/pAA+OjXU4OzpwvlRGRUu0GeynrdJMbm4uubm5mNcUse4nXfgDidQz/WiX55Apgbp7C+tecdP1RjPry2rpnFD7VXpe3oLzrETm02Vk3Weh+gkjnHWy5eUeouq2C4xkSvvoDfv5BE4hnwT9zdIoP0kV3Z/nYMTN665gf6ofu7HXujE89UzI0hb0dR2pkJ1CPgo33xSx3H20h55fd9Pd7cH3ey9tv+iJ6NOxFmNd+koMJ9toeSs0jqpMR20R1pe6UAlbSXVEBgeTf3sMkiVuADjZibs31PqAn55eH4aVJvRA2oo8tIedOEPn/Qcc1DTJWKoLgw/Zc35kFqIfUppVeprKKNrgJtqsGr+PZORjgNeLTyXoL9xSjb0zBdvjI3eCqwE14mEbtMaGI0VMfSy06O/Wwv5OOv0q6sdual6BnKwIn9qTPjzcyq0RWl+fpwftA4un11KkzaLixXz0HespKK/DecA3NO/kox00v7ZvnAIU/H5QBsJhwBS8O3+Ge0w6N827QmH2An48rzXiHMicmKIxCuPXijGebaW2xYM/AARUfG/YsbtkSM7iUauOjsZaOk6GZPP34Ph+G2p2ATnT2YnJWTxq1dLxIzvuo+FYTzI9r6zH3uEHtGQVWNB11FPbIQ/1Qc8r63H0Rt7R+vAeB2Qvvlgvw0hk/ZUF6Z1aGjoMFD6SiNUtermG3HxM/R10dJvIz538OCSExkjxFhvGow7KHl9Pc4cXuV9B6ffhecNBWVERlaH7pO7B53jBKuGuLqDsJSddR2WUfgXfYTfN1WVUtHgxfcdOYYQrifGJesof8OKwFbH+FTee4wpKv4x3v5O68iLsnVosmyvImshb1OWcQ4A68CnqwAUGwwfkDlpfj7ZGM/480WbkkHmyjeY3deStCI2txsjKXIXWJifqQ1kJxOpNZD6Ow8lOnPvloVBjsqcHf3IaixPqu+m5txi/VozxZDP2ph784WE86qaushXPdISrPeOiaqOL1LVNUZXag43BEGFNvdNQ1yxiVrgioNFj+bt6qLfjeKMB+xsAEoYVxRQ/ZEAieHOpPl1J7TtuGux70a+yUW+XqaxuGypGCYAuKYXMJ/LQnvChcJ6+tzvp2bWeupR2Xnhw/HqmHV02z714jMrnWulpqaMnKYX8DfVktZdR151Y+9UDDWxp9yNlVPPMg0GFRm+tpPiNEpp3b6E5a8dQSJfhPk3DtEql9l+Dfk/hGLbel8uwvhyRLhS6rGaDl8raInK/DyQZyH6iHrs1dIcI+boujtxcddZHH7BYpx0Ks9ZlyKdwtRFdEqR/zUJXbTPur5tCS6hBi7H+f0TYBBfkY6/qo7q+iNytgKTFuPo5dpRmIhHyG70lZ4TV7dQJ79CSuvJJH+7NdupUkAbAsGYjtSH/Vml5MbWlMpXVVtpUkJKNWGoasYX6ST4e9Dm9OeIGrP7Bh7y/E09/HvrRXwbSj9NHIWusabUf+5pcvAPBcDrljhryhm60C0nLkrDbreQmGSjc0kjx/cGPZgy5BYxXz3hjARgfrSTvXTs1BW6k+wp5YYsF38a2IeU57Ot8S7iNA524Z2j5ULvURuNrObh3OGiuKaEhIpydLt1C9T8WMjrE7TBGLN/OYl9tCeZ/1iMFtORVVVKZVcGhEekyMAUcFKzuQlGD/W77QeUIN5gJo7dgf9FP9cZKCl4JhlPTLrXw3PqgsKYnG3lBU8OWtWbs4ZBUf1XDjoqsaXZpkobrKjdTF6rLsKKQ8v8VbKCUXk591XmqXyrCbA+dz7ZR/WhojhhzKFzkxlGci0PSY6lppDwjRnVL8yi8qw2HLp+cBTHShIlabqj1upXkZdVxKMlCzmX4yKF0dz71rxpornfQZi+jNXw82UjOtxuxPRi23msxPdXCjuXNNGx3sP5X4aB7EtqlOZT/2EbefaPvpXos9p2kveWgfnsDFS11Q3kMK/J54fni4Q1KiUt8GecQaLMKKf5FJTUFVvRa4IFiap7Op+uViETxxjOS5AxyMhS6zhaSGTFHjCvzkHY5yckaZ1l+IvMxDsqn5zi03U7DZgmtRkFNzsK2pTDBDz9M071Fb8H+A6j/+/UU7AwFDUs2kvPtymlYpTiNqzYU6mt7KdbtwaOpa5siNpQtAT7g6InTkD5vqhXOGq67ePHi9H+MeCYJqCgKaGPtUFcVVM3YZWv6O1i/xk5XKF7tEN115Fa7MX5nJ/WrI+6w49UzA6iKiqQdp77plOt9B9Znz1G5qzrhJUVVTWyDcSS+liJK/l8+O39gGV6GH+jEvrqFxa82BuPujlfvgIqUNLk2q4oCSVHmRPh8om0KeHBs6MNij++jFbW8/g7Wr6lFH4oTG7fOARUSaOtkxmIEASCBm6v/jXUU7Mpgx/b8CW4UmgSqgqJKaMe7DiIJfZAiap4DDeRWwbY95ZiYhj6LxjiFTmXuTliU8eqKI2tC95/JyBStXH8H64taSHfsIH88BXkGGO+eMMRk7rfx5uMkuWxzaEBBleL3y0zNkxmrR1VQGBkxImGm894SUFHHiaDx6X//N59/HkUl63Vg3cjYOLbjEYpzuyjCTUE7boiO2c/ssNhGopHQxvuOtqSNbllNTiH9HujavZ6yT/NI+2NgUKanowtus1D8F6PMBtHqkZ1UFDUw9vtLkcHzJ09CF/F47Z8IS/OpSC+ixSWTtSYx4SejFGj/5A443s2+oznkLZBQTx/C/XI9nVlllCXoKzaVm7qkjW/fSLRN3td2ov92zbjL8VHLU85xjhQy9AnUmWBbp6ygJWQx8OJ89RDZZRtnXqmF4GbIibZLIzHOEA8XPxPP43EKvVxKbUJ1xZF1ppSVaOX69rTQ9UA+z1wBpRbGvycMMZn77QTmY6JctjmUFOP5GcHlUGqntZ6pbPyezntLOCJSHObMmUMg5id1XTxvcUHeZtrLxlNvT+N6tpSmI1/MjzbMPovtVFB8dLzuYOfbx0J+p3dgfPhRSgoyY341ZgQDMj29x6L42kosTDeN/CzgbEFRUJK0cUKgTAMBBe9bDhyv9dDnV9DqFmP6hi24/He1fhc9GglaOKPyfjNF21Se2XEVfws+Fv0KSvKViwoyJd5vpmgbVL9a/IX89vxVidqD49sO+HY9tvTLGpdCIJg+ZuDeog4OoqozsZtnmC+CxfaLpdgKBAKBQCAQXIVc+vxzLly4EMdqO3W+CIrtZYuKIBAIBAKBQCCIzpzrrkOaO5frNbNtWe/qYvb52AoEAoFAIBBcg2g0Gq6bMwfNxYtcDARm1Hp7rSJcEQQCgUAgEAgE1wTCFUEgEAgEAoFAcE0gFFuBQCAQCAQCwTWBUGwFAoFAIBAIBNcEQrEVCAQCgUAgEFwTCMVWIBAIBAKBQHBNMCvCfSmffnqlRbgq0Gg0XK/RoLn+euZcd92E8vplPzq9bvyE1xiDg4NcvHiRwKVLl6U+zZw5XH/99cydO3f4oCzj1+v54vW+QCAQCASXF2GxnUUEAgEuqCrqRL9M4u+grqSatpMxzr/fTNHjNbjPTkwe5eMOWn/YQMPLncgTyxoDP+7NRRS97JlySZc+/5yBgQEuqOplU2oBApcucUFVGRgY4NLnnwNemp8uofEd5bLJIBAIBALBFxWh2M5CLgYCqIODIcVpfDw/r6dnVRGWu2IkuKAgn/SjTkBXVg40UPK3jfRqDKQtT5kma6SKekZGVi4MH+rvpG6zG/8ES7rw2WeXVaEdTeDSJS589hmQQn5ZFp0tTnwizrZAIBAIBDOKUGxnKYFAgIsXL46fcKCT9t1g+VoW0rTVrtC9y4my+jm2PWkhO10/jWWP4jc97D2jok4gy+Dg4BVVasMELl1icHAQbVYeeSfbcB++0hIJBAKBQHBtIxTbq5EzLqosFqwWC1aLg4MxkiXkjuDpoTMpj5X3jzquKij9Cko8jTGgBtOMSaRw/jykLLwjdp5+ZYwFWI1W30C08iNqOitPSKkFElP4LxMXL14EjYmsh1Tc/z51FwuBQCAQCASxEYrtpDiN61kL1sZYKucUud3MVqeT9k3muMkuJWCV9B3uQl2RjnHoiILnlTLMZisFa8soWWNm3c6+UbkUvO01FK22UvTtMsoet2L+VjMeBTjrpCK3iIbD4PlhEbm5ueSWO5EB3xt2SqxmrGuswb/Ha+gYcr7twbHGSrVrpDduT5MV63PuKD66ftybCyjY2gWHGyjKzSU3twKnDBxupezxdbQdjd7msdbagzSNekk42DiD4xdFlsVGE8qv+6bJF1kgEAgEAkE0ZkVUBEF0Pk/Ax/bcOZmUexYO/VbeqaeyRSL/x+0U36cFwLezgpIDjEhT0eSn2OEifwGAQs8/lFBpX0iL3UL9nkzabEU4jNvY8x1TKJeM+z/BUteO5T4tBGTavltE7audZFVNxg1CR96GnZgeqKBobw4tDRb0Yfk8ffhOHuLQMYX8RdoJlOmi9ZdWlj0yb8LSTBXtfAPawz5OwVA7BAKBQCAQTC+zQ7HtdWDdCOY8Fy43wBJKt2/FfPtpXM+W0nTvZtrLloXSfUTp9q3M/ycLrR8t4ciRDyDPjNntwoWZ7zltLItbWajMI8FfqWub2BpShE7/sgrb9g+Gk94b+veMi6q1Do5EFpMXkmnEubDcY+sh1YbjRTPTq3LJ+LwgDem1Ct1vdqBm11B437BCaFi0GOgbyrP39Q50j+0IKbUAWkyP5mN4fC+9/dlkJ4M0RlPVk1ddPfxTo2dljhHH3nP4mV5lTptdg2sVoJlYvtTUJRzZ3s7BR2wjT/Q6sG50hX4Mj9HBRgvPE547jBqj2PMkKrfoMeCbmMACgUAgEAgmxCxyRXDhYjPtziZKUz+g6Z/GX0Y+wiocm8zg/oj52zdj5iNOnImf52BjSFF2OmnfboPtpTT1Ar0ObNuhdLszJEM4x2lctQ6O5AXzONYuCSpAZcuAgzStdbBokzN0DprWBpfDT//y+zQdMfM9Z/Bc+7QrtdHo41A3GI0pcSyop/AdBvmVkqCbQfjvcQdeznN+PIdX1Y+3t4uO9mZa/3UGFbkJKrUAi76yilRcvNcbcfCMi6qNLsyhMfpe3gdDYwSA2wWbgnMh9YgDZyhvzHkiEAgEAoHgijE7LLYALKH0r5cBpxPPcu985nEcuJf5t8MJPuDEb4HbY2U4yHtugA1Y3cNHFwEH33NBqo3lMfKmzo+ilvbuD1r6NlpwDR0Mmnnnzb8XcPG8xTVs3Z129BhSmFAYLwAkMD65k/rVEwjiFfDTWV9JbaeWDHMOXzIaMS7ci/ujCdY9k8w3U5jn4PmfuZgfsraf7n6HI5gpTA/+Xval4IvQiTMwHyDVhiUdGPFCFHuexET24Z22hggEAoFAIIjGLFJsLx/RlpUPvhcr9TyWf2UJTdtLsW4PHjFv2hphfY10P4gg3Ua70xZc7nZvwOqOkW6K3HqrHu9vjhF0BliIYSm4j8Xz9FxMWjq4PR7U1Yn7xqr7G7F3prHx1WfIDHk5yKdbYUixvQEpeQoNmSaW/bWN1LXv8A4Mu5JMknHdDyJQzsqo92cQJY6EQCAQCASCaWIWuSKMx2lcP3ONnywu85ifStAPc/SZ+UvgyPGgvbi3fdg3loM4t38wtJTd7nRSGrL+cecCUonvNrGsLBz9IGRNniDKAQdlj6/HHWO7veH+TKT9vQQDTelY+bAJdXczzYeDnzxQT3ZQ9yN3hAKrJavAgvateuxveIPW3oCKfKCZ9faOmB9KUAc+RR24wGD4gNxB6+uRNsoU0jIkPL9y0tMfKnN/A449CajOv/VyrB+Uj334A4wbFSEuty9nVeoHHAmNX9hyHnZPCFrmV8W0zIdyxZwnsejz9KB9YLHYOCYQCAQCwQwyyy228zA/ZqZpY3BJODXPTOqRqax9z8P84mZOWDYEXQSAIYvrI/+b0ndLQ8fNmPMIuRcsw7J2CbYR7gZh66uZrZuOY90YsWQd2oDE6I1oeZuHFeIJ4D/ahfekgvwHohthjSayBmrZ974N41LQPfgcNYcrsZcX0ApI9xXywqZy/MXDa+pSejmNdomarRWYa4NOtZIhk8KK/JhfGNNmFVL8i0pqCqzotcADxdQ8nU/XK0OlkrW2mrwKO+vWtAESKWs2UvFEHxV7Y7dP/yUrWT+3s36NG5KMlP+4npxTk42KAMNzJjRa6TYcaz+KGD8z33MG/Z1jO73EmSfRFOKBTtxvSuS9aIxyUiAQCAQCwXRx3cWLFxP7LusVRPn00ystQmxCUQ8WbQpbag/SZNnA0QksU8ckFA0iViSH6667jpv+6I9Q1WhRCobx/MRK5R8qaY8MuxVQUZGQxtuEpaqomgTShRlQUCVt/PSJpBkthqIiaSMaGSDmBrKrbb6o+2oo2JXBju35GK60MAKBQCAQXMPMcovtxBkTsmuISfq43r6cVanQFGmxTbXhmIpSOyJEWOyPNGjmBD1J4im1AMavV2AqasFZlEX+XeHMUmL+s1KC6cIkacdPn0ia0WJoR+WIoxRr5sy5Kj6pC6CZ8zHOVw+RXbZRKLUCgUAgEMwwwmI7i5EkCWnu3ITSKv0K2uSJLtvPTgYHB7mgTvRDvDPDDZLE3P++gJKs5YvR+wKBQCAQXDmuoc1jXyyu12i4XpP4Wv4XRakFmDt37pA1+0qimTOHuXPnglBqBQKBQCC4LFz5p79gwlyv0TBXkphzFShvVys33HjjFVVuNXPmcMONN16x+gUCgUAg+CLyhfOxna1cd911aObMYU7IUiuU2vjMue46kpKSGBwc5OLFi5fN51YzZw7XX3990FIrEAgEAoHgsjIrfGwFAoFAIBAIBILxEGY/gUAgEAgEAsE1gVBsBQKBQCAQCATXBEKxFQgEAoFAIBBcEwjFViAQCAQCgUBwTSAUW4FAIBAIBALBNYEI93XNoCDLoNeLTwFc9QRk5H49et2VFkQgEEwXlzu0oEAwm7icoTA1zz//fM2M13KF8L9Rw9rN/8jBpK/y1ZSkKy3OzHK4mZJv78eQ/z+5Xe7h/x3ycfLEyeh/567ndr2WxL9bdu3hP9DKP3ZfT9qS25AuS40KnbUlVB9ewrJfV1H29h1YVhqmuW4/3v0H6Ys67p/xRwt0RL0Kzrqp+dYmfrP4rzHdPq0CjUE+4KTtn96i8/TNmFJv+0LPwelCed+JY/fvWPinBrSXYw3uZCfN/7eHG4xLuC3mBPbj3ryW1oHpuvdOd3nTx6XPP+ezzz5j8OJFPv9cRM8UCKLx+eefEwgECAQCaK6/nuuuu27G6rqmLbbqZ37kkzK6z9QrLcow/V00PNeA9lstFC8NH1To+odKGrQVtDxhnEShftyvtKH9mx1kSuD9t2YafuUPngoo+GUFdHp04efBV6ppSddPvS2zBOWdOrb8oZAXVofb7GffT5txvt9HWm4N2ZfFyK1wqk9Gl6cjJbeCrIIdOD/OovDu6azjGO4N63En69GNaVMO1StSiGokDqj4T8rcemE6ZRmL3F5BSZNKxjct5Bn106TUe2n91j5MPy5mMlfOVUt/J3X15ynekBd9zIZQ6H69AWenDu3KLIrvm3nRvG/V09ru55gxh5rQxeN9rYx9DzRG3NNU1DMy/mm79053edPHhc8+E1ZagSBBApcuceGzz0hKmrkX1Gtasb0q+U037g9l8iKViMAhOnd7kVdPUrM4vpe2A5kUVRsASCmop6UgdO5AA7lVfZTX12P54uiyEaj0/pub8w8URxzTYdm0g8Wf6DBeNs+NU8hHQX+LDrRZ5D1kZ5PbQ+GT06+OpXyzlnrr1TbYHpw/9ZBS2kLNdMp29hBdHyrXllIL8Jse9p4xUDhuQi3ZT+9A/00txkWXQS4g5Zv11GdCyn3hi8fPoS4vymVQqq82BgcHhVIrEEyQwKVLDA4OzphbwuzaPBZQUY576NrvwTcQPYk6zvnhND145Rhv/wnUE5cBGW9vF12HfaiBkad8Hx5CBc73Kyjhv6Ne+gA++yT4WwnKpfYrhP6L/2gPPR8rUauTD+zDl5FDRvLYc4pfBvTcGuWcqigo/erog8MyB1SUfmVMG4JtVGKfC+VTRndvQEUZiPj/mASxiSprSI748no5dAAW3znK7pVswHj3WK1Wjej/kfVHHBuIniYicbD9kXPnrI8+JG5ODtopTVl5qHv24YldyswSHqN48zs0xvGbGmcejOACaj8sXhBFqQ3LEm18R5yPUs/vZHwx0o9OqyrKyPmnDp0YW3cCbR8uV41dbyLXSZR2K2dlxhyNJXOSDsOfaGPLMHQ8+vUT9TqNeg2Ey9VhuDPy2pGRj0dp36i8ic0TEpqbccuLM18ir2M13pxLUOaLFy/GOHMa17MWrBYLVksVrjOxyxAIri0O0mQZf+7Hvnamzqyx2CoftrHpGQc9Qzc7Cf3D1dQ/nYVOAwRknNUlNBxQh8/rRy12Kj00lK3HGU2hXb2NPd8xjV9PXCG9OF+qwfFOxEMpyUR54zYsd8k4y4toOBw83GG30jE6/1t2rG8B95fT0mCgbc06nNnPUHNTMzW7/aHjFkaqBipej4eU5dVEMz76Tx8DKZObIq3+Z7twbNyE87QOncaPX8rjhcZyTFroaSpgPS+w86u9VD7Xincg2IZntm8jTw8EZDrsldT2gi5Jwe/XYnkELObuAAAgAElEQVRxB7alEqDgba+lpqkTv0ZCHYCUolpq/8YYlO3XDgoqYeNrJjqftuMesFC/yxbf2haSte1jkFBBl0Xl1hqy7wLw43yugL1fbcF+t5PK6ja8KnCbhW3byzF93EzR99qQ+4GqXJyjirZs3UP58tDQfeik9nsOOvtBGlDhvkJqXywOWnTPOqn8xl5yWqq5eXslte/IqEjo17zAjidNw0vqZ7twvLAF51EJnQ78J/2kfGcn9at18KmCnxQM4cFLScPU306fDMbLbFyV36qh8qVO/El6dPghJWVkgvAYd6vodBLKWT/SbTokIOUb9dQ8rBsel+Na9Drwn5XIeLqWmgejNKa3AXOlM3hNhMchdL35ux1Ub27DF5LFL2VEjC/43rBT86OOoRdMSZ9FZW0N2XrwvFxE9S4ZBViXGxxdy9Y9lN/lprqogcUR4wsy7ueKaEgJ1kuvA2u9jm0VfrZUOfFjpLylHos2dA3vV9DdpkU560dfEDGHx9CDw1qHtiofT31D8L4hGSnfbsfwizLWt4fuBUP3ASCg0PPTajbt9AwpldJ9xdTWFWJM8uPeXEbDO36gi6LcBgjLdjK6zJnvVVP0w8Vs21OOST1Ec9k69n15Gy1PheZmwEdrWQl7V+1gR5FhhPS+3RWU/DxzxHUo766k6Ic38MzObeSF3wcPOygo91Gx6wWyvQ6sVX1BmX7XTNHGUdfY6m3s+c4dwXy/76H5Ww20fqiOGb9oyLvXUfIPh5D0OqR+GWVBMfU/KCQlfJGNU168+TI0VpvL8P/IjlsOl2EZuv8BE5rb41lrU9c2sfWReXHTXFlO43q2lKZ7N9NetuxKC3N10uvAuvEjSrdvxTxTexB6HVg3ukI/zHzPaWOyo3H6l1XYtt87pTKmxjJKnU5Kz7ioWvtOzFQzudIxOxRbpZP67zroSc6m+seVZN8J3vZKKn5ip+5PW3jhQR2+16ppOKCiyyqnpiwHw+Ahmv9u0whlxvPTTThlLRb7DsoztPg76yipccPDNex40pRQPfGROdQLGaXbKHloMRyop9LeQcPfO8lssJC3pZ2bf2TF/hZkV7dTEX7oHqjHau+AB6tpL8sAjYSWQ8FzHXXUJKWQbV3JzQsXR/G383PuFCzOjf6kOHdOhkUG7hjqyx4aKjbR92gjrjUGwI/zuwU078nHZNXx6R9UDFInm36qo7JlDymaLuoeX4/7PZk8qx7/W3XYz1ho2ZmPXgPIXnza4FNHbq+m4ud6KnfsCT5IPmym5FvVtP6PdmxLQe0/j7roBrob95Cyfgft87Tx/SzDsv5VPe0NKWhR6NhagL3eTfrWPHQoKJ+A/kQblUfSqNm9B73Sgf0b9lB7immpUsitOk/N7mqywsq97KSiqA3draHfJ51Uf7cVfeUO9mTrIeCluayM6p9m0v6kMaSU6vD9vIbzX67FtUGPvKuCop90cuhJE6ZQGRVrW9FV1NP+oAGJLuoeWo8UthSf8yOzeFixTdZjSPbgOwlMs2Lr/00PXfsjZ8qtLA77137cSvXWXoxVLVSHHtTK/jqKDgzbjv1v1WH35dDYXkyKBlCCc+BCWTvVD2qDilL1evYufYH2hky0mnD7K3DM34nt/lECpZfjejODuofWc+yplmE3iY9bqazei8neTmNGUKuQ2ysoqXSgb7Fh1Mgc+k+w1LVjuU8LAZm27xZR+2onWVVZGJ9ooT29gdwqgkpduD45wY462caW13J4prmdtD+W0CYrdNorcJwrpnF3PgYNwTm4tpItd8W7/mXafqXS2L4Hgwa8r5RQUVaAYfUL7HzThBYfbd8toeFHHeTYs9GqfXQfTeO5HfVk6of7t3b3SnYUGMjbsBPTAxUU7c0Z+SJ7MprMo5qbZKL8+Xz2lW/BkdVCebqE5+VKmm+00fINw2jBMWTkoG9y0/OxDePdwbZ07fWhTVbo6PaT93CwzZ59bpSMirGrQkuLadmVTkPuOhj1IgHgebOLnE072XOfdui6qv15D9nfMTGGs07s/3CK/B+7gr7CAQXfh350ETeJ+OXFny9SeKx+1MPGehfP6AjueShbz6aXs9j5HRPSROe2QDBlTuP6mQvyxMvFdHHZXBHefPNN1qxZw5o1a3jzzTcnlNf/9k46VDA9Xkb2Agk0EilryrAkq3T9ah9+PLh/4QNMFFdYMOq1aBdkkp8XaYny03dEATLJWB58iOqWZ5IBKHNvQiclUs84aLOo3tVCTYEJQ7IWQ3YJ+YuAwz5OAZJWyy03BpPenKxFO/R3c/DgjbcEf2sj1T0jtsZGqp8qp3y1MYoieArfYZCiWpNlfF4gxTD0cPS5GnD+iY3qNaGHnNzLoeMS+j/REVaSvftVHt1QSEoyoF1Iyp3DJR470gO33jpsvdKnYNAC/R00NnnJ+nblsDXmvjzyFim4/z2oNPk/keHoPjBXY7lfj1YXX7H1vr4Fp7aYyqKU4ANGoyU7NwcOdNLbD3AO/0no+C8d1ZXZQUU72UjaIvAcOwWEXDGkm0darD+R8aFDexOAQsd2B95VFVSGBdekkPdwCkrYVeCcH5lO+ubXUB1Ko797cUSBPtpqGlAeq6XmYUNwLM7KHEM/pDzLx/vgLh23DuXRoY/o1zFELKeO/htvOdff2UpDY0PE374h5cfzL2347sqnKML6pL0nhUiV55j3ECxNDyq1MDQH5E9DrjC9Tlp/k01FaejBD3CXhcJsP+59MZwrNNKYse5xtuLLrsCWMWwL1a8uJOesm30fAujJq64OKikAGj0rc4yoJ86Nfy0mhA7LU+VkLtCiTZZA3svODh2F3w0ptQBaE/mPGuh6u5fojkBB8r45nCflARPqgIGcvzKF5q2BlTlG6D0UdDlKMmHbbAsqtQDaTLK/Ar5T5yYuczTut1H7N1qcWx30HHBQ066n/P8LvYiO5u6V5N0l09UbmiFyF3uPZlD8zUx63g232UfPvymYvpIew2odG+PXyyLGL4WcVXpUry/6u4eqoqLgPxfqaY0Ww/2GEXXGLy+x+ZL3dDmZ4XeU5EzyH01BebMzaEqYzNyeCL0OrBYHTY2jl2pDrguNByPSBc8dbLRQ9WxVMH2jI7TM6+DguJVFukNYqPrl6eEzvwyVZyml6UhEljMuqizDeYJ1HoxyLnKJeWQ91mddnGayBMuqanQM1zWq/qbe4M+DjaG6zrioslRR9WxQrqbGqjHtjUmvI6KtkX0asZw+ZEkNSTjUd8N/I2QaLXcCbT5xBFLnj7bsxxq/yKX+iLEI9Y9t+weAi+dHyBZ7fg31a6MjSl2x59DIvhvug6uBy2axbWpqor+/f+j/Dz30UMJ5j30UvKH01BaQWzvq5J2gnu3jUD+AIU5sUB2ZOUYc7++l+SdGbs5ZyLF/2UEHEtnL0xKrJxFhAyryh510/fshfAPnODSO79n4LCblrsnm9SP/FvSZYXXKx75f+dDedIi2l7o5tL8HH2lYKndgWyERVpKNTxWSOfQ0CR67+WvBA2l/WUjKM3YKCtrJ+WYxhatN6DWg9r5Hp5rDCytGPmwlCVQ1uCnu1DEP3GPDsjyR/fA+ut72k/K1lSOULjQScJ7zKiAH/VazH49QREJok24I9sDpY7AoY9hiDXBeQWExhtuAgV7e61TJsWeNVLw0EgyoXCCklEoWiiM2PcnH+yA5jRsA3nfT+ptsKusjJJV9eFmI9ZZQL57wwi05iSsG/r3UVrbiHXMihcLaGvJui5019uYxmb5fK/BnRsba7oZJS89CeslNx9dNwZeU4/vYe9TAymeDZcrH+1DxULN6jDMNkjXRDZAyPq8Kh2swjylGwhJZjOrH6+nD97GHnn8d41E7BUwhK2WIkz48yHj+Npfm0UmXnk/s+h9CGvuyObqAAR+e3lMc+7ibzv8C/nQSMsfA8A07tq4i1lWB8amWoAtE9JSsfFBP894uZKsFqbcT7yoLtX+h0v3DvXT3Z5M90EPXSRN5GVMPvCxp45RxVx42q5P1G6zsNWRi+dqjWEL3lwmVN8H5or87DdQ+fGfhjmmZ2+PhwsVm2p3zgm4A/3QQc1l8d4UjrMKx6V5sGz9i/vbNmNe2cuIMLIuzNH6wMeRi8OKyoPKytpSm+U5KcWDbDqXbnZhvD7kiAHAaV62DIyHL4elfVmF7dxWOsmXAQZrWOli0ycnW9NBy91oH85025v3y+zQdmdry+Zj2uj+idLuTrb91YN3Yiuuvl2GOm+MDFj3WxKqfldLEZhxrW7GdOA3E6dczLqo2fhTqh6BS+vyzC3C8uJwDz27AFbaghlwRwnm+v/0DzJuclKYH++6drzRRGuqT5z+y4XCamcdBmiwbqJof3xXlYKOF592hH9tLsW4fdl+JOX7poaX+yDJqXSx/0cxWp3nSrgiujxbgcDrhl1XYtrdz8BEbxJThIE0bXVetq82scEW4IUkLKGRX7aQiY5RSJGnRKqO9J6OjX11N+f4yGt5soLIdJH0a+ZvtIaUugXrGq+BkBzWVdjr7tRiWr8Q072akJBLUiCfLHRjuB2/UTRTnUfpBlxyWPGjhXPw3OWStWEhxmR5tpCWz/xNkJBbfrR91DPSh+FHS/cU0tlvwdrZR+9I6SrqrabFno34iw12Z3DHiIRRUrFP+ciGg8MlpkP40Ja5SNUxQVsOfjHxwBS2wIaX0sIyPFHJSI8YqcArfUch4NGitP3dOHmGxBpB/ewzuzwkqu/3nkNGTOeoB4T/jg/tyWAjI4f9rRp2/MwcdIHsPodyfQ2R4Tc/+vajkcEsygMqnf1DhHkOEK0lQzpjclkfNq3njddKMIGVVsvE/Cti01ox9QEXSmbDU1JK/IHReA0gWtrkilv8nXgtoQLJuw/VUjFICfjrrK6nt1JJhzuFLRiPGhXtxfzTpSuOjAQkjttfqscR5cZgyipc2eyWtchorH8wi6+4MjLc56ZrOOvo99B7VortNxdvtwW/VxwwbZsjKQ/9KN57+lVx4+xBZq19ASlbIWm7nvV4V4yd78SzPo2bGPyiixfRUC67HvHS8uZP2n66n7ed5bNtRjimRyECTnS8BFbiZm6XpmtvjsYTSv14GE7Fr3jufeRwH7mX+7XCCDzjxWyCmYnuQ99wAG7C6h48uAg6+54JUG8tj5B1rOQR69+MC2Ghh2H55LwDz5t9L0EI4jcvpeYVBf9bfJpphCfNDK2BD8n90gtMsi6nanu5+hyN8wJG1lpBiD6QCZw7wzhEwPxarHcN1RZTGgXc/gCMfYLM4ho6mjiP1sjIn7WVBJfjoCCUx9vhB2I/2g+ET41WUAObHzMG+emQr7Y8EZWiKKcM85qeCa3sp1u1LZtb/eBJcNsW2tLSUpqamof9PhBRjBhIddP9XHzyYOaxgBgANkLSYtGTw9Pfhk8EU0mKU349csFQ6GmnolrDU7sSWPtZqOG49cVHpfNVO51k9hT9uCcWTlHEecePpn1BzJ4iOW+8A93EZMkZZ6c7KHGNURAAJbllgwrQoitX0k1McI2VkMco5zmEkI9LiI+lIybbRqFXIrT7EMbKDSt9JP+dgSHFVD+zF3W/C9mUd4OPUSUjJGGE7jY8E8id+hp1QZfb+cxfa1fXBh06k5TUsbqcbN9lUZ0iEXTGGLdZBTh3zwB0FwQe9Jliu/xwQtoQN9LD3TQXT2pXoUPH8ThmllML5PyhDCrPnjA/UiLcXfwetuxW4P+zbHHTxSPlqRNv7P0FWR/XrjKPHkCrBER8yptiuvR+2UtdtoX53MSlRTutS0tCqXXiPg2nBZGXRsdioRf0PLz5MUV921P2N2DvT2PjqM0MrCPLpVhhPUUm6mZsnI9I9aZhwc+iIiiX2lwemjM9lx3G+kJbtw+4BUvd01uCno7aWQ9kbaSn5lC1FtdS9lR7bR/huEyuTm3nv7X18+uss8mokQEfmX5io+zc3aYoH44rqceLpTiO6FLK/UU326g5qrHY6PeWYlo+fbbLzxXNgH9yVT0rydM3tq4doFrWD78VKPY/lX1lCU8hyCGDetDVCMYyhwKTbaHfaQtbHDVjdV5+iE5soluYzrliJ4fblrEp10DSkDJv53ovzGHpJmWY/2agW0V4HtiGrcchiO1Mv+7FkYB7mF52Yz7ioWhvqj6vIR/iy+dg+9NBD7Nq1i127dk3IDQFAWlGCbamE8sYmKmuddOzvwv3KekqsuVTs9KFiZOVDOsCDY2Mdzo4OnC+VUdESzZPLT1ulmdzcXHJzczGvKWLdT7rwBxKpZxw0wcgAp475UGQvHT+pwXF4ZJKgVRj27W7D+ZM63DIhSxHwnpPm1+pwdEzEg1AixWjEe8Az1gdQ9uElBf2QBpOGaZVEx+uteEPKtv9wG+tWl+E8SciXdFRoMFnGy83cnAQoHtwd4aU9BU/vIaQHTaQBuj/PwYib113BPlc/dmOvdWN46pnQzuqgBXbhnRHL+a71FH0rMgJFJGlkPaTF8ysnPf1AwE9PUw2O31nY+M3g/m35t8eAPrwfB0dG+bCV6q2dpDxZMrxRDOCiGvyM7dmg3J+cBumPbwr2+W2Z5NwP7nY3cgBQfbi3bsG9oJxnHhz2O9bfGqkcy8jHht0dDPekwdF97PtYRfX34Pg/72Ew6+GOW0PKQNCd49Y/jrD5ew/Rk5zG4hmIiKAORPPNDfaR6asWtIeb2fGWHPTV9Xtoq28e6/JwtpWKgiKKHl+H/YcNNLzspCd8Od1voXipTPPfOejxh+PReXG/tI7Ww6MLio3xa8UYTzZjb+phqJijbuoqW/EEQB34FHXgAoPhDHIHra+Pdc6APrzHCW5kVIDkFNLviRjTgB9PeyNt8SzkAMlZPGrV0vEjO+6jIYFUmZ5X1mOf0DUZH+X3fvhMHbqfKB+28bM9URL+1suxflA+9uFPJExWCHl3DbVHcniuLBOtLpvyJ1PoeamO2E0wsvIhLd0/baZn1VfICF07uoxsTJ0OHN1Gcr40/kTtO+qDgIz3eDxv5DgoHtxveIbaqhw5hIdM0qK9XUUh0fni/mkbvvB8O9xK426VzKK84MvVNM3tqRHaTDQlgha1I9vbx/jizpu/BI4cD6pive0RPrYHcYYUpnZn8K80PXTqzgWk8gFN/xTbb3RZmZP2TWYIW5PDhH0xE/Y5TYAzLlrd4yeLR9jS3DraF/f2+SwCjp44zZix6G0PuV2E+yisFM9j/r2Au3WaQrvFHr8gIavxpPoh0fk1ngzA7Wa2OpsoTSVkIZ8gARnnhiLKmnqmdWF7VrgioNFj+bt6qLfjeKMB+xsAEoYVxRQ/FPwsqfGJeqpPV1L7jpsG+170q2zU22Uqq9uGilECoEtKIfOJPLQnfCicp+/tTnp2racupZ0XHhy/nthIZBXZyOx20LG1hA4kUtZs5IUnW1n3k+FUxq9VkPVuLZ2dDhokLZn3FJP3YD625W4aDnTS+rKEPjuT/OybEu4e/fKVGH7oZp8/ezg8D6EoBBi4Y+iYRNa3ayn8P9VUrGlFBSRDNra6Wix3gfwffSAtHrHRyv/bPmBxcEn9pExPSy11tUFFXLfCRv3TId9UvYWaDV4qa4vI/T6QZCD7iXrsYV9P2UcfWtIiTGnqwDn8Hx6i+2MbpjG7jSVMT9Ris1eyfk0bKhLapRY21tuGwvKcOuaB5Rb8L1rJ/VAFSU9WRSM1D4cfwnoWL9fjbykjd6eWzIodvPCwyrlzkZZjPZbna/BW2Sl6qA6QMGTbqP87S8iaFlRKdX8Z6YgSdCMw5AQ7VptdjO0XFTj+1kyzPovyLTXonWacYeV5lDsHqHTucSPl1s7IhwW8L5dhfXn0UUswcsDSQmpLfVS+VIR5azAcUvmWjViOrBtWtFTQL7WQ9/UMdMCnpz30dLexvshJcfMO8hcMXyfrC9qC+SQtxgcrqJxIkH69BfsPoP7v11OwMxR6KdlIzrcrMWqArEKKf1FJTYEVvRZ4oJiap/PpeiWiDGMOhYvcOIpzcUh6LDWNlGcYsKy30V1eFxxTSU9WaQ1l5m5q4iqIEqYnG3lBU8OWcjN1wYZhWFFI+f+aPntl+B5QYnWil1S0uc9RWZFFRcTeJP2XrGT93M76NW5IMlL+43osiRR+0on9JzJ5m+1DVku9uRrb3hJqa92kb86LGrbQuDIPdjrJ+nLG8H1Ol0n2A3X0/HfO8Ea3qKSRU5SCu6mE3CYJ/eqNNH5nYSLSjmTgPL43ttBQqyIlg6IayLfbyY4Sgzsa2kTmC5CRDo5vmOnqD90zSuupHLJmT9PcnjDzMD9mpmljcNk3Nc9M6pGpmOHmYX5xMycsG4IuAsCQxfWR/03pu6Wh42bMeYTcC5ZhWbsE2wh3g7D11czWTcexboxYlk614XjRHPLJjFgWz9s8rBBDSCmGI+O4BozL7WYK8xw8v9GCiyWY85YwpS5Kt+FY+xG2CAt12OJausmMdWPI5zVyLNKtlKaWRvQpQ/2wrKyJ0o9KI6y5DFlVJ06c8QvJEKzHTOnaJRx5NyLnI4WYtw/nC8owmfkVR4bbg+4TI+eJeeJjq3o5dEDGp/kkqI9MNH8Mrrt48eLs+rh1QEVRiL0jWFVQNdqxGzf6O1i/xk5XKH7mEN115Fa7MYbjjSZaTxxURYGkKDKMSKMiaaXRB6PLPi5+3FUFtC3fwY6CxDxYCaio0Ta4JMKAgirFllNVg5vGxsePe3Mr+spxfOiiyqrQUW2l9s6Qj2a8SlUVVZNAWxMXPIacJOCyAvjdrCtoI6N5x5Df6pUgenN7aDCvg82RoZtCx3PXQ62L8lE3anWAoC/5VIg3H8eZbxDjeopzPBHUARUpaeZcEiZ9n7hamfT9axQBFUWVRvr/T4SY86VnZFiyBK738ea28umnMc4Mbyy6GjfXRCW0rLxoSBmL5vs5Ga6dWLljNmZdjhi3s5VQHNtVcfpGe9NNU9NFYjA7LLaRaIKxG2MixQghFVqe7Nq9nrJP80j7Y2BQpqejC26zUPwXoywy0eqRnVQUNUT5WlQogLo+LML4e9+jPqxiyT4uOvL+Jp/mZ9rosj5DZiKFRAm/lDBJ8eVMVDdUOprxmm3kjfcAiyqrMtLyGq9SKcG2TkWphcSUWsD7z80cyq5g4xX24Yve3IWkpUs07naSc1cOhiRgQKb7dQfupTZ2PBClnOn45He8+TjOfIMY11Oc44kwk0otTOE+cbUy6fvXKDRTUGohofkCJHS9jze3NXPmxA00f2QGN9eM2UA0xCTru305q1KhKdJim2rDMQWldkjGK+R/OSLqwAgmF8VhXsYqUrc7RlhsU9c2xe3r6Zbh6ifSmruEVTFSaeaEPGGnoovEYPZZbKeC4qPjdQc73z4W8ke9A+PDj1JSkBk3pMwQAzI9vcei+IJILEw3oZ+OB/ykUVH6x1H6rzYStXBGxUPz43bUp1uwTWqp5woSUFAGtCSg11wZAjJdP22g+e0+fCcVtHcZWPwXxZR/M8HrRCC4KgneM1jXQvHS6SlxcHCQC+qMhr0RCK5JbpAk5s6dOyNlf7EUW4FAIBAIppGBgYEZ/TyoQHCtoZkzh6SkmbMEXraoCAKBQCAQXGvccOONw8uqAoEgLpo5c7jhxhtntA5hsRUIBAKBYIoMDg5y8eJFYb0VCKKgmTOH66+/fsbcDyIRiq1AIBAIBAKB4JpArJ8IBAKBQCAQCK4JhGIrEAgEAoFAILgmEIqtQCAQCAQCgeCaQCi2AoFAIBAIBIJrAqHYCgQCgUAgEAiuCWbXJ3XPyvh1enRfsK8fXe4wMlHDcgQUZL+E/rZZ9IlPgUAgEAgEXyhmkcXWT8dLJVS3y9FPn3VT83gRze9PsNiATE97Mw0/bMB5eHo+jeh/o4aix5vxTLGcS59/zsDAABdU9bLGRgxcusQFVWVgYIBLnwejwSnv1FJS3YYvcNnEEAgEAoFAIJgQs0exfb+N+t4sisz66OcDKv6TMsqFCZQZkHE+U8J69zF0KRmkzZsea6T6mR/5pMKwKF5avzVxRffCZ59d0WDfgUuXuPDZZwBoV5VQSCstncoVk0cgEAgEAoEgHrNEsVXp/JUTrFaypvPzwh86aX4/BdumGgofziRFN41lR3L2EF0fRiq64zM4OHhVfMEmcOkSg4ODoDGQ81cpdLj24b/SQgkEAoFAIBBEYXYotoFD9LwjkbfSOOq4itKvoAzEyxtK0x/FzeC/VRQWY4hmBB5QopetRikrVIcaa5n+dzK+OCJG4+LFixPMMXOEZdF/KQfjgU56+6+wQAKBQCAQCARRmB2K7XEPXepK0u8bPiS/VUPRajMFJWWUFZkpemnvGEuiv9tBmdVMwdoyytZaMRfV0HEyeK7nh2Zyq5yAk3W5ueTm5tJwAOjvofm7VsyrrVjXWLGuNlPW4iGsysquaqxrHPREVnTWTfUaK47esaJ7Xi7C+kwbyuh6Ah5av1XEup3eqE2OZq092GjBarHQFK6n14HV4uDgeP03RYZk0S8mLbmLQ9FFFggEAoFAILiizI6oCOf8yIsMLAxHQ/i4leqtvRirWqh+MGhuVfbXUXQgwov141Yqq/disrfTmKEFQG6voKTSgb7FhukpF3sy6sitPkZ5Sz2WkNVW7e3Gm/ocO+oy0WtA6a6jqLoW56od5C+YuOjGJ1poT28gtwq27SnHFD7RL9P3scwhjw+FFLQTKNP1MxeWdDPzJi7OFDGwOBXaj8uwPIavs0AgEAgEAsEVYlYotvLxPpAMQ789/9KG7658ah4cVq6096RgiMjT42zFl109pNQC6FcXkvPDLez70IbxfkAzdrOYlG7jhfTh39qMbHJwI58BJqHYxiQ5m5rd2TDR0GWpS0g94sDZa6Z0xImDNFk24AonW9vE1kfmwRkXVWvfYVEeuNwfAGDe5KQ01MaDjRaed4cy5W2mvWxZnMq13HL5tWmBQCAQCASChJgViu1IZPp+rcCfGUcosqPT+LwqHNdW/FAAACAASURBVK7B3DH6nIQlgV1c6nEPPSeO4T3QSQ8MW1qnk8nE4713Fav4gKb3DlL6pfDB07ie3YArrJj2OrBuLKVpvpPSOwE+wPWRDYdzK6cbLTwfsvjyyyqe/8iGw2lmXkgxrpofUogFAoFAIBAIZhmzQrHVL1gM6kRizEqgAcm6DddTE1NJlQ/b2PJcK6eMK8n5chYpy430tndNTOAZZT7mx8w0bWzFNf/e4KEzB3jnCJgfC1lb01dgxsXRE6fhzuAh82NB14XTQ+Wc5sC7H8CRD7BZHENHU+PW7cf3G2DhNDZHIBAIBAKBYJqYFYott+rQH/VxLAB6jR5DqgRHfMiYiO7pqWOxUYv6H158mOJYdkfjw73NwfnHWtixJlyyRHdECu1NN0++HdNFupXS1FLeeRfg3qmVNa77QSQy8nFYvED41woEAoFAILj6mB1RERYYyZT20fth8Kfpqxa0h5vZ8ZYcDLHl99BW30zkZn3j14oxnmzG3tSDP2Ts9R91U1fZiifm17MU/H5QBkIZAgrenT/DHZFCuyQdA25ed4W+gOb34NzexviBAvrwHgdkLz6FcaMixGcey7+yhCNHgj6z3D6fRYDrvVB8hN79uFjCqox4LgXzmH8v4G7FdSbBauU+DvVnkpYyCZEFAoFAIBAIZpjZodhq0jCtUnH/ayjqwdJCakvT6H6pCPNDuZgrdqJ9ciOW5Ig8egv2H9gwvLeeAnMwzFbRs24wr8QY07fViOXbWag/K8FcUIS1oJK9d9uozIrYZLbAQs2TafR8v4jc3GDdfL2MvHgfLTPmULjIi6M4l9ySGpweBZTIqAgTZ94jhZiHfi2jdLuNVPcGrBYL1o0uzJu2Yr49fhnLypooTf2AprXBMGIjQolFwfeuE8/yLNKTY6cRCAQCgUAguFJcd/Hixc+vtBAJ8b4D67PnqNxVPeLrY6oK0nhfwg2oqEhIiW7WCqgoA6DVxik4oKKoEtoJfAlNVVSkyDIDxNxApnz6aeIFXwa0Nx7DUVDJuafbqc6ank8PCwQCgUAgEEwns8NiC7A0n4r0TlrCLgAhxlVqATQTUGpD6eMqteE0E/y8rzS6zDgyaeZcPUOjmTMH5Z2dtOkKKVohlFqBQCAQCARXJ7PHYgugKChJWrSTCZM1yxgcHOTChCJBzBw3SBJz585F6VfRJgvFViAQCAQCwdXJ7FJsv2AMDAxE/bTu5UQzZw5JSRM0TQsEAoFAIBBcAa6e9W7BGG648cYr6pKgmTOHG2688YrVLxAIBAKBQDARhMV2FjA4OMjFixcvm/VWM2cO119/PXPnzr0s9QkEAoFAIBBMB0KxFQgEAoFAIBBcEwhXBIFAIBAIBALBNYFQbAUCgUAgEAgE1wRCsRUIBAKBQCAQXBMIxVYgEAgEAoFAcE0gFFuBQCAQCAQCwTXBNa7YKsiycqWFECRCQEE+e3V8ae3/Z+/to6Mqz4Xv39O02/J2PFkOpY4ig5aJlIn6MA/vQ3Q1SE4G0ERxcopJq0mPBiuJ1KT6EmQ5lDLCIR5KcvBksCcJj4muJnVJ5DmZ0mb8IGmReDBx0clRM4gZFAYoGzjZksPWyIY47x97JplMZpLJB+Gj+7fWrJXsj/vjuq/73te+7uu+t4aGhoaGhsaVydVt2B6op3h5FW0KKMc9tO1ri/3rEPmbN6skD/XbXHgn8V3A92oheRvdHN1TxnJ7A/6+i5hZn4J4oAXXS06c25w4X3XjOSRdxAzDkXBvzMPxxljy81L7yFjvHRvSGw7yHqnFO2k5XgxUmee9NP5aTL48Jr/NJ4WPasl7xIH79KUuSJCPakffrqOsg/SGg7yNbsbXkpOoD30irS85cX00/INgYuoVD/GMnTLeRie1e8SLXpqLw3ieDxqRfPNSF+DiIeF+uQHdozWkCOB7txbnH4NK0ycjiTLoDehDX4u9207dXMMlK+2k09NK+eZucktthGotvVtLbaOXLrMVR7puUorRfdyH+HcGZixcTu6rhdS12rAvnPi85U8aeG5VFZ5eAZ1Bjy4B6GvG/VI5GDKwb11F6rQJzzYMBeWUiPTVWF6fziEfH+u9Y0P5SkI8PpVzk5bjxUCVufh346/F5Mtj8tt8UjgnIx6XUOJ4gfW9Wsje2yvJv22C8u5ppbziLPnrMtAPKg+ja9dR1AGCunNKGafjZBL14ZCbilddSEeTsd6Wjg6Q95RT1puP495+yU1QveIhjrFTbmfHNhet03QsWJiPCaK392XLeJ4PGpFcvYbt0WYa9qeQZzcCYMqpoC4neG6/k0VruiiqqMD2N2TLhqN0vIP7y2Tyw47pM0upMUnob50coxZExCNgSJkKCUas95nIa9pL4cIJHogON1DyVBX+2wuotGdjSgw7J3lxVbpREiYyQw0NjfEh0dnmQ751ApP8zEPzKSO5E5jkVcmt+VQ4U2CWmdCToOvDZqSbLmPJ6dIp+T8G8v7OrBq1oLX33zCXfyhCn4LcIyP3RHmT6ZWRe+Sob87i/r3451uZnzj0nCyJgIGpUc4pcpS8+hTk3ohrehlKqKzRzgFKj4wsD62HEnZMiVbPGEQtq3piQCbBMkXKyHewHW4xDjYgE3QY5xhVb2Y8+fSOnE8/UdvxBP5DoE9Uh0/DnVbM+1vp6ImRxpgQcZVX4ZueT2VphFELoDdjs68iPSSIcNn1RrRXfx2G1nNQG8qx9XI014xIjL6hxEq3Txmqf8E+FEUtx1UGtSDDyHLQZeH6HyOt/mtHLu9IaYSnMy75Q3T5KcPVNSLPkPzG2gDDtN8QuYZfM4wuo8QYA3si+rsy+FyscU9Nb7Q6JiIejZZUlDrFGHsix2n59AjhZiPVYwTi0c0RZTFKfRhRj3uj5BVtHGCwbupvNDLg3pD5/K8jlGeUbRxTVnGMGbHqLHzXiGHKwP9R2ztcb6Po+WjKpcgx6hvvs3AYPRu2XYcZc8cylo57DLwMufw9tgkye0tzKN+vI/uFRgpC01J9HpzLVuOakk3FjgLMg25S8Hm9mObZieZ7lE4eASGF74R1Ak63UbX+OVwn9egTJCQhg02VRVh0wIdV5Nhh0w4rHc+UUP+JAghY/r8atmSqLl/xbQclFR2g1yGfltBllVGzwowAyJ+4KNtQRWsPCL0K3JpL2a/zMeuA0y5KHmrG+ptilJeKqdpvwb5zE+lRjO7IsjYcBgEF9KmUbHaQPl097anOYXXfJnb/SMTxTDmtpwHBTNH2CmzTvdQ+4qDhuAysZtGuiLSXbmH3Lyxx5CPhejaHZmsd9m9XUrK1FVEBwZDNpu0FWEKy7ZNoq3bw/C4fwjQ9SCLSrCJ2vGBD3/sFZxVIujFoVRqSSE500umD9HnD1H80HG6m4QCkrLFhjMMrKzbZyfNmUWlupHibFwUbW3YXMfWNUhwvtuAPDkaCIZWSMgfpBgAR97N5dGZsIWnPWqr2BweTKRaKKrdgmx6WwRkPtSudQR2KTCd+pPYq7Bsb8E8xoEdCEuYH20ahvTKHUuw0rklFGLgDtz2HqpsraHzCDLIP11YHVftk9NNUnTXklFH2qDlqn4mG/w0H9opWxAQduj4ZZUoK+c8/S3bQ4x9LlpZBqXioyipHZ1/OkZoyWsWgXG7Np6w8F3NIj3o81D67lvpPQJcIcg8Y77NTVpyKPtSux1twrCmjVRIw6EEiCVNkm4d0+qhOvea0wPyny3AsHmUDDCe/k26K891k1NaQPSPsno+qyHnKR8GOLWToZXyNZTiq25H1enS9EtL12QPjwkj0ibSUllDWrqDXC8inJYRpegTA9FAFjnsVVSf/oZLk3xfj/Ejp79tyRy0l6+rx9enQJcjIGMkoKWPVQv1Au21LGtxWp93Y85wkbd5N0Tygo4qsCh32vCPUBPs+CJgeLaMizxzUOxnvyyWU1PlAb0DXKzHTbBpal0g+qiVvfQNiD7BmES4Ilv2G6HX6sX9w2dRa4H42D6dpC7t/MRP3xkKceySgjbxFTsBMUV0FNgAUfG87KI9ZjxE46qZ0vZMWf7DfCwZSS8pwDOrUEt5GB8XbWoMxqQKWX9SwZWnomlHqg+zBWbgWV48OQ6KCJOlIXVOBfeHguS7/rmKWv5ZCxc6BZ6S4q4S8bdewascWMkKXH6gip8hP8c5NpCd6qFq2mq4n66j4oQfHz520SkB7Hou2AXOKqHPa+uvlebkQZ51PNSKj1j1+WUUfM7LVa894cTmKcbYGQwoHja9xtvfxKrIq9Gwplnh+jQspdPz86Mu1eoWHLa+lqPZH2Djj31nI8rczqNmejTGi+uKu1Sz/104Egx6hR0SekU/FC7mYQoo23POhT8bzWzvP7fD2G9SDx8ngWLqxEOnFUtyhsdRgG7BlYOLGwMuZCxcuBC7335d/3hBYkpYWWLLpz4EvI4794+8+jXLPscDOJ9ICm/8jenrvl6cF0p7YGTgWOnbm/cDW7CWBla+F0joV2PlkWmDl68fUvJo3BNIe2xzYuurpwCveM4ELF84E3v3n+wfSOLUr8HTaysCrR4LpnTsW+PizM+rfR3YGVi75UWDDW8eC5z4ObM9PC9zv/ED93/dK4CdpvwxsfWFNYOveTwNnjp0KnBlOHqGyvvxx4My5C4EL584E3tqwJJC2alfg1IULgQsXvgz8eUNaYGX51sDTq14JfNw9kOeS8veD6bwf2JqWFtjQ/OUQmf3k5U/jzOfTwCu5aYFflm8N/GzTW4Fj5y4ELhx5NbAyLS2wtW1ADjufXBL40S93BT79Uj327j+nBdJC5Ti2M7AybWVg57FQGc4E3npmQO4T8mvbGkhL+9lA24zwO/b6ykCa7f7Az365M/DBsTOBM2e+DFy4cCywa8OGwE7vmf56vfpEuD6qskvLeDqw0xeU6blPA68+uSRMz4LXZP8yLJ3Idon1U9urXy6+VwL/mPajwNb/ODOo3EuyXwx8cO5C4ELHi4H7054O7DoVlsapXYGn0+4PvNihyvnPG5YEljz5auDTc4P1ao371IAc0rYG3o9RpjPNGwJL0lYGtnsHyvDpaysDS5asCbx1ajhZRq/bkse2Bt4N6UH3W4ENS8Lqe+7TwCv5aYH7NwT17MKFwIXudwNbs9MCP/rNB8Nes9kWpm/Ba35U/q6q02H988UP49CLfnmMJL9TgV2rwvp48PeB8/7+/nOmeUNgyZKVgVc/G9D998t/FFjyzFvB/hXR5hG/U394OpCWvz3wcX/+al03uEPtoerb/bafBX75+geBY91nAme+DOnO/YEN7oF0z/zH1sCP0gZkELXtj+0c3LfbtgbS0pYEfvbCu/3yPvOWqhOh/hxVR363MpA2qM8Pr/P9+Q1Xp8iyhfe3sL517PWVg8f9OOsRfUwZOH/s9xsCG17/uF+njr22MpC2ZEPgz2fD5bkk8PTrnwa+PBfWV9L+sb/9R6sP77+wJJD2y7cG9PjYB4GPT0Qpq++VwE/SfhJ4xRcul/sD99vSAk//4dSAbv7m/kDaM28Fnz2RuqfKMlIX1Xr9KPDLsLp//H/+MZC2ZGvg/XPRZReXrKKMvzHH1/xXA5+Our3vD/zoqa2Bdz87EzjT/eXYy3VqV+DptCWBDX8OG9fOfRB4MUK2/b8TOwMr034S2O4NXXsm8OmHnwZlHsfz4ez7gReffXFgnAz2+QEbKDiW/mRr4N3Q2B8cJ+8vf199Vo1jDLySfpMWivDmm2+ybNkyli1bxptvvjmqe4W7srAlgvK2i2YJQKJ5VwsKFrIXRb4TAZzAfwCEqB46Eb8PMBn7F035m5y4vluAfVkwLbGDzqMChu+qr7PS5yIc2ouybD25t+oAHTNNYfl+5sODnqmhN6IEA6YZOkCmZXsVvoXFlITeYBNMZNxrQt69V12J2y0h0krXTUUU3WVUFzYNIwvf68/j0uVTkmdSQwYSdKQvskL/FL5E9wnwvnkW27pcdeo9wcTc20Dx+REBej5HRODaxHB/hIT414GwgJHz6UY6Dq0+A46SdAwJwHQTSWEp+nfacX6RS9m6DIyCKnvxCBimTlUvOO7HOygkRMd11w9TeULTK0N/saZTlN6zgBBFF/y0bAvujrDNifNt/8Cp3vnkldgwG3TodAJgIMNuxxaKPU4wsMBqRjnWPWhFsPmxVdhuDso0wUj2w1Y40Exb2Opp848Lw9IxYV1oGGiXXhFPHDt1eFz1+NOLKZg/oCmGpblYT7vZ+wlw2wIyEj007B6ok393A55bcsm4DRCb2dGiJ/ep7AEvts5C9oNG2v7UwcibYkg0/3sLLM0nPywe25hViG1KGzVNw8kyOhkrikgJdcjEVO5OBe+RE+r/H7qo/8xM/vKgngEkppD7iAVpRyOtvcAnbho+M5D9cPg1MzHdGJZJh4v6z9IpXpEyEG4z3UZuuoR7r7ouXjo0eLcUX7RFyiPKT8+CRSnIu4JlA+htpXGXQvpSK3pEml9vQf9wSZhHV4flwWyM7c1xheIc8XXCbXMHPNI6ta7iF4NbT5mXR0mWGUOiDp0Anj/U45+Tz/Iw74xufi758yQa/r11lAuBMih4MqVf3rq77iYVL/7jADLtb7agpOcEx0wV46ykQSnEJe8IIus0foarx8gYMu3Ys0z9OmX4oRWzItId3o5zCliVZewfh4xZ+WQIfvZ2SDAGfVC+UqA7bPwxmDFFW/x68wIypou0dQR3CxDbaD40n/yfpuB5J9TX/XjelbHcPTfu2ZqBeuVSGFZ3U5oVg9KFP8aOEXHJKsaYMWR8/WkGwmd78Yx6hw09tieLSJmhQxd8Bo6pXHortsXQsqu5vx2UfY24sPHwwiirRBQFBRmpO9hHQ6F/YZcM+3yYYqFgY8HAOKlLIf1u8J/oHpRNxtNFpISyT0wh+0ET8putdEJcY+DVwKSFIlRXV9PT09P/9z333BP/zQlmbD8107BNfVhn3O3BvR+ExTaso15lpBpwhpSgcYWfvX/0o/tOJw1b2+nc58FPMraSGgruUpX+xBEvzCkiN8yQOHHEC9dmqUpptpI7q4TSh7JoXJxP/kM2LAagt4P3WhWspamDp7QSBOhVOAeIR7tASCfnnnimAfy0/UnC9MCCwVMcCQJwlrMKhIx644o8UiNHqWuvVcv7+QmOYGJ+eJZ9Z5F7QmEBceQj+ulCwPZo9oAhIfrpQkfy/wP0eXG/5ie9OOzhH4ypnflA8IXhr10gJA0OCRkWL/XFpTRHOWNdXRd19bSguxaBVvxqWHX4GYQpQK9C15/cePtSKVocrO2sZEzRRnhFwuftwn/Yi+fP/igXRGA0YaZZfUDG2HFB0IUpsOzBVVmPL/S/KZeKuZEL6UT8PgUOOMhsGZIatnMAZjJ+bKThNTfenALMwbawPG5V2/O4Hy8i3p8tojYyidvOxmHcHMH/EZjSbhh8OMFI0mxo6O4GRpDlsAh85zsD/4mHu1BIwhjRRfQzTejopLsHxIOdyKRgvjl2quLRLhS8OJYOERxClrouXvyzE+c7A8etq1MwRY4xcchPn5pB+lYH7tZiUhfrkPa4aJlio+IugVAfFQ8sZ9HLkQmYg/14eJLnpiJsddPyY4s6TXl0L82HjCx4ZrCQTGZT2INTxH9QGfRSr6Jn5iwdfNg9vq2bpnyHa/v/6aKzHcxPmoadzo9L3hEMrtNFYFA94qRPQTrcSdcRP96/NDPi6JBwA8ZZ4Pr0CMCo9SHloSIshU6WL63HnJpN1sM20m+OJhUjCxYbqG1uQ8yyIXS04ltoo+zvFdq3NdPek056r4e24xYy5k/Akt1v60Ze+DuSrOIdM6YbMeHC7yfm+BodS/RxYtTlEkj9cS7Gn9XScCCDgjmqw83w45qBULxB5c2gIMvF2nVZNBtTsD3wILalloHnZxQGPR9C9PrxdpzgyOF2Wv8T+J/D19ZwczIEXzZuiGMMvBq4/GNsgxjuySG92kHLa25cShte9GQ/kBpj0LwB4xzwRQ28Vg24kGcy5HlMetRK6l0zyS80oBuklDKfnwRhdvjDQD3G9depA+wUM/m/acR2uJWG8jJWL2/HXreJdKUbEQMp3xtcBOmUH261MhMQg3+b4zLu1LIavztY2WVJBCEJ4zT6vbGWW8NNUtVLbUgJPhC6JcRIQ+G0yBHMWKfHmc8BET8mrOHZfC7ix4j1OuB0F509Zqyzw1roo3aaFbDqVdnLPRLMMjJgHkn4PwNmxqq/mfxX6gbt5DAisy2kCi6a93kpmhseiW0g9bEiUhFxHXQPv49ln0RrRQllrTrmZ1q502zGPLMZ96cj5N2noCAgXBNnWadl4HglY4SLBEgAIWsLTU9aYl5lXJSNpbqKvR8VYDrTiKs3fSD+LgEEzBS8WoEtxgNhbLtBKpz9ckw3jo1zo9tqSEgABBtbmiLjfAcwP1ZH3WMjJBSH/JiSStZSHcW79yItTqZ5pwfjj4sGYvEEMD+xg4qlYzMmhNQS1r+fw3OPZ1LaqyDoLdgcZYNjekfBOeXSbDMUl7wvc6Q95ZRU7EU3z4b1TjNm80ya3zgy4n2KEpq96h69Pky3saUxA7HDjavRRdnP6mn8RQ0VS4c6SIypGRhebsfbs4Bzf+okdekmhESZ1HmlvNehYP68Ge+8DByTsCfWWGUVlT4FBQP6qSNfetHKdXMG2fNqcf6+lXzdCRr2W8heE20WGUCH5ck6mh720fLmDhp/u5aG1zLYUlMU3RCORPbRUFpCvZjMgsWppN48H/M0F20j3denANdyrRDfGHg1MGmhCCtWrCAxMZHExERWrFgx+gSCDwp6GnC+7Id5+WTPiXWxnqk3QNfRKI/n0yJHCFuwBCDAdTMsWGZFGrUAEieOg+mmcO+UTHc3mGeGHUsQ0M9Kp8C5ngyljc7PgAQAESl8pqDXQ/ObMpZ7F6BHQfoveejuBMMhgPh5uF9FpPn3beiWWlVFlbvpxjTYaD3cjOuAEdtCtcOJR7tgup5B40FkWMAI+SinupEJGrkhzsrqMQNBI1cJCxGQaPmdCxkzxuBiqu5uEWYawl4Y1JXQSTMmMIh9Sip5DxuRd1bSEGWVdTwo+yopbU3m2VcqsD9mI/2uFCy3jNxi0oft+JhP8jBexNGjJ8msQ/lP3/BeIb0V22IF1x9baH6nBWFpFqkh3b4lGQs+Og+O1ZhJInk+eL2+wYZln9p+g/rFBGCYnYyONryHBx+XRD9K8EXLcHMSAl2qZz4GelMyOsWDb4x60E+c8jPfn4txfwPNb+/F9Vl42FQSyXPB5/WOfQ/QT+opb7dRsauJ3bt307RjCwUjetwMJN2ug794I3RHQjyqIAQ9ubrvjNpfGYWZGG8DXyic5GIy5drRe1gnit5WKjfvJXlNHRX2fGzpKaT8L9PI47nkof2QgPlmA2PWhwQBwzwbBRtrqMjT432rLfoL6c0WFiS28d6f9tL6YSp3zxMAPSl/b6HlXTdt7V7Md1ku/l6vY5VVDKQP2/EJZmaOEL52cculx7o0Hd52U/bbesR4ZpH1JtIfslPxSgmpp120xhkB4G8qpepsLpXbN7HqoQxS7krBfOPI93n374XpZkyJEzgGXuZMmmF7zz33sHPnTnbu3Dm6MIQwzPfnBic4hWCsWiwETGYzvv3eofGCoh8fJgz9tlMyloUCLa/X4wvG00gHGli9tBDXcQh5Lw3Xhed2AvEQXPsdNY7W+0ZL/xez5AMddArpWMzAtBSsc8Dd6EbsAxQ/7s3P455RxKrFekLxsIOMZtHN2kcKqeqINsQlk3qPDu8fXXh6gD4JT7WDqv+ysf6nQW+kKOLDjy8UrCa2UPpsLXJWEbZB3hzV6BSPq9ep3thrg2EBI+cjfS4OMY7Fvx6BRIFrAG5MIhkfe9/1oygSnmo7792cgaHfeFa9yLq/C3skiV109qSQHMfC6dFgfKgUe6pIVUEea19uwSeGYnP9eBrrcR8a/n6l9wuU3nOc7y9nC/Wv+4Zc532tgbag2JXjLVS+4kGfE2ZQThDmB/IxH6+ltNqDFFQT6ZCb8pJ6vP0vEgKp99kQ9pThbDGSe3+YtzoxlQezdLS8WIr7UDABRcTz8lpKW+KZjNaRmmND31JBWYuovrz0SXiqy2joTSdn0QSvrp1jI/82ifoX6vGG5HvYRfl2D8aHbVgSgNut2BK91Na0qCvb+yS8O5zUHopMR6T2n6rw9AvOh3vrauoPjKI88cpvhpXseX5qt9YjDXrgqfLTvV1B6Ru+oPwUxP21rC1tiT8c4HQ9xTl55D2ymtJtTpwvufCM4Go3P5CP+XQ9ZXVepGC+/l3lVO03kmtTfTi6H8zFiJvXm4KJSV5c2xsYqvHDoWfBvRaUXbXUHlBrpBxvofxFd3w7DQTpOuSHPhHf0WEivxNNzL0lbJztk/A2VtIQrV//1ceRHpAP+9X6jxdF4QtF4VwolrpPpKUuiqwO1NOwL6S8Ii3ba/FMs5F1l8BY9EHc46LtuNKfZ2eHhO72JKL3PDML7tHR/ttaPAvvZn5wPNLPT8fSWkVVuxnrnSP3Wb/vCHKfjP/wGANW4pVVDKKOr1kjjK/xtPc4y6WuAWqjpQVs98WaRQZkL+43vP3lkA924iX+5518RoKvBmap5E8a+N3uode5f9tAaHMH6UA9lbsUUvIyVNspjjFQ3LWWvJVVeMa47d3lwBUTigDADAsLpkG9EhoQYmOYtwDjNjd7pfSBLU0ApecsCkZu6D8mkPrzMnJ/aad4WT0KIBjTKSgvU7cRCcaSJoUvtDrtpwtI0utUL9Vf6igrK4MpQOJ8Cl4oCXY2A7ZfOfCtKSXvnnJAwJheQMU/2YJxNWqs3dQHwgJ3zst0n/bR2e6jYO7gTcxAwPJYGQWlJaxd1oCCgO42G+srCvq38lC9sfMR/lRMpkNEQcCUt4Wan1r6O5xhtgXD6XoK72lAd1cRNRszUP67G2bND4YFjJzPiSNeuM46KNbtxDEf3Bh867B1/AAAIABJREFU4UhMJ3/FDoqrl5P5soHU4lIcBheZjSHjWY11Noa93vrfceGdl41juK3OxkKCgXTHDsz7anHWVFBcJ/cPDkKikdRHt+BYFntiRpeaS/6/l+DIycKgA27Px/F0Nm0R8XCmH+ppLclkrV/dDs60bBOVj0W24QRgsFH6AlT881pydgS3dEk0Y/15yaBtZ7gtg9zpDVTps7EOeqkRsDxRyaYEB88XZVIe3OLIeFcuRf8Qn59CmFtEZamAY/NyMktDW3Rl4Ni+amhs97gxYPunCqgopSSntn9boZSfVlDxUNALmmAm9/kC/M+WkZdZqm7XU1zK+qxOVvcOTWdtTkMwHR3mxcWUjOpDAPHKT/XmOPe3D3ngDcivmMyyoPyMKeQWZ8flKZIVMNxmI+PH89EDX5z04mlvYG2ei/zIbcbC6dedEnJeDm0HlELuCxXkhmYWZthwPNFO4b/ksehf1C2HCn5VSMY+x2iEhH7xszgOlFBalEM9INyay6bnipDy3XHcnYw1z4S7ejmLqgUMS9dT+YtYMUpGbGsLaC8qV8dZwUDqCgeFme04wowZw51ZpL5Wytplbphipug3oe2+xkFiKrmP7qBkYw5Z23WAmfxfrSJ7f0T09W02jB0lZK7zB58xGTgqBraJGp0+yMifd1JV6OQ5QQc9CvqFBZQ9HHusMS/IgB0uUn84f0AP9Smk316O50vrwIKkqBhI+YdU6kvXkvUGCLcVUfmCbVQvKED8sopVh/uMdISNr8b7HMOOr3G39zjLRYIZ61I9De9mq4tzY9F7Fv8bz+MsUxASQVaMZJeWDr+1ZxjmB4pJfaeM5VkuDIKCbtGzlBSnUhzh8Z0/F6oeyqStRwn2hQpKFoe0aKQxUMHn9SAe/hafK6g2zRXI/7hw4ULgUhcibj6qIuupBvQraqjJiRXHEkLCvSaHhnnxXBskFBM5lq9Q9SnIihAllCGIooAQ31AgveGgfpqdonnDXB+jrN7qLIq9+eo+scPVp09B6RNGLtJ4ZALQRzAkY6TrvFTllND9dCP21AlZ6jwsSo8MOt3o6tUrowjR7hFxFeXRbK2jIsswqrYeN+NtH0DpVRCmjKO8ioKSML4yjCq7XtSFf8OUJx75j5hO3OWZbPl5cGauho3h+7YGjy9aC2VNFM2NI5mRdGekMS1exqOjioySEH8/VWQFYYStEuK5ZtTEK6t4ZDEKfVBkGaaMchwbK30Kcp8w/p0oxqtXoxxf427vsZarz0tVXgndP4/z2TXO+sducw/ORashtJ9zHHKKNQZO5iPsYnD5f3msHwn3bxuQY27xFYmejEezkV9uoC3ewKXxPJwTRlDUeLWkp4Van4384YzaYH7Rynr2v8NidoerT0IcRu1IacRDnPfKe3bQoM8lbwRP/EQhJI7hYRDvA2QyR4QJMCjHZZQBCJNn1EIcxmic8p8Io1ZNZ7LlN5PkuQJ7d7nwhsJqRB8t26pw31ZA9u1xJjOS7ow0psXLeHQ06ovkcJeP3BYTbtRC/LKKRxaj0AdhtC/n4yFhAozaUDrj0atRjq9xt/cYy6Xsa8QVxyzyePMJEXebxyGnWGPglWzUwpUUiiB1Ic2wYUu1xr/F15x8al6doM44WSSms+qJsd4sIfUaSDFP7OKdyUCX7qBxnjLkc75XBgLC9wzov30lKZrGlYue9I01fOe3TirW1OM/LqObbiTp7/OpKU8ZdvsgDQ2NiUSk+U0vlsfKBoeBXRKuQTfdAPHuwnMVc2WFImhoaGhoaGhoaGjE4AoKRdDQ0NDQ0NDQ0NCIjWbYamhoaGhoaGhoXBVohq2GhoaGhoaGhsZVgWbYamhoaGhoaGhoXBVohq2GhoaGhoaGhsZVgWbYamhoaGhoaGhoXBVohq2GhoaGhoaGhsZVwZXzgQaA0yKS3oD+km+EPLmcP3+eCxcu0Pf115OSX8I3vsE3v/lNvvWtbw0c7JMRJQHDNO0jBBoaGhoaGhqXJ1eQx1aiZety7I1i9NOn3TgeyaP2o1Em2yfiaazFuc2J60C8394dHukNB3mP1OIdZzpfBwL09vZyTlEmzagF6Pv6a84pCr29vXwdUL/fIe8pY7m9AX/fpBVDQ0NDQ0NDQ2NUXDmG7UcNVHSkkpdpiH6+T0E6LiKfG0WafSKuVctZ6z6C3jSf5OsnxhupfCUhHpcZKIqP+pWjN3TPffXVpBq0kfR9/TXnvvoKAN3C5eRST12rfMnKo6GhoaGhoaExHFeIYavQ+kcXZGWROmUCk/3ERe1HJgqec5B7bwom/QSmHc7pTto+CTd0R+b8+fOX1KgN0ff115w/fx4SjFjvM9HStBfpUhdKQ0NDQ0NDQyMKV4Zh29eJZ49AxgJzxHEFuUdG7h3u3uA1PVHCDL5UkEnCGM0J3CtHT1uJklYwDyXWNP1/ifiHKWI0Lly4MMo7Lh6hshjutGLe30pHzyUukIaGhoaGhoZGFK4Mw/aolzZlAXNvHTgkvu0gb2kmOcsLKczLJG9r8xBPotReRWFWJjmPF1L4eBaZeQ5ajqvnPNsyWbTGBbhYvWgRixYtwrkf6PFQ+1QWmUuzyFqWRdbSTArrvIRMWbHJTtayKjzhGZ12Y1+WRVXH0KJ7X8oja1UDcmQ+fV7qV+axeocvapWjeWs/qLSRZbNRHcqno4osWxUfjCS/cdJfFkMSyYltdEYvsoaGhoaGhobGJeXK2BWhW0KcZWRmaDeEw/XYN3dgXlOHfbHqbpX3lZO3PyyK9XA9JfZmLKWNVM7XASA2FrO8pApDXQGWJ5vYPb+cRfYjFNVVYAt6bZWOdnyzn6WmPAVDAsjt5eTZy3AtrCF7xuiLbn6sjsa5ThatgS27i7CETvSIdB0W6fT6kTGhG0WaTb9rwjY3k+tHX5xxYiRpNjQeFWFejFhnDQ0NDQ0NDY1LxBVh2IpHu0Aw9v/vfasB//RsHIsHjCvdLSaMYfd4XPX40+39Ri2AYWku1m3Ps/eTAsxzgIShi8WEuQVsmjvwv25+OlbciKeAMRi2MUlMx7ErHUa7ddnsHzD7YBWujkxWDDrxAdW2dTSFLnu8ms33Xw+nmljz+B5mZUCT+2MAMp9zsSJYxw8qbfzKHbwpYyONhXcMk7mO6ybfmtbQ0NDQ0NDQiIsrwrAdjEjXhzL8L/MgQzbyGr9PgQMOMlsizwnY4ljFpRz14jl2BN/+Vjww4GmdSMayH+/3F7KQj6l+7wNW3Bk6eJKmZ9bRFDJMO6rIWr+C6ptcrLgR4GOaPi2gyrWZk5U2fhX0+PKHNfzq0wKqXJlcHzSM19wUNIg1NDQ0NDQ0NK4wrgjD1jAjCZTR7DErQAIIWVtoenJ0Jqn8SQPPP1vPCfMCrD9MxTTPTEdj2+gKfFG5icyHM6leX0/TTd9XD53az56DkPlw0Ns69y4yaeLQsZNwo3oo82E1dOFkfzon2f/Ox3DwYwpsVf1HZw+bt4T/M2DmBFZHQ0NDQ0NDQ2OCuCIMW6bqMRzyc6QPDAkGjLMFOOhHxEL0SE89SWYdyvs+/FiG8exG4se9pYqzD9dRsyyUskB72BW671w79npMFHOzWDF7BXveAfj++NIaMfwgHBHxKCTN0OJrNTQ0NDQ0NC4/roxdEWaYSRH20vGJ+q8lzYbuQC01b4vqFluSl4aKWsIX65sfyMd8vJbSag9S0NkrHXJTXlKPN+bXs2QkCeTe4A19Mr4dv8MddoXuB3Mx4ub1puAX0CQvru0NjLxRQBe+o4Dowy8z4q4Iw3M98+7+AQcPqjGzfO8mZgFN7wX3R+jYRxM/YOH84UIKruem7wPueppOxZmt2EVnTwrJpjEUWUNDQ0NDQ0PjInNlGLYJyVgWKrj/HNz14LZcylYk0741j8x7FpFZvAPdE+uxJYbdY7BR+kIBxvfWkpOpbrOV94wbMhdgjhnbasb281SU3y0nMyePrJwSmm8uoCQ1bJHZDBuOJ5Lx/EseixapefPjQjKG+2iZ2UruLB9V+YtYtNyByyuDHL4rwui5/v5cMvv/u4MV2wuY7V5Hls1G1vomMp/bTOb3hk/jjsJqVsz+mOrH1W3EBm0lFgX/Oy6881KZmxj7Gg0NDQ0NDQ2NS8X/uHDhQuBSFyIuPqoi65luSnbaB319TFFAGOlLuH0KCgJCvIu1+hTkXtDphkm4T0FWBHSj+BKaIisI4Wn2EXMBmfzFF/EnPAnovn2EqpwSup9uxJ46MZ8e1tDQ0NDQ0NCYSK4Mjy3AbdkUz22lLhQCEGREoxYgYRRGbfD6YY3a0DWj/LyvEJnmMGVK+Mbl0zQJ3/gG8p4dNOhzybtLM2o1NDQ0NDQ0Lk+uHI8tgCwjT9GhG8s2WVcY58+f59yodoK4eFwjCHzrW99C7lHQJWqGrYaGhoaGhsblyZVl2P6N0dvbG/XTupNJwje+wZQpo3RNa2hoaGhoaGhcAi6f+W6NIVzz7W9f0pCEhG98g2u+/e1Llr+GhoaGhoaGxmjQPLZXAOfPn+fChQuT5r1N+MY3+OY3v8m3vvWtSclPQ0NDQ0NDQ2Mi0AxbDQ0NDQ0NDQ2NqwItFEFDQ0NDQ0NDQ+OqQDNsNTQ0NDQ0NDQ0rgo0w1ZDQ0NDQ0NDQ+OqQDNsNTQ0NDQ0NDQ0rgo0w1ZDQ0NDQ0NDQ+Oq4JuXugCXPzKiCAaD7lIXRGMk+mREScAwTfs6mobG3yKTvTWihsbFYnzbbv5t2y2ax3YkDtRTvLyKNgWU4x7a9rXF/nWIXB4fwb2ESB7qt7nwypOVoUxrWR55L3mR95Sx3N6Av2+i85Dw7fPgj1WnXhHPvjZ80vjzcW9U63I5I3/kwvlSK+KwcpbxvryWtTu8V3+fON5K7WTqfJ9I60tOXB8Nn6H0hoO8jW7GrZYXKb2J5OtAgN7eXs4pimbUalwV9H39NecUhd7eXr4OjHJX1jC7JRrel/LG1Jflwy3Ub3Oq4/8o741REmofycPxxsSOKpphOywS7pcb0D2aTYoA/ndrcVY61d+Lz/PcurU8t9U5cGy/xN+Ur7CnlXK7a5CCS+/WUtvoZEf7ZD3lZU50iein6tEtXE4u9dS1TnTeR3CvW03hL13RjbmeNmrXrcX92XjzUVBOiYjyufEmdBGRaX/dievVCtyHQsd81K+sZbA53kXzjjbaXtuLb9LLOBFEq1OMK9+uoH4ydf6Qm4pXXThfbyeUo7ynfMjDQflKQjylTNiLxUSnN5Gc++orzaDVuCrp+/przn311SjuGGy3ROOcLI66L8v7nSz/WSUdCUaS55nQj+Le2JxDPi4ifRVWkp5Wysf5Aq2FIgzH0WYa9qeQZzcCYMqpoC4neG6/k0VruiiqqMBmuHRFvJQoHe/g/jKZ/LBj+sxSakwS+lsnawrkBOIhMFynhwQB630m8pr2UrgwY4I63gDKR06K/81I3ZOWv60XmEHoSH+6BsNPdZhnBQ+d7qTtExnzoOssFO1sJD9BxxU5GRa1TtEx/bSCihQwTZbO35pPhTMFZpn7Zdv1YTPSTbmTk/9lxvnz5zWjVuOqpu/rrzl//nx8YQkRdsvEINO+04W8dAtbnrBMYLpR+MxD8ykj4xnNrgyPbZ+C3COjBL1lylEvbfu8iNFeN/oUZNGHZ58HX9QLgF4/3n1teI8OpBkNcf9e/POtzE8cek6WRMDA1CjnFFlG7lEiDw7kFVGfwWWTY58L3idHVqtPQe4N+3vIBbGJWtZgOUYqr+9gO9xiHGxAJugwzjGiS4jIp0eOWi4l/Fhv9GvCLlbr3xt27LSfLgSuTVRNTcOdVsz7W+noiZ3MWEldaoPG56naH6dnLtResdoziNITow2GpBNHu4brWUhesW6LI92oZZuix/jdMCPuv0T80W6eokMX5Q1A1bno5QrXh9B1w8luyD2R6Spx9Kdo52PUqT+vQX1Cj/FGXZTjQ/OKejxqv4hyrTKg+/objWEvDDKf/3UE3RhJFyIvH0nfRkgvZhuPRj974yvzhQsXoh7/oNJGlk39VXcMn4bG5YnahmtoOnV1l+HkH9b062pW5QdRr4ml55HEslviGk9j9jmZs2fBNPOGofcMM44OGY9DeQzTqeXT4w/pvDI8tqfd2POc+O8tIPd0LVX7g9UWDNg2VlI0LzjEH3XjeNZJa5hBKxgysG9dReo0ABnPtkLWNoYJboqFot9swjYj8gms4PN6Mc2zR/U4SSePgJDCd6aEl7ONqvXP4TqpR58gIQkZbKoswqIDT3UOa9nEjrQOSp6tx9er5r1q+xYyDECfSEtpCWUdoJ8iI0k6bL+uoeA2AZDxNZbhqG5FShBQesGUV0bZo0GPzYdV5JTA+lcttD5dirvXRsXOguG9TcGyNhwGAQX0qZRsdpA+HUDC9WwOzWl1lN7sosTegE8BptnYsr0Ii85L7SMOGo7LwGoW7YpIe+kWdv9CfauTP3FRtqGK1h4QehW4NZeyX+dj1gGnXZQ81Iy1zs6120so2yOiIGBYtomaJ8K8oqfbqNr0PK5DAno9SMclTL/YQcVSPXwhI2HCGPKaG5JITnTS6YP0ecMJYPRMTc3nWfayep0d4/YKbNNjXyt31FKyrh5fnw5dgoyMkYySMlYtDHsNON6CY00ZrZKAQQ8SSZgiXgik9irsGxvwTzGgR0IS5oe101DEJjt53gy2mFpYW+0J6rmA5Rc1bFk6MLXgf8OBvaIVMUGHrk9GmZJC/vPPkh3yOh53sbrQSadgQJ8gIfYayS+vIPdWQc1jWxJbdhdxzUt52HeKyMDqRa6hBQrTBXo81D67lvpPQJcIcg8Y77NTVpyKPgFAxP1sHp0Zm7jhD89R/0mw9IZUSsocpEedGVHv8SyxM/W1MlyiAuixba4h+6/PsfxfgzKIGCv8b5TieLEFf9BQDM/DG6VOts27KZrnoSqrHH3ZKqTNq3GdBvOTdVTMaCBrTRdFdRXYDBLN65dTRQE1L9hQiyzTujmHUuzssKcO9vb/1UVxfj0pzkYK5oSq5KIkz8k1JTvYcm9IX7xUPVSMv7CRTYu7qFq2mq4n66j4oQfHz520SkB7Hou2AXOKqHPaQhqE5+VCnHW+fjmklpThiC7MYds9rvSOuild76TFPzBGh5+PSz9lH66tDqr2yein6ZBPSxhywsa7CIb11mZspLHwjtjnL2tO0vTMCqq/fyXXIX4+qLTxq08LqPp1Jtdf6sJMMtffv5nG+4MyiHFNfLMSUewW2UvtMyXUfwL66TpkaSbJN0fcNlyfO+2i+CGnGpZ1YPAYowwzjoJnYJzKGhhvPNVZrPap9w8ehSTcGwtx7pGANvIWOQGzOq5+Xk/hP3dg/dUWsmcxIleGYRtEfqOW9rxN1NhvQNlXg72sBVdpPdYdBZiVVkoLymnFhG2jnXyzgLivBnuZG4fdQE1lLsZP6nmuUURIt1P58/noe/3s/ZOE5cZoE8sS3ScgaVH0B0B3twizjPS/v8genMXP0fVgJU3LjICE66kcandnY8nS88V/KxiFVp77rZ6Sut2YEtoof2Qt7vdEMrIMSG+XU3rKRt2ObAwJgOjDH3R3iY12il8zUFKzW1WYT2pZvtJO/f/bSMFtoPScRZl1De2VuzGtraHxet3wU+Whst5XQaPThA6Zls05lFa4mbs5Az0y8udgONZAycFkHLt2Y5BbKH2oNFgfM/mvPIu8aDVn1zVhXxjKTcRVlEfD1Knqv8dd2J+qx1BSw+50A/T5qC0sxP7bFBqfMAeNUj3+1xyc/WEZTesMiDuLyfu3VjqfsGAJplH8eD364goaFxsRaKP8nrUINwYf+N0SIkkDhi1GkmZD41ER5k10jIgOy5MVFH22HKejHktlLsaEKJcdrqe4xIVpTR2Vi4OmTbuT5fZCqr63QzVg+vzUO0rpMNupW5OutnlPG+XLPQNxnYfrKbE3YyltpHK+OkyJjcUsL6nCUFeAOVreAC1OfmeupPFNI0IC+HcWU/ivpbj+txo2I+8ppbBMIvs3jeQHDVn/zmIKn3qeqXWbSNdLuLY4OZFVSdNjJrX8h71I3x2qVebH6mic62TRGtiyu4iBSSpVF5yhf/v81JesxnWLnTrnQH2dhWspfKmCHSsGXsNafuum6Lkd7L5V168zZa95SP9F7Cmw1t91sqmyiaJEkFtKyXHk0Dy3iJo3t2BApm1rHmtL67HuLMCMSOdfwFbeiO1WHfSJNDyVR9krraSuSR2mTmq9Gjb/DmtxDY1mPYJOB4O8gQZsvyqhPa+M0l0pVCw1IL39PKX7rax/JXWoYTYjBev0Ktz7/RTMUacOxfea8SfqkP/UhnRvMKTmwF7cPSkUz49IYVoGjh0WXEV5NFsHP0BEgANu2qyl7HjThC4BfC8vp7CsAc/CIixD9CeOdh8hPfFDDzxQQeNS9by4s5i8shpa77KTGnICDKufMq0VxVR151O5K1vtX7IH5+MlPD+9jk2LJzrASONy5o5CF42FWhniJ9JukWmtKKE+IZvKnfmYEoE+Pw1PLcfTf89Ifc5Gxe4UGgryqDKHOSoQcQ8zjo4+XE9PxrodWG4vJq/ZOsjwlb1d+I930nlEJnvWyCFfkxaK8Oabb7Js2TKWLVvGm2++ObZE5hSw6lELxkQDpnuXkzsH6HGz9xOQW920KKBbWkzRXUZ0iQZM95ZQnA58Vo/rQ+BLBRlQes8hTNGhM5jJeChVfcgO4QT+AyBEPSfi9wEmY7/g/U1OXN8twL4sGNcidtB5VMDwXT0hZfPtU3hwXa6qXLqZmG4cSPHIQQ9MnTrw4DOYMOqAnhYqq32k/rxkwGN1awYZs2Tc/6GaQNLnIhzaC5l2bHMM6PTDG7a+15/HpcunJE99+JCgI32RFfqn8LuRjkPLf+qxlwSNkEQzybPAe+SEmkjP54hhIQAqEuJfQZ+oA2RatlfhW1hMSajgCSYy7jUh796rGm/dEiKtdN3kwB68xnBzUlh6fhocTuSHy3Dcqz4EOS1yBAP6oO0sHu2C6Xqm9t+j47rhXvfDpk0ifyNNeat1MGD7Jzvpx2sp2eYhWlCC5w/1+Ofks3zxgJGhm59L/jyJhn9vVb1Un7hp+MxA9sPpA/qXOFgnPK56/OnFFIQZM4aluVhPqzofkzkFrMoy9uuuMSsXK16a35cAieZ/b4Gl+f1GrXpNIbYpbdQ0+QEFpRfkz7uRgzLR3WxW9XGsfOii/jMz+cvD65tC7iMWpB2NtIaFl5h/XKgOlAAJJqwLDSg+/7CrcM0/ziYlOPWmMydj6lVYsDRDzStBR8rfW6Gnk67TAAYy7PawPAwssJpRjnXHtWBBf19RcIzRRR8f9Ok8uyYV37+V4vqohfKtXWTYC0iJKj8jCxYbENs8wfqJtDX7mP9oPilhITX+/XuR56UyN0ro07DMyaUwy9QfGmRKs2JQuvCfjnZxHO0+QnqGTDv2sPOGH1oxKyLd4aFBw+mn2MyOFj25T2UPvDTqLGQ/aKTtTx1R+9uoONXEGtsaqivXDA1T6KgKm3I+SdMzwWnhjiqynlnDGpuNLFsV1ZXxhTd8UGkjq7KK6tAU8zNNnAyd7KgamHqOmOYemJZeQfXB8BSDZQret+YPJ6PcMwHT5h1Vg+oZVSaD5KUeX/OMWoY1lVWqrMLrO2xeaj6/cocdP9UUlHdEfUZqi0FyrSI0qR9/W4SlFasMaooDaYW3RUzZhckvWhkmjAi7pacdd4tC+oNBuwMgwYjJFHZLnH1OGGJUjG8cHQ26dAdNbzbhSI/vITRpHtvq6mp6enr6/77nnnvGmaIBowk4IKN8CV3eNgDmm8NbTMBoNAAiXYdFuCeVbIObhn3l5GU60d1mpWBlARmjXvShGnCGlJA55WfvH/3ovtNJw9Z2Ovd58JOMraSGgrsEQspmfjI37OGmHrv2AfVA8pJcTKtKyclpxPrTfHKXWjAkgNLxHq2KlU13DdYqQQBFUVfPnzjihVsKsM2L5x3JT9ufJEwPLGBQaHmCAJzlrAKIatxq+iPZQzySuinXqH98foIjmJgf7hTtO4vcA0k36qG3lfdaFaylEW9uCQL0KpwjaJQKNvLDvUxHuyAxmWsAPnJT/1k6JRVhJRX9+JhJ1nVBKR7zwXXW+BcoSc2UldRHWalvIrfMQca0ONLQpVK80cbyNWuxz6yh4s7wkyL+g8qglx4VPTNn6eDDYKc/2IlMCubIKaHwdHwKHHCQ2RJ5TsA2mo0TEmZimgPNR44A4P8ITGkRsVIJqqe7obsbsJCxwoZr3Vqy9hhJybTx4D/YsIzDAS4e7kIZ5FlX0c80oaNTNXymRL0VQTc2L11UozP85UWR8Hm78B/24vlz1CjhqFjmjLwoQ7ewmPXv57H2qVJ0S7ewfl5sDTWmZmB4uZk20YZN8NB6KBXbIivKPifN7TLpi2U8bSKW+1LGvyDy27ph0jCMvt2jpdenIB3upOuIH+9fmqPHX4cTrp83+vEi4v3ZImojr7vt7ATtyPAxTZ8WUOXazMlKG7/6XRO2uSNMfx+Ehds3MuvxdRy6qZoNGSuoP3YS5o4wae5ugudcNN7YxJrHq3B1ZLLixibWrG8i8zkXK+YGp58fr+ImVwF3dFRRsB1WbHeR+b1gKEIwqQ8qg2EJv75DNboeX0H1TS5W3NjEv2z/uD+9iaGJJjbS6LpeLcP//YDMwuHrevD7uVTdXU/BdtiwvYD6x49yEmLL9VQUOXwaPPe9TDa7Mjn5hzUUbI/MKEZb3LifNes/DcoumN4zM6j6daZ6X7S2mPsB1eubmP14NZvvjyhpzDKcpOmZdTSFwlw6qshaH2yLmLK7g5N/+BeqD2aywVXApAWW+Dppw0zR7GFsg+Pj7HNjHEdHTawZyihcUaEIkSjnB/6+ZorqJfxCUSDMlJK/DL5vJAgwxULBK3VY97jZ8fsGWj9yU76yDb9zx0B8Wz83YJwDvqiLTlQDTvVMQsjDmfSoldS7ZpLOYk+VAAAgAElEQVRfaEAX/pAOejeTbjZEHAODXk1DmJNPZaMNX2sDZVtXs7zdTl1pOsrnIkxP4YZBjaoa1qYlMwGZz0+C8D9NxLcGUi2r8buDH0eyJIKQhHEacEDEjwlreGfoO4H/EMx/MPjiMCQEgKA31Yx1OtDTjYiBlO8Nzl065YdbrcwExNDfCRHnb7SiB0RfJ/IcK6YwWXr3NaNg5bpEAIUv/luJWMAm4f8MmBmj+tMycLySEYechkc3r4iKJ7tYXl2K68YFcd1zThnNY1mABBCyttD05PhXoSoKCMI1QCyLWOHslwP/6eYVUbcrF98eNzt+X8vavHoyyuoomjvB+0GcuwTbR/VJtFaUUNaqY36mlTvNZswzm3F/OvKt8efhp2O/jH6aHum9dnxPWmKHjty8gIzptbR/KLOgr4XOhTY2TdEh322h9P0OlNu7aT5gIeO5iz8NP952l/aUU1KxF908G9Y7zZjNM2l+48iI9/XrZwIImCl4tQJbPC+ZYyTzYdWQjd9j9n1u+h4cA2bddD0cg4PHhjXbVGYXYJsLhHtk2/dwkExyg0boHXdmgvtTjp0C3muC2QXM+15kQh/wnhtgHVlhns1ZAN+7iVlA03obTUyU4fQDVvzoDkYjodk3BWUxe0ZQKmqd7hhSF5VIOcRP9LY4yR4O8jEHH7f1vwwwO7yAQ9sCruem2dC0fQVZ23/Aiu2byYxR3n5O7WfPQch8OCjluXeRSROHjp2EmyCW7K6/6ftAE7+yNV3E2O9h7JZYjLXPTcY4OkYmLRRhxYoVJCYmkpiYyIoVK8afYJ+Xjn0AKSSbwGSejwB4/tIR9qAU6fpQBgyk3B58KCToMaXnYn+hkR32VECi82C0SU49U2+ArqNRzp0WOULQMxlCgOtmWLDMijBqod+7OcgIlLvpxowxfBGQoMeUXkDlugyU9k6OEPQ6HZfoDrtM2d+Mu8dCxg/VMIcTx8F0U5TVirEQQPw8fLJApPn3beiWWtV4wrMyMkEjN1TcVjdu0rl7fjDud0gIAME3v+BOEcHFQFJ4wXs9NL8pY7l3AXoUpP+Sh+yqcPa/5X5vp3TKrz7xQkgt1O+SYU4otlkN8RhcdxHxKCTNuPh7sBmW2im41Ydzc32YV8pA0u06+Is3wlMlIR5VEIJ1M9ychEAX/pjz63qSzDqU//SN7PEaCclD+yGYP9sEJJE8H7xe32CDsk+Vmzl81Wt/X6mjJFXCtadzzEUwzE5GRxvewxFFE/0owmBdu9go+yopbU3m2VcqsD9mI/2uFCy3TKzR6H3JQcN3C6ioc5BNA45hP7phxPJDHW3vN7P3nU5Sf6iOZfr56Vha3sH9XjveOalYJiu8dKzt3ttK5ea9JK+po8Kejy09hZT/Fcd+l+H6eUsyFnx0Hrwcd8u99Mx+vJpGl6v/p3po72CFy0Xjc5mohtPgMIW/LTLZECafxhEXol1P5q9dNG4vYDYfU/147F0Jxs3cAhpdLjZkAO51F2mnhQi7xWjEjA//8WFuGWOfG3kcvQZhtKFTE8SkGbb33HMPO3fuZOfOnWMPQzhQT/nLbtr2uald46ChB/RZD5KaCMJdyym4TUB5u5Tif3PTtq+Fho0lVB0AYf5yMm4GDjdQ/Phaalt8iKKPve97AT3Js6MZQQImsxnffu/QuC7Rjw8Thv7bkrEsFGh5vR5fMJZMOtDA6qWFuI4T9G5GbA0mivi4lmunALIXd0vIfJHxdnQiLLaQDOj/txUzbl5vUhVVOeymtMyN8clVZOgh5IGdeWPYdH7TWvJWVuEJ3xarn2RS79Hh/aMLTw/QJ+GpdlD1XzbW/1RdwCP+9QjQhe+wqujyJ/XYN7diemL5wAIQtTQofSAeV41k1et7rbpTxLQUrHPA3ehWP2qg+HFvfh73jCJWLR6IOzZMDTeNRcQjA+EOxluS4dBe9h5WUCQPVb98D2OmAW6YGnxYquEcU/8ubJpX7KKzR33ZuegkGLD90yZsgjxIR8wP5GM+XU9ZnRepD+hT8O8qp2q/kVxb0Pt6uxVbopfamhZ127o+Ce8OJ7WHItI5XktptQcpOOZIh9yUl9TjHe6N/EA9DfuCLy6KSMv2WjzTsslKFQAdqTk29C0VlLWIalxxn4SnuoyG3nRyFhkAGe8bbryhdx+5i86DkGJOip4fAF34jqIueowWCDnHRv5tEvUv1Penqxx2Ub7dg/FhW5SFTBcPpfcLlN5z9E/4iC3/f3t3HNTGeTd4/FuTbMJFKVelSZQ4UfLWOE7ktGOGeaGe4vh9gb6c1KZSXwfeaVDHwTkDbQJtzri5wOtaqV8rr2O4ppDrAb5AOoW+E6u+oqRFyYyh45peAh0XX2LkOpYbW47jTXxWjnrzEq+t9P6QBAJLIDAGQ36fmUyw9Ow+zz670v707G+fpfOXiR4jMcU2JVv/wSZcu01U/NdiTGkWyp60w24XLYeTL2NZY8VwoJ32g3k8EEspMuaSn91HS2s/loJcpvqpFgycQAtrBI/PNMNtJvs9jq7zka5zfnTqQZXeDs+laT+THZ8ZeTzkMND73934jumjZQZfrMPdO4fPPDvYNSG/dfbERu7eiOZyvvlGN6xYS/YtcOsd98KRyCX88W2IjCwe2dVF0rBrVQVd3m3YiI0mR8VyRWc1p/N9un/RfVlriPRDdKT6g246fVMtkcr6uumcSVB/i40d3lbKVwB/fnfyfoqNkL8RyzV+nW7uZW1OanM5fKky9iPkT7z73vSbqh1ooXJ9Hb6EgyIT4pab12DN1vG+2B75XId11N4GmvbGXYGZ4Wdu6u/RTFbmKHGxho76ehMte1O4+vNegBPDoB0PRs6hhzupXL8Zz7EplwQWWirC0uXcMNBEXUck3cCcX4s7Ni1Umgn7vzRCo5uWPQ3U7QEUA5Z126ktj+ampd3EXTcM4XFX0gmQbia/xpUgDSHClL0G8/M+9ofyo0FkhD58Dh0zt42+ppD3WD2l/1xL9bpOdEAx51PRUI99Kah/OArK8nFTg4XeOwosj1xSP6Uy2FFPQ30kicK4uoLGJ6K5qSY7ri0BauqdFP63aJsfbcQdy0tVgxzFwMob49o3cpbQ20MMHK8g65JtU8h6tJ4Kdw116zzoKBjut7O1sYKsaHx4+oQfsu2EnnVQ+LYembKnuhnXfxo7tZpWZGE600llkQfD6iratlnR/3IWluVER1NN2H/oIvCkG2dRQ3R/VdD4L/bozUORoNT4D/G5h5F0B3NBpGMN+WVU/Kqalv9so92UR9UzLkxeG97P3hDpmwnpHADB33nxZxfjmqtfioYsqp6pYOi7LWOvmey4n4PGf62h5MXYlFW5lD7XSGkspzbNQukzFQSfqsdpc0f72M1WxxCbRyaup46S3dH1ZFgoeKwm+WVtgGVrML5Rg21LMHIs3lPM9saxWRSUVVU0uxVcOzZgc0fXe48V165N5BmAsM65d3w809iAnm6AYR3zuu24kyXuWwooXeajpayQFsWE3dVMVc7EQmOfz5qS9tGponK/3Ujjt2ZzIvGpGfJKKftVDa4SByYD8MUyXE8U0/9iXKGUtikBbZCWHT5Mj7dRHL0ao6wq46kH97P5Ry2sSTabxX1rsOLBu/YBcka/J4zk/v1KGg6cp+DLk4W1JnK/mUenuw7Hq6DcX0Xzc/bp35U83f0+UUYepY/spmZbCY5dBsBC2Q83UXxgQubepMenQtZ3mtme5uKZKhsNkQMF8+pSqr55hYesVzkoX1FO60Y7rdiwWeHyQrdk9VTQsvHPVGy1R9dv40fe6Mji1/8L5b8rj1yuHteGW7E9u4137Vui7wFEL50TyRkdi8Nt/Cj+Mnc0EDtyZIqc1yndiu1hG61bI+kQK6w2Vhy5jOvOqyr4kdXODzfaaeVebNZ7GV3dwRYcW8d6v3WjndYVFbQ8PPn6Wjb+mYpd5ThiObFTXvJ/k1b7lrj9fC/lu6L7IlkbnrVRvquCYxvH0kJsT0fyepkkUI3k6v5p7AXrthnlRIeO9RM4paH+BRL92h0ftxix1rjwP+mmuqQTUMh0bsf1WIgNv4ktMbPP3NTfowp5G2uxVrvZvM4TqXvdVqofPUp1T/LtM33ZQd5LburW+SDdQtVPGyk4Pb1ZET5z8eLFaT6EeB6oXqqdTfijc6eZRjR0JckdyVH6sI6SkeSrPfpAA0Oi2ePHCeF7sgRPdhttJSmefMM6OsqkbUtqiu2K5KGlsqIQvm2dmGqqyEpyQ07ytmr01jqovz2a2zlZpWEdPaxM3abUG56kHlJLHA/7aSmp4ewTXdTmXSXPBkvleEilf1I8rtSuuKlSUqxbT0teZtLP0cSymo4y5WcqWnYElMmOzbmQyvfINLZp3oV1tLCS8KEY0zWd/Z6wHbpyaUoW0z8+9REdJX3ydmgffZTw9cicoJ+OOWCn8mmeI3YhmeqYNdxwAzDVKSNJ3JLieTiVz9w4KXyPplRmYjsmfvemGgew0EZsY9KnmKcVJv9STlMwpDQIYcT6SDHtmzz0OzYlfe7yxHXP+LwyxXalGhtqve0EbBVYpwocErZV4+xZyMy5bepKJwmIxrmcoBZSPpi1fbvxGEtpW30VBSKpHA+p9M9MjqsU6570mJtGcDOdAHDeg1pI7XtkoQS1EPlem6WUjhkHtbF2pLJ/Uzg+UznBpi1Zknzyel9kVG12ZwyI+mDiSOmYhHfZz4fYqOOK+QlqLxmlHJXijVqfEuP6Kcm9zWlLxjJHJz9lJIlbUjwPTyuohZS+R1MqM7EdE797p/HdtjBGbIcH8fy8D/WWPMpKsub42fM62rCCYZ6SoGdkGr9sLuWnfb0b/YkOKmb7RDAHtGEdw+WclBe40Ksuqv+QS+MW6+VPDSXELLsSx+eFCxemOeOIEAvPdYrCtddem2LpBRi3zKKFEdgKIYQQSYyMjKT4yFEhFp60JUtIT78aLnMtDHM2K4IQQghxJVx3/fXjLtUKsVikLVnCdddfP9/NWFBkxFYIIcSicOHCBS5evCijt2LBS1uyhGuuuWYa6QciRgJbIYQQQgixKMi1GyGEEEIIsShIYCuEEEIIIRYFCWyFEEIIIcSiIIGtEEIIIYRYFCSwFUIIIYQQi8KCe6TuXE/nknDKjbCKOmzCJI92EkIIIYS4aiyYEdtP/vpXRkZGOK/rczpHYfiTTziv64yMjPDJXyMzowV+Xs2G5j60OWuFEEIIIYSYyoIJbM9//PG8Trod/uQTzn/8MQCZD1WT19eG9/i8NUcIIYQQQkywIALbCxcuXBVPkgl/8gkXLlwAQx7WIhWPzz/fTRJCCCGEEFELIrC9ePHifDdhVKwtWXlW9L37kdBWCCGEEOLqsCAC20tHa9+k1W7HYW/hzdgrzXYczW9OXPTKtSVzJVnDQxxVr3iVQgghhBAiBQsisE2um85fvz8/VWeYMGf4CZ6an+qFEEIIIcR4C266r3grVtzLkV1dvPn1ignvvEmrfQvdsXIbW9nx9VvhYAuOrWCzdtPtA7iX8l07sN0C8D7dPyin9ciEZZIyYrodgrO8TUIIIYQQYmYW9IjtsgfWsoJu3jgY/+r7dP9gC93WbXR5vXQ9bePIrnJaR8t00802urytlK/4E63/K5K+8GZzOa1fiC6zqwLGLSOEEEIIIa52C3rEljtslFpb+OEvurnjC9HXPjjAviNge/hLkX+vWo2Nbo69+z7cAXAv5f/4JSA+heFN3vABbMHhG3t12aSVnyZ4bLY2RAghhBBCXK6FHdgCX/rHClZs3Mc+gC9MVXpyU6cfxBn+EFW3kLP08uoUQgghhBCzY0GnIgBwSzZrV/yJI0di/76DZUD3G9EZEg6+Tjf3sjZnsoD1Vu5YQSRfN9V6A0MMZqxkuWnGLRdCCCGEELNowY/Ywq3YHrbRujV2q9iXKN9VwbGNY2kFtqe9kRvE3ptkHc9u4137Fn5oj60n/sayiXT69vpQCuuxzOKWCCGEEEKImfvMxYsX/zrfjZiK9tFH892EcQznf8fmEg857W0U3znfrRFCCCGEELBAUhHSllw9zUxbsoTAy+0M5W/AKkGtEEIIIcRVY0GM2F64cIHzuj7fzQDgOkXh2iXn0UYMGAzz3RohhBBCCBGzIAJbgJGRkQSP1p1baUuWkJ6ePq9tEEIIIYQQiV091/incN31189rSkLakiVcd/3181a/EEIIIYSY3IIZsY25cOECFy9enLPR27QlS7jmmmu49tpr56Q+IYQQQggxMwsusBVCCCGEECKRBZOKIIQQQgghxGQksBVCCCGEEIuCBLZCCCGEEGJRkMBWCCGEEEIsChLYCiGEEEKIRWFhBbZhHW0kyXu6hh6e09ZcBTRUVZvvRlxZYQ31zNXx1DkhhBBCXN0WTmAbBs74qG0dHPt33P/V7lpaDsa9DvhfcOJc76T90By2cy4d7qR6Qwv9VzruCw3S+bwX/5zF0Bp99U6cL/jR9tWzodZD8Er+aBlRGXy9n/5joZQX8b/gxLnNx2RLjC+j4e9qon2fOvmKwyq97joa+qYoN9sOteNc78J3Zm6rjacd8tL0Qh9qGCCEb5sT16up7xMhhBBiYQS2p7xUl1TS8vsg+ocH8W5zUvL8IDqgdlfj+G4L+9/VOfuWF9f6EpoORCK985qKekpFOz+/zb8yQvhe9GB4pJhcZRZXO9xHQ62X+LAq9Pt22rua2D0wV5GtxumjKsabjBjWbqCUTjr6rlzdoX0NbN5SR90PPPhTXOa8pqJ+oDPZb4pxZbQBdj/vpbPZRyBWYLiPhonBcaifrt5+fN1+5nQs/ryGeip0WVc9tH0Nlwaib3dS+UIqvaox8MsmvP/WiO8YgI7+gUro41n41Zaon4UQQixK18x3A1Ky1E7jLhMNj9UROAM95W3sLjEDYHqwkbbPN1C5JUCIHirad1N85zy3dy6c7MFzIBdnrXlWV6sf/B2+f19JWdxrRpubtswQxnsMs1pXcqdRj4Hpc0ZIUyj4WibO7v1UrrVinPW6QvT/dhBDfj4re33sP1SB5f5ZrwQM+dT8TxPOz1rIjL32ziA9H5gpjS93s536rgJINzCbv1fmwtG3egjdMW5r0E74CWiWFJY2kP9EG6ZvG7Asm+WGJepnIYQQi9LCGLE96WVzZQvnvpKP6b48jC9XU/lvAXQg+MpmKnedY02+CUueEe/3K+l8e5JRHl1DG9bQRkDXIn+PG6UK60lfG5ffO6ISONhP/+Fg8uXDOurhfvzxw58jQfyv9zN4TE08OhZ9339y8pxh9cB+gjkF5GQk2kQNbThBH4zErTPRdgKBIwPwN+bxAWSaAfN9Zgxps1fPqFjfxq/nTJCjKNyYEQntTF8uwHKgj4PDSdZxOU724DlgwPrNagpyNLy/6Us6CpvweJlGGeXzZkzpY//WzqgJ61IMBpQJfT3WT4nXrWtja9In9me8Ee3SY3k6ki6v8eF7l9YZev9EosaObcOIhhZre7oR8+cT/3hK1q/6sIY2sdr4dZK8n4HEx1+i92faX0IIIebUwhixvbOArbvsGEa8VL9kxvV4DSEtMqJl/vuttNkMaK9U47nTRdUTITRDkrEubZCmjZvxDluo2tXI8pedVO/RyN/STe3ayDL+F0qo3q1heqSNDmdkNFTrfRrHjn6yanazMy+E98cuWvbFnSzTs6hq3ol9KZE8YGcTIWctxQfraTqkw4M72fu95Qw+X0ldV6KTrJ2de8tg4vvpWVT9dDv2Oyduj07A7yczu5ZxYcCZflq2Po3nOCjoYMyjZoeL/KUAIbxPldDzdx247/ZSU+shoAM329m5q4osg5/29S48pzRgM4WvTKjywZ3s/V5W6vUUdFB7fTM1P+5D1UExFbN9VwVZscAuHKK/1cUzrwRQbjZCSCW0rIrdz9kxfqQRIhOzKVrWtJyVGU0MBSA/O/GunSn/rzsJ/k0prvsMmGz51Lu89GzMwxof2Wt+2n9QQ+fbYFxqQAvdxcq7J6xoyjIqvqecNGXuZO/37sK3rZKmfSGgH2dh0yXtsjzeQaMj0gHawXZqtnQSCBswpGlomLHW1LNpbayRg7Q4GjDUbuBEWz19auQIUu4po76hFEs6MDxI+9an8RzSoseXQuYj9TQ6LamNDE+2/Bkfrsea6AsBA04Kn5+4cOx4srNzbxW3ddfi9DtotnRR/bwfPf7155ezc28VWbFF/58fr6uapr5oIkH8Z41BWtZt5mhcXwEMtjrYHKiio2kNg5f0s4WqjkbsJggNtFC7zUMw3YSRECElJ+44BvWVzWz4yRCKyYgyrKLdWUbjc6VkLrShdCGE+BRZGIEtBgwZgMGKu1yBNDDGRioNBgyAweamIg1IM5JwzCes4v3nOrxnjNh3uCMnxpwClD1e+g4OwdoswM/+1yKZjeq+foJOM2Z0Dv6hH7CQt8oI+Bk6CDnlO9lQtBwONFLj7qXpX73kNtmJnV7VDjctplysDhPGVbfBoU6e7lIxPLidtsdzMQz30bDRhS9sxdVWQdbhdhxdKkp+Lc2P5WAcCbL/tyGybk90Fg1x9jQsLxw7maMN0lT9NEe/1khXUyYGNHp3lOBu9LFqhxUjGtqHYHrXQ82Rlbhe2YtJ68X9LTfte4vJclgo+9lTaIWbORcX6IOKt8qJ56abplWP8c8eXB8/QP0rLkyqh+r1LfT5K8jKju6LTRvo/I9VNHZZMSvQX19I3bXRkeKzIVSWjwW2mFm+ArpOqpAdt82Xa6SPrlc0sqoLMAOsdmDPqMazN4i1JJbiodHXWENnWjHNe8rIzADCQTzf38DgWOenUCaeEeuW3WR9sRpnTwEdcccNDNJUuJmjsX8e76S6xkvmkx00fzUa6A40saG2kpZbdlNxX6ygiuelIbbWd+MyAcORfdv8WgGNDhP6OwMEVjxFW0MupjTQBhpw1tbjXduWUurO5Mtbce3OwlvlpKdgQpD5k0I2E/ejCCL52wcaqdfLqO9wYzYoGGKvT+Df46OgqYO9LiXSp5sqaXJ5yNpVzNRJOJP08/FOamp7yHJ30ZwT+cZQu6rZUNOCqaMCS8iL+yenKf5pN2X3AGGN4NshjBLUCiHEVW3OUhFee+011q1bx7p163jttddmtpI0BUN6kveUBJdvY8Ia/c9X03QILI83UpUdDX1X5WFVQP+jnyDA8UH2DxvIz8+Fd/YzqALhIQb7gPsKyDUBhjxq93TgKsnCnGHAnL+B4mXA4SCn4+vMsLK1eTubHq+iLM9E6J0hNCB3dW7kkr4xh9xsQFO4wajAv+togD5yHiXdgMFkwfqtPEwJt+k0wcOM297AL5/BayijxpkZWX+agfzCAhi9hH+W0Cno/T9GamvyI+vNsLByGfhPRFs+/CFqXApARAj1PTBmGKZVT1/AhCtWz9JMlsetMbinlqaPSqnfEglqQUU9AaZo8KyePApLjdw0uoSBz92aZN/CuMv0E/+bLG0gtM9Lr56LdXV05DPNwppCA8GXfGM3kQ0P4OvVyX+oNBKwAqSZycyMW1EqZWZo8NedBO8rY8NXx4JFQ04pZdkhPL8anzZhLa+KHKMAGXk8kDe2b5VVFWz/Tu7o8WTIyaeAIOoHqbXjcpe/xEgOzho7FpMBQ7IrLIDl0U3Y746+n2am+NtWlHf2M3iZszcMejsJ5ldTkTP2M9j0YCkFZ3zsfxvQdXQ0Qmejt/DF0nEur1ohhBBX2JyN2La2tjI8PDz6d1FR0VxVjbfWgRfg/ipq40aTSMsir0jB+0o/g2opDPSgKgVsWm9G7W1i4C0N+x0D9OhgXpM1NtoT1lHf7qP/fw8RHDnL0MkEld6eyV1xZ0Hj3xZgUfz0vNCE5cYC7jrRQ1svKF/NYiWAJY9ikw/P6w04bU0Y7i+g4rsVWFO6YStI/29DZH5jzfhRrDQFOMc5HVAjeav564sxTwiWDenXRf748DQnyCQnflA0fA5tGJbfbpxWPfZHiseCcjXIUQys/A9A2I/vpSD51fHtOE3wGNz1jUiAefrdAHyuIPUgItRDfU3n2GwDozIprXdhvTnhQvT/dhBWb8KChhbN3zWvtmLcE3cTWWCIfixUrZhkqC6VMjOiEjyiQ6aZ8ePURu5aZoC3zhICEo9hK9xww6Wv6if9DL57gsCBPgZh7JJ/ii53+VHLVpI5kyhxqZlMvASDQML9mgqVYECHwy5svRPfU7CfB5ZaqXB4qdvioMeci/0bD2F/MCvJD00hhBBXiwWSinB58ms7eOCPlbhebcHdlTvuUunK7DyUV3oZeMsP+4MoRVVkLb2N4H1NNP12gEHLfjTMlK6OhnKnenHVuOkbNmDOXkPWrTeipMOk8z4BmOzUVg9Q2eijaZMX0k2sXLcdd3luJMcxPYuKn3VQsM/H7pc99B3y0fDdfoJN8ZebY27DfB8ERkcjI6Ok5s+PnzNAC6mgLMd8M3BYJUgmBfHBVzgSUOY8FB1avCQFADijcgILBUunWU985PuhShAzBZ8DzhxlaNgyvh2HIj8eCowGQOejv+gTbmALEXwHuCtJ395sxfUza5I3kzjZg+eAgsHUSU115/j30iM3kZXdn3fVzkxwXp/eNFja2x6eeaqT05Y1FHwlj8xsCwe7+uds+VkT1tExYbxp6qLJRdKZFMdOuh9PFpobyHq8g+6HA/S+tpuun9fhecnKzraqsTxxIYQQV505C2zLy8tpbW0d/Xsu3ZhhIq/yKayv1+FrdeP928bozSegZD9AHr30vtzMucMKef+0ElDIWmOG1i7az6mwtIzcOwF0+n7mpu+MidKfdkRy71DxHvHhn+qO/eFemhv7URw72f1oVuK0iTQjmfml1OaXovW6cLj7GDqiwn0Tx+SM3HQb+E6qjA6vKqB+GD9+p9Lzcj+GBxsjo2rnNDSiwWeU1ufDRz61OZHwLZICkMu4mOFUED8mSmKX2KeoR//g7CX1jNZtIhr46uLeewIAAAZ+SURBVHEpAiF6f+FFw4I5evPZ2dOQ+Xe3xa1ART0Jy++cvfxa/687CWbYaeyoYOJkVKFXN1NSH72JzGzGgo/gKZINjUIqZWbExPIvGuD3foJkxY2Sh1BP6iiXjOQmE8S3s4VzD3fQti62hMJAyu243OVnT+itAQKKBeetANehJJgVZGpGllsM6H8ITOjXREUzyf9WLfkP9uJyuOnzV0XyxIUQQlyV5izHtqioiD179rBnz545TUMYZcilotaOUffTstMbfboRkJ7DA/nAYT9+8nggOxLkmXMKMOHHfxhMX4279J6mABqnTwTR1AC9/8NFy+HUmxHavRlbUSGFhYUU2hw4a1roPwMc91C9sY723gCqGmD/H/yAkZUrEoUuCpkWC4EDsUn8V5JXZMD/Gy+Dw0A4xGCri5b/a2frtyNhm/reCeAogeORkT7t7U5qd/SR+Z0N5I0bgYoEneqp6POyQiooN3JDemr1hD5UJ+THRuvOULgO4PblrCTA/t8H0fUQg621vHG3FRMmbsqAWP7wTZ+Nu06tHmVoOJeVs5CzCozeNGb+J+slQS2Aca2dfGUQz94g3LwGa7aO98V2/CEiaSi9DTTtjRvLTaVMMu8FODEM2vEgoQT5wJZvlGE500l9hz/yflgn+EoDLQfMlNpTTQTQCIVAG4mO8oY1Art/gS/FpaezfDBwAi2sETwencUgTYFDBwmEIXRSnfZDJ/wveeiPrko/1UvzzwYxOhzRYzaTlTlK3PGoo77eREuifp/Qz5ZvlGE51Y67dZBQdLNCx3w01HTiDwOaH9+r/tF9oh0Zwk/0GAyreLc4qWwdnPJCjRBCiLm1MOaxnSWG7DKeetCIfqgJd1fsHmyFnK/kR/766gPkxIK8u3MpuBnAwJps82jZPGcFuRk6vTs24HBWs5sytn8nhQnoNcCokOmooupbduwOO/n3QOigh7of96Kl3cRdNwzhcVfidFbS0Gcgv6Y+QRpChCl7DeYBH/tDkXZlPVpPxc0+6tYVUljk5Gl/Flsbq8iKxoenT/ghezmhZx0UFhbi+L4PY3UzjQ+OBc6mFVmYznRSWWSjsrmfEKD95SwsM3Mb06jnc4Zx+bGn3w3A7aZIakFGPmXlmQRaN2BzVOM111KbA6FY8Dz8ISpgMo6tIfg7L/7sPFbNaHTuUqF9XnrJxVmYZKwuPQ+Hw0jwNz0EwkasNS6sH3moLimksMiBK5iP67H4oDKVMpcyfdlBnhLpS0dVPfvfS1TIjvu5Cky9NZQUFVJYZKPyJSh+rpHSiVOOJWXB/lge+i82YCtx4iipoefuCmryUk20SGV5E7nfzEN5tQ5HkYPK5/YTBLK+WUGW2kllUSHOp9o4OM2bvixfM3OwxkZhYSG29fUEclw0Pxr7vCnkbazFOuJl87povx/MofrR8b+AEvZztF/Nb9RRYov80HT+wAe2NVjSgJFzBF+txVlkw7HOhsM1RIF7E/kZgB5g6IBK8L0PJbAVQoirzGcuXrz41/luxEKka1rk6VAp3Uyi0VvrwD1gHz9HZ7ifhqI6fPdH52+FyB3+I0x6p3hECN+TJXiy22griQvQwjo6yoR2Reqvvz2aU6jroCRZf1hHDytJ3568nmkIA6ksG/bTUlLD2Se6qE05ELtCJuu36ZSZuIimo0y5v5mFPk/12LqM5cM6WlhhYhF9hEgu+kxN1a8jGvpkM6MwST9P1q9hHU1PMBvL5e4LIYQQV8Sn4uaxK0ExTOeWbgOZq8ww4KXuu+ewWm4EdNQ/9tCPEfu3C8ZulEpTSG3VRqyPFNO+yUO/YxO5sfN1mpLghieNs2chMyeatzpZgJCW4sk6YT3TkGJAoO3bjcdYStvqq+A2rlQC1mkGtUBqQS3MQp+nemxdxvJpyiVPqIPLDGph6n5N4RHESft5sn5NNsXg5e4LIYQQV4SM2M4ZjWCvh5Zf9nDio8grt62w8tCG0rG5R6dNRxtWIg+vmJSf9vVu9Cc6qFg107rmjzasY8iQMEIIIYQQk5PAVgghhBBCLAqfqpvHhBBCCCHE4iWBrRBCCCGEWBQksBVCCCGEEIuCBLZCCCGEEGJRkMBWCCGEEEIsChLYCiGEEEKIRUECWyGEEEIIsShIYCuEEEIIIRYFCWyFEEIIIcSiIIGtEEIIIYRYFCSwFUIIIYQQi4IEtkIIIYQQYlGQwFYIIYQQQiwKEtgKIYQQQohF4f8DworG2Pei33QAAAAASUVORK5CYII=)"
      ]
    },
    {
      "cell_type": "code",
      "execution_count": 16,
      "metadata": {
        "id": "82KWESLd-1gV"
      },
      "outputs": [],
      "source": [
        "class GraphDataset(pyg_data.InMemoryDataset):\n",
        "    def __init__(self, root, file_name, transform=None, pre_transform=None):\n",
        "        self.file_name = file_name\n",
        "        super().__init__(root, transform, pre_transform)\n",
        "        self.data, self.slices = torch.load(self.processed_paths[0])\n",
        "\n",
        "    @property\n",
        "    def raw_file_names(self):\n",
        "        return [f'{self.file_name}.txt']\n",
        "\n",
        "    @property\n",
        "    def processed_file_names(self):\n",
        "        return [f'{self.file_name}.pt']\n",
        "\n",
        "    def download(self):\n",
        "        pass\n",
        "\n",
        "    def process(self):\n",
        "        raw_data_file = f'{self.raw_dir}/{self.raw_file_names[0]}'\n",
        "        with open(raw_data_file, 'rb') as f:\n",
        "            sessions = pickle.load(f)\n",
        "        data_list = []\n",
        "\n",
        "        for session in sessions:\n",
        "            session, y = session[:-1], session[-1]\n",
        "            codes, uniques = pd.factorize(session)\n",
        "            senders, receivers = codes[:-1], codes[1:]\n",
        "\n",
        "            # Создаем экземпляр класса Data\n",
        "            edge_index = torch.tensor(np.array([senders, receivers]))\n",
        "            x = torch.tensor(uniques, dtype=torch.long).unsqueeze(1)\n",
        "            y = torch.tensor([y], dtype=torch.long)\n",
        "            data_list.append(pyg_data.Data(x=x, edge_index=edge_index, y=y))\n",
        "\n",
        "        data, slices = self.collate(data_list)\n",
        "        torch.save((data, slices), self.processed_paths[0])"
      ]
    },
    {
      "cell_type": "markdown",
      "metadata": {
        "id": "GD9bwJaUCOge"
      },
      "source": [
        "## Построение Модели\n",
        "\n",
        "Модель SR-GNN имеет 3 различных варианта реализации в соответствии с оригинальной статьей. Опишем структуру модели, применнную в данном ноутбуке.\n",
        "\n",
        "\n",
        "**Модель представляет собой конвеер из 5 модулей:**\n",
        "1. Использование GGNN (Gated Graph Neural Network) для получения эмбеддингов товаров\n",
        "2. Применение GRU (Gated Recurrent Unit), который принимает на вход последовательность операций, представляющих собой сессию, а на выходе выдает эмбеддинги этих операций.\n",
        "3. Затем происходи конкатенация эмбеддингов товаров и операций для формирования, так называемого микро-поведенческого эмбеддинга.\n",
        "4. Финальное представление сесси вычисляется посредством применения мягкого механизма внимания (soft attention mechanism) к объединенным эмбеддингам\n",
        "5. В конце модель обучается и оценивается"
      ]
    },
    {
      "cell_type": "markdown",
      "metadata": {
        "id": "mBmJUCILqlCO"
      },
      "source": [
        "![image.png](data:image/png;base64,iVBORw0KGgoAAAANSUhEUgAABD0AAAGhCAYAAABiaM/nAAAgAElEQVR4nOzdeZxN9R/H8de5dzbrWMeWNVuWIvsSWcuapYRQpF2yJCmEX/silRRF2VK0ihRSoWQrJKEI2ffBMNud8/vjLnPuNWbhztyZ6/3scR9z77nf7U6Yez/z+X6+hmmaJiIiIiIiIiIiQcYW6AWIiIiIiIiIiGQGBT1EREREREREJCgp6CEiIiIiIiIiQUlBDxEREREREREJSgp6iIiIiIiIiEhQUtBDRERERERERIKSgh4iIiIiIiIiEpQU9BARERERERGRoKSgh4iIiIiIiIgEJQU9RERERERERCQoKeghIiIiIiIiIkFJQQ8RERERERERCUoKeoiIiIiIiIhIUFLQQ0RERERERESCkoIeIiIiIiIiIhKUFPQQERERERERkaCkoIeIiIiIiIiIBCUFPUREREREREQkKCnoISIiIiIiIiJBSUEPEREREREREQlKCnqIiIiIiIiISFBS0ENEREREREREgpKCHiIiIiIiIiISlBT0EBEREREREZGgpKCHiIiIiIiIiAQlBT1EREREREREJCgp6CEiIiIiIiIiQUlBDxEREREREREJSgp6iIiIiIiIiEhQUtBDRERERERERIKSgh4iIiIiIiIiEpQU9BARERERERGRoKSgh4iIiIiIiIgEJQU9RERERERERCQoKeghIiIiIiIiIkFJQQ8RERERERERCUoKeoiIiIiIiIhIUFLQQ0RERERERESCkoIeIiIiIiIiIhKUFPQQERERERERkaCkoIeIiIiIiIiIBCUFPUREREREREQkKCnoISIiIiIiIiJBSUEPEREREREREQlKCnqIiIiIiIiISFAKCfQCREREgp1pmoFegoiISI5gGEaglyBBRkEPERGRTFS0aFGOHz8e6GWIiIjkCGPGjGHChAmBXoYEEW1vEREREREREZGgpEwPERGRLFKvXr1AL0FERCTbWb9+faCXIEFMQQ8REZEsUK5cOdatWxfoZYiIiGQ73377Le3atQv0MiRIaXuLiIiIiIiIiAQlBT1EREREREREJCgp6CEiIiIiIiIiQUlBDxEREREREREJSipkKhIoX3wB330HMTGQkAAhIZAnD1StCr17Q7FigV6hiIiIiIhIjqagh0hWOHYM3n8fHA4YPdp5zTShZk3Il88Z8HA44Nw5+OMPZyAEIC4OXn8d7rkHihcP3PpFRERERERyIAU9RDLbgw/CJ59At27wyCPJ17t1S7tvTAzs2QPXXQft28OoUVCjRuatVUREREREJIiopodIZuvcGf75B6ZPhxtvzFjfQoXg3Xfh33+hXj2Ijs6cNYqIiIiIiAQhBT1E/G3lSuje3bldBZwZGoULX9mYBQrAkCHQpInz8d9/w7JlVzamiIiIiIhIkFPQQ8SfJk2CXr2cNTjs9vT1uXABjh+HEyec99Pj+HG491547rnLX6uIiIiIiEiQU00PEX/ZuhXefhvWrIEyZS7dbvdu+PRT2LDBeTt40Hlqi2nC+fNQqhTUreu83XEHlCt38RiNGsG6ddCiBdhszlofIiIiIiIi4kWZHiL+UqMGbNmScsDDNGHpUujUCerXh7174bbbYMkSZ6DjxAk4edJ5f/FiZ7vdu6FOHejSBb7//uIxixeHH36Apk0z/7WJiIiIiIjkQMr0ELlSf/4JlSpBWBjkynXx80ePOk9w2bYNRoxwnuSSO3fKY9lsULWq89anD7z6KsydCw89BLVqwZQpUKRIcvvixXWUrYiIiIiIyCUo6CFyJY4dg9atYeFC5+kqvr75BgYMcNb4mDcPwsMzNn6ePHD//dC3L4wZA9dfDx98ALfc4t3O4XCeEjNtmnN7jEg28Ntvv7F161bP444dO1KoUCGSkpKYM2eO53qpUqVo1aoVAJs2bWLLli2e59q1a0fRokUBmD17NqZpAlC8eHHatm0LwB9//MHvv//u6dO2bVuKu4KBH330EYmJiQBERUVx6623ArBt2zY2bNjg6dOqVStKuf7ufPzxx8THxwNQuHBhOnToAMCOHTtYu3atp8/NN99MGVdm14IFC7jgqslToEABOnfuDMDff/9NbGwsAOfOnWPPnj2Uc21Z+/zzzzl37hwA+fLlo2vXrgDs3r2b1atXe+Zp0qQJ1157LQBfffUV0a5TnPLkyUP37t0B2Lt3Lz/99JOnT8OGDalcuTIAX3/9NadOnQIgIiKCHj16ALB//35WrFjh6VOvXj2uu+46AL755huOHz8OQGhoKL169QLg4MGDLF++3NOnTp06VK9eHYDvvvuOI0eOAGCz2ejTpw8AR44c4bvvvvP0MQyDvn37IiIiIpIVFPQQuVymCQ8/7MzISCng8fnnzgyNzz9PPnXlcuXK5cz66NzZWefj/fedW2Dc7HbntpmBA52BFsO4svlErlBcXBx16tShX79+nmvNmzenUKFCmKbJ95YtWzfccIMn6LF7926v5xo3buwJenz//feeoEe1atU8QY89e/Z49alXr54n6PHDDz94AhiVKlXyBD327dvn1ad27dqeoMfKlSuJiYkBoHz58p6gx/79+7361KhRwxP0WL16NadPnwbgmmuu8QQ9Dh48SNu2bTFNE5vNxpEjRzxBj59//tkTWChWrJgn6HH48GGveSpUqOAJeqxZs4ZDhw4BUKhQIU/Q4+jRo159ypQp4wl6rFu3jn379gGQP39+T9Dj+PHjXn1KlCjhCXps2LCBXbt2AZArVy5P0OPkyZNefYoWLeoJemzcuJEdO3YAzkCJO+hx+vRprz79+/dHREREJKsYpvsdpIhkzMqVzm0rv/0GERHez33xhfO5JUvgxhv9O+/69dChA0yf7h34SEiAhg2dR9vqt6gSYKZpEh0dTYECBQK9FBEREcnmvv32W9q1awfAmDFjmDBhQoBXJMFEhUxFLlezZs7TV3wDHrt3w333OTMu/B3wAGdWyddfO7fNuH57C0BoqPP0GH3IlGzAMAwFPOQipml6sltEREREsoKCHiJXwrcgaVKSMxjx5JPOk1cyS4MGMHQo3Huvc5uNW8OG3tkfIgGSlJTE33//HehlSDbjcDg8W49EREREsoKCHiKX4733vLMs3GbMcG4zGTo089fwxBNw5gzMmnXxc67CiSKBEh8fT82aNQO9DBEREcmmTNNk9erVrFq1ilWrVnmuux+vWrWKM2fOBHCFEixU00Mkoy5cgGLFnNtYrMfHmiZUr+48Vvbmm7NmLUuXOo/B3bQpuXhpYiKUKeM8SrdgwaxZh4iP2NhYChQo4Dm5RAQgMTGRiIgIz4k6IiJydevQoQPffPNNis+VLFmSXbt2EeG7lVwkg5TpIZJRmzdDxYreAQ+AFSucp6g0b551a2ndGuLiwHK8JSEhzvVt3Jh16xARSQfDMOjdu3eglyEiItnEuHHjLvncyJEjFfAQv1DQQySj1q9P+YjaDz5wntiSlcfF2mzOOWfM8L5et66zyKpIgNjtdh5++OFAL0OyGbvdzqyUtuSJiMhVqV69erRv3/6i6yVLluT+++8PwIokGGl7i0hGnT8PMTFQtKj39YoVYeFCqFYta9ezaRP07g3btiVf++472LMHHngga9ciIiIiIpIB69evp379+l7X3njjDQYPHhygFUmwUdBDxB9OnoRy5eDUKecWl9TEH4DPFkPRVtD6Wue16C2w9Bx0b5zx/KuEBOcxtYcPQ758l7V8EZGs4HA4GD58OJMmTQr0UkREJBux1vZQLQ/xN21vEcmoffucxUKttmyB669PO+CRdBCeGAW2QvB0F/g5HkiCGYPhrqGw05Hx9YSGQo0azjWIZBPx8fH0798/0MuQbMY0TSZPnhzoZYiISDZjre2hWh7ibwp6iGRUvXpw7Jj3tdOnoXDhtPv+8jZcMwq6RsGpQ3AoCbBBzwFQxIDLzbsqVAiio5Mfx8fDsGGXOZjIlUtKSmLevHmBXoZfffbZZ4SEhFCjRg0qVapEkSJFiIuLo0aNGlStWpWiRYvSo0ePQC9TREQkx3HX9lAtD8kMIYFegEiOY5oXZ3Q4HGlneQCENoW+VWD9+3CsITQNc16PagL1f4Sy6RgjJSEh3tknDge88w5MnHh540m2sXHjRnbs2JElc9WsWZOaNWtmyVw5UVhYGA6Hgz///BOAPHnyABAXF8c///zjaSP+sXTpUo4fP54lc918882ULFkyS+YSAdiyZQtbt27NkrmqVq3KjTfemCVzibjt37+flStXZqhPw4YNKVKkCJ9//nmG+kVFRdG6desM9ZGri4IeIv6QK5ezwGlaGrQD4uD5hdB8NES5kq0Sd0OheuDO5IuJAdcHqnQ5f965Bgk6s2bNYs6cOdxyyy2ZOs/ChQsZMWKEgh6p6NSpE6ZpUrp0aQ4dOsTYsWMJDw9n/Pjx3HXXXaxZs4aGDRsGepnZmt1uZ5u16HIqRowYAUD16tUzc0nMmzePJUuWKOghWWrBggVMmjSJTp06Zeo8S5YsoX///gp6SJbbuHEjd911F7169cpQP9M0WbRoUbrbb968mXz58inoIalS0EMko+6+G3z3GV57Lezcmb7+8Ztg+TEYckvyBrPNq6HanbBqNmzdDB/Ewc9vQXg617Rjh/P0GAk6hmEwZswYhgwZkqnzjB071q/jhYeHs3//fr+OmV0MHz6cxx9/nEmTJjFixAjuuusuAJ+ARxKnNy9ifXh72lTVj1o3wzCoXLlyutrmzp2biRMn0qhRo0xd08mTJzN1fJGUGIbBiBEj/P5vr6/XXnuNgwcPZuocIpfSuXNnPvroo0yd48cff/SqByKSEtX0EMmoV16B/Pm9r1WqBCdOQHpSsU/+BvsqQsMirgtxsPgwdK4CzftCvxpwJjHVIbwcOgQXLjhPj3ELD1dhUwkowzAoUqRI2g1zoP79+xMaGsqJEyc8RTnfeeed5AaO3fwwZyavPz2K2X9l4O/yVcA0TU6fPh3oZYiIiMhVREEPEX+w2eDGG2H9+rTb2kPBHg65DOfjf2bC+Q5Q+TLreaxfD3XrgmF4r6dSpcsbT8QPkpKS2LNnT6CXkSkiIyPp3r078fHxDB48GIC77747uYG9Ai369ObmCrkwLjHG1crhcARtMExERESyJwU9RDLqscfgzJmLr3fsCHPnpt2/cEfoeR7GvQ7vPgPPH4dRHS9/PXPmOOe2Mk3niTIiARIfH0/VqlUDvYxMM3z4cE/R0o4dO5JLNXVEREREsiUFPUQyat48iI29+PqAAbB4MRw5knp/W3F4dw0Mrw1Ve8C7T0Ghy/yreOAALF/urDNiFRsLJUpc3pgikqbatWtTyZVN9eqrrwZ4NSIiIiJyKaquJuIvBQvCHXfAW2/Bs8+m0TgCare68jnfeAN69764xoiIZLp58+axZcsWqlSpEuil5BiGYXDHHXcEehkiIiJyFVHQQ8Sfxoxx1va44w644YbMnWvjRvjwQ9i0KXPnEbkMdrud++67L9DLyFQ1a9bUEb8ZZLfbmTdvXqCXISIiIlcRbW8RyagtW6Bw4ZSfK10aXn7Zud0kPj6DAyfB2gUw+Vs4tRmmToc/Y1JuGhfnnOP116FkyYuft9vh9tszOL+I/4SGhvLWW28FehmB4fiPn+fPZvHWw+xY9iFzf9yNI9BrEhEREblKKdNDJKOKF0/9+XvugUWLoE8fZ2HT0NB0DmyDBnc4b6NSaRYfD716QY0azq0tKQkLg9mz0zmviPiVvTRNegykSY+BgV5JtuNwOHjyySd55ZVXAr0UERERuUoo6CGSUQcPQrFizmyKlBiGM9jRvTvcdVcGAx9piI+Hnj0hMRE+/tj7mFqRbCQhIYGHH36Y9957L+UGW16CU79DUnxyzqHNAMPuPHKZEDBszseGzXnD9ZwtFLA5//wbdsCAkDyQtyKc3+Mc07C5xrG72tmcfWw2Z3vrfc887naG874tBCJKQ/wJSIp1tjcsfdzt3Pc9j43k9WF5bHM9Di0KSeedY3r6YxmD5L7um8362PK8+58AIxLMBCAW03XRMJzPex4nN7aMYWVgWlsYucFePtX/zxllmiavv/66gh4iIiKSZRT0EMmoWrVg61aIirp0m4gI+Owz5xaTli3hgw+gYsUrm3fnTmcWSVQUfPqpM5vjUhISYPRoeOmlK5tT5DI5HA5mz5596aDH9SOzdkFXkYtDGZffV0RERCSnU9BDJLNERMDChfDmm9CwobPI6f33Q65cGRvn/Hl45x144QUYNw4eftj1G+pUJCY651XQQ7KzRdfDhUOWhAYDjBBnhoVhByPUdd8G9jCSsz9CwGb3zgLJVxHqTIHNj8O5XZZxbD6ZHCGujA13hoXdp52lfUhuqPgUHJwPMduT57VmeHjdLBkk7swST8aGLfnvbdG7IOY3iP3Hp687c8OwXMPV151ZZs0eIblfRBNwHIXE3d7XwZNJ4sniMHzG8GUYmKYJ9poYNp0MJSIiIjmbgh4imclmgyFDoF07GDYMnnsOBgxw3ipVuvSHDtOEHTtg+nRnlkjjxvDrr1eeLSKSncSfgoTj3gEPT6DDcrPZIdEVCLHZk4MiNjvOoIUdEs45x0w8D45zzucdruesgQybHZIs22ZsIWBats4YloCFO2iQFAtJcWBLcPW1gWkJemC4AhqucU2fIIj7vukeFzATwYxLnsd0t3EHIwzLHD59re1M678hDiDe0tca2HBtbrE8Nk0jeThrK9O9NcbE3+x2O5s3b/b7uCIiIiKXoqCHSEb17u3M4siIKlVg8WL45x+YMgVuvtlZn6NuXahZE/LlcwY6zp6FP/6ADRucGSE9e8K6dVChQua8FpFMEh4ezr///pt6I+vndROvkhXJ2RQ+fUyf+zZ3X5v3da+xUujvDnCYWOaxVLTwmttwPmearjamd7aVO2pgS2HNhruPq41xqTksU6XE3TfVOj6G54vp7mQ6L3gCG6aJ4QrUGF5dksf1tDO59Houk2EYVK9e3b+DioiIiKRCQQ+RjJo06fL7VqwIEyc6bwcPwvr1sG0bLF/uLIzasiU88ogzGJLSUbTpFR4OGzdefn+RK2QYBiVKlEijketmC3F9mLdmeBiuIAPJH7w922DcWR6WDA7roN6pC953bO5sDDM5w8T94d50BSE8wQ2fvtbMCdP0DrR4Fmcmj+NZj+9aXA9MS1TBRsp9PXdTiYZ41mEmX7L2cQV0PNtaML0yO9wBkuT7rkyPTGCaJufPnydPnjyZMr6IiIiILwU9RAKlZEm47TbnzTSdJ7yMGOGfsW02qFbNP2OJXAbTNNm/fz+lS5e+dCOb3XkSi/sEFs998NTu8KrfYU9+3p1Z4ZU94XrCNL12p3jV3bjo5BIzub+nvaVmh2cyC2vfi8a7RHaKdS2eeS1BCa+ME9/+7q0mtuSxrIER03L/krU6LMEdT16HYVmG54prTv9vbQFngdvIyEgSExMzZXwRERERX2lUQxSRizz+OJw5E+hVpM40ISYm0KuQq9S0adM4d+4clSpVSr2h4S5YGuIKeLiPgQ2xPOeugQEXRQQu9bncU7jU7p31Ad5ZHGZyvoPnq7WoqO/zlt0tXu199+mY1q/Wp9ORPeHuY63JYVjGTPH1enc3LQEL03o9jYm9X5qRRnv/+PXXX9morDQRERHJRAp6iGTUrFkQGxvoVaQuNhaKFAn0KuQq9cADD1CjRg0cDgcJCQmXbmhzBTvcGR7WzA6vPSHWgqT25O0t7ps1OOLV15XaYLhTKdxPWbMzDLyLjbqet7bzjIPl5m5vJl/Dp69rW0lywMY3aHNRVMQS6PDp6zUmloCK95gGpld1juRDXgwMVyDDvbnFdP3n7um1QtO89I4aP9q8eTN169alU6dOCn6IiEiOZpomK1eu5P7776dz5860atWKrl27MmzYMP78889AL++qpqCHiIj43b59+0hMTKRSpUpMmzYt5eCHdcuK59hYn1odhiWwYf3E70xpuDh9weTiwID1orvoqedIWVvy9hLwDjZ4feh3z+WT2eEOlJi+7dwsc3iKobomMi6KYHg/9GR3WC6kECfxfvHuu6blkis4YzrrdiQXLU0Oc1jDH+7XlRk7XAzDoGvXrhddX7RokYIfIiKSI8XFxfHee+9Rq1Yt7rvvPipXrsyAAQN48skn6dOnD3ny5KF169a0atWKL774wisjU7KGanqIiAgAb7zxBrNnz/brmHv37uWBBx7g+eef56mnnqJ///6EhoY6n7RmdzgvJAc/MCwBD3e6gs/Rs57AiKWYqTVw4nVcrevmdeoKeGeAWO5YgwpeY6TwIn1TIjzZGpbcCdNy3XPB/bQ1u8Myt2ebjWUOTwaKZQuOVz2R5PvunI/kl+YpHuJp4W5vuLNIPDt/Un9DNm/ePMaMGZNqm9RUdB2/vWvXLq/rixYtYtGiRXTs2JFz585d9vgiIiJZITY2li5duhAfH8+rr75Kq1atsNm88wq6d+/OmDFj+Oyzzxg9ejQ//fQTr7/+eqYVDZeLKeghklEbN0LhwoFeRepsNujSJdCrkBzENE1OnTrFqVOnMmV8d/Bj2rRpLFu2jIIFCwIhziAH7tNXDEsQw33fvf3EWsjUsq3E86Hft9joJR64syesn//ddT48zVxZIClVJDVN78CJp69lq4wn0OGqx2Hd6mKNbFiDGb5PJy/W+f3wzOse272txju4YbpOhPHEUFzfG9P1PTN8Ah+eA3IMy328j7NNSXR09EUBC39atGgRALNmzaJRo0aZNo+IiMjlcgc8ChQowJw5cwgJufRH67CwMHr16kW7du1o06YNQ4cOVeAjCynoIZJRqZ1GkV2Eh8O8eYFeheQghmEQERFBRETEFY91+vTpi64VLlyY4cOH8+ijj5I3b17XpHac9TosmR6ewqCubA2vgIfrk7xvlofNJ9PDa3uMcYkMEZv3GNbTXVzBhEuyZlfYLFtlXC8hhd0j3n09z7ka+AQivHmKcvic3JKcSWItOZpcmcMrVcUSAPEezxrcSO6RdtpteHg4BQoUSLOdL9M0iY2NJVeuXEDKf1YAGjduzMmTJ+nXr1+G5xAREckKPXv2TFfAw6pAgQIsW7aMNm3aMG7cOMaPH5/JqxRQ0EMk444edRYJ9UldE8npnnzySZ555pkrHsf6W4sUgx1uNjvYw10P3BkR7uNrQ3yyPLAEJizBCnfGhPWDuueTvOuYVyyPTWtGh2HJ1HDVy7BZto34BiEMW3KhVK+5cfb3nDRjyT6xHjdrPenFWq/DU2fE+1vh7GNZg9fOGE+aysUBGktWienztKdyhyfDw/l6fcMcRgp9rfr370///v1TfjIViYmJREREeDKKpk6dyoMPPuh5vnHjxowbN442bdoow0NERLKt3377jd9++41du3alO+DhVqBAAb744guuv/56hg0bRmRkZIbnj9+1kDdmbsLM5SC+VBce7VeblEa5ZLukY/w6bx6/HrvAsT0nKN5lKA/fXMKTexts9KlNJKNq1IDjxwO9itQlJMDTTwd6FXIVK1SoEHa7nT179jBq1KiLAx5gOXnF5+QWTx0PyxYX6/YWw/Kjy1rw1OuxT8DAegKL+6E7YGDNuPDct2ZvGN5zeub2zqa4+KQWnwwSfJpbsy48a8LSx1rE1PC6azmW5eKxLXN41Vn1HDRjeE5zcU9szQ/xJJKkPGqmaNy4MUuXLuXnn3+mTZs2WTiziIhIxr399ts89NBDyXXKMuiaa66hTZs2zJo1K+Od49bx7KBPKfXgaJ4YNZJb/hnFg7MPkJTudg7+nfs266sOZMiQkfxvWBWW9+vE+LVxl/VacgIFPUSCUWIiTJwY6FXIVer5559nx44dhISEpBzscDPcR9Va63W4btYAh+GT2eHZsmL3CRCQnLkBeG9zsdYJcRc0tQYkUsio8Mp/sI7v+5y7n3sOT0GNFNqk8H1wZ5V4AhgpBDqsNUfcJ9dciivw4jywxRXQ8F2T5eQb53fMezzT9L2SOapWrapgh4iI5CgnTpzg888/Z+DAga4r8fzz1STGjxzJlHXnAAe75j7Gw+9tIzGVcQYNGsTkyZNJSrooXJGquFUf8Eloc9qVtAG5uaHd9WyfuYB9SeltF8e6rycx4Y2lxAK2Mp1pf912vv7mrwytIydR0ENEJFjEHeGvNT+wfMUv/Hk4NmDLuGRmhy/rkbQ2O9hDLZke1joelhoeNt+MD3fGg+vHmc03WGKtl+G1zyN5G0hKp604B/W+78n4sGzDsc7jfeYrzm0tPkNZ23hllfjyLZBq6esJ+qSQ5WE4d9SYJAc7nDESn7VYTouxjuIOGTkzQVJY1hWy2+1s2LDB87h58+YKdoikKJ713//EyVQ+C8Vv+IFVmVN7WkRSsWbNGurXr0/RokUBcPwzk5n7WvFonf28M301cZic/28Dn3+3ifhUxmnatCmnT5/m4MGDGZg9iUNb/uJM/oLkcl2xFyxAxI4/2Bqf3na56fTiUhZPaEsEQOJhDp8Io1TpYhlYR86imh4iGdWjB/ih2KOI3yQdY/Wkxxj0/KdsOZHg/NAaUpDqXUfx9uThNIvK+vh2eHg4O3fuTL2Rp0aG5bHzjs+2EEtRUt/n3IVJvWL4XpEFnyBICkVM3XO4T1656Hhar40feG8tcc9nWNq6rllPb3HfLurr+z3xHdLS3/fIW9cUuAuVui4b7vE9x9G653M+Nr1qgrib+bQ18X5ZfmIYBrVq1fLvoCJBKZG/l8zmt/gErk0xe97B8SXLiX68OTfpd5giWerkyZNERUV5Hp8/UpKWd5bjl1Hruabui4QSQrUed9D5XIVUP2wbhkFUVBSnTp3immuuSefsSURHn8Vu3VYTEoLt3CnOJKW/Xe4K9anvunxu1fsstD/EG3eWSOcach4FPUQyavLkQK8gbeHhsHZtoFchWeIUK57syrA/6zPg3WU0r12BohEJnPh3Myu/msGQHtG8+fWzNM2XtasyDIMyZdFDlgYAACAASURBVMqk0ci9pcVaxBRLcMNSW8Ma9LAGJzxBEfeY1u0s1tNbLNkSnvuuT/buosS+u0u81urz2OuoWksbA8t8lu0uvmP4bk/xHd83k8MrU8T0BGUM345eJ8JYryVvYTG8xkw5qmEtH+JPpmmSkJBAWFiYn0cWCT6OXfMZOm0BoZf4i5jgqM8rj2ftmkTEtXXU8nM2X5MOtIhZyICVlejybClsQNx/ZyhSJoYlc57jy63VmPxiV/KkMJZhGBnc3mIQGhqCae2TkECiPdTng3362iUdWcz4d22M/XxClr9XzEoKDYsEI5sNrr8+0KuQLJC44U2mnHuCb7+eyODbm3PDtaUpWaoCNZt25ZFXvuKboaeYOnVblq/LNE0OHz6ceiPPVpSQFLIx3AERa9aFkVzk1J0l4j7ZxbfoqKfOh2V7i2FPPmLWuq3GK3vEJxsE19iXzBYxkvu4gzGeehmur2ZKW2YuinJYghyuNXuOt00psGGZw3fbjvN/gGUe03PPsMxvreVhrYSCaXonlfiRw+Egd+7c/h9YJAiFNX2eraeiiY5O6XaKfya2ROFDkaxXsGBBTpw44XUtbv1yfindmluK2YBE/liXRI129WnZMIL9O09fsrbHiRMnKFiwYAZmt1OidAkcMTE4XFfMczHEFbuGUiEZbBezkelvbafdm69xW4mz/PdfysfIBwMFPUQyauRIOHs20KtInWlCfGq7CCU4JLLjpwRuebojxVP819xG8Y7DaXB2ZVYvjLi4OMqVK5dGK58AgrWeh+9Xw7KNxStA4RrHs03GUpjUK+PDmu1h+YjvPpfVK8PDN8jgCkC4b549JJYCpNa+hiWw4Wnn/uITAPE62cW6hcXS11J01DujxWZpR/LrwF3r1MTE9MQ/TFegw93OwGtmz9aWi2qAiEhg2O3YLxl8tFGkdn2qhF/qeRHJLPXq1WPNmjVER0d7rjkOHSahXEXn+7GTS1mS0IgOpfORO5UzYDdu3EhISAilSpXK0Pz5m7Xk+oPb2emKpJzd+Q9JN7WhVhic3/4Nc7/fQ2Ia7Ujcw+IZv1Pl0UE0LZjI+cPfsPjn4D29RdtbRDLqgw9g+HDIl41zwGJjoVAhuHAh0CuRTJVETERxKhVxRTwcZ4mOzUekNX/SXpJyhTNWFTzL5K8GCSVT2GZh/eBv+WDv3v5iLf7pztSIcL1hyF0GbCHeARJPf0uWh7UvNrBZtqO463vYXZ8mQotAxHlL4MRwbYlx97WcKoNlnIu26Vheoz0fhBTxziYBnz6WzA/D53nPfSxrDgMjEk8+h+d5m/u75mF66nkYXJQT4t42Y9q9O4lIlnIc2MveBCh7icBGWL1WNMvaJYkIUKJECW655RY+/PBDHnvsMQDCG3ekwdQFTJ1/ktjfjlJv6HAiwZNlkZLJkyfz8MMPY7enEhlJgb38QJ6740Em/m8uPWudZNFXJRn3WlvykMjWL17gqXX9ubnFAEpdsl08a//XnTv/9xsxg+9zDVqGB79NoxZbDqagh4hIjhVGxZIGXx90QHk7jj1zmbm5H4O7WbYPnP+NvfZqgVtiamq95P8xKzzo/zGLtPb/mLmuc978yVYKQtL326KUNtz43s8MhmHQsWPHTJ5FJDg4ds1k9HNtmfd0S0opo0MkWxk0aBD9+/fn0UcfxWazYS/bjzlfN2PzX+co0bkGxdM48+D48eN8+eWX/P3335cxe27qDZ3Fe4f/4s8j4Tz/UQUKhgDYqDFqFXvTbBdGg/EbOTf+MqbOoRT0EBHJwQp1aE78sIEMzleKXAfXca5zP89z8Qd/4u1nviJq3KtZvi673U7fvn2zfF7J3ux2O19++WWglyGSA0TQ+qlphG75i0/f/5eSN7aje6OS2pcukk00btyYkiVL8thjj/Hmm29iGAa2fOWoXT/tvhcuXKB3797069ePIkWKXPYaIopfR53i/msXzPRvp0hGrV3r3DqSndls0KFDoFchWcDx3x9sO3ySPX9u4c/dx4h1AEkn+HnqEzz02ER+PLqHH+b/muXrCg0N5b333svyeUVEgkMiB6Lz0eaeR3jskXu5wxXwOLv2B36NTrOziGQywzD46quvWLduHYMHD06xFlb8v6v47MvfOLRvDfO/cJ6qeOHCBW677TaKFi3Ka6+9ltXLvmop00Mko8qXD/QK0hYeDp9+GuhVSBawX9uL1z/tBUDSsR/5YV8I2ArT5IGXafJAgBcn4sPhcDB+/HgmTJgQ6KWIZHOJ7F4wnlc+/ZSinu3+SRzbuJ2qU26i9vEh1Bxwkv9t+Yg7M3Lwg4j4TWRkJEuXLqVt27b07NmTp59+mustpyeGlb+JHkNvosdQZ4HwFStWMHbsWMqWLcvMmTMJCdFH8ayi77RIRp06BZGRruKFIoEVv2YxP13bjjZRNmxFb6ZVUeDUcj5eXY2enUoGbF0JCQkMHz6cN998M2BrkOzHNE2ef/55BT1E0iOyAg1qN6e0tcbhzR2pWMpGeMWHeOvdeOpGBmx1IoIz8LFs2TLefPNN2rdvT4UKFbj//vu59tpryZs3L9HR0WzatIkpU6Zgs9kYNGgQAwcOVMAji+m7LZJRVarA1q0QFRXolVxaQgI89xyMGxfolUgmS/zvC0aPm8WMQslBOMeJreytNS2gQQ+Hw8G0adMU9JDME7+B71aVpk2rYtqrK0EoghaDnyV/qRKkXMO0OrdoF6tItpA/f35Gjx7NyJEj+eqrr5gzZw6HDx/m7NmzFChQgHLlyjFlyhSaN2+OYehYtEBQ0EMkkA4cAN+zuVO6llGJifDSSwp6XA1sUdTp1p1u14aCGUf0gR1s2VaVjr2z6YktIv6SuJv5L31O6HXP0LKkjraQYJPI3u07KF+iBOGWqF70qq9YV7kTbYop1CeS3YSGhnL77bdz++23B3op4kNBD5FAWrsWli2DAgUgJATuuw86d77yoIdcNcKqdOTu0o1pUMB9pR1NVr/Mi8t20K9WOkqIi2Qhu93OmjVr/DRaEhF5Q/jnyzf4+UgM4RVupnu35lybTx8GJRgksnv+M7zw8XWWmh4Ojm38i0pvtaNNsbBALk5ELiEpKYkNGzZw+PBhzp07R2RkJOXLl6daNf0yKpAU9BDJqG7dnIVC/aFLF2c2xh9/OB/feCNMm+afseWqEFKzMQ28riSyd90uImveG6AVOYWFhbFt27aArkGyH8MwqFevnn8Gi2jByLe6UKZUBIm/T+aVDbH8PP1lFsSFUqjKzXRuV4fiSgCRnCxfGW6s3oQyIQCJnNm7hT8K38udlfT2XSS7iY6OZubMmbz99tvYbDYqVqxInjx5OHPmDH/88QelS5dm0KBB3H777YSFKWiZ1fSvpkhGvfuu/8ay2eCZZ8CdBjduHPhjr194OKxefeXjSPaXdJKNC+byq70pvbrVphAmNwx6jwYB/nlqs9moUKFCYBch2Y77SD+/7Gm2FaOMJynOIG+5FvRr0w6IYfsnY+hddyDhjfrz9AuDaFpY2R+S04RTf8BoOlSrQh7PtSSOfPoGi0+Y1C4cwKWJiJdZs2YxZMgQ2rZty/Tp02nSpInXz7nExEQWLVrE5MmTGT58OJ9++ilNmjQJ4IqvPnoXIBJoXbtCzZrOLI+OHf0zps0Gder4ZyzJ1k5+/gSPvr+GlW/dQ583t7Hv3U6UqNeXWZviArou0zQ5ceJEQNcg2Y/D4SA0NNQ/gyUdZu9/sa4HJuf2rGDG+IHcWrM8te6ezdFSdWjY6EbKaruL5EhxbPx2Kfsd1mvxxMQc4chRx6U6iUgWmzlzJqNGjWL16tV8/PHHNG3a9KLAfkhICF26dGH58uV88MEHdO3alZ9//jlAK746KdNDJKNGj4aRIyFfPv+M5872CAvzT5YHgGk6bzpWN8jFs3NvJUZ/OZL2EXuYMeYzjo1ewL+9/mDex79BrUYBW1lcXBylSpUiNjY27cYilyN2FVNfOU2tijv4dM48Fv5+lhIN2tF94FRe6NmB2qp5IDlc4q/jqPf8/4iwAYaBzRZBqeZP8P6H+rMtkh3MnDmTp556iu+//56qVaumq8+tt97KnDlz6Nq1K19++SWNGzfO5FUKKOghknHTpsHgwVcW9Dh6FDZsgPXrYds2OHfOGfCYOxeqVYN69aBuXSha9PLGj42FQoXgwoXLX+NlOHLkCBs2bGD9+vX89ddfxMTEYBgGefPmpXr16tStW5e6detSpEiRLF1X8AqhUvWCLN4dCzXL0em6XCyLjeSG09vYe6FB2t0lQ/bt28euXbsICwvD4XAQGxtL69at+fHHHz37c0NCQmjYsGGAV3q1SOKfmYOZUb4Vt93+At990o2byudVCqsEjZCG41g/71Gq2NNuKyJZ6+TJkwwZMoRffvkl3QEPt7Zt2zJ16lQGDhzIn3/+qWNss4CCHiJZJTERvvoK3n4bfv/dGdSoWxduu80ZQDFNOHvWWdT0tdecQZG6dWHQIOe2l5Ds+dc1ISGBL7/8ksmTJ7Nlyxbq1atH3bp1ue2228iXLx+maXqKOL3yyits3LiRBg0aMGjQINq3b4/drndzl89GwToV+OvOetx4IT8RZ45yfNIMXrDfwKgFgS1kGowWLVrEI4884nUtJiaGVq1aeR6XLVuWPXv2ZPXScgzDMLjlllv8NRrVhv/Ah2MbkttPI4pkH7npPuwRTm3+hBc++I5tp8Ip17Q3D/W/iZLZ8+2AyFVlxowZdOzYkeuuu+6y+nfp0oWxY8eyYsUKr/cR6RW/ayFvzNyEmctBfKkuPNqvNpEZaRfzHf8b9C222lUpwnH2nKjA3WN6UTVI/30J0pclks0sXOgMXpQt6/zatatzO0tq4uLgs8/g5ZdhyBCYMgXat8+a9abTF198weDBg6lQoQKDBg2iS5cuae7Xj4uLY8GCBTz33HMMGTKEKVOm+PFD0NUnfv1auP9DZteMAAwMe26KlS9H4QCfWmGz2ejZs2dgF+Fn3bp1o0KFCnTt2hXTNBk9ejQRERFMnz6de++9l/79+zN06NBALzNbs9vtLF682D+DhTegZ88iCnhIkEri5LKRdB+9nWubVsc8uZVDa16i39p9vD/1Lsrp9wUiAeNwOJgyZQoff/zxZY9hGAaDBg3irbfeynjQI24dzw76lKrTP6R3yVjWj+3Gg7OnM7dvKe9sx9TaJRzm0MGjnD5/hLyVWnLPoz2CNuABKmQqknE//+zcOpIep0/D3XfD0KEwezasWgV33pl2wAOcJ7D07g2//AIzZsAjj8C990J0dNp9bTZo2zZ9a7wMJ0+epE+fPowcOZJ58+bx008/cccdd6SrQGF4eDh9+vTh119/5Z133uH+++/ngQce4OzZs5m23qCTdITvvllLPBDRth8dQ7azM6Yw11WvRrWq5Sh84Xs+XxbYIqJhYWF8+OGHAV2DvxUvXpxbb72V9u3bExcXx9q1a7HZbCxZsgSAN954g5o1awJJnP7jG+a89xZvzvyJfYGtKRu87GWpWjmPz8XTLJ7xMfuSArIiEf9x7GX+8iJM/OFr3n9tHD3atGf4ewuZ2WwnX2xNDPTqRK5qv/zyC/nz56d+/fquK/H889Ukxo8cyZR15wAHu+Y+xsPvbSO1v619+vRhxYoVnDp1KkPzx636gE9Cm9OupA3IzQ3trmf7zAUX/exLvZ2dKj1eZc4nHzHt2YE0LhbckdQgjueIZJJKldLX7sgRaNECmjeHzZshb97Ln7NlS9iyBYYNg6ZNYcWK1Ot9hIc7t9JkgkOHDtGiRQvatGnDpk2byJ378n/P2rZtW7Zs2cKQIUNo1qwZy5cvp3BhncOXtgv89cEQpswqR27PNtBFzHfdc5z4k4P1Z9Ctjb6XmeHxxx9n0aJFLFu2jL179/Lpp5/SsmVL8rnq/CRunsX0Xc159L5W7Hn3Tjrf/R9ff9SH0vo1A0lJSTz77LOMHTvWD6OdZfOcl5i85G+i45NwHoabyN5fN1Jor52xvZpxY9ViRPhhJpEsZ54kqXRdqnn9iLWRp0AYjvOK6okE0sGDB6lcubLnseOfmczc14qhdV6k+fTV3Fu/Nef/28DnGxrw6n3VLvmBO0+ePBQvXpyjR49SsGDBdM6exKEtf3Emfxtyua7YCxYgYscfbI2HchHpbAckHvqFeVMP8N+BM5Ts+ij9aqe0QSY46C2YSEadOwdJabzhcAc87rwT3nnnygIebvnyOYuoduniDIIcO3blY2aQO+Bx991389Zbb11RwMMtMjKSGTNm0LZtW1q3bq1jTtPDNLGVaki3Hj24o01lIovVp1OPHvTo0YMePbpyU42buK1d+YAuMSEhgeHDhwd0DZmlUaNGlC5dmoSEBE9K6htvvOF6Nokjq+fy8pyfOU84lXt0pOTSL1iVtTWFs62kpCQmTJjgl7Ec/8zk3ZVRtOl1D/0HDGDAgAEMGNCbFrf14t6GeTlz8Chn9NlQcqqQmjQr8heLd5wHIOngj0x6pDvdPgyjxY06vUWCQRKnt//E4kVf8/XXi1m5I9pzPfrfdaxcvZkDMQFd4CXFxMSQJ09ypuH5IyVpeWc5fvluPdfUqk4oIVTrcQftCh/hk1kf8O7/BjP4zTWcSuFnUt68eTl37lwGZk8iOvosdmt2dUgItnOnfH7mpdEuVw2q1anN7Q8M5snHruP7gfcz50Dw/tBUpodIRlWoAFu3QlRUys/Hxztrb/To4TyK1p8MAyZMcAZdOnZ0brVJqcBpQoKzFsjTT/tt6ri4OG699Vb69evHqFGj/DYuOPc1vvjiiwDcdttt/PTTTypwmhp7UToOGkHZilH89e5/hD83mA7WLP82+Xh73iFoErhMD4fDwdtvv81rr70WsDVkphEjRjBo0CB27doFQI0aNVzP2Cj1wOfsvCcPkUD8jp0crHQ91QNcYyUo2QtRvlYFbmpdnxIR7t/hHOPozvPc3K4dl3n2lUg2EUaNnncTsmorByrWoVabDpw+W41x7etRQjEPCQo28uU/weJ3F1Jl0HDuKJUXiObnZ7tyx8T9VG1bnyLxuWgx9g0eqpW9qjflz5/fa1t2viYdaBGzkAErK9HlWWddjbi9+zj67wlyjZpB/9INea5ZXybe9Cv/q+39vv3MmTNERmYkw8IgNDQE0/oL2IQEEu2hPh/s02gXXot27VzXC7egabEBTP/0P/o8VjYDa8k5lOkh4m/PPQfFi/s/4OFmGPDssxAZCS+9lHKbxERnGz8aP348FSpU8HvAw80wDF544QXCwsKYOHFipswRPPJSoWJJ7BiExh/g733xXs8mRR/jwMnzAVrb1aFv376eY2pnzpzp/WRIPiLz2MCxi5nv/EOPN4Zxg37F4Hf28r0ZfJud3xd+wrd/ut98Fqb7Pd3Rxi4JBkknd7J503rWbImmTKu76deuJoUV8JAgEvvXEWo9O43Hbq1Jybx2HHs+ZMyL22k2ZRXLP57D/HmDiF34RaCXeZGyZcuyZcsWTNP0XItbv5xfSrfmlmI2IJE/NoTR8LZGFAkzwMhFrvB4YmO9MylOnjzJ0aNHKVasWAZmt1OidAkcMTE4XFfMczHEFbuGUiHpbRfHymfa0PW1za6aI2GEh5qcOn4yg9+JnENBDxF/+u0353aW995zBicyi2HA9OkwaZKz1kcmW7duHTNmzODdd9/N1LPEbTYbM2bM4OWXX2bbtm2ZNk/wsFOp6/VsvLstAye8w+yPZvHOsw9xS+ePKdL+xkAvLqjlzp2bhx9+mIIFC17ilJrT/PLuTBIfns6TDfNl+fqyK7vdzqpVq/w2XkSperTv0Ytbq7u/x2f46bNF7A/eDF25apzk8yce5f01K3nrnj68uW0f73YqQb2+s9ik4sgSFBLZuTOJitclR/LOrPqJ38Kb0a1DMeeH1PAqVC54JmArvJS6desSERHB999/77nmOHSYhHIVKW4DTi5lSUILBj/yIK1L2ojbMpefijzKA/W9o5bTp0+nS5cunppg6ZW/WUuuP7idna4qqWd3/kPSTW2oFQbnt3/D3O/3kJhGOzOkMi1bVXBmfST+w64DRanfuPIlZsz59LsnkYzq1MlZKDQlzz4LY8dCyZKZv47SpeGpp+D55+EKjsxKjwkTJjBhwoQMRqIvT7ly5RgxYgQvvPACs2fPzvT5cjpb6bt476N8vPbCNN5fcprw8k3p+/5H9KkZ2H/ew8LC2JIFAblAeuWVV3jllVdSeCaOnYsWcLj5SB6qkYsTCz9lU9vbaaWKmhiGQaNGjfw0mgqZShCL38neSqP5cmR7IvbMYMxnxxi94F96/TGPj3+Lp1YjpXxITmcQkXSWo2eSoKgNOMWK734l8canaeLesnt2PXsjagVykSmyHjfbunVrAMIbd6TB1AVMnX+S2N+OUm/ocCKBpFOrmfp5FGOn30dFy85t97G38+fPT3mSVNjLD+S5Ox5k4v/m0rPWSRZ9VZJxr7UlD4ls/eIFnlrXn5tbDKDUJdvZaNqvHRtnzWL+4fLE/jyPXV3eY+ItvieiBQ8FPUQyavr0lK/v3Qs//QSzZmXdWgYMcNb4OHjQO9ASFgY//uiXKXbt2sXatWtZsGCBX8ZLj4EDB3Lttddy5MiRLAm05HQRFTvz9PTO+K+Cy5Wz2Wxelc2vJtHLR9Jj4HxOhE7gMUwSKw1iRYdAryr4JBcybUI+zxvJc/xYrDJ13YVMKxcjQjmtkhOFVKJ6wcXsjoWa5TpxXa5lxEbewOlte7nQQH+oJRjYqdypPNMGP8LOxtUJ2foxby0sxIBPelLi/C5++upTZk9dDI/MCPRCU3TXXXfx1FNPsXLlSpo1a4a9bD/mfN2MzX+do0TnGhSPAGK3880Xp2j71H1UPvMzK/c0oJnrl1JTp04lKiqKevXqXcbsuak3dBbvHf6LP4+E8/xHFSgYAmCjxqhV7E2zHdjLdmTYE0fZse0wYcOm069gcAdSFfQQ8Zdp06BfP/+c1JJekZHQq5dz7nHjkq/b7dCggV+mmDp1Kv379ydXrlxpN/aTQoUKcfvttzN9+nSeeuqpLJs3J4rf8D2/lG/BzYUv8SY4bi1fLSvObR2ztjCVaZqcPXuW/PnzZ+m82UFk60lsOjwp0MvIlhITE8mdOzfx8fFpN06LCplKMLMVpE6Fv7iz3o1cyB/BmaPHmTTjBew3jGLBvXr7LsHBXuZOXnu7Kl99vISt5fsyfV1v2lfNB+cTKVW7I0Pf6YiRO71HuWatPHnyMG/ePG6//XY+//xzmjZtii1fOWrXdzVIOsbXQ+5i6GoHed8cQ1JcZQat+JhmwAcffMDzzz/PihUrrmgNEcWvo07xK2gXHkWV2pc4mCHI6F9NkYwaNw4ef/zi4Mby5ZBiqnsm694dxo/3Dnr40fLly5kyZUqmjJ2abt268dprrynokYbE3fN55oWPua5oyqfdJJ3ewqaiz2Z50CMuLo6oqChiY2OzdF7J/pLSOvI7nezlezO40/e8/2Rvlu+FyOKVaNr7Ae64pztXX6hNgk8869fC/R/OpmYEYBjYcxejfLnC6DAoCSpmPOeO/cfuPXs5/901VC7TgYq5i1GxWvbP9G3Tpg1z586lW7duzJkzh7Zt2yY/aStKp3c30snSPikpiXfeeYfnnnuO77///qrNiA0E5ceJZNSUKXDe52SM+HjnMbY3BqB4ZJ068Pvv4HAkX7twAfJkbF9eXFycVxVqgNjYWLZv384NN9zgj5VmSN26ddmwYYPfPiAFr3yUubExTZo0oUmTJjSoWZKwxPxUbd6KVq1a0ab7MEb3rRroRYr4X9JJVr35LLN35eXaKiGc/O8Qa166h8cXHcdMu7dINmcjX6koYrbtJKbwdVSvVo2q5QpzfvnHfH1QPxclOCSd+JYn73qKb09EUqZcFLY9nzK8zxiWncg5f8bbtGnDvHnzePDBB6lfvz6zZs266Bc+p06dYuLEiVSqVInp06ezYsUKqlSpEqAVX52U6SHiD3/+CeXLp29rS/wB+GwxFG0Fra91XoveAkvPQffGGQ9FFigAJUrAX39BjRrJ1zMYLEhISOCBBx6gb9++tGzZEsMw2Lx5M1WqVEnf1pb4A/z82WL+LtqKnq2vdRYPjN7CwqXnqN+9sbOadQYULVqUAgUK8M8//ygSnorw+gMY3aEaVSwxrruPfMZbS2rSrVdlUs7/yCbWrIX4BNcDw3kzbK6vuE5AMpJPQjKM5Gs2n+u5c0H1SrB9F5yPTe7vdSN5POvznrF9rtntUL40HDkG5y8k97WRvEbPV3zmsHy1nnhkGFC0CMTEgPtNkXUNnnY+Y6c0n7VdnryQmADxcXgaeLVL49SllJ4Pi3COGe6/UqCGYdCyZUu/jOXYO5/lRSbyw9e1yR27kDdnVOKRB/Mzd/x8tiYO1THBksMlcmj1x8w/W4Hl37gLHTo4sXUvtaZ1o1PJ4N5/L1cDB3s/W0O5N5fwcuXkf7Ad/77HhE/+ps3DOSco0KpVK/7++2+WLFnC5MmTGTx4MCVLliRv3rxER0dz+PBhOnXqxNy5c2nQoEGmnoQoKdNbAhF/OHAAyqZj+0DSQXhiFDTqDE93gVwboUkIzBgMIy9AzV+g6mV8TC1b1lnM1Br0yKC8efNyzz330KJFC5o2bcq4ceM4ffo05cqVS7tz0kEWPDGKPxp1JubpLmzNtZFXm4SwZ8Zg7hh5gWdq/sJTl/G6ypYty4EDBxT0SEXcxm9ZWqMKVaokf3/jY85x6NBRHAQu6GGz2ejevXvqjZ4aD0dOgGF3BTvsYLM7H9tszqCDzX1zP7ZBSIjzZr1WvjS8MQZmfQG7/wO7DUJDIMTd1+b8ajOcfTyPbc42djvYDe8x80TAowNg3SbYvdfZNyTEeyzDSL7vmcdIHttuSw6kuK/f0hr+O+D8d8Nm+IzlCvwYOK9bgzHWsayBHMOAStfBmWg4ftQn4OP5H+L8mlow1QI6JAAAIABJREFUxjfoUrSU34MedrudpUuX+mUs82QSpetWI7f1oi0PBcIcnM85vyQUuSRbVB26de/GtaFgxkVzYMcWtlXtSO9qCnhIMHBw/EIkFcp4fxy1l6xMwYRjQM4JeoDz51vHjh3p2LEjR48e5ejRo5w7d47IyEhKlixJZGRkoJd4VVPQQySjfvwRChXyvhYXd+ljbK1+eRuuGQVdj8GYQ3AoCbBBzwHwyhQuNyd7W0ICHfr2hdzOt/9hpsm7hsGA8uUva7zVq1fTunVr6tevT5kyZdJsH/fL23xzzSje73qM4WMOcdT1usr0HECHV6ZgXubrioiIIC4u7vI6Xy0Sf2V8/ef5X7gzQ8Kw2ch1TUtGvj+dQL4tDgsLY+7cuWm0cgU4fFmzPLyu25wBEK+GKbB+oHf/2bvoz6Dv2J6OyR08fXw7pzRvCtcMwDQtwQSfwIJvY8MytyflyyTFIMUlpza9gx1psY5pmsnfhxywPySkZjOKTFvMjkbdqGJL4uCPk3jk+7852vAV5ukzoeR4YVTpeDelGzeggPtSuyasfvlFlu3oSa36+kMuOV0Y1a+P5qH/fUW5ER2oWiAEx9ndLH9zDqfqTwz04q5IVFQUUVFXR4HQnEJBD5GMqlbt4muhoZCQcPH1i9o1hb5VYP37cKwhNHW9aYlqAvV/hLJ2iDkCp8OgVPqrVVcJC2PTlCngOivcbVO6R3Davn07DRs2JCoqipEjR1K8eHE+++yzNPtdCG3KgL5VcKx/nyXHGvKE63XZoprQpP6PlCkSSyx5nFteHDHEJOQhTzp+eRwfH09YmN7YpSqkIePWzWNQlWy9kSVlhi056GHYkh+779ts3lkewMUBAfdY1nF9tr+4ma6+huHs686o8GqXyqd9d7aEaVomvEQAJMUAhYknAmjdEuOZ1xJ08eruuu4VQElpyZd4zrD2DWxKbVJSEi+99BKjRo268sHCatDz7hBWbT1AxTq1aNPhNGerjaN9vRIBDfiJ+EcINRv7nMKWuJd1uyKpqdNbJEjkbjGMR7bcR7fyd7I7zsCWtyrdx73PlDb5Ar20y3L8+HGmT5/OnDlzOHz4MDExMeTPn5/y5cszcOBAevXqRe7cudMeSPxOhUxFMurCBS5KXShSBA4dSrtvg3ZQLAHmL4Tmd0CU669g4m4oVBu+ewvm/wRLXoK2A2FH+o51tB85QmTZskRGRl72LW/evLz44ou89tpr/PvvvwwbNoxSpUpxKB2vq0CDdtxULIFf5y/kePM76Gx5XfsL1SFqahtKXlOduvXq0+zOV1l9On2554cPH6Zw4cLpapuipH188mBzWg7/mqOuKR1753F/85YMX3QM5yUHe+YOpFnrkSw5mfNy4nN3H5YtAx4JCQk8+eSTqTcy7DiDEK4beCdbAOlKOfBkaZC8BSQ9H+7dW1PSM4EtlewO63ReWRZprCOlWh4ppUX5DpFqrY50p3hcYr7MDYokJSUxZswY/wwWv4HvNxalSf1S2O3laHX3PXSpl5u1Xy3jSM77qyyStrAGDHtvPLcW1dt3CRaR1H9sPtsOH+Tvv3ZxaP/vzH64Djkt5LF//3769+9PpUqV2L59O1OnTuXPP//k2LFj/P7774wdO5Yvv/ySMmXKMGLECGJiYgK95KuOQsUiGVW2rPOkFmva2g03wLZt6dvmEr8Jlh+DIbckhx03r4ZrC8PUAzDrEYjqDocbwZjPYH6v1Mc7fx7+/htq1ky+lpAAr78OTzyR7pd19uxZ5s6d6xWBrlWrFlu2bCExMZGQkDT+uYjfxDfLj9FgyC0Udr2u+M2rOVvtTooWdPDWN82oHlGSqpWjSE+FgDNnzrBv3z6qpZRZk17/Z++845q62jj+TcKWrSjDgSgOhqMq7j1ece89USsqWle1OFHraKutirVate5Rtc5Sbd2KE7SuunFAq4gKioAQMt4/AhhC2JGA3u/ng5Kbc8793ZDc3PO7z/McZQKRDx/w0PoVqXW0lfGRhN1/hF102hbinj3kwcN3RAurq+qE5ORk5HI5S5cuZdGiRZk3TI3iQPT+/9RIj9R6FhkQva93kVp7QyTWYkpoMw9S2ohFGmkyGuNr7admUKhHZ2jWxcgSLXUzIPMIjgx61FJ2NANEsthl+miWrPZV8CQnJ2NoaJi3zrKH7Jy9kB1V7d7XrpG/4PJtVwK9W1NKCPcQEBDIA0qlEqVSiVgsRqlUCkUnPyDSyye44NyUJsVtKZNaGi/uHMeuV6NlgxwsDlAIiIiIoHnz5vTo0YP79+9TokSJdM8XK1YMBwcHvL29efjwIdOmTaNDhw78/vvvFMvlSosCeUcwPdJQwMVgcG8ChekzFnkRXrqDRyERVdj0FBaKFYMKFVRmSK1aWbeNvgLhFaFe6kkxCYIioUcbCPsXkgBEYGsFr15BStmPTLl2TZVyo262yGQwe3auTA9ra+sM26ysrHBycuLWrVtUq1Yty/6K6CtcDq9Io3olUuQmcSUoEo/+FZEEB2NtZ0rCvUc8LVUcF6vsIxP+/vtvqlWrlvcJEYCkCl/89R9fqG0ycJvAsacT1LfgMfk4TyfnfTcC6alYsSJffvllhiWQMyBKKVKatmoL7wuAQkokhnoxU9H7IqJArgpPpI4r1pj8pxtC/UFm0R1K0pyGdGkl6oaGWhSFehSKOpnW50hNZXk/bKaIUvVoRpyIcmaGZKWjgFi/fj0HDhwgICCA2rVr57q/RdnPcG9YVnUxI4vlyfUbFB/WG1fh6uaD8fLlS0xNTTE2NkYqlQqh2gIfDWFhYVSsWDHdNrFYjFwu15Oijx/Zw50EfLsTNzu168KkB9yKKMNeV3OsKrTGx7cdFXRXT1unpBoeo0ePZuLEidm2d3FxYdu2bQwfPlwwPgqYIhIfJ4X9S2HqVLgUB8hh6xew5pZud3N/Oxx5U7g0Se7D6iM5a/tgP8yZCisvqR6HbYXRa0CmJz0A0gewdA5MXQlxgDwMvhgNt3QpqpDQuDEcOpR9O4khSIzBNGWy8WAjJLQHz4bwy7dQRgyKSPgzHAZ0yv5TeugQNGqUb/mZ0aRJEw7l4LjEEkMMJcaYphyX/MFGNiS0Z1AlCcbmSTy5+Rrr4jFsHDWcX+5k//c/dOgQjRs3zrd+gYInPDycsWPHIpVKWbVqFVJpJmla6jU8xOL0hke6VVvy8FWVOmbqaio5neSLSIkEyWmKDNmbE+naZdVQw8TJbsw8VQhWixZJ/b8Ai5ZKJBKOHz+e9lipVBIUFESdOnXo0KEDoaGhOR/M2AufGeMZOnAgAwcOZODQMcxYMoear//mVREoxFrU2LZtGyKRCDs7O8zNzTE0NKRly5b6liUgoDNSV4pbtWoV69atA1Qpedka+AJ5R2RBmRoNaNiw4fufuq5UcGtKy+b1qZjwG/4LTupbpVYUCgXe3t6MGjUqR4ZHKmKxmLVr1+Ls7Mzw4cM/oEIBdYrGvZAHGyG8JdRaBOuCwasVRIRCaF0YkY/Q93SIoUtvGB0IbWZAdqZbgWgC7LqA5Wi41Aa8shAlfwAbw2FCLWi6DoZ5QUIE7AmFxSN095fOqR6VKNi4EVpOgEVNIXgYtEqA0D1QdzG4FY23Xwa8vUFbcc2RI6F9e5URllV0QvEO0OdHCPgBGr2FS8awWP2kp4Dfvgb3H2FwNiunSKWwZg0cO5anQ8kJI0eOpEePHkyePBmJJIsIjeIdGNHnR+YH/ECJRm85f8mY/ouHY4sY215jGQ2AAt8GS6j3zR/0Xt8p049ZYmIiv/zyC2fPntX9AQlkyrVr19i8ebNOxxw1ahQLFy7E398fHx+f9IVpU40NUEtzSXEH0tJb1Gp1pC0DK9EocqoWwZFapyPLuhe8Hzu1Bof6srGZouFwpGrOqrn687kpt5FTn0dzqdl0aIR75CiqI7sQERX379/nwoULORhPO6nvM/X3W1BQEEFBQbRv356AgIDsB0m6zOG/PKhcufL79BZpPPHPnxMlh0qFr9RNkeXRo0f0798fgBMnTnDjxg3GjRtHWFiYnpUJCOiGpKQkFAoFxYoVw8bGhmbNmqV9dwnpLR8OA+e2DGvRjCa2al96r4uhPN2Erp0seXYqgesHrgHN9KYxM/7880+MjY1zZXikIhaLCQwMpGzZsoSHh+dopURNpGEHWLbxKkpTOVKnLowdVBNti+Jm2S4pimsHfmL3u/4EDKrIx/y1WTRmnc8dobcz+IdA7UWAAfTqCXEuut2PeTMYEwK+i+DbyeCQxctTUJowB/8x4OsLw7+FZg7amyU8hxa94Zw/lK4NhoBbL+gUp+O/cg71qESBYwtwPgchpWGRIRi4Qc9O4FI03npa2bhR+/bq1cHFBfbtg549M+8vtodV5+Hvs/DGHnzcSbfUwMWfIbIvfN0Y4uPAIotUol27wN0944oyRkZwJBcROVlQu3Zt7O3t+f333+ncuXPmDcX2dF11Hq+/z3LjjT3zfdwpaQQkhrJq+kkqz5hMcxsxljYWxIY94IUCimUysduxYwe1atXC1dVVJ8fwMSMN+ZPgsq1pUSqTF1MayrHz5WnZNOuCsEqlkr1797J3716dawwPD09nfgwbNkyVtqQZ2QGkGR6pJkQ6k0OtzodIzbBIV3OD99s0IzDUf08bXy21RmtDLaRFgqQ2z6YeR9o+clLzI4casosa0Xwqq8d5uJ4/duwYo0aNyn3HHJBqflhbW3P79m3q16+fSUsZFwLqsGCeCWJAJBIjNnGi6ZS1bBDqeeiUVHOjXLlyREVF0b17d37++eccFboW0DVx3Dq8l3OP48CiEk26tqSSkGGUb4yNjalWrRo3btxg6NChyOVyJBIJ48aNQ3Z3L/OXBWE5YCUTGggnF11iVLsFTTJslZCYEIsCC94+fYB5vaF6UJY9gYGB+Pn55dkUMzc3Z+DAgaxatYoFCxbkrnPSJb72202VdRvo55hIyKxu+G5ex9aBTunvmWTRjsgzbN59h5jQXfzu2I7ZeTqKokPRmHk2bA/xB+C0K3ztpNoWEQtl42HLfLjpBou6Zt4/5gKsPAzSnISnvYLgPbDYA77rkPndtsw0eRrA5k0Q/wRuWcEcP7DRMogiBjathMfSnIUWRwWD/2L47Ttw1DKeRUNoHg8+p6HL1yrdSRHgUCdlQi2F5XOg7Vztt790rUclCto3hwM+4NoFnMRAEsSWgMgdsP4d3LwDXWdCI9sc7LQI4O8PY8eqokHMs6p7YgI1tYQFhwVBWG0YWxt4Bb+dhiGZvLdjY2H6dFi7NuNzEolOU178/f2ZMmUKrVu3ziZ/2wSnmi1xUt+U/ISwl2bUMwKQ82/Ec0q4e6YtXKPJ69evmTVrFps2bdKZ/o8Z2aN9rPgjDnlDK+1z1/hTHAn3ydb0KAgSEhJ4/fo1crk8xfTQjPQAUKvbkRq1oW52qKfBpEV1qJkQIjXDRJRiNqiPk2qkKDUjGlIeqwdzpD6danJomh1ptT3UioOqp9Gkpsqot82swGq6iA2NMdPtLzWKJZuLrNSlajWkZvo4bUiN49AjMpmMuLi4LFoYUC8ghO1jK3/Ud6cKA3Xr1sXKyoonT54wdOhQFAoFCoVC55FhAjnBHLe2A3GLv82qIbMIatCMSuWFT4Au6N27N2ZmZvz9998YGhqSkJDAmjVrGDPGl16lf2T+vzIQFsTWLW+vseWbFRy6/wapIuX7UfaEC5dteSKZRd8WM5hXqvAV9AgLCyM0NJTffvstZYuUB/tXsvXcM+y6z2S0lylhWyeyJGEky0e4ZTrhHjNmDI0aNSIgICB9JGw2JJ1Zz6+GTbngKAbMqO5djTszdxHefzzO4hy2s2/MYL/6XJv9MxuT8/hCFCGKhukBEHIUyrSCUmJABpcU0McLkq7CntdZ97WpB9Pr5WAnCbBgOAScgMGV86BJDqyGMtPBtwzMbwLfN4Z5NTP2FdvAkOk50ARcXABPAyBwMFkue5EUAufKwKxSqsc3LkFVH9Xvt/fA9vPQPBNH40PoUYmCo+eg1SyVESO7AVLgm1NwaB2UGg4Ld0PQ5znbd2Fg/nz44gvtpoa3NzRsqEpx+fHH3I2bcBq6D4BHChgFKOQwOou0lUmToHVraNUqd/vJA507d2bHjh1Mnz6dH374IXedLdoz0DuQkwcOEykKYef1Vqz4viWZWSfjx4+nQ4cONGtW+EIZCyeGmNmWwt7BJoNHq4gO4ecZ67jRa1i2o4hEIry9vfH29s63onHjxqV7XKJECSZNmoSfnx/m6p8bsURl0EFG0yPN0BC/Ny/UU1zEovRmQYYIEG0/kLY8rvp2zbFIaae1kKkGmuOnpuhkZzCk9VV/LsXU0Lof9f9F2sfLsmN223LXtlGjRixfvjynItKQy+VMnDiRZcuWAaQt66dOw4YNCQgIYObMmdSpUyfzwcy6M3Gs5sbXBP1yGM8hfShbRKqWFQWSk5Pp2LEjERERXLhwAQMDA5KSkvDz86Nz584YZ7dqmUAeSOTYzkO49+iKvbb3crGq9Olch60FruvjJC4ujunTpzNv3jyCg4O5ceMGgwcP5vr165w5E0zT1BXsZAkkYIZZ0ZlBFWLkPNi4itMlW9O3ocV78zruJKUq1aaeeSxPo2KpUghNjxs3blCvXj1MTU0BVR27jeEtmVBrEU3XBTPMqxUJEaHsCa3L4ixMj0qVKmFiYsLTp09xdnbO4d4VPLt+m1jL1pimbJHYWGNy9wY3peBsktt2nwZF5yP7LBKcW6uuB6P/guT6UMYCHulwH3d/hleDYVoODA+tmhpAi0iIMwJEYGoMr/O5Bqb8Lqx6BT9My95gkD+DZGdU347RcCgZxhUH2V0ItQFPHcQ/5kaPqgNEJkNre9XDvw5B46kw1wLECRASCe2LWLHKZctgxIjMIzmWLoVq1aBpU+jVK+fjmjWBqzE5a7ttG/z1F9y4of35d+/AwQFeZ2MI5oIVK1ZQrVo1mjZtSpcuXXLR04RqfSbh8t9dHifV4ac+xcns8njjxo2cOXOGa9eu6ULyJ4GRW2/8WtXHUz0flkTC9s1h5Ng1PGs0g58HlMnRWHXr1mXs2AyzyFyjbnosXLgwo9mRSmrURaqpAe/ra0D65WjTRXeoR26or+aCWmqLZjQI6U2GdEYHaDVQ0jxizQKjovfjotlXrUumtUTIJo1FcynclH+yitzQth+RljYi9ePJYoDMjj0FDw8PPDw8shCgHZlMxuTJk9PeZ0ZGRvj6+gLvzY5WKUbuzJkzsxntLde2fMOKQ/d5I1WkKJXx5MJlbJ9ImNW3CZ9VKZWzryqBLLl48SJbtmzh+PHjNGvWjCtXrtC2bVtevHjBo0ePqFKlClKpDCMjiL53mzelPCmvLblcIBcoePPoIVEKtJsegIFEUhiCsj4KFAoFoDrvjBo1iho1auDt7c3169extraCV0pi/t7Fmjgp/x45jMmk7fjXFqI+8ovEtjw1XBrTyssBk9T3+Yso7iU0w9vbTq/asuL169fY2NikPU547kiL3s6c8w+hdO1FGGKAW6+edIpzyXaybWtrS0xMTK5Mjzdv3iJRrx9oYIA4LoZYRV7afRoUHdOjQQdYvQt2RsOVKJgwScc7kMP+m9DXL3+aUvPqk67CqRKwxCt/su7th7J9IeNqohkxbgB1V8PqnZB4BepMACsZ7LsE/+sOwYH505JbPSpR0KEu7FoN0YkQVQcmWQFPYfMGiPCAHrkv3lOosbGBgwehbVvVpKhHD92Ov2OHKsrjyBGwtMy8XVKSTndbvHhxDhw4QMuWLdmwYUMujQ8x5k5VyWqKtHnzZqZNm8bRo0e1T5AFtGLg0RD1ODZFTChrJ3/OjENm9Ftymv193bKty6xrSpQowbhx4/j666/56quvMm+oXq9DfR6eIXVFzcCQaJgdaXU51CI91LelmxGIMvldU5fGmGkFT9VNEbX9pUOU8WGG+iNk4iVo6stuX7kg1exQ5iZKRPeIRCKaNm2abpum2ZFT5A82sup0SVr3bYjF+1uEnCxVidr1zIl9GkVspVLvL6QF8kzq6hW9e/cmPDwcT0/PtOXEi0vusuDz1Zh6ORN5PgyHppWwKFuWYc0E1yO/yP7+lmZllmCSyWdWllSFr0LHF6yojxT1ugwlSpRI+93e3p7OnTvzeMlPJNg2xMenInEcovvJf5lS20VIrcsXEpwqeWIXc5kDvxrg3qEt7haAgT12NoV7lUdDQ0OSk9/nhFg0bE/z+AP4nHaly9dOKVUGYilhH8mODet59/wmd4y7MnNcI2w1vpOkUmmuUltAhKGhAUqFmnORnIxMYqgxsc9pu0+DonPM5QbBwSZwOw46eeQwyiA3SGCKltoIedGkiIHVe2DWOqiYz9Nh1SkwJ4dtJeVgy0G4dhscOoG9CYTtB8s2ZFpA4UPqUYmCQVugyTWIcwAPe0ABMnsYOA08ZkG/uRDyzceVJlmjBhw+rDI+Xr5UreyS3+rfCgWsXKlKrzlyBPJwlzW//P3335QpU4bPP/+cly9fMmzYsHxXNVcoFCxbtozFixdz9OhRqlatqiO1nxoyIv5cwOjRy7lbbSLbQ6fQ0lE/p/hHjx5hZGTEjcwikVIRS0BioDHXF2lEeohUxoh6dIWmiSAWvU+TyZDOot4PLc+RMd1F02RI1wfShVlk5nlo7l9rYy39NPuqk1XtkMxQLyWiHl0iUv9fs3HWUvODRCLhmNpqU/3792fkyJF5HMyW8jVcaNzKC4f3twiJupdAM29vCu89wqKHOOUz+eLFi7RwboDZs2dT7Npu9lmMJHh4HY6HNmav3Xesbiaku+gCsWNb/Ff2oEomp/K40yd5WbCSPlosLCxYunQprVu35sCBAzx48IB27drRsWNHDAxUhahL2DsiASQSEbLkT6AIQgEge7iPFb8qqGon4fipfQDIX1zmtmsg/TpltViCfilevHiGQs5JIUc5V6YVs1LKHty4JIX733Dqf4dY17cUw6suZHf/ID5X+3JSKBQ8f/4cW9vc1DaU4FDGAfnVeOQpW5Rx8SSVKo2TQV7afRoUrUO2cIZ8Bk7onAyaEuGPvdBmGlSKhdOPoYlnwekRW0BNNUEJBvDfX7A5Gf55BIeDwKkjGWzGDysKnNXqmlycBn7GcH4O2NrCyytQlMKsjh5VRXNkR40acOIEDByoWtFl7VooXTpv+wwPBx8fePsWTp2ClLXkM0Ushsa6TRs6c+YMCxYs4OzZs0RHRzNw4ED27dvHzz//jKOjY57GfPToET4+PiQlJXH69GkqVKigU82fDG9vstl/BFN2yei06ChbhtZ4vxxZ/DF2HfOgZ6dSBSYnNVJn586dWTc0UKvpkW4Sr8XgSFvJRTPiQ5TeWNDsn9o+nQGizfhQNyeyQbNIaWYpMiJRio+QRS5KmsmiYdbkVEeuUDduMj6VjpwUtNYB+YnqkpTvx7jOIRw/8CvX3DvQ1t0CKE73Id0zrRkkkDcaNmzI5s2badmyJXv27EEmk+Ht7U2lSpVQhK+h0vYznL0ay9k3dfH+LIsl2wVyhcilIb06d6RcJpds8fH3yWQ9OYE88MUXXwDgprkiXtqUUZ0COkl+9FhQ9jN3GpZVTUllsU+4fqM4w3oX7tX7GjVqRP/+/dMtNyt/Fkmyc+uUKgN/cSi5MVNXzcVCLCbhcgiR1dvTWMPbOHToEOXLl8fe3j5X+7ds0oJqq+9wTwY1DeDtvQcoGvtQwwgS7vzB3v/c6N3SOct2nxpFy/TQ5NEZ2HcFwovBXjfoWlfPghRwcDxMCAbz5aBIAr/jaFmLqeDwbA+ecji3DZQKEBmpJgH6xKMHDL4Jp0/C0fOqFU+KUtJ1tWo5b1u1Kpw/D4sWqfr16wdjxqi254SbN1UFUX/9Fb78UvVjkIOPrbGxquaHjnjy5AkDBgxgz549ODg44ODgwMWLF5k/fz6enp7079+fMWPGULlyzurhXL9+nR9//JFdu3bh7+/PxIkTkUiEING8IL+zkaE9xrPjPye6jv2cGonn2fbT+ZRnlcT/8xshbpvJYhFl/SGRvD8fqZsWqf+nLvWaalJIJGrRHeL30Rup/4NaagoZDZB0aS9qY6Sl0fC+r/pKLWm+hDaDQsM8yQxNs0EzekQzggSNx+qRHyI02om0/pqun9Zok+wKg2gbMH8oFAq+//57Jk+enP/BpKGcve9C21511Mq/xvPPlX+o0rweQnKF7rCwsGDAgAGAarUBdZTvjGg6qBsW8W8ZviaQckJ2oo4woVXfHpku7Q4yHj6KQKbvS99PAPmjk+wJecoj652cr1mZu2ee8PzNAU49dqWFs3Dtkh+MvXyY0d6Nymp5uIrnu1kW9Apq6n/VucxIXW72p59+YuHChQAYN+hA3dW7WL0zmsQrUdSZMAkrMTw9v5kN2yPw6NGDshpvlxUrVjB27NhcR01Lyg9nfk9fvp+3lT41ovl9vyMBS9pQDBk39y5k2qWhNGvug1Om7YDXl9m99SSnTv3LM8V6lv74iKZ9e1CnQG+MFxxF2/Qo3xgmNIYJ+haSihg6roKO+tahiQQaDISzA/UtREWx2uDnCU/+g8+2gnURexvKZO/D7XOCoSHMnKmK1Fi9Gpo3BxcXaNAAatcGT0+wsFCFrr99qypOGhoK587Bkyeq1Jh//lEVJtUDcXFxdO7cmW+//ZZatWqpHZYhAQEBDBs2jNWrV9OkSRNcXV2pX78+tWvXxtPTE3Nzc5RKJW/fvuX69euEhoZy9uxZ/v33X3x9fbl161au3W2B9EiqDGbTzcFktsBvfEgUkaEFf0cqOTmZuXPnMm/evMwbiVJqeijV9KlHfqQtN5vyI1GFGKcrRJpW1FQj0kNblIi2SAxtESaaBU01TY5UsluVBTWdaOmvFbUVXLRFfqQZL5nuPOPv6Za/VWZeZDWdeaLWXocoFAq++uor3ZgesofsmvMdu3fbvc+rV7zg8p2uZDdzAAAgAElEQVQqrGxck5fjPfGJnsf1bb3JQWyeQB4R2ZhwYeFQdttaI5aD5WfDWDCvOxWK2Fd74UOMVXFtIe9x3Dq8l+Bb/xB8SUwXH90akwIZkZRvyZTdd5iS8rj+2lCG6FXRx0PS5cP85VGZypXfuwHS+HieP48Csolq1jNjxoyhYcOGTJs2DQsLCyTlBrHlYBOu3Y7DoZMH9iagkMmwrz+QaXU8mFWvH3NdQvimvirM4tatW1y+fJm9e/fmYe9m1JmwiTWRt/nnuTELtrlgYwAgxsP/DE+ybQdY16LHmFr0GDMJHVR9LPQIX0kCesIYyrnoW0TecHRURWCULJm7fk5OMHcuTJ8Op0+rjI2dOyEgQFX3QyxWpfu4u0OdOjBvHjRpArkqbpRCcjIEBsLEibnvq4ZSqWTgwIF07NiR3r17a21TpkwZvv76a2bOnMmpU6cIDQ1lx44dzJo1i1evXiEWiylevDgeHh7Url2bBQsW0KRJk7QieAIflmKfDWW4VY4rD+sMuVzOd999l7XpkVrEVJ20FVHQMC7UfpeomSEStUgN0IgCUYvCUH8uXYpLJpEh6QwR0rfVFk2S2lA9GkMz5SZLtBgtaU+J0v+fHZpRJVk2zGxz0QjdtnKpS82mZdIVE2zWoSJOYmMqjgpklbS2EPHxQUnkz8VnaL4/mAGlxEAStxYO5cczHfi+uVDXI39IOR90igrerdOVZYs5+jth1frzeVsxn+fvK15AQP/ILjC79nzmmarO4vKkeHD0Zs72LXoWlj2urq706NGDDh06EBQUhLm5OWIL5/dVBqQXmVbXD+O155lT0xZbi5dcea7K5w8PD6djx47MmzcPE5O8h7ub2FelVg7uHea03ceMYHoICBQ0xsbQurXqJ5UFC1QRIV9+qZt9yGQqcyWfpseMGTMQiUTMnTs327bGxsa0adOGNm3apG2bM2cO1tbWaXmyAh8GRcw1dq1az5+3YjB2bkS/UUNpnFrEVFKOKoX1ZklaBAbv59gSTdND06RAw7jQWPJWc2nb1KVrNVNbUvehrRZIWht1s0Ej4gI1PdpSXXjfPX2kxfvu6aJMMuhRa5samZGukKmWdpkZHSL1yBANMyf7zplsLwSYNGfc15Y4OWQyuXb/H+0LVtEniCGunuYc2RFElfYemEeFsC+yMs2rCqZ2/pERsXcGAZt+USvDJufVzSfU+LkbHR0/waR8gY8Pg7oEhGxnXJUU6zohnDO7fueVadFIsVixYgUjRoygffv2acZHGkYe9PhqMDfDT3My7Cjnnfzxb2tCeHg4zZs3Z9y4cXkv5C2QawTTQ0BAQCvbt2/njz/+IDg4ONe5hgIFhyL6CFO7z+BOhUa4K6O5+ew83wy6SPja1fQv7LnGQ7pDklT7c2mRFqKMj9PMAdF786BYSunK/zWGuIT07TVTX0S8N0m01eVIiyhJef3cKkEZJw2DI1WLlogPrVrV+4pUkWKpF0cZjlWtTzqTQt3o0NiHRAJm5lBSQkZDRD1qROM1zgoD3U9cxWIxf+mq3pDYDqdSrwjZvIgNxx+jsK9Bh2EjaF9RKGNacEioOHAR3764S+iNMJ5bejHmh15YFY35SqFHXLIW3bp3o4IhKJPe8N/d69yq0oF+boLhIfBxYFzLm//ZqV2rmJWlcR8PAtdchsr19Scsh4jFYtasWcPnn39O7dq1GT9+PAMGDEgxP4pRu7cfntFP+C/+M35oJuWXxV+zYsUK/P39hRuCBYxgeggI5JbWrfOWclKECA0Nxd/fn1OnTlGsWLHsOwjoCTlPdh6lxPcnOFjTjMQDy/nFdQy+lluZs/MmTKiuN2VGRkZcuHAh60ZlHUEufx/loW0SrmkGoKWtSKQq8JskBbviYG2lvZ/WKIksjASRSJUqZl5MFaGV2lerDs0ICk2jQe15uVx1DlFP7dHaR6OfttdBHYkETEzTb9NmfGijgHxNsVhMixYtdDOY4hWHv+rPkv8qUaeiM4ayx+yeNIALfmuY07o4wry74DCwq0y9FjkrZC2QU4yo3GEwZRrUJS1B0bshwd8u4sjdPtTw+rivQwQ+DZIurWdBmDutSqcaHzJiH/zJRfMZjNWrspyTanycOHGCwMBApk+fTu/evalYsSLm5ua8efOGq1ev8scff9CjRw/+/PNPqlfX3/XZp4pgeggI5JatW/WtIHuMjOCPP/LU9enTp/Tq1YstW7ZQrlw5HQsT0C1KohVlqO2W/s62uJg1RvIEPWlK0SAWU6NGjSzbJJTMzbr0OUAuAysdLx2RnAxGhqofXSFNiW7J64pF2sptJCXloVM2yFQ6C2vchPzJb5x3Xs6hbyu9v5iRP2LN3F+532I0lQtpoNPDyCTik3SzTrtEJMKtrAn/vUwmNkF3a79XLm1ETKyS13G6q+1S1l7MOynExOtuzFJWIhQiiEnQ3Zg2piLkCrAw0XeEowGeDTSWZpE94VKYFZ7DhMt3gY+FWJ5cPsfZJ6pC5SKxAZYV+jHT10PfwnKFSCSiRYsWtGjRgidPnrBjxw4iIiKIi4vDysqK+vXrExgYiK2tjq97BHKMcNYUEPgYkUhUq8TkksTERLp27cqMGTNo1KjRBxAmoFsM8GxSgp+D7lK/W2XEiqecXDqGY/ejqPfddr0qUyqVyGSyLAvWmpkV1um0wIdCJpNRokQJXr9+ne+x5C/fYeVSNv2FjMSRSjbJvJBTaE2PMav+4/wd3ZiSFqZiIta7sXhnDEEX43UyJsC11c7sPpbMnmPJOhtzw9dmXH0kZ9tpmc7G/Kq7EVIJbA6V62zMfp9JsDUTFQLTAxTRl9m19QKSRn3pVtMWlNXxW1OXwh7j8fpRLFeX3dTZeOXbl8WhTknu/RymszFtatrg2KIU91c+1NmYxcqb4dTBgZiD0SiTdGPESWwkWLW0JvmiFHRlQhqDYaPCUWjYwKUXc1Y3p2nxjyc2r1y5ckydOlXfMgQ0EEyPNBREXgzmpXsTPArRGvOKyIsEv3SnSSERVdj06IVvvoExY97n439EDBs2jAYNGuDj46NvKQI5xMijD4MNznDzv4rUqtGa9q/f4jbBkhfPEwD9XdQkJSVhbW1NYmKi3jQIFE7i4uJ0Mo6RezXejJrHfucvaV/FGgP5Wx4eXc6WGC++L+yzQgGBbIlmz5SxrE0og3RtEP9uX4XR+OqsLrWMjWsHUaNwzFm1opAqiH+qu2jD5LhklAoliS+yi2jLObI4lfkmfZlJXak8YFxCdeKRx8pRJurGoBAZpphvCUrdmR668x3zjdFnNTHf9SM/ShrRt1tNbEkiUWaMSRE+hz99+pSdO3cSGRlJfHw8lpaWlC9fnl69emFpaalveZ8sRcRWk/Jg/1LmTJ3KyktxgJywrV8wes0tnX5uJfe3s/rIm0KlCcl9tq8+Qk5USR/sZ+mcqUxdeYk4QB62lS9Gr+GWbl+kHOtJEcX+pXOYOnUlqpcpjK1fjGaNTkUVMEuWQIJ+Uwey5d07sLPLVZeFCxcSHR3N4sWLP5AogQ+C9BFn/zzM1gVj8ftmF+cvHGa1/xS+PfZY38oEBD4sZs2ZOKYkW7uVx9zEDFOLCnTfYoPv5NZY6FubgEB+kd7jiesM9m37leP7exB16AVDdj3i5Mh4zl/R3URdQECfRO+Zwti15zkdOIQBy28RvqojDnUGsumq7gyugkCpVHL27Fn69OmDu7s7N27cwMrKCldXV0xNTTl8+DDOzs6MHTuWO3fu6FvuJ0mRMD3kDzayMbwlY2v9y0/rgklCSUJEKHv+vIruTvti7Lr0xnJvIJdyECFaMJpAbNeF3pZ7CcxOlPwBGzeG03JsLf79aR3BSaBMiCB0z59c1aGgHOtRieLBxo2EtxxLrX9/Yp1KFBGhe/hTl6IEtJOLu6kHDhxg8+bN7NixA0le6wwI6AEFEVt+YMebstSqV58GDRrSsGFDmnYbzxcdHPQtTkBAKw0aNNDNQNJQQhMGsONWJE/v3ybs2b/8vbk/CceP8Fx35S0EBPSDgSvuNi95mAgS545UNb1LopU5Mbee8M6sSFy+Cwhkg5R7T1yZsW8bvx7fT4+oQ7wYsotHJ0cSf/6KvsXlGKVSiZ+fH4MGDaJ+/fo8fvyYdevW4e/vz7hx45gxYwa7d+/m+vXrWFtb07hxY1atWqVv2Z8cRSK9JeG5Iy16O3POP4TStRdhiAFuvXrSKc5Ftwdg3gz/MSH4+i5i+LeTaeaQ+egFpglzmvmPIcTXl0XDv2VyMwft4yc8x7FFb5zP+RNSujaLDMHArRc9O8XhotsXKWd6VKJ47tiC3s7n8A8pTW2VKHr17EScbkUJ5IMbN27g5+fHsWPHsLKy0rccgVwh43liJQZPHUnzQhbqLBaLadeunb5lCBQyDAwMOH36tG4Gkz1k5+yF7KhqR5pVK3/B5duuBHq3plQRDo8WEEBsQy2X2/Su8xnvLE2IjXrJ0l8WIqnuzy6hkKnAR4EBru42BD1MBE9nOlY15UiiFdVf3+LJu7rZdy8EpBoeV65c4e+//84yfaV06dLMmzePIUOGpK1i5uvrW1BSP3mKxFnTomF7mscfwOe0K12+dkIMJEXEUtw+kl83rSf+yd/csurLHL/62GgxvxUxF9i08jCPpcoc1K9/RVTwHvwXe/Dbdx1wzMRMz0yTQ/VnzGzbhcgydhiZ12DwjFE00lacRxHDhU0rOfxYijIHKXqvooLZ478Yj9++o4M2URYNad88ngM+p3Ht8jVOKkHEOtTBM+kaO1adRWqj5IVBY/z6VsuY6a9rPSpRNGzfnPgDPpx27cLXKlFEvDYibrsvo7aYqS5UxdY08A2gn1vheDvu3LkTmUxGnz59EIu1HNuhQ2BjU/DCcoNYDPXqZdvs5cuXdOvWjXXr1uHq6loAwgTUeffuHf7+/kydOhUHh7xEZhjh2agUa3afo2L3epQxUb1f5Q9XEHCoPfPGlNet4NwoMzJiz549etu/wKeBRdnPcG+YUsxUFsuT6zcoPqw3rnr4Ovnnn3/Yt28f48aNw8JCSLD51Bk9ejRfffUVZcuWzeMIUkIuwucbNuNpAohESMxKUd65uN6qNY0bN47x48fj4uKiJwUCHxdibGq5cLt3HT57Z4lJbBQvl/7CQkl1/HcN07e4HDFhwgSuXLnCn3/+meN6HRUqVODEiRM0b94cIyOjPNfRk4YdYNnGqyhN5UidujB2UE0y3rpU8OLCdrZfeMG7F495Zd+FCaOb4SABkBJ2YBkbryoxlUtx6jKWQTU/3pufhWOWmQOSQo5yrkwrZpUSAzJuXIgm6ubvVJ+3Gt8y9ZjfZCDfN77AvJoZD0lsU48h07OfAEICFxcM52nACQIHV8Ykt5ouKajaR0RMhB/t69pTqbYH9pl9M4ltqDdkOjlSdXEBw58GcCJwMJWzEpUUwtFzZWg1qxRiQHbjEorK3uyf8B1vpv/C5+JdzNj0lHdoMT0+hB6VKEKOnqNMq1moXqYbXEo2p0zp5lT1MEOkjOLcsQQ8KxSet+LDhw/x9/dn3rx5zJw5M6P5UauW/sTlFGNjOHEiyybJycl0796dsWPH0rp16wISJqCOXC5n2bJlrF69mpEjR+bB/JBx+0AgC364jv9oMabGqs+RMjkZJ99azEN/poeAgDYUCgXLly9n/Pjx+R/M2AufGe1xq1xMbQfP2b0siFfKmhTP/x5yRVxcHDNmzOD7779n4sSJgvnxibNq1SrWrl3LsGHD8Pf3z4P5IcbWxZHnt+4R37ozXvaq65A3Z/ZzulJHWpcq+BSXDRs2sHLlSgYPHsz06dMF80OAkSNHMmjQIBo2bJin/lKVs8dmlbOHSGJGqfLOFNeTszd16lSaNWtG27ZtEYmyXsHp4cOHbNmyhbCwsFwXKHVxceHgwYO0adOG/v37Y2ycywNOusTXfrupsm4D/RwTCZnVDd/N69g60Cld7Qr5o638GOLGlPH9MVOEs65rIzq+2MXZuXXh0tf47a7Cug39cEwMYVY3Xzav28pAp48zfa7IHJX8WSTJzhWxFwPRf3FI3oS+rWpTwkgEIlNMjaUkJuYviVd+92dWvRrMdzkwPLRqSq6Pd3ERZmZGxD+7zrmrkeR7ETX5XX5e9YrB3+XAYJA/IzLZmYoqQfx1KJm6nkfZ8NCZMrd3sSO0LH7+bbEuKD2qDjyLTMa5oj2ql+kQyfVH4TOqO+282+Ca+I7afp/jqYOTW3JyMnFxcTr5Abhz5w79+/fH3d2dbdu2oVB8XEniY8aMoXLlyowbN07fUookunyvJSYmsmzZMlxcXBg/fjzPnj3LoQoRVtZejD/9krdvoomKiiIqKooXMTFcXVj/wx18DkhOTmbOnDl61SBQ+FAoFEyePFk3gyVd5vBf/6b/npXGE//8OVG5+PJVKpW8e/dOZ5/n6OhoZsyYgbOzM/Pnz+ft27e6OV6BAiEhPo54HbwXlEolycnJrFq1iooVKzJq1CjCw8NzoURG+Mnd/H76T34JGI2vry++viPwmfgdxx7lrhi8VCrV2XeWXC7nl19+oVKlSgwbNoyHD3W35KtA0ePYsWM0atSINm3acPbs2Vz3N2kziA4Gd7gXX5yq7m64VdGf4QEQEhJCu3btqFevHocOHUKZRfj7ypUrGTp0aJ5Tw6tVq4anpye7du3Kdd+kM+v51bAp3o5iwIzq3tW4s3EX4RpTlaRLB1k6dxl/JQLisnRqV5U7B//gtiyJM+t/xbCptyqrwaw63tXusHFXbs5RRYvCc3s9G4wbdKDu6l2s3hlN4pUo6kyYRKsUlzvp6lZOlRjLEq/8JPDKubf/JmX7+uXYFNCmycroPpWqW1KnfnVOTBzCjKQtLGxSLPvBMlN1bz83y/bFLyeijBvQoe5qdq3eSXTiFaLqTMDv1XzGv5AirjGL7s8XMMAvip9WdsEuj3ZXrvSoRNGgQ11W71rNzuhErkTVYcKkctiIQRGxg+3PGuLfTTeFMxcvXsy0adN0MpY6qeZHauRH3y++QPTPP1CypM73pTNkMli5EjIxNAIDA7l79y5Hjx4tYGEfB7GxsR+k/kmq+aEe+ZE1Esr7LWaKzpXkH7lczsKFC5k9e7a+pQh8tMi4EFCHBfNMEAMikRixiRNNp6xlQy4uB968eUO3bt10ri7V/BAiP4oWTavm69aQVlLNj3Xr1qVFfuQIi7J85t6Qsqr8LWKfXOdG8WH0zmX+1urVq1mxYkWudWdFqvmxceNGIfKjiPLixYt8LysfEREBwJEjRzhy5AitW7dm9uzZOY78SPwriNueIxhe+f1cQBG1h+2hbejfzjzHOqRSaZqW/JA6xqVLl2jXrh1eXl4EBARkiPxISEhgw4YNhISEpCrgwf6VbD33DLvuMxntZUrY1oksSRjJ8hFumU64x44dy4IFCxgwYEAuVCp4dv02sZatMU3ZIrGxxuTuDW5KwVntprRZx0X8VV6MhwmAjMjIVxg5laEUzzh+OxbL1mkjYGNtwt0bNwHnXGgpOhQZ00NSbhBbDjbh2u04HDp5YJ/yB1XEBLN6T0lmrRtBxXzNnSVUnbKW3NyX1KZJ/kqEbXk7DDCgfg0RX+y6RECT5nnOv5RUncLanIqSlGPQloM0uXabOIdOeNibID1vjImDK9XtJZjYVsfi+A5OJXahh1kB6FH1oNygLRxsco3bcQ508rBPiaKR8c/GA8Q27llk3oR37txhxIgRdBWL004yhZbkZJg6VavpcfToUZYvX8758+cxNDTUgziB7Eg1P27dukXFihWzbCs9H8SpCt60LqnmZMYcZUewG306On5gpQIC+sSAegEhbB9bmcK85lR0dDQzZ87k8ePHQsX+T5xU8+PGjRvUq1cvm5B4Y7x8ZtDerTLvb50peL57GUGvlNQs6PytTEg1P65fv87Bgwext7fXtySBHDJ06FCCgoJ0Oqa6+ZFarDMrFLFnWPV9aTr81EEVOZ9whx3Tv+Fws7b0z8V+b926lY/6OZmTmflx5swZ3N3dKV9elUacuqrnhFqLaLoumGFerVSreobWZXEWpkf79u0ZMmQIkZGRufjsKHjz5i0S9Wt4AwPEcTHEagalm7ng5ZXye9wZ1h6QMGpZbxx4yJu3EtIPISYuJjaHGooeRWW+CYDYwpmaXmobEu/wx94Y2kwbQaXYs5x+XJcmngV7SOk1yQnbPIeFJeazbkBZ4uLeYWZlWbAXY2ILnNVeJKPK1agi+pe3SkAhJdnYEosCvzoUY+FcE/U/HYp/OXryOcV76k5MuXLlaNasWb7HOXnyZIZtZmZm+Pr6MmXKFEw9PfO9D31x//59fHx8CAoKokSJEvqWU2QxMDDQyXstLi6O0NDQDNsbNWpEQEAALVu2zLb2gSxiLzMCNvGL7XvTQ/7qJk9q/CyYHjpm9+7d9OzZkypVqpCUlMTr16959uwZNWrUIDk5mVevXtGyZUt2796tb6mFFrFYrLuLbLPuTByb/2EMDAzw9PSkePH8zSIvXrzIu3fv0m0TiUR06dKF2bNnU7169XyNL1AwfFavKYYSMDXMOp8/O7RdS9SpU4eAgAC8vb1zEAWXxOXDf+FRuTLvb4JLiY9/zvMoOVTK+fWTk5MTzs75v3ur7ZiqV69OQEAAnTp10l78XeCT5MiRIzx+/DhbI8LIYxAzSiaxb9k2qjUxZOfkJTyu4IqbSb4LBOiUS5cuMWnSJEqWLEmtWrV49eoVTk5Oac/ndVVPiUSCvb090dHRuTA9RBgaGqBUT7tPTkYmMcx8X4rnBM1ZhXjWHuY2sgC5IYYGStIPIUNiWKSsgVxRdI9M8YKD4/szIViO+fKZKJIq4Xd8B030KkpCha7DaBn8D8HHT/PXVS/mzKmp3xfZthuT2s/i110nqfvqHKUmj6dlYVjaUhZJ5EsDHM3yd1GhTr9+/ejXr1++x1m0aFFa6Km62VGqVClVg2bNwKjorYX45s0bOnfuTGBgIJ5F2LgpDJiZmXEim0KxOSEuLi5duHvjxo2ZPXs2LVu2zPkg4pLU6tadbhUMQZnEm//ucv1WFTr0c8u3vvxgZGTEmTNn9KpB15iYqOLU7ty5A5D2t1MqlYSFhQFgalro48D0ilgs5n//+5++ZaTD3NycGTNm0LZt23yNc/HiReqlrJolEono2rUrs2fPplq1arqQKVBArN55DFszES7aVt7LBWKxOK0egLrZkV1xRHVkFwKos2AeJqr8LcRiE5yaTmFtbvK3gG7durFkyZJc9dGGpaVlWo2aGjVqMHv2bMHsKMLUr18/9wU0NdC2SltqVERSUhLr16/Psr+Bx//oQhL3/h1C1443qLnoD/YMKpvropNWVla5u3bKBG3HU7VqVWbNmkXPnj2RSFRmY1JSEkZqc4FMV/Ws44kRIL2+nDkX2jL380oZboYbGRnlMs1IgkMZB+RX49NqWinj4kkqVRonrZPOeC6vC+SO93KWtLAjNiICnBwo4yDnanzaCMTFJ1GqtJO2AT4Kiq7pIbaj46rLdNS3Dg0k5Vow0D6a8EgZM1eVxETv3wPF8Br3HR7PI4gx+Za2VoXkT27kxbTDWzG01/sLpBWtZkcqO3fqR1RuMDKCAwfSHsrlcvr06cOAAQPo3LmzHoUJaCNPZkcKRpU7MLhMA+qmpaF70zD4WxYducugGl5Zdf2giMVi6tSpo7f9fwg6dOiAUqmkbNmyPH36lOnTp2NsbMzMmTMZMGAAFy9exMtLf6+5gP4RzA4BdfJqdqRiUC+AkO1j1SI99E+q2dG5c+c8HZNA4WH69On5HqNixYpppr9mCsj+/fuz7Z+wewI9Nl0lxqgz624uR/HbUqaMCce41Urmd815DaTy5cvz22+/5fk4UmnRokXaTS1tZkcqNjY2xMTEpNumdVVPn2Igvc2eH7dz3qk52sqixsTEYGtrmyudlk1aUG31He7JoKYBvL33AEVjH2oYQcKdP9j7nxu9WzpjgIzHQb/wd+Wx+NWzQZYQyR9BZ2n5eU+atKjG6jv3kFETA95y74GCxj41cqWjKFE4Z5xFHWNbypYrDIZHKmLMSpXDqbAYHgCIsbIvRR5Li3xQ2rRpw8OHD1myZElGw6OoIJGA2jK0X375JTY2Nh+k0KtA3jEyMuLo0aOcPn06z3coDDzVDQ8AGU8uhWHlKSxX+6GYNGkSAEuXLkWpVKYVINNmeLwJPcrZ5x/Xyk/5QSaTYWdnp28ZH4QyZcpw9epVfvvtN8HwECAoKIiLFy/Srl27PJoDZnSfWLgMj19//ZUrV67QpUsXwfAQSMPLy4s//viDCxcu5N7gU7wl2W06e34dTz1bOxqMmIWP62uexutvElW1alW2b9/OjRs36NOnTwbDA8Dd3Z0LFy6ki9DQvqqnjLtBodg09kRbcHtYWBgJCQk4ODjkSqOk/HDm93zM9/O2ErQ3kGn7HQmY3oZiyHi4dyHTVhznuQKkF+fRvfcXjGhqj4mxMcbFyuJ/rQTWYgnlh8+n5+Pvmbc1iL2B09jvGMD0NnlffKOwU5hmwQIChYLPPvss6wZLloCvLxQrGieG9evXExwczOnTp/UtRUADIyOj/IdjKqK5vGsrFySN6NutJrYoqe63hrp6zsBKTEzE2to635XhCyNDhw7lq6++Ijo6mmXLlgFoL1D59gzzfWdgui6YhqUKjQuudzTvjn0sODo64ugo1NERUOHt7Z2/ARTRnPlxLlvC7GjnN5X2RscIXHkceaORjO3gkucC+fkh38ck8NGxdetWvLy88myCSUp54/dFCxzSfAVj3IbOZNgj/bh9ixYtolatWlqNDnVcXV2pUaMGu3btYuDAgYD2VT2L3TvAJev/0d0omMBHGcdZuXIlPj4+eUgzMqPOhE2sibzNP8+NWbDNBRsDADEe/md4ktqs7hwux2WyAoVZHSZsWkPk7X94bryAbS42H7UxIFyFCQjklm++gYA90YkAACAASURBVPh4favImnfvwMGBs2fPMnfuXPbt25dWj0Dg4yJ6zxTGrj3P6cAhDFh+i/BVHXGoM5BNV5P0Le2jxdLSkp49eyKVSpkwYQIAgwYN0mgVx8W9t8FR+Jr9YEhD+PP4czKPo5ESeuwUr4RAG4GiiNgMM+uKdJrwJZ3LR7Bq+Ej+KtmVVrIzHHlSuIo8Cny61K1bN19RP8ZNu9PZQeN70sqLRjX0c83q5eWVreGRip+fH4GBgWmPVat6zqWJcy0GB3xJ2xKPCLpoSZumJbVOuOPj49m4cSOjRo3Ks14T+6rUqp5qeORpBOyr1qL6R254gGB6CAh8tChjYujfvz87d+4U7j5+tEi598SVGfu28evx/fSIOsSLIbt4dHIk8eev6FvcR82kSZPSiph17tw5QwHT+JC93HXtTDUTIQRcE53VepE9Yt+KVew9cpSjR7X9HGL/X9eJ1ZZELSBQ2JHe4MIbd1qVM4LXJ/jrn9oM8KlHDe8qWD8XTA8BAX3Trl07YmNjWbFiRdo21aqeHtibAEkJGCj+46+tm9n21z88unmYoKvRACgUCiZOnEjz5s11srKSQPYIpoeAwEdIfHw8UqmUhQsXfnTFJAXUMcDV3YaXDxNB4kzHqqbcTbTCPOYWT97pt2KOWCymtVpdmY+N6tWrU6lSJQC+/fbb9E8mhLL3VgU617dAsDzSY2BgwPnz53U2nqGZLaXsHXBw0PgpZcy/+xey7mIyQukBgSKJgSMWL0O5/jaRu9t2crN2O5qbv+XWnhu8LvOx35MVECj8SCQSDh06xOLFi/nxxx8zNjDzpP3ggfRrWgFDpRKFUoSRoQSFQsGYMWO4efMm69atK3jhnyjCWVNAILf8/jtYW2ffLicolWS4Ite2LVdDKhk2fDiLnJzo27dvPgXmXYNmuKO2bQL5RYxNLRdu967DZ+8sMYmN4uXSX1goqY7/rmF6VWZkZMTBgwf1quFDs337dm7evJlmfqiQcnXHGYzrdudN+L+8TpIS9+Ip0YllsRUyzHSLkRu9/VpR39M23R2cxLB9zBk5ljXPGjHj5wGUEW7vCBRFxE70G+rBDzNGcvVdU1Ys748oZB/nEyxxF75KBQQKBeXLl+fEiRM0b96cFy9eMH78eKw15giSsg0YuPwsA4GIiAiGDBlLWFgYhw4dwtLSUj/CP0EE0yMNBZEXg3np3gQPc31reY8i8iLBL91pUkhEFTY9ekGXS1Ju3QoVKrx/fOYM/Pcf9OmT5yFnz57NO6WScuHhOhCYNzZt2kTVqlXTHp86dYqoqCh69uypN00fK9KQi/D5BjZ7mgAiRBIzSpV3prg+qtx9Ynh4eODh4aGxVYxddTeehf/DP8Ry71k8rx/e479qpbEtPEt66Q2FQsFPP/3EmDFj8j+YgQcN66kPHkPo2sl8PuMQZv2WcHp/X9wKYb3p/k2taeKuG2HGhqrZ7/9qm1HewVAnYwIYSKBWVQlmOjyPmJtARQcxXevp7tLTzlKEXAxtKuvus+VgKcKwUKyYIuXaw2L4/LCR4qmHV643vZXHuG5euM8lYkMxxRx1F21oaG6ISCzC2E53b0gDc9X70Ki47qp+G1ioxpRYSFAa6yavTpz6tzYVkUUBo9yh50Ln6khDjnG+QnOa2mbynpaGcuJiBZo3tilYYbmgfPnynDx5kmnTpuHi4kKvXr0YMWIEFStWpFixYsTGxnL16lVWrlzJ8ePHGTBggGB46IEiYnpIebB/JVvPPcOu+0xGe5kStnUiSxJGsnyEm84OQnJ/O6ufViewq1Wh0YTkPttXP6V6YFeyUyV9sJ+VW8/xzK47M0d7YRq2lYlLEhi5fARuunuRcqwnRRT7V27l3DM7us8cjZdpGFsnLiFh5HJG6ExUEcbbW2V6GKZcrCoU8PBhnofbuXMn+/fv5+zZs3qNqvD29sbV1RVDQ0PEYjFKpZKH+TgugcwR27rg+PwW9+Jb09nLPmPOYtJF9h+xp3OHcgWqSyaT8c033zB9+vQC3a/+McCp1v9wUrzmetB6Xr1L4m1kNAlCMU1AZXp88cUXujE91JBF/MmC0aNZfrcaE7eHMqWlY6G8wJErlHjXtiRZppsJkUikGrO+uymfVdJdKJFYDFXLSyjvpLvJtamxiNIlRNhZ6m5Ms5RDbuCsO5fCxAASZTobLh/IeLgzgG93umGndnhJD24RUWYvruZWVGjtg2+7ChS2IDJrF0uaLW2g83E9p1TNvlEuqTSuQvaNcolNJ1udj2lYrxA5FTpEdv8Qm69ISa6g3bSVvzzE0TeTad64gIXlEmdnZ7Zt28azZ89Ys2YNffv2JTIykvj4eCwtLXF2dmbEiBGsX78eCwsLfcv9JCmM1wQZkD/YyMbwlkyotYim64IZ5tWKhIhQ9oTWZbHODAYxdl16Yzk6kEttZuCVzU2YgtEEYrsu9LYcTeClNszISpT8ARs3htNyQi0WNV1H8DAvWiVEELonlLqLdWd65FiPShQPNm4kvOUEai1qyrrgYXi1SiAidA+hdRcXXdPDyQn+/htKlsz/WMWLg58fzJ+vejx3LljlyE7KwOXLl/nyyy85deoU5iYm8NNPkI+K0PmhZMmSjBw5ku+++w6AhQsXCif5D4Qs/BR7Dotwv3yRY5syPq94fZXLtnP1YnrMmzfvEzQ9UhBbU63jBLZ0nKBvJR85b7m52Z8RU3Yh67SIo1uGUiPtFBrPsV3H8OjeicKyYrBELKK4he6/+6yK6T40oZgpFDPVrXluIAHTDzB3M9LxS6rr8fKKyKIMNTwb4qymJ16UhEXdljQyes2d3/xZYLaeuc0KYUiTgEBOkIexc8LP7DLM5FyTLMfru8kFqykfODg4MGvWLGbNmgUIqd2FiUJyWs+ahOeOtOjtzDn/EErXXoQhBrj16kmnOBfdHoB5M/zHhODru4jh306mmUPmoxeYJsxp5j+GEF9fFg3/lsnNHLSPn/Acxxa9cT7nT0jp2iwyBAO3XvTsFIeLbl+knOlRieK5Ywt6O5/DP6Q0tVWi6NWzE3G6FVWwJCfrdrwJE2D5cpBIYNy4PA0RGRlJz5492bx5s6oK9Lt3MHGi3kwPgC+//JIff/wRU1NTnd/VFVBDZI2LVw2als1s0tOMtuWqFKgkAYECQX6HjUN7MH7Hfzh1HcvnNRI5v+0nUsukKuP/4bcQNzZ316tKAYE8YoBz22G0aNYE9cj/18WUnG7SlU6WzziVcJ0D155AMzf9yRQQyA9GjVhwczd+LtqvYRRPf+aboALWpANev35NVFRUWqSHvb09xYoJ5qQ+KRIzT4uG7WkefwCf0650+doJMZAUEYud+Fc6dfmJMnZGmNcYzIxRjd7nPaqhiLnAppWHeSxVkn1A6Suigvfgv9iD377rgGMmd4cy0+RQx1OVKie9zvI5F2g793MqafscK2K4sGklhx9LUeYgyvVVVDB7/Bfj8dt3dNAmyqIh7ZvHc8DnNK5dvsZJJYhYh2oYHN/EhmfveH7zDsZdZzKukW3GEHhd61GJ+j975x1f0/3/8ec992YIEWIkaIgVsSlJbDVSe29qj9r7R1EVHbq+tKXU3jtVjdmqVSsItQW1QkkkxErIuOP3xx0592ZzuUl8no/HfeTez/mM9yfj5JzXeQ/qtmpE7LYBHCrbni/1RnH3WRF8PEPZOPcoCfl1RKnqM7JHFd7JFARPn8K//0KbNmBvD1euQPnykIE4v7///puGDRsSHx9P+/btmTJlCg0aNHgLRqfPkydPuHHjBq1btyZv3ryEhoZSvnx54e3xBnDwG8DUVl6Utm2xFoEgQ0iSRFBQkHUmU3rTd/VF+qbg4QRAbAiREacy8H9fIMiK2FOzcT0ehaxh5sr93Na6U631QAa37UlbAM1z7l/PQ63+5WxtqEDwGihRKlP3hJAKVse3XPa4Q1Cr1ezYsYNFixZx5MgR3NzcTDk9oqOjadu2LUOGDKFevXrC+8MGZAvRAyA+ZC/HPJrymZsEqLlwUotXGS8KNKiIn7sXNSu5p3rTLOWvRb9ptVI5KucFJ2YN4n7AAeb1LZdujGRKNpUfkBtIIPS3+WwILkaj1K62pPzU6jeNDFl1YhaD7gdwYF5fyqVlVHwIe4950PQzNyRAfeEk2jKlWDPzbxrsXkYPt0GU//pXeu0cQqG3YY/eKEL2HsOj6Wd692L1BU5q3Mj76Ry005YzRArk09X3eUk2Ej3q1UvKwZFZNBrYtQs2bYKQEH3S0vLlwdHwjRwxQi98vPce+PjoE5q2aKEPsLZg5syZ7Ny5k48//hhfX18GDx78Gpt6PTQaDTt27GDz5s2EhIQQHh6Ot7c3Dg4O3L9/n2HDhnHlyhWKFy+Or68vPXr04MMPP0RKYV+CzKEs7oX1I5JfH3t7ew4cOJB2pzUfw4toffF0hQIUSlCo9L/vCpX+s6QEJEObEiSVvk0h6V+SUj82bxFoPBQOr4SnEYZ2Qz9J0s9hfK9I4SVJgEJ2XAF2jlCjLfx7Ap6Ey9ZVJH1F9t7UnsIxFCAp9HaUrgGP7sGzqKQxGMejf2/8bGo39iOp3fQeKOQBcS8g5rH5cQxzmrWRdEw+h0UzeV3BzrpnZkmSaNWqlVXnTJXc79N/kAv5xGlGkC3R8uiPT+g1+x5ePmXwtFNz+9cJfHR8JEtm+lNA6UWPL7+wtZECweuhuUdYWCKUSOV/jb0PTbLG87w0CQoKYvjw4ZQsWZIhQ4bw22+/kStXLtPxR48esXr1aoYMGYIkSaxbt45q1arZ0OJ3j2wjemjCI0j09MddAqL3sDuxNoNcIgiyjyX8/DHOFmyHn/vrxbRqri5m4aO+/DA1fcEjNZtGFwD11Z2cyl+fyk63Xsseg1EsXviIvj9MTV9g0IQTkeiJv94g9uxOpPboTvj36oAkveB0SARVW9XntdIrZcYe/QDCIxLx9NcnWIzes5v40iq2HPZkdGggG18WZ+SUOlipAOzb4bffMj8mLg5+/hnmzwc3NxgwAD75BLy9QWXxZ6hWw+XLcOwYzJihD3kZORKGDwcH/T+Fly9fcuTIEZo1a4ajoyMrVqwwn8PeHrZsecUNZpyXL18yd+5cfvnlF4oWLUr//v2ZOnUq3t7eKJXmf49qtZpLly5x9OhRpk6dyqhRoxg1ahRDhw7F3j5nJuh6l5Ekidq1a6fd6eIuePKfXvSQJJDsZC9V0kuhApWD4b0SlKqk90Zxw72sfs675yHyun4OpZ1MGDEIFkqlTLwwvFfaGd7LhRElOBhcUR/fg4jr+jWVMsHFUjQxE2IMc8gFC6NAQw148RSePEguopgJJkbhw2C3XKQwE0oUULAYJMbDi2dJ7cb+ZuKi8RgWYodcSDE05clWZ+YUUFLC2yv9bgJBVkQTxpZgT+bu/g4v02WChltLPmfTv40ZXi5LlJgRCF4PzQ1WffoVH26YRuNi2ebxpxnr1q1jwoQJ/Pbbb9Spk3IC3wIFCjBu3DjGjh3Lhg0baNasGUFBQdSqlZHHzQJrkG2efzjUaY3fzUAWbV7Ft99dwmegP4W8vaha1p/OrZzZNOxTDsW+zgoargVdpHiPJhm+AU/JJhf1NXaczEez+vmTPVN7JauuBXGxeA+aZMQohzq09rtJ4KLNrPr2Oy75DMTfBSQiCF7zI6vuVqJzw+K8zr/JTNmjN4o6rf24GbiIzau+5btLPvR5L5ywqAdI1brQqdQ+xoz8naicXNng1CmoUQOOHIHNm+H4cRgyBCpVSi54gL6tShUYOlTvDbJ+Pezfr/f8OHMGgJCQEBITEzl8+DAKhYJJkyZx+vTppDmUSmjZ8o1u68SJE1SvXp2QkBC2bNnCsWPHGDx4MBUrVkwmeOi3paJq1aoMHz6c06dPs3r1anbv3o2fnx/nz59/o7YKsigSoEQmeKjMBQ+F4SXJfp8UKdycK8AshsEoNhhj9XQ6fQezk7LME0OHYQJjf4XhrWyAJMlEgjTO7oqUjLLwvDCbwsIdUKezaFKYL5eSx4Yuhfdme5Z1kH82bVmRNPgNe9yq1WqKFi1qvQm1jzm36WvGDuhN32HTWXL4Plmi8IZA8LpoHvLSpRTFzS4TlBT1yk9ilMZWVgkEVsWx6VQWD/ck9NelLAsM5n42ux9YsmQJkydPZt++fakKHnIUCgU9e/ZkxYoVtGnThoMHD74FKwWQjTw9lCX6sHZ7A86FxlCkbSXcHTU8eupKyUIqUNWmmmIMgScDaNDoVVVCJeUnLWXma9p0I+gEeT/sRWFp9yvaYbFG+UkszahRyhL0WbudBudCiSnSlkrujoAWtdad2r2n4lPpM2r1/JxSId9S+xUfrGfKHv0ISvRZy/YG5wiNKULbSu5IwftwLFKWqu5KHF2r4rx/I3/HtadzdslJMHcuDBwIGUlI9L//wfffw48/6kNVMhvDp1CAnx9s2wZr10KzZjBtGkdfvAD0IQTu7u707t37rbrJffPNN/z444/MmzePLl26ZHq8QqGgdu3a7Nq1i5UrV9KkSRMCAgJEwtNXICHkT44U96dxauUpEk6xL7gkTRoWeKt2xcXFUbBgQWJiYlLvJJHkEaHTYbrjNooVpj8Xw42+DnMhwzTEEBqDcT7Mxxv/7ow3+DoMQouU1M+oUShkLxOKpGM6QKEz72BqT2mwLuml0xnGyoyz9LZI8RxhEHAUMnHCUgyR78MUIoO57mLaR2rrvB0iIyOtM5E2mr8md+LTK6WpV1FH9MVwgr/tw4k7S1nUy/O1BH6BwObYV6TK02F8EeTJ/7XyJp9Kw/Obe5m79jG+c4R3pCBnILmVoqgimDvF6tGhY3VciScuwQHHbPAr/uDBAyZNmsTJkycpW7Zspsa2bNmSlStXMnDgQK5du5biw8L0SLixjZ9WnUWXS0NCsfaM6lOd1Oo/xkeeY9svv/KyVwB9yiStFXftd+atu4jkokTr3ophPauQJ9OWZA+yjegBIDl7Ut3X8EFzgzUzv6bgV8v4qHgMMS+dcMn79i9xzGwinhcqLff2rGNN4iku3Yrgj51nKdammlnm7TdsEJ5JBpFwYip+Ix1YGjyT6q6uOD/8hwdvXUWVcPasjsmqclXwVvzHcx2gTSDRIS/O2enq9Msv9QJGeqLHl1/qhYrTp/U5Ol4HhQJ694aGDaFJE666uDBt2jRGjBhBkSJFkvd/+RLKlYM7d15v3RQICAggMDCQM2fOpLx2JlAoFPTv358PPviApk2bkpiYyNixY61k6buB+tbv/LwrBk1dl5Qf0sf+zV93Brx10QP0T/XTxJifQ7JDn7dD7uEhyUQNmdeCQmEYo0wKT5EsTiBmAgVJgoGCpDATI4qk6U2ihYWmkczTwiSOKMzbUxMs5Dk60syqqZPZYbG4QrYhhdnmzEUdM48XozCiMBd0kPWztDm19iyIJmwzewvO4cD26jjFbWPu8rKMGJqXdTM3c1E9jqrZ6gpHILDEiUbjR3B+cEdKdrtJvEIij3cnApYuwF/kBBfkEKJ/m8SopS/wSFjKzv82sNB+LFUXufHTqqX0qZa1w10WLFhAt27dMi14GGnZsiVffPEF27Zto0OHDpkbHH+SL0f+iveylfQsGkfIZx0ZumYZ63oXswjj0BJxeA2/XnnMqcAdFG05I+lI1O+M7LYC36CtDCkey58j2zAmVyBLOhTKPqEgmSD77klZmg4Dm6C4dIT9a+dx1ncmI6rb+grHicqt+tK7Z0NK2+nQaXUo7O1Q2vC7bF+pM5/0LcmdQwf5dVEwxaaMp3mGcnG8QVw7MqHVQzYFHuSPFcdwmziWJln7vJZ5vvtOL3gcOPD6goec4sXh4EGWPXnClwUKpC06REVZb10DX331FYGBgRw4cOC1BQ85JUuW5MCBA8ybN4+ff/7ZavO+G9jh5OqGe5EiFLF4uTn8R9DXyziR+HZvYBcuXEhCQkL6HRUqkOxBYWd4b8jBAfqvSlleD2MOD4XFCVXu/ZHiGiR5dSTzAtGZCxwKC3HFci3jgibhQOZGkaZIIFMj5Pk1LMNyjG1m3ho684Om8JcUQnDkY417MYbuWIa5pNgmX/vN1TyRe6UFBwcTEhLySvPoorV41KyAmZOglJt89hpeZDMXaYEgOQkEH3lKj42Xibj/L6E3wvnvzBp6PN7J9uwWAyAQpEgC18LK8unv69m0P4jOkbuJ6hfIrYMfExv8j62NS5OXL1+ycOHC13pQp1AoGD9+PHPmzMn02PjDK9hk15AWRSXAiaotqnBlVSB3kp0aJNzr92Vk/0aUyCVv1xK1dRG/5qrDB8UkwJl69Qrzx/JtPMyhpxdbqwSvgZISjXvjHn2HCPV0FhZ2zDoKjrI4dXrP5WhvWxsC5K5Jt5GViQ67R+z76+iaLyv8yHPjO/p7Kj24y2PH72jukhVssiLHj8OcOfDPP2BFYcBEsWIoDxzQ5wmpXx9q1rT+Gilw+PBh5s+fz5kzZyhcuLDV5y9evDj79u3D19eX+vXrU7VqVauvkROxr9CNkU1rU9nMnSyOG7/P5ONRSwiv9ymLP/J4qzYNGzaMWbNmUbp0aRISElJPVGsSO1RgzK+BwZPDrHqLMSTF6IlhIVZY+rjIk5QiyY4bPR5keTPMhsqSkKaoSGDhRaJIqvqSakeZjcmEEUXyfqb8IpJ+v0avDrPwFkssQll0OpISolr2S0cAM63zZoQylUrFqVOnTJ/Pnz/P0KFDadmyJQEBAfj4+GR8rsoNKLh4J1drd6ScpOX+wR8Zse9fImt9z4Zs4BotEKSNmrtbPyVg9XKZt7CGRxfDqLa4I22Kil9yQXZHRdmK+dl5Mw4qe9KmfC7+inOh6pPLhL30s7VxaXLo0CG8vLzw9vY2tCRwPWgB646FU6jTdIb75uLGuvHMfvExcwdXSPWGu2PHjnz88cdERETg7u6ewdW1hJ8P5Vlef4w6hjJ/PhyvXuBiAnhm6OG2jthnz9E4OJLL8O9e6ZQbXeg5LidC4Zz2MJrs7OlhwMG1OCWykuCRJXHAtUQpPLKE4GFEwsmtBMWyo+CxdSvkSyWT68uX0LevvlKLNZP1WeLhoc8T0rcvxMcnP65QgBVzfMTGxtK/f38WLlyIm5ub1ea1xNPTk++//54+ffpkzFNAgKpSXWrJBA/t41MsHliH2sMPU+m7Q5zcMJa6hd9+/Njdu3e5fPkyZcuWTd3zQ6nSV06Rh7WY3svcFiRDxRZjaIopLMZQTcXoxQGyMBaSPpu8IowoZOEoCswqq+gsPCssMXpgGBObWmobKY5NxRNEl8JgUwUXSPLUkI2X5/UwhdiklAMFzHOjKJLmNDZahsNYzv8W2bVrF76+vrRq1Srjnh/2lejetwKRF++hsauGf6vaNP9kAX0K/GuDME6BwPpIhWvQsd9ABg4cyICPOtPMpzzVOo+gZwUheAhyAhL5a5QidIwP79euS7tvfiDAvybVu5+gSqdKtjYuTR4+fIiHR9IDJc31Vay604RRNf7jl2VHiEfHi7un+O3Ps6R1NatSqShSpAiPHj3KxOpanj59jtLOTj4RUsxjnmX4f5+S9+rUpsTDe/ynBtBw7/pNnj17ytO3++//rZEN7zgFAhtTt27qx2bPhqpVoXPnN29Hjx4QGAg//QSTJpkfc3SE4GCrLfXtt99Sq1Yt2rZta7U5U6NPnz4EBgYyf/58xo0b98bXyzmoufvnLIYPn8vVKuPZcGoSTYpm7hT/448/smrVKqtadefOHZPnx5QpUxg4cGCS54fCmJfD4Olh8vKwKANrarPMPyHLgWF2yFKMsKhKYhQsTGuQPOdFasjtMPZPpl3Iq6VYCB6WOTfM42ss9idrknuoSJaGWnh6gIVniNFbRG5LqmpNhli/fj2ffvpppsfpdDqeP39O3rx5Abh1y7y0+65du9i1axctW7ZMOwkuAM85F7SW1bv/ZV6CVr/9HUGEHT+Na5iSz3o04H1vtwyVoBcIsh72lGvdF486fklVBVvU5ch33/DX1e5U8xXChyD7kxByAoasZE1lR0CBQumEW0lPCmRxT4PExERUsgqMLx4UpXE3T45NCeG9mt9gh4oKXbvQNqZUujfbdnZ2JCYmZmJ1BXZ2KnRamcKRmIhaaZepG3v7WlP45aNxLPpqJfe94wl/mJf8zs44Z/2UXq+EED0EAmuRkAALFsCff76d9RQKmD4dOnSA8eNTLn9rBeLj41m8ePFbK6ulUCiYPn06PXv2ZMyYMUiS8ONKl+cXWTNlMJMC1bT9Zi9r+1dLyuAdu4/AfZXo0jZtDx2dTseTJ0948uTJGzHx7t27DB8+nKVLl3Lw4EGcnZ3NPTzAEC6iShI9FDIPD5CJJMqkfiZBxFi9RZXUJj9mzAdiCkeR3fzrAMlYFcbCUwTMBZhkoSjofSbNtAuZqJLM40P2UadLssfkoSLrY3pvFG3k3inpKDQpJWU1eXrIxlomY80gz549SyZYZIb0nmrt2rULgNWrV1O7du0U+2iur2LhocL496grS4Ydw0E3L2rWysOz+5E883LDUZxCBNkSFZXrWLj4q8M4ecOFygPF5bsgZ+D4YR9a/36Ia7FNaOfrnm08911dXXn48KHps3PdVjSK3caAQ2Vp/6U+mWj83WcUkjbRtv0veBSyJ0+1vnw6rB4FLDb58OFDXF1dM7G6kiIeRdCcjcVYvFoXE0u823sUy8ypQXKl/uRV1IkJ586zPORN2M3XlWtSyS79odkRcdYUCDJLiRIQEgKWeS22btVXTKlc+e3Z8v77UKwYbN+uFz+MqNWwciUMGvTaSwQGBlKlShVZ3OKbx9fXF1dXV3bv3k2rVq3e2rrZEc2VVfTvPJaN94rRYdQQqsUFs/4Xo5ePjthLWwipsIb0CgsrFApy5cqFk9Pr145O6Ya2UKFCTJw4kREjRpDbWPnI6OVhFCxQYJbHw/gVRVI/Y+UVnc7g8UDye3/L6i2WwoFOEQct3wAAIABJREFU7vmhMB9jEiuU5scsK8FYricZ7be8ZJOpDsnGGgUMWVczs4yeLJJMIDH2le0nLUwhOLKvxsUsK8KkmOckZXLlykWBApmvCKTT6YiOjjaNTU38qF+/Pg8fPqRPnz6pT6Z0pWS1UtRv6ksRk7IRReS1F3zQogWFMm2dQJCVSODUvmOUbPRB0k2SvR8D+0RwUoRvCbIz2kj++nw8+97/iVltPajbuZfF4SA2n2lC92ZZt3iqr68v/fr1Izo62iRYxIfs5ZhHUz5zkwA1F05q8SrjRYEGFfFz96JmJXcsHViOHz+Og4MDxYoVy9T6eRs0psqiK1xTQ3UVPL92HW39AVSzB15cYdfWe1To1gTPNO70tQ+2MKb/CVps+I6W7lFs+iuSdkPbUzi7KE+ZRIgeAkFmefky5fb1660iMmSawYP1a8tFj8REGDXKKvasX7+eQW95XwqFgkGDBrF+/XoheqSD0rsvqy/2ZXUqx2NDIok4lbEAzcmTJzNjxoz0O6aDQnZjn6LYYeooD28BM6FD7qUhyYQQY8lahcybQ1ImCQKSId+GvI/8q6mKiySr6iILqbEMXUnaVMpt8vnMwknMNpr0RV4SVt7fGLaSbKjRC0QyFy3MPD1Syukh9+Aw9knHqyMTLq19+/alb9++GR9gQK1W4+joaHpCtmjRIoYOHWo6Xr9+fQICAmjcuHGqHh5GlCV7MrpdCPu3beJcxdY0r+gMFKBTv068vnQnENgaNTc3z+DrjeUpZPJk0hB1OpSy81rg7ybCWwTZlIRTXFK0okM1F3PPjvhwTmxZwi8/r+Ll8At0t5V9GcDd3Z127dqxcOFCpk6dCoAmPIJET3/cJSB6D7sTazPIJYIg+1jCzx/jbMF2+Lmb51ibM2cOY8aMQanMXO41ZclBfNVlKHO+WEf3atHsCCpKwOwPyQ2ob27l66kn6f9BIwYUk3hy+lfWHfybv/8LR7viR+bfakiPzj64OrmQN3cc94/vZMXRLQT7/Mjs5qnkLMwBCNFDILAWISH6/Bpvm7p1YebMNzK1TqcjJCSEJUuWvJH506Ju3brMnj37ra+b08j9fn8Gubz9f2IFCxbk8ePH3Lp1K7nYYURSgsqRJI8Gg6eHybPDWM3FGAIiC3uR5F4fmCcgNd28y8qymnlOWIgN6NCXeJVhWQbXmHRULpiYJUjVma9rUjgMsS+WwohO1k/uxWHmDWJRRcZM5zD0M1ZqMc0pD4lJ5u5iPk6eINWU9DQTyscrIEkSv/76a7J2udiRGRyL+dCyq6ziizaSP7efodlHLci6zwizP4mJiTx9+pR8+fIRHx9Prly5RCjim8C5OO9XrEtxFYCaZ2HnuVBgIN3Kist3QTbGsS5+Hgs5fy2MisVLI4UdYuPiX1gS+A9K3270G9iJ/1SZyXFhG8aNG0fz5s0ZO3YsTk5OONRpjd+iQBZtjibun0h8xk2g0JMTVM3rQ+2qBxjf71Pi135NA8Ml0Y0bN9i3bx/Lli17hdWd8Bm3miURoVx64MCs9aXIbzgtqCpN4XBYUs98NTozokZnRkyYZz6Fc1O+WlOJyxfvoRz1C/0LZfFEKq+JOGsKBJnFzw/sLALe7t/X5/QoUSL98Qn3YMtOKNQEmpbWtz09D3tioFOdzNdUKlMGnjyBqCgoZF2H7rCwMOzs7DLmdpdwj6NbdvJvoSZ0b1panzzw6Xm27YnBt1MdvfKdCby9vbl//z5PnjwhX2rVcgTpoyyBt9fbXfLbb79l2LBhnDlzJnXBA8xDW4zhIXKPDoUCfb4PRZJXh9E7xOQdoUwqcQuGY8Z+qXhcmJDHc8g8KuTeH5DkPWImHpD0t2oMi7FcK6XcHmYhJHKvDZkIYRpjYbdJqJCtZ5aTgxSQe4MYRQ6F+fqW86Q+2WsjSRLt27c3fS5fvjz79u3LtNhhifbpNQ5sWc/6DRvY6Tydmx+9rqWClNBoNPj7+3PgwAGz9jVr1vDRR+Kbbl0c8B3wKa0qlCPpLKrlwa8/sfORjuqZjy4TCLIILtQeMIHSp4NY8+XXrJ7/J7n7fsu8w6uomY08mKpUqUKzZs1o3bo127ZtI0+JPqzd3oBzoTEUaVsJd0cNj566UrKQClS1qaYYQ+DJABo0ciAsLIzmzZszffp0fY6zV8TRvTw1MlrpNuUJqFDzdSbIPghZXiDILNu3Q/785m2XLkGVKuk/JdXeh0lTQHKFae3haAKgheWjodc4uKZJe3xKSJI+j8ilS0lt9vawcWPm57Lg0qVLVKlSJf2O2vsETprCn5IrF6a151PDvm4vH02XXuNY/gr7UqlUVKxYkUvyfQlSRPv4HJu+HsuA3n0ZNn0Jh++rbWrPpEmTcHZ2pkGDBml3VNrJRAt5OIpknsPDlLhUmRRmYhnCYlYxxfjVsvqL7H2yZKeWwoSlp0eyN0mfTV4SMpEjWfiJZQiKxVzJxhjf6mRCiczrQ56XxLIsr9Hjw2wf8oV1yb1jLD1b3lLJ2gYNGry64KGO5OzvPzGxa10q+PTkp1MONJn6MxPrOfEKZ1JBBvj22285cOAAAwYM4NChQ9SoUQPQJ7YVWJt4Tv+xh//MfpkTiI19wINI8RsuyO6oKFyjE8M+XcrRy38wtmwkh9Yv49eTEcRFHWH/mThbG5ghli5dSunSpfH39+fx48dIzp5U962EuyOgucGamV+z9z8NaGOIeemES14l165do0GDBowcOZKxY8faegvvDEL0EAisQUwMGEowpsmx+fDeFOhQGB6HQ7gWkKD7ACioePX7DGdniI1N+qxUQrt2rzhZErGxsabSkmkRf2w+u96bwowOhdE8Due+YV/Fuw+gVUFF8vupDOLs7MyLFy9ebfA7gjb6LyZ3HMLaG0oK66K5Gx7Mt32Gsu52NrgolldikVSgspdVdDGKIQpzwcJMAJGSPBZMOT0scngYc2HIE4YqSPKaMBMPUrHTMsmpSSSR2ZQsgalxoHFiC08PY4JSy5K28rFyzw5kNpsSphrHykQV0z7kiU4tvELklWJSMtn4/XoDqNVqihcvbpW5tFHn+TPoD/7RNOLzrXvZumAKPRvW4H1vN3Fx84Y4c+YMAHFxceh0OlOVnczGowsyhvr4DGoWLkzhwoUpXLgALrmL0Wr7e7SomX2ehgsE6SHlr0jrgWMZP6431Z/v4quBQ/jlYja4hkF/7lu8eDG1a9emYsWKfPbZZ9y5c8dwsDQdBjZBcekI+9fOY1+JftxbPpZatWoxY8YMxowZY1vj3zFEeItAkFkWLIB+/UBe5SKlig4pYVcPepeDkKUQVQvqGS5cCtcF34NQ4hUvHE0x+tZFl8E5X9rVY0DvcmhClrI7qhaTDPuSCtelru9BSr7ivhQKRYZteDfRELZ5LwXnHGB7dSfits1ledkRDM27jpmbL8K4qjazLC4uDnd397RL4BoFDCPyKi6mBKEKTOKC8b1RADHOYQp5MYyV5/DAwpsjJbHC8mXm/YHsmIUXhkk8kecEkXt3SEnvjd4YRnEmWQUYXZIYIV/DNI889MXQbilOmOX7kJfLtUhiahJTZDbLE7iaxrwZ7t+/b5V5pCJNmbyiKZPjwzm1cyWT/3eGJ9wnOK4vJ1vWtcoaAnO6d+9OUFAQGzduZPv27cTFxVGsWDE6tqtK0Bcj2ebUjQUT6ierUCB4NVR+AYRsGI234fT24s5hAnc8IpdQ9QQ5kjyUbjKAmRWLsuPGm80vZU0UCgVz5syhf//+LF68mOrVq1OjRg1KlixJ7ty5eRy1kzOXbhAVGc7gQYM4d+4cHh4etjb7nSNbnDY1Mc+JNZTnio+NRe+4reFFbJyxA8+TOhBr8OzWvIglezhHCbIVAQF6zw45uXPD8+fpj/VrAW6JsHkbNOyCqS6U+ia4+qBPhGFA7rmRHjEx5iLMy5dQunTGx6eCk5MTMZZ7TYF8fi2o75bI8c3beNiwC21l+/rP1Qc/w74SHt/n3qOM/1XGxMRYpYRqzkVHtNaDmhXMv0dS7nzYa2zvIRMXl87P2iykRR7KklK7KrlXhVnVFeOchjwgpnFGgSOF/BU6WWiKeZbQlO3VWbw3CRUmBcQwTQpCinHd1MJkLB02zMZaJEmVJyG19NgweaRYTo55slJLL5BkxmQHNDwO3c0vMybwf1+u5ZyuOH4dh9O1sj22DfDKuRQsWJAWLVpQsmRJXr58iUql4sGDBwR8sYbWnYtyK+SuCC2yGg7UaNEMD9kzA6fi9ele6S5/nU6wnVkCgZWxDNE9qm1K27rZ79qvcuXKzJs3j7t37zJs2DCqVatG0aJFqV2/Md9+/SVht28TEBAgBA8bkfVFD204K/s256sTCZAQTIB/b1be16KN2sCARlM5GK8lfGVfmn91ggQSCA7wp/fK+2i1UWwY0IipB+NtvQPBu0D58nDxYsa8LRLOwt4oaNUs6S/w3BGo0Djpc/gm6PodGbpy1+n0a5cvb95uhaep5cuX5+LFixnrnHCWXXuj8GvVjAKGfSScO8LzCo1xV19jwydDmbHubw4sHM3/Bd5Hm850Wq2WS5cu4e3t/eob0N5h09CGNJ6wnUjDgpqwDQxp2JgJO6IMNmi4vW4QDZpOZnd0elZlNVRUblCQ0J1XeQGgvc/BH0fQqeNK7Bu9b2vj0keyEDRMJWxTeOkHJHl8mAkkkBTCYUxEqkjyhNDJPD6MHiRyQcQ0JoUStoCpqoxZH5ktZslHjeqFLP+GXEwx6QmWwoI81MVgs1kuD5L2aSbayOezzOthMdayUosJhUWEjIVniJWpWLGiVebR3gti5scTWXGvLt/uPclfK79gcJsOzJjaFRerrCCw5PPPP2fbtm1cv36dp0+fMmfOHNRqNX/++SfYqRBBLtYknpMrZjF35RrWrDG8Vsxn1oITvHTO+pfvAkFGyNYhuqng5OREhw4dGDZsGBMnTmTIkCE0a9YMlUoEWNiSrP/dl4owcMtRw4fafH3sN8P7j9h40pApfOAWTD2+Poapx8aTiFzigreChwdotXDvHrz3Xtp9o/+BO2WgVkFDQzzsjIBeZfQftQ9gzVqIqJaxtW/dgly5oEiRVzY/NUqXLs3z58958OABbm5uafbVRv/D6TtlqFeroEG7ieefnRFU6uXB6a/asLXsajYOdOf6ikMcjYlJ13n+2rVrFCxYkIIFC6bTMw10L4i4eZ2b+R6ZvL50sRHc+PcWhaJNLcSE3+T6zZdEZ0PXMPtK3emrOszFe2WoUc2fVk+eU2EcXDj7AG2N4jZTthUKBfXq1Uunk0E4MP4ymMQNi/AWk5hgEB/kuTXAIEioksYa5zYJFRYihtFbwuRFkYqHh9l9v878rUQKYSQK2Uve2Zg/BAuvDEXSHs3WleXqMIWwWOT3SC0XiDwZqsmzA9BZjE0pLMaMNxPeolKpOHfunFXmkop15MdD7Xl6dT+/r/6eA/EOFHxPx98nCjJ/bm9ePR++IDWMnnezZ89mwoQJpiS0hQsXtqVZOZdnYZw+dpQwCVAokFR5Kd1zOkMrZf3Ld4EgfbJuiK4g5yHOmgJBZtm8GSxLqCoU4OMDx45B165pj1fagdIBchnuNK6vghetwEsJaGHf7+DzIQRGZsye4GCoWTO5PVZ4mqpQKKhZsybHjh2jQ4cOafaVlHbYKR3IZdiX5voqVr5oxaziB5m01oHGf73k+MEQ3Nr/zC/5038eGBwcTE3LfWUWpTdj9txDnipKVWEc++6Pk7dQaeJ+7k98vaVsxvNzBK1dze5/55Gg1d+o7ggK4/hpV8KUn9Gjwft4uzmmM4n1cXBwYO/evWl3GrrBegsaBYC2U6w3p5HqLSy8I17RC0Lu5fGeN7xX7nUmSY5LQf3rnULCpVxT+pZrCsRx9+Actr3IPgE62Q3JkJNm4sSJTJyYdNJcvHgxsMtGVuVUVJTqOpNFjRqavCcFgpxF1g7RfRUSExMJCgpi06ZNREREmAoCeHp60rdvXz744AMUGckBKLA6QvQQCDLLBx+k3N6lCyxfnr7oUaA1dJ8PAT9Avedw0gH+N0h/LOoAhPtB8+MZt2fZMhg82LzN0RFOncr4HGnQtWtXVqxYka7oQYHWDO4+n68CfqBgvecEn3Sg1/8G4RL2HZefx+D41yVq1MnL7xP6wtBFTPDNneZ0y5cvF6W80kXD9VULOVTYnx51nZNcy2MO4uZVk1p5nnE/8plNRI90ufI3hF8BTaL+s2X1E7PQEuMxYw4LpczLwXDc3hEKeEL0XVAnJHkzWJaQlSTztcySpSqS5kMBShXkLwIxjyEx3uCZIvPmkIe2mMJOjPlFJFlIiUX4S578kPBSb6fJe8NoJ7L5MV/LZLP8s+GroxNoNKBOtPAAkc9jPsTcQyUF7Owhj3UDRbRaLatWraJ///5WmvARIet+ZuX+22jdq9F64EhWfK0hl3VmF1gwffp0Jk+ejFKpZO/evZQoUYLWrVuTL18+NNeF6GFd7Hm/eh4C589HWa8HHau7QnwcagdHRO0WQc5AH6K7eOdVancsh2QI0d33byS1vrfiQ5G3wKNHj5g9ezYrVqzAy8uLfv36UapUKXLnzs2zZ8+4cOECo0aNIjExkSFDhjBq1Cjs7cVf8ttEiB4CgbXo3h0mTYJr18DLK/V+kjssDIYzR+GpOwyoCPaANhq2/gd9msCzDIoely5BaCh06mSVLaREr169mDJlCrdu3aJkyZKpd5Tc6bAwGN8zR7nw1J2vBlSksD2o78WT8NKRiu3a4OMuUb75IrxnrqPn9iEUSeXp1dmzZ7l9+zbtrFB2N6ejdC1JtVL1aepbBEfj9zMqkmsvPqBFi0I2s0utVjNv3jzGjRuXcgfvhvqXtSntY/05BVZDq9UyePBg64ge2kf88UkvZt/zwqeMJ3bq2/w6oR/HRy5hpv/rTy9Ijtz7zs/Pz4aWvAtE89ukUSx94UHC0p38t2Eh9mOrssjtJ1Yt7UM1USJHkBN47oyHW4R5iO5YB25cfwQ1itraugwRHh6Ov78/fn5+7N+/n/KWOfaAxo0bM3r0aIKDgwkICODAgQMEBgaSK5eQ6N8WwmFOIMgspUtDVFTydkdHvcfF119nYBJHqN4EPjAIHgDHlkB0bvhrO+wLhWc3YfcJSCtJ+6xZMHQoWKrFajWsXJnBDaWNk5MT/fv355tvvslAb0eKVW9C8w/0ggeAVNidgo4u5M+rP93Y5XVGGXadsDSStM6aNYthw4aJpE/poqRkz9G0U55h26Y/uGQsIFSgE/06FbCpZWq1milT3kCoiUBgQBO2hWDPuexeN5dZM2cw86sfWPHbbIof2cS/2TcHXvZEE8ah30/x340DbAlJ4f+jIPMkXCOs7Kf8vn4T+4M6E7k7in6Btzj4cSzB/4jqLYKcgfruVmZ9voAfJn7ER1OW8sefm/h+zCR+OBxma9MyxO3bt6lfvz69evVi2bJlKQoeRhQKBXXq1GHnzp24uLjQsmVLnmek8mMqJNzYxveffc53X8/gy9VneJreAPUVVsxazTXj/0dtFMfXzeXHH79l2thJzDsYnqOrbwnRQyDILM+fp16lZfJkOHAAdu/O/LzV+0G39/W5OIo4gWNBKF8idX+sbdvgxAmYMCH5scREGDYs8zakwrRp09i1axf79u3L9FipYH0alH/M/Qf6U2nC4yfgVZFSqexry5YtnDt3ToS2ZBhHivm0pGuP5lQ0ZG7URv7J9sPZMx5WIMgomocvcSlV3PwUqSyKV/5EonLylVtWRFmCRhM3ExqyhN4+tvMwy1GoylIx/0NuxoHSsw3lc10lziUPjy+H8dJJXL4LcghSYWp07MfAgQMZOOAjOjfzoXy1zozoWcHWlqWLWq3G39+f0aNHZ+ohj52dHatXr6Z06dL07dv31RaPP8mXI3+l2NBPmTRlMs2uT2HomntpVEZUc3XpBD7ddIWnOgANt9bNJ8R7EGPHTuaL8eXY26cNM0/k3Kqn4qwpEFiTvHn1eT0GD4ZHjzI3NrcblCwF0h04cBkeX4X9F1IuohAVpffwWLEC8uSxiulpkS9fPpYuXcqAAQN48uRJ5gYrKzB8VjOu/byYHX+u4/u9bsz8sgeFUzj7REREMHLkSFauXGmqEiDIKFqeXtvH8oCBNGs4gt8eidO7IOshSRIbNlgnVtu+YhWebviCoCtP9NW9Nc+5+ef/WPu4AlVFqLQguyPlp0apUMb4vE/tuu345ocA/GtWp/uJKnQS1VsEOQT7cq3p260FTZs2pal/Kzr1G8uwtg7889dVW5uWLlu3bsXNzY3Ro0dneqxSqWTevHkcOXKEq1czv9f4wyvYZNeQFkUlwImqLapwZVUgd1JRPTTXN7PtaSnZA8d4Tm7/kc9/2kMcIBVvS8vyV9i+KzTTtmQXxFlTIMgsNWtCWmEXjRtDnz7w4Yewdy/kz5+5+T0/gJkfwMxUjj96BP7+emGlfv3Mzf0aNGvWjK5du9KsWTP27NmDi0vGExzmq/d/LHg/gut3E2m4uBfOKRRviYyMxN/fn5EjR1K7dm0rWp6zUUeeZceGtazfvIOz8V407dSdqT+X58xz2z7qtrOzY9cukdhQYI4kSXTp0sU6kzk1YvyI8wzuWJJuN+NRSHnw7hTA0gX+olytIAeQQMgJGLJyDZUdAYUCpZMbJT0LINJ5CHIKqsp1MM8OpCbs5A1cKg+0kUUZ54cffjCrYpVZcuXKxdChQ/npp59YsGBBJkZqCT8fyrO8/qak3cr8+XC8eoGLCeBpmbtec5PAIC2t2xVn5+bHhkYn2nyzh5JSJRwB1BFEPLKnmIfbK+8nqyMeBQoEmWXXLnB1TbvPV1/pq7w0bQrR0dZb++FDaNIEmjeHgIDU+9nZwdq11lvXQKdOnXBwcODDDz/MtMeH5OSOVzmPFAWPBw8e0KRJEzp06MDUqVOtZO27gJao838S9Mc/aBp9zta9W1kwpScNa7yPt5ttT+9KpZLGjRvb1AZBzsfFdwybL0dw/99QboT/x5k1w6khFA9BjsCRD/u0RnXlGrEFylOxQgW8heAhyPHY4zd+CTObZ+0wuTNnzhAeHi5LuJ/A9aAfmTl5MgtOxgAabqwbw/All0kjhR3Dhw9n/fr1xMTEZGJ1LU+fPkdpZ5fUpFIhxTzmWTJPDw23tmwloWV3vOzMjziV8sXXU+9VHXN4KduUw/ikW5FM2JG9EKKHQPAmUCjgf//Te3tUrQp//PH6c+7YoZ+rbVt9stS06nyrVFar6KLRaAgMDKROnTrUrl2bOnXq0KBBA6pWrcrevXtfe/7ff/+d6tWr07VrV2bOnCnql2cKiSJNJ7Ni937WjyjF1ZWT6d93EAO7jWLNLVvbJhAkR61WU7p0aetMlhDMzr8i0eKAq0cJirrYA4/Zu3E791MPbBYIsg0qj7p07tUBX/eky/UnO5ezMTUfdoFA8Fa4ceMG77//Pkql/kme5voqVt1pwqga//HLsiPEo+PF3VP89ufZNOsRuLu7U6BAASIiIjKxugI7OxU6rew8kJiIWmmXLIRDE/YbW140p3v51D3UtQ92MnOhxGe/fU69HPzQQIS3CASZZckS6NUL0ss5oVDoxYmmTWHgQH3Yy5QpULZs5ta7elXvOXLkCKxfDw3fQJnPVAgJCWHKlCkcOXKE+Hh9cqN69erRunVr/P39GTBgAM2aNeOTTz7J9I1MaGgoX375JSdOnGDz5s3Uq1fvTWwh56N5TOiejaxas5k911RUadGVTu09uJCY1rOFN09cXBweHh5EpVTpSPBOExZmpaz86rts/TSA1ctdk57gaB5xMawaizu2oajI6yHI5jw/t5Zvf97Nv08T0Brye6nDjnPaNQzlZz1o8L43bpau7AKB4I3z7Nkz8ubNa/r84kFRGnfz5NiUEN6r+Q12qKjQtQttY0qle7Pt4uLC06fp1l6RoaSIRxE0Z2NN1VZ0MbHEu71HMbPF4jm45HfuuPzH/B/2oHsSzP2oFwTOW4fmox7UKiRB7GmWzbtCi7mzaVzoGXfvgodHvkzYkn0QoodAkFmmTYN27dIXPYw0aQLnz8M330DdulCjhl4EqVMHiqZQg1yng3v34NgxWLYMzp6FIUNgwYKMJy2Ni9N7hbxCciQ5Pj4+7N27lxkzZvD555+bym0BfPjhh1y4cIGvv/6aWrVq4efnx4ABA6hduzZFiiR3j9PpdPz3338cO3aMJUuWcPHiRT7++GMWL15M7ty5X8vOdxct94Jm8vH0Y5QY/jN71/riarj7a2NbwwBeqxSbQJA+EoVrdKRTx9LYoSP+6T2unr+Md+ueVMjCgkfi2bPoMnWBmwZKJfb16qEOC0OX2STTaaCqXBnd48dorWUnoCxRAhIS0L18abU5Fc7OoFSC1oqeD5L+JKqQbOwMrbnOqoWHKOzfg7qyuNCYg2541axFnmf3iXzmhZujcNoWCN42zs7OZtc4znVb0Sh2GwMOlaX9l8WQgPi7zyji40noxrkcTciPLkpF/ZE9qGIRo2YpoGSEvA0aU2XRFa6poboKnl+7jrb+AKrZw4sru9h6rwLdmnjS5Mt1NDGMSTgRwaptSrqM6oWPClDfZufyM5QbNZJa+dW8iNjFzqNNGNr9tb41WRYheggEb4O8eWHWLPjsM9i0SV/hZdgwfe6NypX1XwESEuDCBdBowMcHPvpIX5rWIZNRvDod3LljFdMDAwP5/fffuXz5Mp07d8ZVls/ExcWFb775hhkzZrBx40YWL17MkCFDcHBwoFKlStjZ2aFQKIiPj+f8+fPodDp8fHwYMGCAKT+I4HWQKNbxRw61f8rV/b+z+vsDxDsU5D3d35woOJ+5vXOwn6Ig21KuXDnrTGRfjtZ9Pajjl/RUqkXdI3z3zV9c7V4N3ywqfLxctgz1hQvWmczJCdddu0j4+2/UZ85YZ07A+bvvUF+7Zj07gVy9e6N98gTt3btWm1NbGNo1AAAgAElEQVTp7Y3CyQnirVhm0cEh7fDRt4YS15LVKFW/Kb5FHE3eTFGR13jxQQtaZO2UBwJBjqZkyZKcPXsWrVaLZBBI40P2csyjKZ+5SYCaCyc1uOX9lDnaaSwfIhH46Wruv8RM9IiKiiIqKgp3d/dMra8sOYivugxlzhfr6F4tmh1BRQmY/SG5UXNx69dMPdmfDxoNoJgEoOXJqV9ZvuY4kQ8kVs8LRBrQDvWcTnT74h9iRw82TFqcoX9cs8r3JysiRA+B4G3i6Ah9++pfOh2EhcHly/qkoyoV9OgBFSuCh0eWuOg6c+YMEydO5O+//8bT05MRI0ak2C9Xrlz079+f/v37o9PpuH37NqGhoaxcuZI8efLQpUsXKlWqxHvvvSdydrwJJBfKNe1LuaZA3F0OztnGC2z7fVYoFNSqVcumNlibe/fuERoaiqOjI2q1mri4OBo1akRwcDAKhQJJktDpdDRo0MDWpmZZVCoVly5dss5kmhgeP0lAS1KCMnXYSW64VGagCiCOI7/9Rcn2bQwXfgJBNkJZDK/KhXh8ehubVBVp3bwizoB98VJ4iKt3gcCm1KhRg/z587Nz507atNH71mrCI0j09MddAqL3sDu+NKoth/EcHUrgxpcUHzmFOhaRIwsXLqRr1644O2f2IZUTPuNWsyQilEsPHJi1vhT5VQASlaYcxjyIVCJfza6Mr9mV8T/LmmeeJia1SpE5EHHaFAgyy/r1kIlyramiUICnp/519qze26NFi9ef1zi3l9drTfHgwQM6d+7M6tWr8fT0BGDw4MEZWFpByZIlKVmyJCEhIeTLl48W1tqXIEW0j0JY9/NK9t/W4l6tNQNHruBrTa70B75BHBwcOHjwoE1tsDYHDx7ko48+Mmu7f/8+jRo1Mn3OlSsXL168eNumvZto7rJ1egCrV7paZGUPYXSvVaB9ytWbXvzQug3FsqjXh0CQOmpuBi1gi6IihZSHOLoDQEvU6St4L2hB3VNjqTwgmi/Or6dbflvbKhC8WygUCsaPH8+cOXNMoodDndb4LQpk0eZo4v6JxGd4DXatiSJBqsZnnR4w66ORRP6ygPaF9P+x4uLimD9/Pvv27XtlOxzdy1Mjc04i7yxC9BAIMkvTpra2IH0cHeHcuVceHh8fT4cOHZg8eTINZYlT7ezs0hglsAXaR3/wSa/Z3PPyoYynHerbvzKh33FGLpmJv62Ny2E0b96c/fv307p1azQaDWPHjqVgwYJs2bKFTp060bVrV6ZNm2ZrM7M0Wq2WdevW0bt3b6vM517nI3p3Ls69XSs4VaobLT3Nz1EK+yJUEFc6guyKSyn8qjfEQ17q/YPWlCkm4VBmGPMWJlDTCs9gBAJB5uncuTNTp05lyZIlDB48GGWJPqzd3oBzoTEUaVsJdymYfY5FKFvVHaWjK1Wd97Px7zjad3ZCp9Pxf//3f9SsWZOKFSvaeivvBOJSQCAQJOPjjz+mRo0aDBkyxNamCNJEQ9iWYDzn7uY7r6TTuebWEj7f9C/+w62UO+EVUKvVLFy4kJEjR9rMBmtToEABGjVqRK9evVi6dCmHDx/Gzs6OAwcOADB//nwKFiwIaHlyYSe/B//Hy1wVaNmlISVEhQVAL3r079/fOqKHYyOGTc5LEed/WbPqKodCL9Bu8UTqF8AUYy0QZF8caTT6S/IWK0LK2a8q0qzVWzZJIBCYsLOzY8+ePfj7+xMbG8vYsWORnD2p7mvsUY4q3gr+e64DtCQkOpDXWYlGo+Hjjz/m8uXL7Nq1y4Y7eLcQVwUCQWbx9oasXoZTrYZ1615p6P/+9z/u3bvHDz/8YGWjBNZHw8OXLpQqbq5fK4t6kT/Rtr+jarWaiRMn2tSGN8W4ceOws7Pj1KlTXLt2jZ9//hlvb2+D4AGa64uYuDAO/0FDaP5kFv5DfiPaxjbnSBKOsmDcUDp+MIA9VX7gz40diZrdCd8BaxF1gwS2pnnz5hw7duw1ZpAoVMyNmJA1zBzRn/7DpvDTzuuI4DmBIOtQtmxZDh06xIIFCxg5ciS3bt2SHXWl44RWPNwUyME/VnDMbSIful6mQ4cO3Lp1iz179pAvX84sD5sVEaKHQJBZoqP1SUizMomJMGhQpoft2rWLpUuXsnnzZlQq4QiW9bGnYpWnbPgiiCtP1ABont/kz/+t5XGFqja2LedSvnx5KlWqRGJiIq1a6R+1Llu2LKmDgwdl3rNHo1NSyC0/Lx484KUVK2oKDGjjuXM9gdbL97FuVC0KOJSh47huVHJQiosbgc3Zs2cPdevWpVmzZq8ofmh59Mcn9Jr6B49ciuNZWOL2rxP4aPpfPBLnE4Egy1C8eHGT56ePjw/Nmzdn06ZNnDx5ktu5m9CxgTPB59QcOvQz4zq3x9fXl507d5InTx5bm/5OIe5qBAIBAJcvX2bo0KHs2bOH/PlFVrTsglOj8Yw4P5iOJbtxM16BlMebTgFLWeAvytW+ST755BN69erF9evXAahTp47pmNKjNZ+MD+fc/lUs3ePK9G/7iOohBiRJYvXq1daZTOlBp4DvaVsl6XddcmvDJyPDEdmHBK/L+fPnX2u8zvBwZM+ePezZs4cPP/yQGTNmmJ0r0kQTxpZgT+bu/o6k6EUNt5Z8zqZ/GzO8nDKt0QKB4C3i5ubGDz/8wKxZs/j1119Zs2YNERERxMbGkjdvXkqUKMHnM2fSrFkzlErxt2sLhOghEGSWqlX15WVzENHR0XTo0IFFixbh7e1ta3MEmcIF3zGbuTw0mrsRceQtUhSXLFCpws7OjqCgIFub8cbo0KEDuXPn5smTJ8yePTuFHgoc8hbDI1c4h45dp3e1qji9dSuzHpIk0bNnT+tM5lCH9q0tG3PjXbmMdeYXvNNUrWpdbzmj+OHv709AQED6AzQPeelSCvPoRSVFvfKTGKUBIXoIBFmOXLly0bt3b6sl6xZYD/HsSSDILH/9Ba6utrYibezsYOXKDHVVq9V06dKFIUOGiNKy2ZCE4J38FakFB1c8ShgEj8d72bj9vk3tUiqVNGvWzKY2vElUKhWffPIJzs7OyRL+aqKucCHCGW+/pgwYU5ubn37Kxkjhjy4QCGDv3r3Mmzcv/dLW9hWp8nQDXwRdQR+9qOH5zT/539rHVKiaBZRtgUAgyEbkrMfVAoFAj0oF3bplqOuYMWMoUaIEEyZMeMNGCd4E6rtb+TRgNctdkzRszaOLhFVbTPc2RW1oWc5n8uTJTJ482aJVzdm5fegaMY1zS9qRC1AoFCgU4hkD6EXWSpUqceXKFVubIhCkycCBA19rvFmeH/TngW7dujF9+nQqVKjAZ599ls4MTjQaP4LzgztSsttN4hUSebw7EbB0ASJ6USDIusTHx3PgwAEePHhgFt5St25dUVnMhgjRQyDILCtW6AUFp+zvrP7LL79w9uxZU8lNQTZEKkyNjp3oWNoOdPE8vXeV85e9ad2zgk3NiouLo1SpUty/b1uPk7ePiqq9pzLmj6fs3fsHD38/SvGZM+lWyNZ2ZR2MeVAEgqzM0qVLX2v88uXL0el0ycSOTOHiy5jNlxkafZeIuLwUKeqC8PEQCLIm169fZ/HixaxatYqyZctSqlQpcufOzbNnz7hw4QIvXrxg8ODB9O/fn8KFC9va3HcOIXoIBJll8mRo1Sprix5xcVCzJly8mGqXAwcOMHv2bI4dO4a9vbiMyq7Yl2tNX486+JmqnrWg7pHv+Oavq/Sp5pvW0DdOdPS7WahV5dWe0aWfc/9GOJqvtjDIRfyrFQjeNSRJokuXLq8mdgCQwKl9xyjZ6AMKuHpQwtD69HAQJ73a4O8mnhgLBFkBnU7H9OnTWbRoEf369ePw4cN4eXkl63Py5EkWLVqEl5cXCxYssF5+K0GGEFdiAkFORKeDGzdSPXzz5k369etHUFCQUJuzOZqYxzxJ0JKUoklN2MkbuFQ2uGbHHeG3v0rSsU0xW5n4bqJ0pqiX8EFPiVKlStnaBIHgjXPhwgXKly//GjOoubl5Bl9vLE8hU85SDVGnQyk7rwX+buJhhUBga7RaLWPHjuXIkSNcvnyZQoVSdutUKBT4+fnh5+fH+PHjadasGTExMclyggneHEL0EAjeMZ4/f067du2YM2cO1apVs7U5gtdEc3cr0wNWs9LV4qlfyGh6rALt06vc9PrhrYseCoWCGjVqvNU1BVkflUrFtWvXbG2GQPDGeT3Bw4Bzcd6vWNdQwUXNs7DzXCgwkG5lxeW7QJAVGDlyJOfOnWP//v3ky5cv/QFApUqV+Pvvv2natClarZahQ4e+0toJN7bx06qz6HJpSCjWnlF9quOSYs94Is9t45dfX9IroA9l5IWf4iM5t+0Xfn3Zi4A+ZcjJNaHEWVMgyCyRkba2IH0cHSEqKlnzsmXLWLx4MSEhITg6OtrAMIH1cafOR73pXPweu1acolS3lnjayY8rsC+Svmu1QqGwqlUODg4cPXo07U5960N0hN5JRSGBpALJDhRKUKoMn5X6l1Klb7ezS/osSYa+SihaAiZ+BfNnwb0wsJOPVYJCYXhvGCMpQTK0qZSGNkl2XAG5nKDbIDj0p35O45rGFwrZZ4VhD7KX8bNCkXRcIUHtxhB2HSLvm49VKPQvjP2NL9k8CpLWxfB9AyheBmJj4Elk0lwY+ipI+bP8Z2728ze8d3UDB+ueJ3Q6HaGhoa/o7i8QvFsoi/rSuU9vWXXaOG6vmcmGUDXV6wlPD4HAlkybNg2lUpn+tU4KlClThtu3b1O/fn0KFChAly5dMjU+fu8wqsytyfFtn5EfSAiehF/Tv9m6ZyyeySLfHHDlIjt2JNJyhuUhV7i4gx2JLbE8lNMQoodAkBNRKCBPHrOmI0eO8NVXX3H06FEheOQgHBsNY3LeIjj/u4ZVVw8ReqEdiyfWpwAStkwSrtVqOX78OHXq1Em9U/htiPxPL3pISr3gobRLEj8klb4SkUIFdvYG0cEgeCgtRI1chhw7jx/Cw3BQ2cn6SPo+xr5Kucih1Pc1ChXGfpIEiQn6OV/EwrMneluUSpkIYSFymF5KC/FDkdRuFBcSEyDupUF4kcxFD0n23ih6GIUbM9HDII4YRQqtBhITk/rJBRQyKnooZF90r/zzTw2NRkOVKlVQq9VWn1sgyGmojwfgM+sLHCVAoUCSHCnWcBJLVwrBQyCwJbGxsSxevJjg4ODXmmf8+PF89913mRQ9tISfD+VZXn9yGVqU+fPhePUCFxPAU1zip4jIgiQQZJZu3eDJE1tbkTZaLYSGmj6GhYXRq1cvNm/eTJEiRWxomMDaJBxdwIQRnWk0cA9VfviTjR2jmN3JlwFrn9vWroQEGjdunHYnpeElKQ1Ch+GlUCUJFEZPDhSye3DZe0sHFYVhPssDlmONN/5pKkOyOYwiQ3o6gJnggD6/TnIjzKdPc07DfLpUNpzWWF0KfVJy6EnJy8f6eodAIMgkqloBhDyIJDIyksgHD4gID+P0xhFUFzc1AoFNOXToEBUrVqRMmTKGlniu/vY/PpswkfknYgAN11ePZMjCi6Ql8bdt2/b/2bvv+Cbq/4Hjr0vSQSlQKJRdVlllQxEEBNnwZQ+LbBAEZCgoLkQoosIXf4J+BUQ2IiqoyFZZMgQHyCggQ/Zqy2qhLXQln98fadMktE1K05bxfj4eUXq5z7jL3eXunc/g5MmThIWFZaJ0E7dvR6N3s2rWazCgi4nkjinz2/KkkJYeQmTWr79CQkJu1yJj8fFQty7cu0dsbCxdunRh+vTpBAUF5XbNhIuZ4i9y6t5/WLx1KDXzAXRnXK8NTDI+AjFtS9cNA5aH+9Q3M0hn90dK1xVI7e7hsGxdasDDuiFEWnQO6mJpJKHhODPrdUk74GCfv010xCqYotNsl92fMIMyrYI/6QWQRLZwb9ECgyvGewBInnnLEBiIrkDavbkfiE6HrnhxDK7s9mYwoOXNi65YMdfl6e5uPp4NLrydtW8FlWu86PHqmNyuhBAiDTdv3qRkydSx0oynl7H8SltebTCNZot/Y2iDVsSFHWbdviN8MqJ6ug/cer2e4sWLc/PmzUz8KKnh5mZAmawiHImJJOnd5ME+A7JvhHiMKaXo378/HTp0oHfv3rldHZEN9KV7EPJR5+SAB4COop3eYnSYW0bJHg46t9SXptm29khpWWH9JG7prqG3eiWPweFMCwxI7cICWBIp0o8d3JdPev9O50EprbEyrDldbnrjb6SXXt2/nrJe5qDgbHrm0zSNV155JXsyfwQopfBo397cGs+FebrVqgXVq7ssT3Q69KVKoS9RwnV5Ggxo3t5oefO6Ls+UwKWrp11X0tRJCJE+o9GI3nIvAXcjStKyV1n2vL2fUkH/xQ0DVYN70CWmnMOHbYPBkMkun3qKly6O8VAsxuQlKiaW+KKlKClP9umSXSPEY2zSpEkopXj//fdzuyoim3g06kpH+4V5q1AjIK21c0abNm2YOHEikyZNynhFzWrsDlKCHsldUzRdGmNwJL8y0zJBI3mcDquWHQpz586MnmvSC2KkGStIY12VRtAB0uhOk1ZwAtsuMpaojC41Xy25pYZ1KxRLjMjJSEp6wZJsbPKh1+v5+OOPLX9//fXXHDlyhPHjx+Pr65tt5T4sNE0zDzTtam5u5pcrOdl6YvHixRw5coRZs2Y5XvmhaEHhhEelnkKIXFGoUCGuW00YkK9xB5rHruOFXRXp+n5JdED8xdu4RX/NsBeX4qkH0OHTZBTT+1WzpFNKce3atUx//+Vv2oKaX5zgVBLUMUD0qdOYnnmB2u5w98QmfrwSSK+WZeVB38oj0P5ZiIdMRASkMw/3Q0Ov50Tr1qxbt47ly5e7fGYOITKyZcsWmjVrxo4dO9i7d2/6K+oN5oFLU/6vGZIH7TTYtubAfmDPlCBDyr+xawlhNSCpTXeXjFo2pARarAYfdSQlTUbrqpRynW0yb9/tJZ006f0Snda4J/Z5P0Q/YkdHRzN9+nTKli3L22+/zc2bN3O7SiITEhMTef/995k3b14m+6QLIcSjq0GDBvzxxx82gY/4fVv5vXRr2hXVAUkc2ZdAvjL+dO7WhS5dOvN0kTyUqWX7i9SePXvw9vamRCZb1enLDeWD584zc+oKNv74GRPWliDknTbkJYmzP05jwuztRJgAovj7+zl8unAnl8N+Y8knc1i17xbmt/7m+zmfsnDnZcJ+W8Inc1ax79bjOyiIBICEyKxHIIDw95EjdD98mJ07d+JtN4uLEOkJDw/n8OHDLstvy5YtbNmyhdatWxMSEnL/TC7W3VkgtXVHSrBC0wF2y+xnSrEsS+m+ksasJPYP+SnjZNjMlpJW8CKt7ipYpUnvWqBsgy0paRxdOlJaatw3hkjKG3atQmzG+8Au4GG1roP4ie17zl3fbt68yeXLl51a15rRaOTdd9/lww8/BLAcbzExMUyfPp3Zs2czevRoxo8fn+m8Rc778ssvOXfuHAAzZsxwrrWHEEI84vz8/OjZsyeff/65pVWrMSychLKtKaoDbm3m58TGvDSkKf4FvTGeXs2ChNEMq+Fhk8/MmTMZO3asTVcZ53hRf9yXLAg/zrEIDz78ujwFDQA6qr+9mwuW9Xyo13MU9XqO4rXP7LLwqUfPUfXoOeo17N96HEnQQ4jMOnQIqlVzTVPiq1fBPrqb1rJMCA8P57nnnmP58uWULVs2ixV8MFevXr0vap3WMvHwUEoxb9485s2b5/K80w1+WIIeKV1aNLsAh962a4pN6w7r1hPWY39YBT3uWz/5/ZQgiWVq2ExsjHVwxJmeIM62GkmpW5rSaJrhaKyQjPJ1Qdz2u+++46WXXnrg9Js2bUpzuXXwI3/+/Ny+ffuByxDZK6WVR4p58+bxxhtvyAxhQognwrhx42jRogXjxo0jX758eDTqSIMvvuOLVbeIO3CNoHGv4V9QB6ZLfPtNGI3f7o51aOPkyZPs2rWL5cuXP3AdPItVpZ4Lx4Z+nEn3FiEyq00biIx0TV5798Lo0RATA3fuwIgRsH//A2cXFxdH165dmfjGGzRdtMg1dXwAO3fuZOzYscTGxnL79m2GDh3q0hYE4tG0bds25syZQ3R08nS6mj65K4t1dxa7ri2WVhh2QRBNd///wbaVSEqAwqZFiM6qy0kylfwfm5YTdt1lrGd7saRJR0q5mt3AIWmlsQneJJebZt6WgT7S7/piEwdJa5yRDOpsncFD0JgtJiaG69evs2PHjtyuikjHl19+yfnz5y1/x8XFMWPGjFyskRBC5JzAwEC6detG+/btuX37NvoyA/h6x5e8EjyQN6e/ntzNBZKOLmPtnepUtmpqcObMGdq1a8fUqVPJ68rBnUW6pKWHELmpe3cICYFjx8x/16kDn3/+wNm9+OKLNGjQgBcGDoRx42DZMhdVNHOCg4MJCQnh1KlTADz11FMsWLAgV+oinKNpGnXr1qVu3bpZzmvhwoU2f+t0Onr16sWkSZOoUqVK6hv6tFp6WAcorGZn0Vt1b7EJZqSMq5GyIaQ+8Dv1SmO8EEv3GfuuJPY7zaosm/pnkMY2cXI6R3vU0ZggGUQz7pvpJb08MhfpqFq1KkOHDs1UGgCTycSSJUsYMmQIcP+xAlC0aFHeeOMNVq5cSZcuXTJdhsh+9q08UkhrDyHEk2TOnDmMHTuWFi1a8Msvv1C4cGG7NUxc3raDa77PWVp5HDt2jLZt2zJp0iSGDRuW01V+YknQQ4jcpNPB5MkQHGz+OyQkE03hbc2YMYOIiAiWLl0KCQkurGTm6fV6Jk2aRL9+/QAICQmRwVQfAZ07d2by5MlZzsf6QbZ37973BztS6PTmAUxTWlBYWkdoqdPWWgYltW7xobN935KO5LRWARGddVAjrWVpdZeBdAMJlsCIXdcZ61YiKY0y7Lu/2I/HYV1USgDFZtwOq5YX1l12bPK1K8R6Xfv3NZIHQLULtGjW22uff9qaNWtGs2bNMl4pDUopZsyYYRmpPigoiBEjRgCpwY6XXnqJPHny8N1332U6f5Ez7Ft5pEhp7SFjewghngQ6nY5PP/2UiRMnEhgYyKBBgxg2bBgBASkDliYRHn4DffE87PvrLxZ88QWrV69m9uzZ9O3bN1fr/qSRoIcQmTVuHHh5uS6/Hj3MY4S4u0OnTg+UxYYNG1iyZAl79+59gMGQssfzzz/P1KlTKVCgAO3atcvt6ogcpNPpCA4OZtKkSVStWjX9FfV6MFiNjaNp5lYdKWN7WP5v1b3FpgWIddDDKihgWW5VljMxt7RaiaS13NnZWCwBiDTydKYy9uunNw1upjfUevWcDUZqmnbf1Hz2wQ7xcDMajcyZMwcfHx+ioqJs3vPx8WHlypW88847afziKYQQjx9N0/jggw8YNGgQCxYsoFGjRlSpUoVy5cqRN29ebt+oQNimTvT9LIZhw4Zx8uRJ/Pz8crvaTxwJegiRWW+/nfU84uIgNBT27YN//oHChc0PgGPGQGAg1K8PNWuCh4fDrP755x9GjRrF5s2bKViwoHmhpyc8wMwKWRUXF8fhw4fZt28fx48fx8/PDw8PD15++WWqVatGUFAQNWrUwMOJ7RKPrmPHjqXdssOe3i25awupLSVSgh0pwQy9VfBDp0+encUq0KHTpa4Ddt1VrFuBOOrikl7rj5TKOQhY3Bd4sWsFklFsIb20gLnZhfVYIiq1240lGJNB/um1NklzMFbN5n/ZQSnF2bNnqVChAgDt27dnwIABEux4hOj1eg4cOADA2rVr6dq1KwBTp05l4sSJuVk1IYTINRUrVmTGjBlMnTqV7du3ExERQWxsLPnzP83w0WVo0qQJOuuxwUSOkqCHEDlFKdi1C2bPhk2boFIlCAqCGjUgZRyFmBg4cAC++AL+/dfc8mPMGGjcOM0Hrlu3btGtWzfmz59P5cqVU9/QNLD7NTX7NkuxY8cOZs+ezU8//USVKlUICgqievXqlvEhoqOj2bdvH3PnzuXMmTN06dKF0aNH8/TTT0u3l8dQlSpVMJlMHDhwgKCgoPRX1BvMrxQ6/f3BD51VK4+U4Ibeehpbq+AGpAZFUlqEpDVeR3rjeTjztJ9et5j7WnNkIi/7fAGb7ibppc2MzKzvzKw0D8hoNFK5cmWSkpIA8Pf3z56ChBBCiFzg4eFB+/btc7sawo4EPYTIrAED4H//Ax8f59Ps2QOjRplbeIweDYsWQf78Gae5fds8EOkLL4C3N8ydCw0bWt5OSkqiZ8+ejBgxgrZt29qmNZng/HkoXz4TG5Z5u3btYvTo0RiNRkaPHs3SpUvJly9fhmmioqJYunQpAwYMoGDBgsydO5f69etnaz1FzktISKBJkybExcWlv1JKICPlCTul1Yf1tLIprTD0VgEO64CHzirAkZLWEofQ7Naxa91hPRVuei0/LHmm8wIctuSwXsE6jfWydLuuWGeTVlAlrTTW43hYvW/TVSZllWyMcAghhBBCPASkjY0QmfXzz84PFHrvHowfD889BxMnwvHj5qCHo4AHQIEC8PLLcOIEvPkmdO0Kb71lDpwAL7/8MmXLlmXcuHH3p42PN48Tkk3u3r3L2LFj6d27N++99x5Hjx7lpZdechjwAHOf77Fjx3Lq1CnGjRtHp06dmDhxIvHx8dlWX/GQsp+iVp/yMiQPXmq3LGVd624r9gEK63FAdPYtQtLqukI63VEyaoWRIo3BTm3ySO5WY73c6QCDdQsSu/QqjXLtF6VVX6UymOhFS/OfQgghhBCPOgl6CJFdbt+G5s3hwgXz+B09e2a+STqYH9x69TLncfIktGzJ5zNnEhoayrx581xfbwciIyNp2rQpERERHDlyhK5duz5QFxWdTkefPn04dOgQhw8fpk2bNsTExGRDjcVDS6+3fVnG7UjpzmIAzbpVh2bb4iMlnfUDvnXrDbD6f/LUt9atPGzG8rCfCcauJYd1ixBLixH7ViJW22YfMJXe8M0AACAASURBVHHEfh37wEvGiW0bftyXVxp5WFqapFFuNtI0zTJbixBCCCFETpCghxDZ4fZtaNPGPCDpqlXmgUqzys8PfviBu1WqsHzyZFYvW4a7u3vW882EyMhIWrduTbNmzfj6668pVKhQlvMsVqwYa9euJSAggA4dOkjg4zGh1+t56623Ml5Jp7d92bfusPm3LjUAYgmMWE1BaxkQ1SpwobN/2QUn7Ft1pNsaxCaigG1AxFEau6YVmtU/rAMU1i050hrXI6V1h30aS55pBDBS0iirfNIMauRc0w69Xs/s2bNzrDwhhBBCCBnTQ4jMungx41lVjEbo0sUc8Pjf/x6sdUd6dDq8Fixgr8EAw4fD5s3mhzl7ej0MG+a6cjGPIdKpUyeaNm3K//3f/z1Q64706HQ6FixYwIsvvkhwcDAbN250af4i57m5uRESEpLxSsVKQZ68yS0pkoMWCrsggi7tlhUpY4FoOvPApoWLmNMX9IXEhNR1dMmtNnRWrTssM8KkdH+xC5KktPrwTD7PvfJCfh+rqXI1u4CLzqqedu9b/53yPoCbe/K2W70PqS1J7McRSdmO+7rPYNvKxc3DKghity/T6sJic56l01pFCCGEEOIRJkEPITLL0zPj9z/5xPzLqqsDHil0OvOgpk2awJw55tld7Lm7w6efurTY//u//8PT09PlAY8UOp2OL774gkaNGjF//nyGDx/u8jLEQ2biLNfn2e8l1+fZ8FnX5+lfwfxyJR9f8+shZjQaGTZsGIsWLcrtqgghhBDiCSHdW4TIrGPHIHm6xfucOAHTp8OSJWm3wHAVvd48s8uUKXD6dPaVk+zo0aN8/PHHLF68OFvnGDcYDCxbtoyJEydy7ty5bCtHZL+EhAR69uyZ29XIMd999x1NmzaladOmbN68Ober89BSSrFs2bLcroYQQgghniAS9BAis5o3h1u30n5v6lR4/fVsnyoWgEqVYOxY+OCD+99LSHBp95YpU6bwzjvv4O/v77I801O1alVGjhzJtGnTsr0skX1MJhMbNmzI7WrkmKtXr7J79252797NtWvXcrs6QgghhBAimQQ9hHCV8HDYtAlefDHnyhwxAtasgRs3bJcbjbB8uUuKuHz5Mtu2bWPIkCEuyc8ZI0eO5LvvviMyMjLHyhRCCCGEEEI8fiToIYSrLFgAwcFQsGDOlVm4MHTtCtnYP37+/Pn07duXfPnyZVsZ9ooWLUqHDh1YsmRJjpUphMh+er2eS5cu5XY1hBBCCPEEkaCHEJk1ciR4ed2//JdfoFevnK9Pr17msrPJL7/8QnBwcLbln57g4GAZG+ER5uHhQVRUVG5XQzxkNE2jePHiuV0NIYQQQjxBJOghRGaFhIC3t+2ypCQ4dAjq1cv5+gQFwd9/g8mUuszTE86ezXLWCQkJHD16lLp162Y5r8wKCgpi3759KKVyvGyRdZqm4elopiPxxFFKcfny5dyuhhBCCCGeIBL0EMIVTpyAkiWhQAHH6yZchOVz4edTqcuiDsE3v4Ep/WTpKlwYChWCf/9NXaZp4IJfU48ePUr58uXJmzev45UTLrJr+VwW/nyKuynLog6x+pvfCHuA7SpRogSenp4yi8sjymQyceTIkdyuhnjIGI1GypYtm9vVEEIIIcQTRIIeQmTW0KFw+7btsgsXoEIFx2lNV2D8BHD3g0nd4LcEwARLxsLA1+Ck8cHqVKECXLyY+rdS4IJfUy9cuEAFJ7dr5fgJbHX34/ikbrybvF3nl4yl98DXWPKA21WhQgUuWm+XeGQkJCRQv3793K6GEEIIIYR4wknQQ4jMWrcO4uNtl8XFmbuUOLJ3Dvi/A92KQGQERJgAHTw/BIpoD16nPHng3j3b+lSs+OD5JYuPj8fDw8Pxenvn8JP/O0zuVoSkyAjCkrfL//khdCyi8aAdVPLkyUNcXNwDphZCCCGEEEI86Qy5XQEhHjk6nXkMD2sGw/3L0uLeDPpXhr8WwM2nobG7eblfI6j/K5TRQ3wk3NKguI/zdUpMBDe31L+TkkCvdz59OgwGA0aj41Ya99ybMbR/ZYx/LeDnm0/zZvJ26fwa0aj+r5Qr82B1SUxMxM16u55ASinGjRvHxx9/nK3lXL58mZCQkGwtQwhN0xg8eLBT6969e5dGjRpRqlSpTJVhNBrRZ+L6d/nyZcaOHZupMoTIKqUUkydPZsGCBdlazuXLlxk3bly2liFEetatW0fp0qWztYzLly/ToEGDbC1DPPok6CFEZuXJc39Lj0KF4No1x2mfagvEw4frodlE8EtubJV0FgrVhS2zISw/eF2Ab8/BzHlQxd1xvtevm+uQIi7OXM8sKliwINec2C6fp9rShHh2frieG80m0slquy4XqobnyJrUPZmPPMmLNbeqvLjkCwaWy/jB5Pr16xTMySmAH0IhISGMHz8+R8rKnz+/y/LS6/Vyoy3uo9frnX7I27x5MwkJCZnKXylFcHAwH330UabGDilcuHCmyhEiq8aPH8+wYcNypKycnHJeiBRt2rTJsS7KzrRKFk82CXoIkVmhoWA/sGetWnDkiLmFhcHBaZVwCLZeh7HtUjuYHf4NqjwF04fBq//Acx6wIwCWHYJpT2WcX3w8HD8ONWqkLnNzgwEDMr1p9urUqcOhQ4ec++U04RCbtl6nwdh2+CZvV8Lh34iuVAM9r/LxkADcNFCRv7FqfxCdHLT+uHv3LmfOnKFatWoPvgGmi6wc2Z8v8o7n24864acD44VveGnAAvK9vpKPOhZBh5HzK4YzYIkvb6+aRvtCD1evv4IFCz6SgR83NzemTZuW29UQj7CiRYtmOs3WrVv5888/Wbx4MUuWLMmGWgnhGgUKFKCAM4OfC/GIypMnT7a38hDCWQ/X3b0Qj4J8+cxdXKzlzw/+/nDsmOP0tw7AxQBo6Ju8IB42hkPXdrDpEHQrAEnn4Yw3NK7kOL/QUPP4HV5eqct8fMAF3SEKFSpEkSJFOHnypMN1TbcOcOBiAA0a+iZfWOI5sDGc6l2CaNO7D82faUKTRmW4dbIg/V5vhaPYwsGDBwkMDMxa9F7dJfzsac5euknKyCAqNpwz/57jyi3LEmLCznL67GVuyfAhQmQro9HISy+9lC15K6UsXbSWL1/O6dOns6UcIYQQQjxaJOghRGbFxKQd3GjUCLZudZxe7wZ6D8iTPHDp6WVwtwNU0kPBQrBzHgwYCf9ZBh2dGNdj61Z4+unMbUMmNG7cmK1ObJdO74ab3oM8ydtlPL2MpXc7MKBqWcqXcQdMXFn5BSca9qeBt+Nyt27dSqNGjbJWeX0VXtl8hfOrBuGffLUzBI5j29VzfDugdPIF0ED18du5enYFfUvIJdFVEhIS6Nu3b25XQzxklFLZNobBtm3b2LNnD2AOrnzwwQfZUo4QQgghHi1yhy9EZp08Cc8/f//yoUPh88/BZMo4vW9HeP4uhMyCeZPhwxvwdsfkN/XQcgQsnQ+7X4CFDn6pTEqCefPgxRdtl48bZ55G1wWGDh3K3LlzUcrBHCy+HXnx+busCpnF4nmTGfHhDZ5/uyOWkUbif+ez7xTNnvLKKBfAPIDp/PnzGTp0aJbrL3KHyWTihx9+yO1qiCeEdSuPFNLaQwghhBAgQQ8hMq9GDbh0Ca5csV3esCEUKAA//ZRxel0xmPc7vFYHqgTDvAlQSAfxp2DxGrgLuJeHloVh9peQ0aQwGzZAiRJQr17qsps3YfFi24FNs+CZZ57B3d3dcWsPXTG6zfudta/VoUSVYD6YN4FnrfqwxO/+irW6qlR3YlzWNWvWEBAQQM2aNbNYeyHEk8C6lUcKae0hhBBCCJCghxCZ5+4O/frBF1/YLtc0eOMNmDABHM444Al1WsKz1SAlCHBpDUz9EsKNgAli7oJvkfTP0rg4c1mvv267fNEi6NbNPPaIC2iaxuuvv85bb71FYmKig7U9KVmnJe2erYafTXDDyJk/DhCdr4DD0ZPv3r3LxIkTc2zGEiFEztHr9S5vfZFWK48U0tpDCCGEEBL0EOJBvPYa/Oc/9y8PDoYyZeC99zKfZ/kB8FYD+G0D/DgLtpeG/76Q/lk6aRIEBpoDHNZ27YLRozNffgb69euHn59fFmbjMBJ1Oxp3D080B2u+88471KtXj06dOj1gWeJh4OHhQURERG5XQzxkNE3L1FSyzti+fTu///47OvsBpjEHRGQWISGEEOLJJlPWCvEgypUzv+xpGsyfb57CtnlzaNnS+Tx1xWD4m3D9DIRVh19eT20FYu+XX2D5cvPMLZpdGGH9+vuXZZGmaSxcuJA6derw7LPP0rRp00zm4E7DCT+x3VSKjOZi2bhxI6tWreLIkSNZqa54CGiaJtMxivsopbhx4wZFihRxWZ4tW7bEaDQC0L59e37++WcArl+/TuHChV1WjhBCCCEeTdLSQ4isOHwY7tyxXVasGKxcaR7s9NdfM59nkQpQs0L6AY8tW6B/f/juO7B+cEgZaNTFAY8UJUuW5JtvvqFnz57s3r070+l1BctQ1lef7vs//fQTgwcP5ocffqCQi8YjEbnHZDJx6tSp3K6GeMgYjUaKFy+e29UQQgghxBNEgh5CZMXnn5u7uth79llzUCI4GNaudV15P/wAffvC6tXQpInte2+8AatWua6sNLRs2ZJvvvmGHj16sHHjRpflu3LlSgYOHMi6deto2LChy/IVuSchIUEGohVCCCGEELlOgh5CZMWMGeaWF2nN2PLss7BuHbz6KgwaBFFRD15OZKR58NS33jLP2GIf8Ni1C77+OnPdaR5Qy5YtWb16NaNHj2bo0KHcsW/pkgk3b96kd+/eTJ48mZ9++kkCHkIIIYQQQgiXkqCHEFmRP795ethJk1K7l1h7+mlzFxgvL/Ogox98ANeuOZ9/eLh5UNTAQPMUtIcOwVNP2a5z8aI5IDJvHvj6Zm17nNSkSRNCQ0PR6/UEBgYybdo0rl+/7nT6q1evEhISQrVq1ShevDgHDx6knvW0u+KxEB8fz7fffmv5u3PnzgQEBBAQEMBTVsfxr7/+alkeEBDAsmXLLO/17NnTsrx27dqW5Xv27LFJs2DBAst7ffv2tSwPDAy0LN+/f79NmtmzZ1veGzx4sM17KUJDQ22Wz5w50/Le8OHDLcunTp1qWR4WFmaTxnogzTFjxti8Fx0dDcC5c+dslk+ZMsWSZvz48Tbv3bhxAzCfR9bLJ0yYYEkzYcIEm/euXr0KwI0bN2yWW8+SNGXKFJv3zp07B0B0dLTN8jFjxljSTJs2zea9kydPWj576+XDhw8HzGO99OnTByGEEEKInKIpldaTmhAiU+7eNQc2MnL4MMyeDd9/Dy1aQKNGEBQENWqYp5dVCqKj4cgR2L8f9u41jwkSHGyejaVGjfTL3rIFunRx/XY54eDBg8yePZvVq1fTqlUrnn76aYKCgqhRowbe3t4opYiOjiY0NJT9+/ezZ88edu7cSe/evRk1ahTVqlXLlXqL7GUymTh79ixFihSxDGh68eJFEpKnc9br9ZRLHgw4NjaWsLAwS9rChQvj4+MDwKVLl4iPjwdAp9NRvnx5wDy1ccqDPICvry8FCxYE4MqVK9y7d8/yXkoQ4969e1y5csWyvFChQpbxY9JLExcXx+XLly3LCxYsiG9ycDEsLIzY2FgAli5dygcffADA4sWLeeaZZyxpfHx8LANqhoeHExMTY3mvXLly6PV6EhISuHjxomV5gQIFLIN9RkREWIIjAGXLlsVgMJCYmMiFCxcsy/Pnz4+fnx8A165ds2mFVaZMGdzc3EhKSuL8+fOW5fny5aNo0aKAeeDP27dvW97z9/fH3d0do9FoCYAAeHt7U6xYMcAcRImyasVWunRpPDw8LJ9/irx58+bIWB4ykGnOWrt2LV27dgVg6tSpTJw4MZdrJIQQQtxPgh5CuNKZM5CQAFWrpr/OrVvmLir79pmDG8eOmQMXmmYOnFSrZg6G1K8PHTtC8oPcfRISwD290U5z3s2bN9mwYQP79u1j3759HD9+nLt376JpGl5eXlSvXp2goCDq169Pp06dZGYP8Vj59NNPGTt2LADLly+nX79+uVyjJ5MEPXKWBD2EEEI8CmTKWiFc6cABGDkSpk2DIUPSnkmlUCEYMMD8ehBKmcfveOstc2uQ0qWzVmcX8fX1ZeDAgQwcODC3qyKEEEIIIYQQgAQ9hHCt554zt/IYMMA8uOiXX7o2/xs3YNgwOHXKPCvMQxLwEEIIIYQQQoiHkQQ9hHC16tXhzz8heUA/AO7cMQ96mlUGA9StC998Ax4eWc9PCCGEEEIIIR5jMnuLENnBzc0c/AAwmaBBA+jUCdascX72luvXYf166N4dFi0yL/PxgYkTJeAhhBBCCCGEEE6Qlh5CZDedDv7+G779FubOha1bzbO4AGzcCMePmwMhhQubxwPx9jZ3X3nqKahXzzx7S69eubsNQgghhBBCCPEIkqCHEDnBywteeMH8shYXB+HhcOIEVKoESUnm5RUrmmd50UljLCGEEEIIIYR4UBL0ECI39ehhftnTtLRnfhFCCCGEEEII4TQJegghhBAuFBUVRVRUVG5X44mUmJho+fft27cxGOQ2JzvJcS6EEOJRIHcDQgghhAuNGTOGMWPG5HY1nngBAQG5XQUhhBBCPARkwAAhhBBCCCGEEEI8lqSlhxBCCJFFpUuXplWrVrldDSFyTbly5XK7CkIIIUSaNKWUyu1KCCGEEEIIIYQQQriadG8RQgghhBBCCCHEY0mCHkIIIYQQQgghhHgsSdBDCCGEEEIIIYQQjyUJegghhBBCCCGEEOKxJEEPIYQQQgghhBBCPJYk6CGEEEIIIYQQQojHkgQ9hBBCCCGEEEII8ViSoIcQQgghhBBCCCEeSxL0EEIIIYQQQgghxGNJgh5CCCGEEEIIIYR4LEnQQwghhBBCCCGEEI8lCXoIIYQQQgghhBDisSRBDyGEEEIIIYQQQjyWJOghhBBCCCGEEEKIx5IEPYQQQgghhBBCCPFYkqCHEEIIIYQQQgghHksS9BBCCCGEEEIIIcRjSYIeQgghhBBCCCGEeCxJ0EMIIYQQQgghhBCPJQl6CCGEEEIIIYQQ4rFkyL2i47h65CDn7pgcrqnlLUXN2mXIc2kLM2dtw2/gJAbW8sqBOmYnI9f/Xs8hr460rpq1j8F0+ywHj4URp5xYWVeQgPqB+EafYveGNRzx7cfo/5R4LKNfxqiz/LFlI9tiGvDW4Kdwd5TAdJ2/f/iGdXuOcT1PJZq0bkKpa7sJ9enHyHbFHsF9ZCTir5Us+2E3J295ULZZP0b2CcI3UxuSROSp3WxYcwTffqP5T4lHby88spJucWLXetYe9WPA6PYUd3bXG69x6KdN7DgajlY0kKdbtSSo+CV+2aJo3b4qBtN1Tvz5LzdNthcMTe+Bd8Gi+FcojU8WvxlMsRfZv+1X9v17hdsUIaBaDWrWrkGlYp5c/HkdYQ278bSP7XeArkB56lUvbneemog8vZ/jEYlYaqvLT7lAX27+cw5zUh0FytejenG7M9wUyen9x4lITN1OXf5yPF2jRNY2LpskRWb/NTnp1gl2rV/LUb8BjG5fPJNlmIg68zf/hCekfhaaHt+K9Smb+A8Hz93B+ttc8yhOYN3y+OgAYwT//HWayOQVNPdiVK1XgYKP4uXkgc/L25z94xfWb79H4zcHEuTwC8nZbM/yxy/r2X6vMW8ODDKfP9lUVrYyXmLLzFls8xvIpIG1eNTv8MSTyMilLTOZtc2PgZMG8sg/pmRVUiSndm9gzRFf+o3+Dzlz+2ji9tmDHAuLw7lHogDqB/oSLfe5qXLlc8shKtfEqSsHNqgvhtdT3hoKvZ96qtcwNWLECPNr2FA1uHdHVb9UHuVW9XX1e7xRXf6shfLQDKri2F0qPvcqnkVGdevwt2pSjxqqoKGACl4Zm+Uc434epkrpdSpvqbqqeYduqsdzPVTT8h5KQ6+K1Omoevbsrrq0a6KqFHZXmvuzavqG+Wr0M8WVXnNTQe8dVUku2KqHi1FF7FmkJnSvqrw1TXn3/EY53MvGMLXmxRrqqTd/U1F39qn/tiisdKDATTX48MQjuI+S1IUV/dRTvZao8zHn1Df9yys3vb96aUuc81kYI9VfC0erZ4rrleYWpN47+ujthUeV8fKv6n8vNVHF9Jpyqz9VHXNy1xuvrFOvNiymitbrq975+H/q/94dof4TWFKV8i+sCnRYqG4ppZTxmjry02L1apNCSgdKV6C66vziKDVyaD/VuVF5VbBASVWv+1vq6yPRma943Bm1dlI3FeiTR5UI6qqGjP9Azf5itpr21hDVKqCg8i1ZTOX3bKA+PJGklIpTVw6uU7P6VlVeGkrzrKbG/HxDGW23SEWe3KlWTe+uKrhpyjOwv/r0x33q8u0r6uC6WapvVS+loSnPamPUzzdsUypjpDq5c5Wa3r2CctM8VWD/T9WP+y5nfpuynVFF/rUwm6/JRnX51/+pl5oUU3rNTdWfeuwByjCqW0fXqg86l1FuGgpDZTVo4Vb1zw2jirtyUK2b+Zyq4KYpMKjyz32i1v9+Vt1JSZoUrg6u+T/Vo7xBuQf0UNPXHlW3jBmV9XB60PMy6dwWNfutbqqyl6Y0n97qu3uuqE2SOrdltnqrW2XlpWnKp/d36l62lZX9jJc/Uy08NGWoOFbtenRv8MSTzHhZfdbCQ2mGimrsE34QGyP/UgtHP6OK6zXlFvSeyrnbxzj187BSSq/Lq0rVba46dOuhnuvRVJX30BT6IqpOx56qZ/cuql2TKqqwu6bcn52uNsyX+9wUufe55YxcDHqYGa/OVi3dUXh0VkvTuMdOOr9QdW34qvlLMOZftXn5N+r38EfwbilZ9PGt6ocNG9Wn3UsqveaaoMe9tQNV2QaT1J8xliVqzYAiSoebajzjtOXm1nj1O9WvQhP133+TVNyWEcpf/7gGPcyMYXNUK3fngh7xe8aryp611LsHEs1pI4+pje+1U366RzTocW+bGlkuj2r+vyvmh8iYY2rd8k3qRIyjhHHq+P7DKsrq7y0j/JVevgxyXtxmNby0PhMPV1Fq7aCSylC4p1oRYXWNvHNYfd7dX+Wp9546mmi1eFkXlUdDuTf/VF20rJ6ormwYpap7akpXpIP64nQmPvPYA2pm2xLKza2U6jTrTxVpf5mOPqqW9quk3N1qq0kHrSoSt0uNrWRQoCl9ia5qUVplJoaqkHoFVMfFN20Wx+0aqyoZUGh6VaLrIpV20hBVr0BHZZc0l9mfZypHrslxm4er0voHDXqYGa+tUr2L6xSGQPXmH/HWb6hvexVVOgyq0rjd9/8wYQxTc9uUUr2+vfGAJT8kMn1eJjNeUJ886+7yQITxwifqWffUoEd2lpW9YtS/m5erb34PV4/uHZ540sX8u1kt/+Z39Qg/prhO3BY1wl+fww/P99TagWVVg0l/qtRHojVqQBGdwq2xmmG5STCqq9/1UxWa/Ff9myT3uTZy5XPLGbneaEXn5UUeDUBDl0Zt9GV6MnpwLXMz2LwBtO73PA2L5nq1H5h3lZZ079CWTo3Ku6z5sineQOPhowjKm/F6uuKdGRnsT8I9BQYDeheV/7DSebjjpjmzZhInt/zKWVMRiiW3Vdb5BNLy6bJ4OpX+4ZN0ZCu7Lptw93AzH2d5A+nUrz2VHRwjUTvfZcDE7URZtVM3GB73I+VhpSdTuz7hMNt/i4DCZSnnY3V1yVeTYfM+orsunDCjVe6eHsldSTSra5GBEu3fZXQzT9T1zcxfcZwkpwqPZvuEPry1+RplXljAsrFP4WN/gfOuxsAvljKuupG7d60OMH0evLwCCKrrg7q6lrF93+OPGLu0hpKUKFaEUqVtD2B9Hi+8AoKo66O4unYsfd/7g/uTlqBYkVKUdnDs56S0zrMcuSbrs16GrkhnRvUOwJB0itXf/kl86ht0HdWbAEMSZ1Z/xc67dgnv7OK3iLb07+CbxRrktkyelxYeuLu5ui6Ahzv3Z5tNZWWrvAS07sfzDYs+gl1JhTDLG9Cafs835BF+THEhwwNeK7PCRLyhMcNHBZHxV76O4p1HEuyfgPmRSO5zU+XG55YzHu7T0nSTc+cVzYcNoLqlj3kCUVH2d1PJq8dd49yZMGKNab6dCfFERcUBkBR5iUuRdrf9pljCz57jetyD5q+hOXiYNkaHceVWglO5ebacwoxgPyc+THeeem06L5S/v8N+QtQlTp6+Sky6+85EbPhZzj34Rj8wY0w4p4+fIeJu+uO/xEdFEQeQFMmlS5FOPqhZSuDypTBMmgeenk530CYm/DTHz0SQQbWyjaN9khQezvVMngcJp5YybMAsDt/NqCdkAlGXTnL6agzpHypZOT/uEhmZnDApiksXrqc+VNlwcI4aYwg/fZwzEXdJ9+O5G0lqUZe4cD3tkszZOT4GTfE3uXg+gtgMjgdTbDhnz10no12TFHmRs2EZ7N90mb+okv79llkrz9mcA7oiHXmxhz/KqU6u+Sjk4wGYuHX9hlP1MJ5exPuLTpLoXp+hY1tTML0VvRowdmJfKnjZnWf6cgxaNI++5QzE/DWN/q/8SJjNfvTAw90dD/f7L5z6coNYNK8v5Qwx/DWtP6/8GGb7mXt44O7uQRpJM5DArZvRyfkkEXXxNBcjba/HxttXOB8em+7xld5n7dx55sw12dlrUBKRF88Sln5GmeRBg949qeqWxNnvl7Et1uqdBs/RuYIB46U1LN0UZZPq5sbvOflMH1p62+bmzDmRroRb3IxO3vikKC6evojtx2Tk9pXzhKd7Ujp/HXfuvMye78mE6Kuc/ucEl6Iy982WeSbib17kfET6x7XD67spnpsXzxORzj53dJ1MiIoizTs8J6/pt5ITG6OvcC6j76l0uWAfmGtA9KUTnLgYhfmQTCD2bhY+Pwdl3o28lbzfjERfOcfVE2hRyAAAIABJREFUjM53YzSXTp0hLCb9+mR8XjqxjzKSEM3V0/9w4lJUOvdqWcnfmbQOztMsHsMkRJHmY0qOHcMAJuKuneNMWGwG6TO+j3J43cnEPZQ5wygunTyd7rHpzD2UY560nDKDYD8n7uXdn+K16S9w/yORC+5zXfY5plm4w+8Z574zjERfOsWZsJiMn5kcfG6Pkoc66GE8v5yQ2YdIBGLO7mDplKG0q+5P/Ql7bR+E4k7w7dhOdBzxKcsXvsazZUtTu1UwQ18Zz+tvL2DvlVB+mNyZCnk9yd9iJmeNYLq5n5UzhtLQz4s8hfuw6i7cvbiHr/87ik61yvLM1G1sDWlF2ZJlKV93LNvjgYQL/Dz9JfoPfpl3Jg6lSali1Os/j4P2Py1m1d2tjK1ThjKBfVkR7vjs1xUqSQknf8XU+5a2XVdFsvO9tlQuV5kalUpRpFIP5h+zvmtM4MLP03mp/2BefmciQ5uUoli9/sxzZqONF9nwSgN883ji5d+edzedJSn6MF+/0pTiXp54FW/KqLk7uGg0r7vlvQ6UK1iPcVuuAWC6vpuZ/VvSbtgMvlo5h3FtqlKpyQvM/v2W+Qvj7kX2fP1fRnWqRdlnprJtawitypakbPm6jN1+/8XXFHmEdZPbUTJfKRq/EMLcVX8SHr2daX378v6W65iSDjH/hWCCg82vvh9u4+Z9u9/E9d0z6d+yHcNmfMXKOeNoU7USTV6Yze+3TICRixteoYFvHjy9/Gn/7ibOJkVz+OtXaFrcC0+v4jQdNZcd5o3m4pb36FCuIPXGbeGaExd6h/sk6RBfjHiefh/9SqRK4vD8oQQHB9P79W85l9H1Kv4gi2Ys5M9wI8YTKxjzfDB9Jm/kulWdVORO3mtbmXKVa1CpVBEq9ZiP7aHy4OfH3bPbWTh5CG2qluXZ6b+yZUoHKhXxo0y54viWbcvkbRGYcOIcNV1n98z+tGw3jBlfrWTOuDZUrdSEF2b/zi3zQcPZ7QuZPKQNVcs+y/RftzClQyWK+JWhXHFfyradzLaI1I12uL8BTDfZOe15eoxZwLbd65g5tBV1mk1gp9UhmHDhZ6a/1J/BL7/DxKFNKFWsHv3nHbRplXB7/zyGtGnLgPcWsWL2OHoPns3fMc5EKZK516VLhwDcTJf5/sXmdJn6Cxctn48Xzd58k9aeTuQT8zs7/45B6QpQp0G1NH5Ftmfi0vo17I1VGKq0om1ARj8R6CjW/U1G1L4/8Kor3pM5X71FkHcSp5cOY9DsYzgX9tVRvOccvnorCO+k0ywdNojZx5xLac94cTtz3h5Em+qlqDjiR05umEy3uhWpUj2QcqVrMfT7S9w98wOvd25A9cAqVCpZnDqj1nHV6jzJ8LN24jxzfE12dA1KcZv984bQpu0A3lu0gtnjejN49t9k5pBKj6H28/So6Ybp6jqWb4y02n+/89cVDYO6zqblP2I5lUxh/LjqPC16NyHlEHTmnEibkYvb5/D2oDZUL1WRET+eZMPkbtStWIXqgeUoXWso31+6y5kfXqdzg+oEVqlEyeJ1GLXuqtWDhrP70NnzMgvfkxmIP7WS8V3aM2TGj+zcsYIxjQJo+uYmnLgtyDTTzZ1Me74HYxZsY/e6mQxtVYdmE3am3ms5vL6buLlzGs/3GMOCbbtZN3Moreo0Y0LKhTCj62TMWXYsncLQdtXxrz+BvdZf3w6v6UbO/vQxr/VuRsXSDZmy40++GPQUZUqWo0KpogT2X85pJ+/Vs74PAG7z9/wXadumL+8u2sCmJW/Ro1V3+nWsR4f/O06SKYrQHybTuUJePPO3YKb5hpT9K2cwtKEfXnkK02eV1RNzRmUaz/LTx6/Ru1lFSjecwo4/v2DQU2UoWa4CpYoG0n/5aZsHLVPUYb58rRc9hk5i4crPGVLHn7p9ZrHX6ph3dF463EcZiT/FyvFdaD9kBj/u3MGKMY0IaPomm6wO6Kzk7zito/M0C8cwMZzdsZQpQ9tR3b8+E6wP4hw8hgHiTnzL2E4dGfHpcha+9ixlS9emVfBQXhn/Om8v+IPrDu6jMr7uZO4eykwRufM92lYuR+UalShVpBI95lt9vztxD+U8HYVKlnDQyiOFHt/Stutm7T7XtZ/j/Rx/zzj1nWGK4vCXr9Grx1AmLVzJ50Pq4F+3D7P23rILxjn43B5Fud2/RkUtVh09ULjVV6MWL1fLl5tfS+f/V418pqQKGP2rilNGdevMIbVndjflp9Mr/xFbVOpwjLFq9+vVlFfgm8rcvdiori7rpnx1euX/3CdqzcY/1IV4pdS9dWpQUZ1yazwjtd+3MUJ93tpdad491TexSt05H6p2zeygfHV65RfUR01Z+Zv6+bMRqsfgeSo08Zba/HI91fzD0OS+ykZ1ZXFnVUjnpiq9vF05HCrBhlGd+/gZ5ZbemB73dql36vmoPGUHqe+vPUjHwLTH9LAW9+toVU6vU4VrdlNvrjisbsQnqbD1L6pKBp0qNuBHywB0tza/rOo1/1CFJnfQNl5ZrDoX0im3Si+r7c5sdPRPalgZvTJUeFntSOnknXhATazlpgzlx6hfrcbVjP/9TdWk11cqwqiUiv1ThTTwUeWHbFCWrvixB9VHLXyV3qeJ+vBAnFJ3zqvQXTNVB1+d0vsFqT5TVqrffv5MjegxWM0LTVTq1gLV3iN1TA/jzV3qg+DuasKGCyrRppKxakX3vErz6KAWRVrto+Q+9tZjesT+GaIa+JRXQzakDhAQe/Aj1cJXr3yafKgOxCmlVLT6aVgZpTdUUC+nbrQ6MLGWcjOUV2NsN1q92aSX+irCic/ZmX2S7N4PfVRBnbtq/ulF5/tH3/tR9S+sU+5NZ6rzlkRx6tfR5ZReV1jV7PamWnH4hopPClPrX6ykDLpiasCPliMlS+fHvfCTas+sjqqwTqcKVO2m3lm+R525eELtmNtfVcmjKZ1PK/XZv0kOztFY9WdIA+VTfohK/Xhi1cGPWihfvY9q8uEBFafuqfCTe9SsjoWVTldAVe32jlq+54y6eGKHmtu/isqj6ZRPq8/Uv0nO7+/Ev95WNQoHq5UpGxm3X03qMFJtSvk4bm1WL9drrj5MPYnU4s6FlM6tkno5+SRK+vcL1bF4eTVwdWp/9pi9b6qabpkbMFFF/6U+bl/SPNCkplc+1Z5TH2w6q9IavjZ2ZbAqoKHcm/9PXTaa99XlP1aot9uUVu56H1VzyAp1OjGNhPd/esnXG0159/g67c86PlrdunlD3biR+roZlTzYQOI+NaFeezU33KiUSlSnF3VVJfSa0rxqqfHbU07IGLWsW6B6ZaftSBGJ+yaoeu3nmvtPJ55Wi7qWUHpNU161xqvUpMtUt8BX1E5nxpVLjFf3zsxUzTw05ebfQo1f/IcKi1fKGLFaDfTXK0OpINVt1EJ1OFopZbyhNg4LUAa3eiokNHlHOfFZp32eOX9Ndu4alKT+/aKjKl5+oFpt6Vweo/a+WVO5PfBAptaS1PEPGyp3TVMFOi1SYUallEpUh0OeVo1ffVu1K6Apzau5+vSsuRTjuf+pNg0nqv0px5Mz+ykDifH31JmZzZSH5qb8W4xXi/8IU/HKqCJWD1T+eoMqFdRNjVp4WJk/po1qWIBBudULUSkfk3P70Pnz0qnvSWO4mts6E+NsJP2rPm7mpdxqT1IpQ+Bcm99e5bEbE8cYPle1vm9Mj0yWpRLVX2/XUIWDV6rUy9gk1WHkpuRrhxPX98S/1Ns1Cqvg1Auh2j+pgxq5yfF10njrjDq0Z7bq5qdTev8RKnW8bWeu6UoZk+6onWMrK4Muv6r8n/Fq6f5rKj7xslo9uIIy6P3VCKcG8HbBPlDx6p/P2qrilYaoNVdTjhijujqvnfLW3FTdyaHJ9x731LpBRZXOboyBiM9bK3fNW/X8JuW+0FGZRpV0Z6caW9mgdPkrq/+MX6r2X4tXiZdXq8EVDLb78t4BNb1ZBdX649DkMc6M6uKc1iqv5qYC3/wjuThH56WjfZSRJPXvx82Ul/Xxe22+ap/HTdWedDB5v2Qlf8dpHZ6nWTiGlfGWOnNoj5rdzU/pbI65nDyGlVKxu9Xr1bxU4Jt/mI8Z41W1rJuv0un91XOfrFEb/7igbmR0HxXn6LqTiXuouF/V6HJ6pStcU3V7c4U6fCNeJYWtVy9WMihdsQEq5fbR4T1UVqU5poc1193nuuxzTIPD49ep74x76sD0ZqpC649VaPJlxnhxjmqdV1NuKc/RTn5uj6KHqKVHNGGnTnLy5ElOnjzBiRMnOR0ekxx10lGwfC0aNK9LGfsfEeP/ZOX3J0gqWpJSBvO6xbv1oW0hRUSkOw3aNcDfHdAMGAx27Zt1bjbL8pWpwdNNa1NCr9BX78VrwY1pO/pzvl88nMAzC3lvKQTVMXEiNJTQ0KNcL1ebyoYkzqz/gb8eKCKZDs9neH//de6cXkKPItn5Eekp3TWE9/vUxNddT7HWfWhTWuPmP0eSW1+cZKF5ozGdCCU0NJSj18tRu7KBpDPr+cGZjfZuxZDeVeD8elbtTm6KZajJ8z1qoV1Yz6rfUppnJXBg7UGqD+yCn87ElRVTmHWgFL2Gt6VQSl5etXl56mAqxuzloynfEJ63DDWebkrtEnqUvjq9XgumcdvRfP79YobXsP4lWZF44UfeGPEVxSev4IMO/g82V7PpCiumzOJAqV4Mb2upFV61X2bq4IrE7P2IKd+EY8KbVkN6U4XzrF+1O7l5qIGaz/eglnaB9at+szQZTTiwloPVB9LFYVM8J/dJdnW10Zema8j79Knpi7u+GK37tKG0dpN/jlzEfKhk7fzwLFqJoEbV8NPpKPqf8Uzq14jypSvT7KUFLB5VGV3UThYtP0qeDM7RahErmDLrAKV6DSf14/Gi9stTGVwxhr0fTeGbcHeKVgqiUTU/dLqi/Gf8JPo1Kk/pys14acFiRlXWEbVzEcuPJji9v5OuXCbs9gE2bw0z/6rmUZuBQ1tQUAMwcnLheywliDqmE4SGhhJ69DrlalfGkHSG9T/8RTxRrHtvCpv9+vBKp9T+7HnrtqKR0/NhJvOuz6vr9rH54wHU89W4few7JnaqS6PhKziRTkvIpIOf0aNxDUrn98G/8Wv8Vm4kC3eG8tfCPlRw6kRJIioqGoWGd4F8aY4ZYbwRyk/LJtO1qh+FCxehdJORfL7lRBprGqgwaCFLR1XD814onwwYzlcXnPxpxFCBQQuXMqqaJ/dCP2HA8K9wNmlqHu54lihDqbwaWkA3xg1sQDF30Pm1od1TXhivedPsjcHU9AZ0vjzbsi55jSc4fDgO5z5rRxxck529BkWt470pm/Hr8wqdLJ3L81K3VSPnp1h1UM+Kwc/R0APubPuKlReMkLCfFes86fbSOAa0KYR2bw9frThBEkb+XfkDMe17UcuAS/aTwd2TEmVKkVfTCOg2joENiuGODr827XjKy8g172a8Mbgm5o/pWVrWzYvxxGEOx2ViHzp7XrriezKdfVzYvwo161amUHJx+Qr7ksd4luMnXf1bWxJXLodx+8BmtiYP/ONReyBDWxREw8nre9IVLofd5sDmrcljB3lQe+BQWpgvhBleJ3UFy1OrQXPq2t3gma44c003odPnpUyZYujwpOHwqQysVwR3Q0nad29KYRXOP0fCnegmkfV9YIpYxcSQX/EfOJ6OlmNER6HKAdjeymkYDAZs70h1uNktc1ymDn3eMpQppgPPhgyfOpB6RdwxlGxP96aFUeH/cCTcBJi49OVE/nuuBa+OqJE8HbCO0v1DmPpCX3o188e58zLjfeSIvrA/VWrWpXLqAY1vHiNnj59M/vU4K/k7SOvMeZqFYxhdQcrXakDzumVsvgNz9hiG+D9X8v2JJIqWLGW+z9UVp1ufthRSEUS6N6BdA398M7iPqmFwdN3xdPIeKrXDhL50V0Le70NNX3f0xVrTp01ptJv/cOSi0fF+zUkuuM911ed4H6e+Zxx/Z5gufcnE/56jxasjqJE8pbKudH9Cpr5A317N8Le653P0uT2KHujZL1voKtP13an0t5rXOmlgGXottVpHr0+jP0488QlgunKBC0lQ0h3IU4XKZfRohrTWd1QPDR068vkWtmrWbeLGjm38nZBI6b0/stqSqUabtyfRxlCR/C4/BnJmIBm9QZ/6ZaL3poC3DhV9hztGMEXuYNvfCSSW3suPqRuN1uZtJrUxUNGpjTZQb0A/gmZNZM3yX5jesgv5TDc5fDQMgyGctV9t5r8tO5MvZhvLDtRhwBRvIJpdv/zGHS2IEqVsP0H3ei15pugsFu3eyt6EQXQ36NB0oMvnS+F02uEnnVtJ/1bHKPrJAQYHOtO+Px2xu/jltztoQSWwrZY79Vo+Q9FZi9i9dS8Jg7rjWW8A/YJmMXHNcn6Z3pIu+UzcPHyUMIOB8LVfsfm/LemcL4Ztyw5QZ8AUvNMrM7Vw5/dJFjYxfXoM+tRvIL13Abx1iug7dzBiItIF54cODQ37AaU8qN+rO1U+ncap0CPEUQvPNM9RiN31C7/d0QgqUcr2vHevR8tnijJr0W627k1gUHcD5kF17M4xj/r06l6FT6edIvTITaf3d9dGXWjn9zWLn6vLPy+EMHPqUBp27UF5ANMNdmz7m4TE0uz9cXVqvbQ2vD2pDYaK+THe3cGaXyLI26o2VW2uyDr0D/KAaijOs+OW8Wef4Xz++ggmrjjCgQWDaXtHY/dXffC3u64Y6ozhh82d+bVPEwZ/H87ZG8Vp3LA0Hvb5xl3j/OUoEqy+sXXexSlfwg1v7zxoxBN7JybNL3R9iUb0GVcPn2M/0nnRdeoM/oC3egakXX+dL61nfM2Hx5rz2rbvGdO/FlV/ftmpTdf5tmbG1x9yrPlrbPt+DP1rVcXJpFY0yzXR6ognj5cnmt14TLo8efEkkcibtzCZPBx/1k6UntE1mXjnrkFRPmv5JSIvrWpXtf2S1z3Ad2J69SzXk+cav8vu7Xv4+usTDGm4nI1FerCpfBEK9utEsdVLOfjNcv5+tQ8/r1F0WpJcF2fOCWcqoN3/KaHPg5enBppmtVRHnryekBjJzVsmUE5ex4N1Tp2Xphuu+J5Mg74cA778mwEA8WH8+eO3bFp3hDgVT9w9V99wuNOoSzv8vl7Mc3X/4YWQmUwd2pCuPcoDJiKcub57NqJLOz++Xvwcdf95gZCZUxnasCs9yieXkNF10rzB913vnL+mu1vOWuvnJM3LC09NcS82Fse9urK+D6J++YGtUb48V6uszYOvptOjz/QDnJP3nW5a8kbbbDleXp5o6h6xsQq4xZb1u7gbMI2a1vcH+RoxbmGj5OIinDgvM9pHjugpN+BL/jYf0IT9+SPfblrHkThFfNy95HM+K/lnnNap89Q9q8cw6O0O4pw9hoH4eBIwceXCBZIoifmRqDJl9BoG67qlcx/l3HVH58Q9VBxUScnTYHX86/Eu4I1ORXPnjhHQO7Vfc4Zr7nNd8jnacer4deKzu7llPbvuBjDN9kJAo3ELaXTf7sj4c3sUPTxBjzQYqvXnjec9Mq6kx9N071SOpQvXsGzbOzRqXxDuneVcuA8th7fB1yV3eCbCr0aQZCpG09EhjPBzRZ4PI9tvZVP4VSKSTBRrOpqQLGz0/7N33WFRXF/7ndmlSkQDokhHRY2xxd7QWLFLjDXCB1ET/amJvRGxEUM0sWsssYsRNfZesIAFxUYsYAQpSpWiwLJt9nx/LMKubBlglZjs+zxg2Zk75577nvecuTtzr6D+V/DtvASTju3GsayBGJa+FdsLJuLnL1dh6vEQnMjuh26ndiOx81y0NgWgyEVmthhEIuS/JsBepTGhM5xrs6DoXOSKAR6zBWAtTMGmJWDn1BkY2Go9+vFZ4EgDFLmZyBYTSJSP0mY5ozZLiC5aUNVcUB9f+XbGkknHsPtYFgYOS8fW7QWY+POXWDX1OEJOZKNft1PYndgZc1ub8rk4f5+8k0mPt6BGlXcbH0I3VziyQJyC05EsFMjNzIaYCKL81yB1B8HZuTZYii5atEsbaYRwc3UEizgoZPz9zdoNxtrDqyDzmY39G8fD8/BOjFu5BcHDG8BSkYaUdDkUtTwxccE4aHIN9+wS4nMIAqFh5VhQsz0m7gxH68ZD0H/2OSTtn4vg0V9gfXcNBGFdMHLDVtx8OABrD07CiEX1cH5he3ykcojk2iJ83nMdElTut8z6bkHa8f9Do089IEAkxE8e4rEcaKGxKwysra3A4CXMzM10f3Nn1hjf7dqE6E7DsT1iIb6aWg/jeFYKZo2/w65N0eg0fDsiFn6FqfXGlavI4IWiTigUBPAY63JfoAj8NCgbyXHxyCEBDEwpdbCO+GJYZ8wNO4U7ezZi+ePzqDNkHhxZgO3pA2/nXVgXG4ot6yWIMuuLvfWKiqR34ifdUHpRAQXx1/GC9BxecWmoPKkR8hRcXheEDfdqoN/EiZgx5A7Whmp6QqqiYGE3eC0Or5LBZ/Z+bBzvicM7x2HllmAMb2DKU9/tMHjtYayS+WD2/o0Y73kYO8etxJbg4WhgqUcnNbZXFk3nkUPfuQ/kuPf0GQphAhMzQ3xFzTOv8vnaWJ6KxBcS0EdS7e/j84xLS60+0jyKbxmClMvrELThHmr0m4iJM4bgztpQlDBa1xjoa1/3ufzi1PID5zBg1u4L9Hfbjt8P78CFgPZQ3hI9Q1q1bvi2pw2/Se9y645KDcVpz7pvR0fZ/fqe8B7rXH3gnWd0jp0cqYkvIKGPIC3Hw4If6GaWavgHvd6iAQI3tGldW898kjW8VpxAyNhqODCmF4ZNmo3pk/fBKvAEdo52NdBcFAMzczNA/hciS+2lCECRhdT0D3ppF41gzMxhBjn+iiy9DSSgQFZqOr8FbVgnDPXzQrVXZ7D7z6cI++0UXMeNx2g/bzjmnsGeg1H4Y58I/b5qqBwvtjrsbC3AcAmIffLWo8Ekg0wOsHaOcLLg1w+21iCs2TQGrgm/Y+yYLXhSzgXU2ep2sLVgwCXEorRZMsjBws7RCUqzWDgN9YNXtVc4s/tPPA37Dadcx2H8aD94O+bizJ6DiPpjH0T9vkJDPiQ1sE8Mi3cbHwqpFDISwNHdvfTTB8VgUd3OFhYMh4TYJ289Hk+QKR0ER50OUkAqlYEEjnCvW5O/vzkOVi0nYO/tezgaNAT1JTew1rcPvj+eAzBmULomsvQ2rAAUWanI4AQQMITXyYnqC1qWCRyerfkWc668vWS8NVpP24L53aqA4VJwNypJawvsxz2wdHcgOloX4NZPX+F/oclq9bRZ+0BcjHnzCqLy58GmIagKAeoNHIiWFgzkj4/h8H3tAaZv1yo1e+y/wOqQALT9SI7Yzd8iKELG90zYf7EaIQFt8ZE8Fpu/DQLvUysCHmNd0TTBV4MsBQIw9BrJiZnle5SWnzWoNXAYulmzkD/egB/PNcbQQbWURYV5R4wa4gEhl4id87bBqt8XqPNG596Dn3RaXQYf8olLg+XJUqcmYY9vBwza74SAjQvxVYsa7/RbKo6zQssJe3H73lEEDakPyY218O3zPY7n8NV3DpxVS0zYexv3jgZhSH0Jbqz1RZ/vjyNHeQHtOqkRhtD09+sDhmEBRRaSE18bwBoD5lXGHJbmgPxxFG5pMI2Ty3nHpXYf6TNCgaQ9vugwaD+cAjZi4VctUEMDocvfvu5z+cXph89hWHthxYkQjK12AGN6DcOk2dMxeZ8VAk/sxGhXHsVmhXRHpYZy116tlUKZ/VoZqNz7QF781Tt2DMyVQoAozUIAeSXsRvk+UfmTHkT8v4UjtT+KwWU8xsMqfjgefR17Vv6IX7bsxppvWhW/06RE0QNHMpnKisGFEEsIgD4bBHBt1hh2TDoOr9mKGLWavgB3VwfjQHrlu1IVpG9vShVf0tv/WfQ3gWszNLZjkH54DbaqdxoFd1cj+EA6bwLZ9PfDIHsRLq7zx6LHPTDJyxqWnr4YWk+E88tGI6TKEAxzedOaJTy9PGGNTFw5c0N9yzRxHOKfA7V7DUA73prKwqbPMmyb2Qx5J6bBZ/F1HjsEaIClJ7w8rYHMKzhzQ32BBHFcPJ6jNnoNaFdyY27TH36D7CG6uA7+ix6jxyQvWFt6wndoPYjOL8PokCoYMsyFpw/L6BN6609eUD66T5wccpXzqPh3qf8s+su7jQ/R7TuIITf0HtRK53chlp5eUA7PGagPjxhxSgdhgE7SiHD7TgzIrTcGtarG29+iIz8iOFIKWNZB34BQRF4KQkeLZJw+HgUIXNGssR2Y9MNYszVGfVuwgrtYHXwAmfZN0diBhSzqGI689a4kFf/SBwFqOogQunhz6Uk9tgZcnKuCYSxh72Cr0jiVuiE2bz4TO1YOQm1FIvaMG4Wfo1QmUczt4FrXAx4eJT91a38EFoDgk/EI+rYRzOR/4beAjYgty8SiQgqJRAKJhqUPrNr8gJA13nBgc5GVW9oRCqlEeW7pM9HmhxCs8XYAm5sFDacaHjzGWhkGmuOMjybz06AOcG7aGA6sDFHHjkCdUqTyu+Jg7fpjaI/qYIlDtR4j0M/mzSemaPnVMDQ1AaTUBAO83Uq+gODtp3cEnjpuUZNfXBoyT6pCemsdgvY/R41WHeFRJHwKuRyKd8JlEY78GAyljPVFQGgkLgV1hEXyaRyPkvPTd9ER/BgcCSksUadvAEIjLyGoowWSTx9HlESPTgLQVOBVXNPfpw9M4d7IA1ZMIa4dO6625TbJZeqxjjcTwDLISgpSFIolyvgnwKB5VeCCNi2dwLw8hl9X3ECeykeKrAv4ZdlJnnGpy0f6tiu9hXVB+/G8Rit0LCE05GqErkD7es7lFacV5nBphX2/HAYADhmPH6KK33FEX9+DlT/+gi271+CbVh/z0qGK6Y5qDWUKLUlNvXwEP79WDAR+t0SVV+fqAx/+yvWOnQAubVrCiXmJY7+uwA11IcCFX5aHqHL7AAAgAElEQVTh5EsF+I7bh4hKv1PnXr5EjgIAvULWS91TTCQuhBgEqbiwxOdcHNb5+2H30xw8PHcUp85dxpVrt3A/NhUFqnWK0BV1nIWQPzyE7VfSIclPxOWNy3A8SQhIkhATmwcOgEImg4wIElGh2riadx0L/yameHVhJvp6z8O2k+GIuLAfK8YNwpzMvvBpUpbvYBR4/boAAAdO0yNg0ij81Nketk2n4ExuGZothgjZ2cr3xnJzsjXzUyyGFICkUOWmRlGIAjGBpGJICYB5V4z1bwLTVxcws6835m07ifCIC9i/YhwGzclEX58m/GeArbrBf1hdyB/EoKbfWDQSAjBtCZ8RTcHF5aLxqAEorpfBovbI+ZjRzgqJe5djZ/FeqxySQrfjrNkABAX0Ur6koJBBJiOQRITCtzsq56AAQAoFACu0n7cDQZ+bIOqnkfD//ZHKjWwB8vLlIMggU/lGmCQyyKjoWxAAYGtj5PwZaGeViL3Ld5ZsAcslIXT7WZgNCEJAL9VXJ6zQzX8Y6sofIKamH8YqO42WPiPQlItDbuNRGGADniiDTwDIRCJIiCAqy/uDbA3YfcxCkfAID/IUeHU/HFHZCojFUgASqFOlAGIiSMVSKKliqPhQIDs+DsU76EljsW31UbCDF2JmJ+VrGdpilK09EvNntINV4l4s3/kMJcMTiu1nzTAgKABqw6PIRnxcyRZd0thtWH2UxeCFM9HJvAz+lsfiUEhEcSFp2bAr2jlaoo6HGwBzdB3rjyamr3BhZl94z9uGk+ERuLB/BcYNmoPMvj5oUqUTxo5phSr5YVjgswBnUiRQbk12AOHpCihS7uFK1FNk6Kn5TN3dYX35B4yYcQopKjlRkX4aBy5kQlhvFL7t/2YlNQXysnMhIYBeZ5f4GwK4+WzC5m/rw+RVOBZ8NQl/JvNZP6Aaugb/iS1fN4L03HT0G7EKV9PemvngsvAs6RUUDABGJfUUJCAxLRHx8ZoexxDAzXczdn7fRONjrgUJiUhLjIfmU93gu3knvm9SxgdkFTJI5QSQQm1SSCaTgagQIlWhkckgB4GTy0F8xloIrXHGS5N5apBZp7EY06oK8sMWwGfBGaS82XL9QDjSFQqk3LuCqKcZkIBDwvZhcKvujuE7EvitpaGGj9FnmBdshfboN7wXrFU+ETb6CsPbmMG0VX8MUvuGkaef9EAhk0I5TGqjpMwHher5QCaTA8RBLif+Om7GMy4ZvnlSuf4YOBm/b9M4Dhw4JIYdQkSmBLkxJ7F23x2IoUBmaiJSnyUrNUcigbJZuQpfy3gtAPLYQwiJKFYxNOzaDo6WdeDhJuSp73LEHgpBSRMN0bWdIyzreMBNCD06CYDEKBQDJBUXjx1/TSdIpVJQ0StMb0AiEcRFOZxPHqyoDz7q5YvBTixyjwfAZ+ERPEjLQkr0UazaePGtp4WEcK3jDKH8IQ5tv4J0ST4SL2/EsuNJEEKCpJhY5HE88ypJIZUSoFCoTZGKRGIQijgPM3QaPwme1iJEBvVGF58F2BB6BAe3LsKo4dtgO7Qv+MalLh/pBgeOA7jEMByKyIQkNwYn1+7DHTGgyExFYuozJOdVpH095/KqZyvIYRDEShJDXETi981hLm4d/P1242nOQ5w7egrnLl/BtVv3EZtaoL59sZY6irfuAHpqKAAQQ1k+FqIkqylQWCAGkRRiKb0ZON1+5RKwfZgbqrsPx46EcqxnJMpGdgEByEVOtmYvGq7O5TmOimTsHuEMC6s6+GLjI+j9nogPf3mMnbTTeEzytIYoMgi9u/hgwYZQHDm4FYtGDcc226Hoa8eC97h9iKi8jWNyKWrPjzSxm1PR9oom5NLjO/pxxzUqvXunnJ5d3EILveuSCQMS2H9O09afpb/FRMSl04lprcnWhHkzJ1X0w5CZw+c0PyyreKu57PNzqa2NgBhGQCY2n9HXW29SqJ8D2X3ai/znbqTDRzbSTC8X5TVqdabvVu2nm2klxohjQmhcazulvWBIYN2QvBedpudl2PtPnhBOIWtnUS8nE2IgoJpdptDqncfo3kuVTucfpa8dhMRW60ObksqyZS1HL6/vpB+n9CMPC6U/BHbtaHTgcjrySFJ8TM7dvRTQy5EEYMjEfSDN33uHsjJuUci8PuQsZIgROlOfeQfpUSERiWMoZFxrsivyLyOwpobei+h0WTpdBNmDIOrQfAZdVdlCTx6/inq0nEnXNWwnyWWE068jWpBbox40NjCYgmaMot59J9GuB0UbrqWE0+aZXuRiwhAEtajzd6to/8004oijjMgQWuLfkqqxIEHt7jTzt6MUnfWcwhf1JBsWxAjtqb3/Atp37wFdWPcttazKElhr+szvZzr4Vw69uLqFpn9uTwIwZNXMn1acjCnaDpCjjPBfaUQLN2rUYywFBgfRjFG9qe+kXfRAw+7DJHtAQR2a0wz1TtOqHi1ppqZO64E+nxCXQtf/WEajW1QjFgyZeQymhRsP0M1UPjwS081FbcmaZcmydlPyXnKKruwNoF6OAgJjQu4D59PeO1mUcSuE5vVxJiHDkNC5D807+IiUVKlYfMgiZ1MjoYBqtelPAwb50bS508jfqx11GbOVovOJiDhKCd+sM0aJy6DwX0dQC7dG1GNsIAUHzaBRvfvSpF0PqGR4ZBQ5uxEJBbWoTf8BNMhvGs2d5k9e7brQmK3Raluu6vU3ERXs8yVXl+bUf+oq2nPoT9o005t6+G0u3g6MSEwxIeOotZ0JMVBuJWvd0JsWnX5esm2oLJ4OTPYkBwuWGKEV2Tl9SoOW/EJ+7tWpjudImr3+HMVp4pcqcneQt2sL6tevM3XoOZy+nfYD/TDVl7q4ViOHjhMo5PGbLWJj6OjSqdS3rjkxADGC2uT5zQL6/UpKyfbGBbdocXtrYsGQubsXTdl0jd8g0mt6dHAxjergRtWru1CbfqPom4nf0cQxw6hH83rUoMMQmrrmLMUXEilzQBBN6OlG5gxLVRsPodlrz1GCJr5IHtKaPm1pypt9Z3OjaE/QBOrpZk4MW5UaD5lNa88laNyGVfJwDfVpO4XXlrXy+DD6bWoXshOA2I/b04S1J+nx6wS6tGkGdbMXEBhzajgimA7cyaDnEVtoZncHEoClqi3H0upjD+g1n7F+O86Cr1BCWTSZpwbJ4g/QZE8HsmAZElrZkdOng2jJL37kXr0OeY6cTevPxVEByehWYHMyZ8yoeWAU8dqh+G3kHaPR7SfQ+VJbo3KUtL4/9Vwaq2Fc+PhJ6yhRfNhvNLWLHQnA0sftJ9Dak4/pdcIl2jSjG9kLQIx5QxoRfIDuZDyniC0zqbuDgMBWpZZjV9OxB695+5B3XOrJk1zKNdq1eBh9YskQWDvy/H5NkR06IHtEGwY6kSnDEGNmS00GL6FzkWuopzVDjIk9dV18mR5f20WLh31ClgyItfOk79cco+gn5bgWFdA+X1dyad6fpq7aQ4f+3EQzvXuQ3+boYt3Uq+8F+8jX1YWa959Kq/Ycoj83zSTvHn60uUgIdemk/NlF2rLQm+qaMASBPX0+bT2d/btoa0e9mi6nhAsrya9pFWIYITl6zaWtEc8p6+4fNLNrLRKAIYtGI2nZ6Tg93DKAD4goN3I5DXKzIJYBMSbVqcGgIDr95ySqI1TdspaIss/T3LY2JGAYEpjY0Gdfb6WboX7kYPcp9fKfS5sjlNsk67ymPIEurPSjplUYYoSO5DV3K0U8z6K7f8ykrrUEBMaCGo1cRqfj5ETEUerZQOpdtyoJGRAYIdm08Kffbuao+EBfXOr3kXbI6NGGgeRkyhDDmJFtk8G05FwkrelpTQxjQvZdF1N4TkXa53Guvnq2Ahwm+TO6uGUheddV1vb2n0+j9Wf/Vrb73jhMxKWfoGmtbYv4ovLDmJHD5/MpLEumu47SqzvhlMOjhuJy7tLegF7kKAAxJu40cP5eupOVQbdC5lEfZyExjJCc+8yjg48K9ddQslsU2NycGLPmFBhVhizFvaTrO3+kKf08yIIBAQKyazeaApcfoZJbohy6a7A6twzjKH9My7tUJQYg4SezKJLP7YA+/vIaOyIu9SwF9q5LVYUMAQwJbVqQ/283lZ+VYdw+RDBE+h76+YdDkY6w4EWIaDwRw51ykZKehdyCQkgK85ARewbbb3yGPadmoX7RF01cfgqeJIhgW68uapgpkJeVA1MbGx1rBbwNKbLiHiOhsBrcPVxQ3TBrD5UClxOPJ/l2aOjEY6XO9wBpVhweJxSimrsHXMrd6QKkpytQo+ZHKo8YiZCWJoVdrWraHzuS5uDZ32kwdfGAg9U/Z8Vgac4z/J1mChcPB+gyqyA9HYoaNfGRSgdFaWmQ2tVCtfI+a/XOfCJB5tM4FNSoD1fr8rRb/viQ35yDZh1+AU2LwK2ZNfAkSQGnT+rCplx0kyLn2d9IM3WBh4PVW2v7yHFzTjN0+IUwLeIWZtZ4giSFEz6pa6P99Rld/pZIIDEzgzDvBWKfZELg6IF6NS1L81mahbjHCSis5g4Pl+qaryXJwtOYZCjsG8LDTobMDAY2dlX4PZKnyETs30C9+jXAQo7cZ/dx75kYtvWboIHDR+991WpJ5lM8epKEtFcyWNo4od6nDVC7SvkfLlTkvkAqYw8H67K2oUDui1Qw9g4o86nlhd6xrmicFV2GhwZJsp4iJlkB+4YesJNlIoOxgZ3aOBQg+XE6rDzcUb1cpsiRnpqDGvY1SvO0IA1pMjvU0iZ0fGLiHYOXjvOMS8PkSVWIkBbzDIU168OtujKC85MfIol1QQMHK4M+qiuRSGBmJkTei1g8yRTA0aMealqW6qEOfZdAIjGDmTAPL2KfIFPgCI96NVHcBF+d1Apdmm4YVNwHRVCIkPokEQrH+nCwYiG9MhmNuq1H1YDbiFzQuESLuXykPEmAyLYe6tYwgyIvCzmmNrApVZAasu6U41ViLJ7DAfVdqmnOCzrikp+PtEOUFoNnhTVR36268tr5yXiYxMKlgQOs2Iq1z/dc7XH64XNYkR6G4EURaDxxOJxyU5CelYuCQgkK8zIQe2Y7bny2B6dm1ddzbX26U44aShf4+LUgGY/TreDhXv0fsG+IgeJRmovUpD8xY2YhfjwwES48iaQ7z/DPGfJXiYh9DjjUd0G1f/S2JobDBz7pIcdfy7qh1xVf/HVsNEq9KcA9xco5x9DnpynwqPwoMcIII3RAddLjbnCbd3gDpJqw7yK4TWXcahlhhBFGGPFfgNZJDyOMMCTkf2FZt1644vsXjo0u/e4093Ql5hzrg5+meFRw4sBYQxkGubi6ZDpOt/4Fi7tXq2xj/hOo9DU9KgRFJsLPRiLj3nGEXE9TW8xOmnkf+5esQl6XkahrnPAwwoh/PBRFayhwXDne2SzblYrWAVC+Y2yEEUYYYYQR7wolC5l+wN8xGvGPhyIzHGcjM3DveAiup6ndESHz/n4sWZWHLiPrGuBJCWMNVXEokHkhBJHN5mG+ccLjveHDnvRga2JYQAB6mp7HlA7OsKtdBw0bNURdF3e0HLUJ2T0XIKBPzQ+8k0YY8e8HJ0rF7fO3kKLgkBJ5HreScyF5J8mUgyj1Ns7fSoGCS0Hk+VtIzpWUYwFHI4wwwggjjNAFDqL0v3Ak9ApSFBye37uKJ6+M2caIdwO25jAEBPSE6fkp6OBsh9p1GqJRw7pwcW+JUZuy0XNBAPrUrOgdkbGGMgxY1Og2AVP7uBif/HqP+MBfbykCl4unNyPxV9JrmNauj08bN4BLNePjVkYY8WFAgdTIwwj7W1TyPRhjgTqfD0K72gZ+TEuRisjDYfhbVCJ7jEUdfD6oHQx9KSOMMMIII/7D4BIRfiACibI3+YaBwL4lBnarr3E3KiOMMAS43Ke4GfkXkl6bonb9T9G4gQsMdktkrKGM+IDx75j0MMIII4wwwggjjDDCCCOMMMIII4x4C8Y3P4wwwggjjDDCCCOMMMIII4wwwoh/JYyTHkYYYYQRRhhhhBFGGGGEEUYYYcS/Ev/5SQ8u+RyWTZ2NHfdFlW1KJUOOnCcXsWvpapxMUZSrBaMvywF5NmLCduDn1aeQWj63qzQVg7AdP2P1qVRUsKn3CCkyH57Blh834nJeZdvyL0FFOSXPwZOLu7B09UmUUwo+GHCv4nF13yos3hEFqb5j/+36ZkAtMuKfgH+Str4HW7hknFs2FbN33Mf7i1A5smPCsOPn1ThVPrGtcN1VafgP5Qne+GA19APmYTlRltz/rwaXi/ir+7Fm0Tbc/C84gv7T4Oj5mq5kxgip3uQrJKlscyoLXA7d/H0idbIXEGPSkhY9kJenEaMvywju+UVaPb4j1RIwZNJqMT0sj9uVLdHzi6tpfMdaJGBMqNXih1Tupt4n5Il0dqkftfiYJZj2oPVpXGVb9MGjopzicm7S7xM7kb2AIZOWi6hcUvBBQE7Pzq2l2d71yZJhqNqI/VSo8/h/t74ZTouM+Efgn6St78kW7vka6mrGkLDeZLryPgKUe04XV4+njrUExJi0osVlF1sD1F2Vg/9OnuCPD1ZDP2Aelg9lzf3/XnDpV2nL3C+ooRVDjNWX9EdBZVv07vEff9KDhYP/RhzbuQs7Z3fAf3a/F7YaWo3+BYEDHSrw6I/Rl2UF69AFk1YEYmDtioYhC4cuk7AicCAq3NT7hMAZPWasw4xuVmAq25Z/CcrFKUkMbke/Up5frRVG/xKIgQ4fEpHKAwFcu0/AjyvHo7WJho9VfKLEv1vfDKdFlQkJYm5H45X+A//9+Cdpa5ltKd84sg7+2HhsJ3btnI0O7yNAWQd0mbQCgQNrl6FuUumbQequysG/LU9IYm4juoLC8cFq6AfMw/JBT+5/HyhVX1QOWLv2+HrxOkxsW1mOeP/4b3BcF6rURY9Rw9G2wntXf/gQCiu435TRl+WAABV1e0lTQnx4O4axEAiNfDEsysKpXFye54sfwnJVXokSGo6T/3SYmaJ0utfkE/wH9M2AWlQJyL08D74/hCH3v/F0Ng/8k7SVvy3lH8cqqNtjFIa3rfleC1tBGYJGU98qXHdVGv4leSL3Mub5/oAwgwjHh6uhHy4PywmNuf99QEt9UVlgzWBqUulT4+8N/4yMqJAgKykB6QXaKaAoSEP8s0yItTaRhaSEdGhuQgFJVhIS0gu0kEyK3FzNb4Fy+Wl4+jgO6SLttolysoveIeWQ9+IZUvI5rcdqg0KcgWdxqSjQeqoEubnK3stzkpGcI1fvQV4Knj6KQXKuXNPJgCgHOUXOk+cmIzFTosciKXKTY/E0JR9l640mX+rzvzaIkFNiNJITM6HRakkulK6RIyc5GW+5htcYKg/MQ/KTOKTma/Eh9PMQUKAgLR7PMrUfAQDynCTEp+rzLZ+25MhJikdqOTgHAODykfb0MeLSRdrHRpSD7KIh5fJe4JkuTigKkBb/DHq6rx0KETLi45CqQwsqCkPHtH5OaIMUeSlP8SgmGZrDVoScEsfjxbMU6BpmfpxSv/6T7d/Ad8V9iHRtXC7NRXLs03fiA0lurvIceQ6Sk3Og7gY9/OeRN8oOfT7RpG9lGScFxBnPEJdaUEZdLet1OOSnPcXjuHTokz3DaVHFwItDWjRa+mQ7vvFdgfvaiMxH53TkEd31hW5wecl4EpcKrWlFmoeUp48Qk5wLzTJQBv3VBT7aWhH95uNjPbboHUd9vgIgzc0ttaaHwfVcnoOk+FSdelzKLn19Ux6lu+4yVK3DE/rrUhXwyBNaTtSTB3VayE9PtfFG+gTbv/HFivsiaBsVPnwoe+5VuwKPPnwY9f/7qZvUobOG4KEXZUHF+8ez5ioXeOR8PfrxX0AlT3ookHX5JwwfPAmbL4Tj6PIx6N68M+ZeLglIaeJpBI/3gf93AfhhTEc41moBnw13kV/cRBYu/zQcgydtxoXwo1g+pjuad56LN00osi7jp+GDMWnzBYQfXY4x3Zuj89zLkADIj7+E7QvHwOtTZ7Sae03thlqRGY7lPt3g9c1S7A5dhyk9G8Kj49dYez1bmdC5eJz6dRpGdK4Hp7YLcSlyI/xau8DBrQ4ca34Cn11P+YmFOAZ7J/dHv3GrsOv3aeji6oRm3YdizPfTMWPOZlyKuYo9P09A/6au6LT4As4v6A5XB1e4fzYZYRJA8iQU0wf2xuilh3D5Uggmta8Lz1knkaYAABHiw37H/NE90dC1C4IvnsPCvh6oYecCN3sbuPaajwvppaODci5jUa/6cKvfGB6ONeAxeBMe6lngRpsvdflfG0TxYfh9/mj0bOiKLsEXcW5hX3jUsIOLmz1sXHth/oV0KCBC0tU9+HlCfzR17YTFF85jQXdXOLi647PJYZDwGcM3Nubex85pwzB4TCB+D/0No5s747ORK3Atu+QovTyEFImngzHexx/fBfyAMR0dUauFDzbczYcqXkVtwOieveC7aAtC1k7BCP+1uJ3/tvrxaesVojaMRs9evli0JQRrp4yA/9rbKNWUNigyEb7cB928vsHS3aFYN6UnGnp0xNdrr0PZbQ7xp37FtBGdUc+pLRZeisRGv9ZwcXBDHcea+MRnF56qElyaiNPB4+Hj/x0CfhiDjo610MJnA97qvi6D8Or6UnzRsDZq160HB5uaaP7VetzOAyB+jP1TusDB0hwWH7fFuPXn8ESsPCf95g6Ma/Ux3AeswI0c3YWeoWNaPye0QYInodMxsPdoLD10GZdCJqF9XU/MOpkGBQAu/hR+nTYCnes5oe3CS4jc6IfWLg5wq+OImp/4YNdTdWXhxykNVtzdgqW/RyKN4xATMgnDh47E/BOZKrFByLm8CL3qu6F+Yw841vDA4E0P1Rb9KpcPREm4uudnTOjfFK6dFuPC+QXo7uoAV/fPMDlMAv3815E3FLmI/nM+BtSpAvOqXbE8ngMUWYgKXYoxbe1gaWGLkfu0L3OozSevNehbWcdJHLMXk/v3w7hVu/D7tC5wdWqG7kPH4PvpMzBn8w0UaLGpbNdRIDN8OXy6eeGbpbsRum4Kejb0QMev1+J6tnp8GE6LSlmMpAs/wbuuFSzMq6D+l8sQlqS0kXtxCcuHNkBV90FYfk3JNT4c0qnRkrvYsvR3RKZx4GJCMGn4UIycfwKZCvDQOT15RE99oR0K5N7fiWnDBmNM4O8I/W00mjt/hpErrqF4GCRPEDp9IHqPXopDly8hZFJ71PWchZNpCpRZf/XYolVbi4e5Avqt18c8bdE1jjp9BSA/Hpe2L8QYr0/h3GourikD1PB6/ioKG0b3RC/fRdgSshZTRvhj7e18rTfMxdDVtyJor7sqXusocqPx5/wBqFPFHFW7LodSFqMQunQM2tpZwsJ2JNRkUU9dekNNrPTnCS1O0ZkH9YGXnurkjQR3tyzF75Fp4LgYhEwajqEj5+NE0aDw4UN5cy/fPmQmfQD1vwHjjDdP9dUQ+vSiLDBg/zTXF2lIOP492thYwNzSGb3nnUS8PA/393wPT3tLmFvaw3PCelxK4gBwSDq3CH3dqqPFlHPIUAD6c75+/VCDIgd/HZ0PL4eP4NjhayxYvw+R5fHbPxWVuqKI7CbNaWxLQ0Pzi/5DTFGBfel/J8XKf2afpe9afE5LootWpeJe0NYBHxNr4kHfheUXNTGHGtsOpZImoiiw7/9I2YSMbs5pTLZDQ6nk40Dq+7+TJCaOsuPu0dW13mTHCsh53DkSv7GrIJIWtKlG7qOPU1bx/92lZV1tSFCtIy25IyYijuSvL9Pk+kJiq9anPtO3U1SGhGTPD5J/HSEJnMfRueIGtaGAwmc0IstPZtENCRERRyk7vMmGFZDzkJV0+MQNevgkmq4s70s2rIDsWo6khaERdHrNOBrsv4GixX/Tr50tyaRZIN2VKVvM2NSbLEyaUeBdGREVUlrsVVrRz5ZY1poaegfQrqtxlBRzidb7NCALhqVq3dfQ33Kl7y9OdCMBa0tNvGdRyP2XJJGn0rGxHiRka5Hvodc6+qHNl7r8rx2FabF0dUU/smVZsm7oTQG7rlJcUgxdWu9DDSwYYqt1pzV/51BC9BVa3teGWIEdtRy5kEIjTtOacYPJf0M0yXiNIREV3qHgznWox6/RVFDUl6R1PagKY0KfzLqhPIYHD7PPfkctPl9CJYdspQEfs2Ti8R0VHULyvzdSP3t3+r+DafRmKbf8a7OoiYn6wlf625LT3xv7kb37/9HB4kXh8unarCZkwmsh0wKKXNCGqrmPpuMlzqG7y7qSjaAadVxyh8RExMlf0+XJ9UnIVqX6fabT9qgMksie00H/OiQUONO4YoJn09nvWtDnS6KLFnjk6MXWAfQxa0Ie34UVj72W0ab9I6oRI7CjZiMW0P4bjyj68i6a3smWBIyQXL8+Qi85IpI9oB/bmBNj8TmtjFfpnSyaFnToSr/8rWfxLUPHNA9OaIP871+ps6UJNQu8S8qwzaBNvS1K4piT0+vLk6m+kKWq9fvQ9O1RlCGR0fOD/lRHqK5VfDml1fuHfMiWNSXP5QnF55P4Ik10ExBr24S8Z4XQ/ZcSkqceo7EeQmJr+VKxFJTXB68TKPrKcuprw5LAriWNXBhKEafX0LjB/rQhWqaf//ryBhXSUb+axJp0oKVP3ziAo/TfepApY0VfqqzWxaWtpx6m6ouZlfaJFn0rwzhRQTjNaGRJn8y6oYwRLoV2eNsQK3CmISsP04kbidoXRy3DdQoiF1Cbau40uiSwqeDuMupqI6BqHZfQG9kznBZpNZpSdniTLSuk+tOvqvRNTo+XdKVeq+KUGsWHQ3w0uvAQ+diyZOq5nBKKicxH517rzCOFOusL7Si8E0yd6/SgX6OLuMYl0boeVYgx+YRm3ZAQkZz+/rUzWRbnaiLK2ES9LUp0gb/+arWCn7ZWSL/55RLetmgcRx6+yo6je1fXkrcdq6LTBtZz+d+0sZ89uf/fQSpJu9doVhMTfguZauwbn7pLN6JJNjkAACAASURBVEf51zpHya8mSyYdllKJLKbTbz1M31rEUH9dmigh/nlCC/TmQV3gpaf6eUNUSId8bIk19aTlCSoL7PLgQ0VzL58+vEz4MOp/g8YZH57qrCHEPMZdc+5/H/3TWHNRHp36xoUEwjr03aU32VJGd35oSiZCd5p0UUXrJddpVsdhtDtdebb+nK9HPyibNvc2K/Etl0VXfhxKX8w9Ton64vADROVOehQeIh9bE6o7+jClFJFbHneIDlxXFgUxSztS1RYz6NS9+3T//n26f/8eXQxsR6aMgNwmhJGYighkUpdGH04putGTU9yhA3RdQvRG0EzqjqbDJRegQweuFxdh8oeLqZWJauHI0fNNfcja5FOac1N9xCVXp1MDIUvVB26jVI6IuARa0dmUWLv/oyPFUVNIx/xrlRZRTRCH0UQ3AZl+vpqevzn09X4aacuSWff1ymsQkSwqgBqbsGTvd0S9AJHH0w6fz6jF1yGUWHRs4cFR9DFblYbsfZPBJBQ56xMSCj1o2lWVslp8jaY3EBJMmlHgPRkVi55Jcwq8X9Jv8cWJ5CYwoZaLHujdEaS0L/X7XxskkbPoE6GQPKapFsxiuja9AQlhQs0C75GMZBQV0JhMWHvyO6LqGb5jyFHSxj5U3XksnVJdtfj1VVo+2o8WnkwhXjyUx9DSjlWpxYxTdO9+0TH3LlJgO1NiBG40IUxMRDl00Kc2mTb9ge6omiQ+R+OcBSVJkk9bOQfJp7YpNf3hDqk3NY6cBfonPbjnm6iPtQl9Ouem2vkkuUrTGwiJrT6QtikJTgkrOpMpa0f/V0JwKjzmT7VURFses5Q6Vm1BM07dK/LPfbp3MZDamTIkcJtAYTpr86Ji2KQ9/fy0xGoufTcNtmGJsexGaxOVtqSHfEk1WBP6dHZkMSdkd+ZRx/4b6YXOUDN0TPPTJm2Qx+8gn89a0NchiUVJr5AOjvqY2KpD6E3YcgkrqLMpS3b/d6QkIRceI/9aqkUzT07pgK5JD5PmgVQiBW/04c3q7hXzAcmiKKCxCbH2fqQWunz4rzNvKG09OcaBBGqTHkTZm3uTWbkmPYquUUrf+I4TkThsIrkJTOnz1c+pROpHki1rRt3Xp5KeTMHvOtxz2tTHmkw+nUPqNJfQ1ekNSMhWp4HbUokzpBbpQmE4Ta0vJIHreDr3xuWy+7Sw51f0x0sifhzio9Gk8YaSv85pyyP66gst4JJoY5/q5Dz2FKmbvJxG+y2kkylKDYnf4UOftfiaQkqSN436mKWqQ/YWT+7w0V8dA8BLWyui3/x9zFPntUx66PcVEckf0uJWJuo3IQbU85yDPlTbtCn9oB40dG6cMwkqOumht+6qaK1DROKTNMZBoH4z+fYNDxHvupRfntAOPnlQG/jpKR/eaJr04MOHiudevjnhg6j/DVk38eWpthqCp17wn/QwbP+01ReyyNnUSCggt/+dL7ZH/mARtTQRkOv4kv+TXJ9NPcedpDyiMuR87TlO1bd7chPo4LQh9M3Wh//aHW2ElfqYiWl7DPSyw56tQ/DZo6+xYPlijGk7CIPdASjScenCbUhlTrh26GDJezhMT8wJ7AlhvargAJi3Hwgvuz3YOuQzPPp6AZYvHoO2gwbDXXkBtB/oBbs9WzHks0f4esFyLB7TFoMGu5fYIBC89Y5PAa6cicBrpiVqO6p/YtqiGzrVXIEt4edxTeqHL0wZKJcjV10EhoGlpTkYKkRBgb7H3CSQSAHFi0QkygEHUwAWDVDfRQBGqGIXy4AFi49sbNUX3hG4wXfnbfgCgCQVkYf24uTRvyAmCcSFbx64YgGGQalFp8xaYdgXDbDqpyeI/ksMNH3TsgBCQUl/BFbWsGIJea9fgwN0L5RZypc8/K8FLBgweHtxJTO0GvYFGqz6CU+i/4IYjcAyLMB+BBtbVc/wHcO+yD12BaK6P6GJucpBH7XHlN/bK//Og4eyl5dw4bYUMqdrOHSw5HpMzzkI7ClEvaocILqEw2fSUaV7MzRUizoWAhUTFTzaEl06jDPpVdC9WUOoN/W2/zWj4MoZRLxm0LK2o/rxpi3QrVNNrNgSjvPXpPD7wrRoFN5iuKUlzBlCYUEBCAq8vHQBt6UyOF07hBKTGfScE4iewnqoyucxbKYKPrIquQprNxBf9bHFoZBo3LwrxQRnc9gNngzfxYexcscaHJu5C4Ory3Fn/yU4DPtTz641Bo5pxUte2qQNAjdf7LztCwCQpEbi0N6TOPqXGCQRozhsNZphCUtzBlRYgAICb06VGwIhSqRAACtrK7CUh9evOUCRUyEfACyUoWsD1dDlw3+deeNdopS+gd84AYBEAikUeJGYCDkcoJT6+nARMBDyGSxefLiCMxGvwbSsDXWam6JFt06ouWILws9fg3QoazAt0gnzdhjr3xrrAw5i28kf0f3L6pDe2oNrdUZhmg14xlEWzunTaC3gr3NCLXkEMNVZX2hB1jkcuyJC3Z+aQN3kKVA12c13J5QyIEFq5CHsPXkUf4kJEnEhSmRAn/7ygE5tFePLtPLrN38f87FFigm9NF1FwMtXgECD7hlKz0W4dPgM0qt0RzP1oAFrGLHVW3dVrNbxwxe81yrkWZcWG6sjT+ioGHnlQa0m8tFTvrx5C3z4YIjcyzcnfBD1/7uvm0pDcw1R7nHXCcP1Txs9hC18MarlCvxweBfOBHfDwI8UyLr/AKlCIdKO7MbZn7thwEf5uLDjDpr7LoQVABTwzPl+A7TmuGLInyHUpzse1lyJO/6fqOWufxMqd9KDtcPgtYexSuaD2fs3YrznYewctxJbgoejgWkaUtLlUNTyxMQF42CnrQ27wVh7eBVkPrOxf+N4eB7eiXErtyB4eANYgoXd4LU4vEoGn9n7sXG8Jw7vHIeVW4IxvIGl5vYUucjMFoNIhPzXBNirfCZ0hnNtFhRdtBhMRbdFM2uHL/q7Yfvvh7HjQgDa964OFMbjWVo1dPu2J2z4iKc8BZfXBWHDvRroN3EiZgy5g7WhMTxOFMLN1REs4qDgdJROFVrUtxz+1wOhmyscWSBOwWkv+PiOYX4qEl9IQB9Jtb9/qtDPQ/n9o0iXK1DLcyIWjNPMVO5ZHOJzCAKh7pBTpKXoaYvDs0vxyCEB9DSl7QrIzcyGmAii/NcgdefA2bk2WIouWjSLD8EVSEtJh1xRC54TF0BL98sBC3jUc4aAnkIqK3qf0KwtJvzPE5smH8K6HXEY9L90HLheF8Nn1dBjooFjmgcn9EGechnrgjbgXo1+mDhxBobcWQteYasCLp0fpwwFNSkwgA80QT//AcBSe94on6y8c5i1+wL93bbj98M7cCGgPZRS/wxp1brh2542BllcS5GbiWwxgUT5KE1zZ9RmCdG5uShIzzGQFumDAB6+o9EjeCxObP8TKV+MxMM90fjMdxGqKC+gn0PyaP0ardn6MuicldZWWJ31hWbIUxPxQkL4SKrPYjlSLq9D0IZ7qNFvIibOGII7a0NRRhkoB1S1VV4B/S6Lj7WV0Bp0XiPeoa/48JB7hrj4HJBA+H6KZr51V1lymwXPNitYl5alZCxvHuSvp+XgDQ8+cM8uVTj3GiQn/KPr/7fwjmoGzagEbeXZP60Ltwrq4yvfzlgy6Rh2H8vCwGHp2Lq9ABN//hKrph5HyIls9Ot2CrsTO2Nua2Whyjfn81oslrWAKZuGhJ1TMWNgK6zvZ1fZi36+E1RynzhwVi0xYe9t3DsahCH1Jbix1hd9vj+OHMYM5maA/K9I3NCwmJYiKxXpUgAcB6uWE7D39j0cDRqC+pIbWOvbB98fz1FegbNCywl7cfveUQQNqQ/JjbXw7fM9ij4uDbY67GwtwHAJiH3y1hIvJINMDrB2jnDim0B0whpeK04gZGw1HBjTC8Mmzcb0yftgFXgCO0e76t9+VJGEPb4dMGi/EwI2LsRXLWqUISErIJXKQAJHuLubVagXulBm/+uBQiqFjARwdHeHVqv5jqGlOSzNAfnjKNx6rcF2uRzgwcMMxhxmkOOvyBsaFnBUICs1HTKBAAKG8Do5UW3xsrfBmOlrKwOcQACGXiM5MZPXgl/qYFHdzhYWDIeE2CdvLWJEkCmdA0feBGdgpnQQIjU7CKnpZbtdKbaUZQGhKzzqvpmJEMDN93t8aS9G+IbfcOXKAdxpNAI9rfU1ZOCY5qtNWqBI2gPfDoOw3ykAGxd+hRY1ylc4MTw59U5QQR9ob1Z/LEl15Y1ydOW9wNoLK06EYGy1AxjTaxgmzZ6OyfusEHhiJ0a7GmarQLa6HWwtGHAJsShNcxnkYGHn6ARLg2lRut6JCNZ+CMZ42yM/bCf23D+J0Oed4dPK9M0F9HNIxkOjNV/ZMDqnp77QBMbcEuaQ43HULZQ2mYNcrgCgQNIeX3QYtB9OARux8KsWKKcMlAsl2mpWAf02jI9L63wpI96tr3jxUACBgAG9TkbiexdbHXgn9WoF61KeqFAe5KWn5eQNn5qPM0DurWhO+ADqfzW8o5pBQ0uVo60V7h8Lp6F+8Kr2Cmd2/4mnYb/hlOs4jB/tB2/HXJzZcxBRf+yDqN9XaFhED745n1f4s7UwaM0mjHFNwO9jx2DLk3/n1i6VO+khOoIfgyMhhSXq9A1AaOQlBHW0QPLp44iSu6JZYzsw6YexZmuM+nZDBXexOvgA0llAdORHBEdKAcs66BsQishLQehokYzTx6MAiHDkx2AoP+6LgNBIXArqCIvk0zgeVcQQUvsDgCU8vTxhjUxcOXNDfYZMHIf450DtXgPQzkA6wWU8xsMqfjgefR17Vv6IX7bsxppvWuFjHiMjvbUOQfufo0arjvAoqhcUcjkUvJ55FeH2nRiQW28MKipCqfi3SgNU6i/aUcqXPPxfRohu30EMuaH3oFY6vpTnOYaWLmjT0gnMy2P4dcUNqC5mr8i6gF+WnQQE+nn40r0ZGtsxSD+8Bltj1IWi4O5qBB9Ih7BmUzR2YCGLOoYjSeoP2FHxL0Dgqq+tTNg3bQwHVoaoY0eg3hSp/NYOS08veFoDmVfO4Ia6cxCndA4G8Ca4AK7NGsOOScfhNVuhbnIB7q4OxoH08siMCI9jEiFs4o3Bn6pkLOs++G5sMwifbsX/pt5Di5GdtX7jWgIDxzQPTmjvshS31gVh//MaaNXRo4jDCsjlCn6PqquA5ckpnWAYMCBwcrnK4SqBrE0KKuQD7dDP/3SwuvKGpLhbAGSQFRcZChSKJcou6fOLRp9Ag76VBRwyHj9EFb/jiL6+Byt//AVbdq/BN60+NlwStvSElzKwcUY9sCGOi8dz1EavAe1gYTAtSudh+0fw+mYkPGQ3sHHMCrz2Gon6b+p5Phwy4aHRAAAGDAMQJ4ec3rij4jqnu77QDIFLG7R0YvDy2K9YcUPNYmRd+AXLTr4EpLewLmg/ntdohY4lyRtyfsm7glDVVrMK6XfFffy2zpceR/6+KmeA8uGhsCaaNnYAK4vCsSNJKJ12eYlt6b6honVXWXJb0ctSMlnJZKWiEGKJ8tqqV+JXl/LIE1pR0TzIQ0958oZRDgrk8mLh08uHTHsD5N4K5oR/XP2vD7xrBv481YjK0la+/dNWXwCATX/4DbKH6OI6+C96jB6TvGBt6QnfofUgOr8Mo0OqYMgwlxJ+8Mz5fEtb1qYPlm2biWZ5JzDNZzGu89598cNBJT/pIUfsoRBEvKkLLBuiaztHWNbxgJvQHF3H+qOJ6StcmNkX3vO24WR4BC7sX4Fxg+Ygs68PmggByGNxKCQCJU10RTtHS9TxcFNeIfYQQkougIZd28HRsg483JQ3UiQuhBgEqbiwiIAsao+cjxntrJC4dzl2PnsjaBySQrfjrNkABAX0Uj4QS1JIpQQoVIWaIBKJQVARUW3g4rDO3w+7n+bg4bmjOHXuMq5cu4X7ser7oitkMsiIIBEVqgcJx4EDh8SwQ4jIlCA35iTW7rsDMRTITE1E6rPkkiJRkY34uJKtWqWx27D6KIvBC2eiU9GTp2KxFIAEhSpblykKCyAmglQs1Ss2pX2p3/+6oUB2fFzJtnfSWGxbfRTs4IWY2ckcgAIymQxEEogKVa3jO4Zm6DR+EjytRYgM6o0uPguwIfQIDm5dhFHDt8F2aF8APHho1RVj/ZvA9NUFzOzrjXnbTiI84gL2rxiHQXMy0denCYRmnTB2TCtUyQ/DAp8FOJPyZmvOAwhPV0CRcg9Xop4ig9HfVpVOYzGmVRXkhy2Az4IzUDaViNMHwpGuUCDl3hVEPc3Qui0wW3sk5s9oB6vEvVi+81lxAcclhWL7WTMMCApALyXBIZVKQVCoJVISiSAmFIu2edex8G9iilcXZqKv9zxsOxmOiAv7sWLcIMzJ7AufJnzGWoLCQpV/PdqEdRedMGXFFKifLkSzSQEYWus14oSdMLI1n/dRDB3TPLVJCziOA7hEhB2KQKYkFzEn12LfHTGgyERqYiqeJeeBpFIozVBzPERKxyuLZr6c0jG/yNaww8esAgmPHiBP8Qr3w6OQrRBDKQWFKJECBQoLxCCSQiytuA+gkEEmI5BEBLXQNecRSzrzBgAI4VrHGUL5QxzafgXpknwkXt6IZceTIIQESTGxyHtDAYkEUgCcTF6sjZp9olnfeI0TAC5uHfz9duNpzkOcO3oK5y5fwbVb9xGbWsDrHWNe12FrY+T8GWhnlYi9y3eihOZJCN1+FmYDghDQy4o/b3hoEZ/INm01Gv5tBIhPdsLgIU4qRQcfDvHRaABsDdh9zEKR8AgP8hR4dT8cd8yH89Q5bXkEeusLjTDrhPGTPGEtikRQ7y7wWbABoUcOYuuiURi+zRZD+9oB4KCUgTAcisiEJDcGJ9fug1IGUpGY+gzJefz0Vz90a2tF9Jt/LuFni6ZxjMqW8fAVABKjUAyQVFyiKQbTczN0GjsGrarkI2yBDxacSYEy7Z7GgfB0KBQpuHclCk91i62Gvil41l0VrXUACF1Rx1kI+cND2H4lHZL8RFzeuAzHk4SAJAkxsXnK8eNZlwJ88oR28MmDWs/lpad8YoxFDbuPwSoS8OhBHhSv7iM8SoQu+vhQpeK5l29O+CDqf0PWTXx5qq2G4DXu0Jj730f/tNUXSlihm/8w1JU/QExNP4xtJARgipY+I9CUi0Nu41EYYKNiF9+cryvHQQ5OAYAUUACwaj8PO4I+h0nUTxjp/zsevZlL4RKwfZgbqrsPx46E8q2M8o9ApS6jWrCPfF1dqHn/qbRqzyH6c9NM8u7hR5uji5eRppiQcdTazoQYgMAIyLqhNy06/bx4JeGCfb7k6tKc+k9dRXsO/UmbZnpTD7/NpGyigPb5upJL8/40ddUeOvTnJprp3YP8NkdTAcnp2cUttNC7LpkwIIH95zRt/Vn6u2jVby4jnH4d0YLcGvWgsYHBFDRjFPXuO4l2PSiyTZ5AF1b6UdMqDDFCR/Kau5UinmfR3T9mUtdaAgJjQY1GLqPTcTrWPObS6cS01mRrwryZXi36YcjM4XOaH5ZJz8M300wvF6WNtTrTd6v20803+6XJHtGGgU5kyjDEmNlSk8FL6FzkGuppzRBjYk9dF4dTDskocnYjEgpqUZv+A2iQ3zSaO82fvNp1oTFbo5WrQXM5dHdvAPVyFBAYE3IfOJ/23smijFshNK+PMwkZhoTOfWjewUdaVvTV5ktd/teNNysZ12rTnwYM8qNpc6eRv1c76jJmK0XnExGXQuGbZ5KXiwkxEFCtzt/Rqv03S7aS4zOGyqMo9Wwg9a5blYQMCIyQbFr40283c1SO0c9DEsdQyLjWZFc0lozAmhp6L6LTz1W3V42nA5M9ycGCJUZoRXZOn9KgJb+Qn3t1quM5kmavP0dxBfzaksUfoMmeDmTBMiS0siOnTwfRkl/8yL16HfIcOZvWn4vT7WMug8J/HUEt3BpRj7GBFBw0g0b17kuTdj0oOk9OCRdWkl/TKsQwQnL0mktbI55T1t0/aGbXWiQAQxaNRtKy08qtJ8UxITSutR2ZMEr+Cqwbkvei0/Rc35Y/xFHa+cXk3dSean3an76dHUhzJ48m7wF+tDw8Q8vuBIV0fLQrdfw5Ru+OQupdNmRM8+CEFsgebaCBTqbEMAyZ2TahwUvOUeSanmTNMGRi35UW7j9CK/2aUhWGIaGjF83dGkHPs+7SHzO7Ui0BiLFoRCOXnaY4OfHnlDaIb9KittbEspZUu6k3LTl1hfYG9CJHAYgxcaeB8/fSnawMuhUyj/o4C4lhhOTcZx4dfFRYbh9wKeG0eaYXuZgwBEEt6vzdKtp/M01l9xg9/NebN4go+zzNbWtDAoYhgYkNffb1VroZ6kcOdp9SL/+5tDkihZ5f20WLh31ClgyItfOk79ccowevS/skOOKlRn2Lib3Ae5y49BM0rbVtUXyo/DBm5PD5fArL0r4PhzyB/3WIOMoI/5VGtHCjRj3GUmBwEM0Y1Zv6TtpFarJnQC3SD45StwyiZv87p2H7Uz4c4qfRNxe1JWuWJcvaTck7OIJyiPTrnJ48oru+0NXlVDob2JvqVhUSAxAjtKEW/r9RickyerRhIDmZMsQwZmTbZDAtORdJa3paE8OYkH3XhbT/CH/91eZ3vtpafv3m4eMy2aJpHPX5ajFdun+Rtiz0promDEFgT59PW09nY2INrOcyij8wmTwdLIhlhGRl50SfDlpCv/i5U/U6njRy9no6p1ts1fu25BRd4VN3HbhM5w1S6xBln59LbW0ExDACMrH5jL7eepNC/RzI7tNe5D93M0WkcTzq0iyS5dwtQ57QDH15cHF4jtZz+empft6E5xCJby6ittYssZa1qal3MEXkED8+VDD36u+DjFI+hPr/HdRN+nh65f5lHTWEfm09dEZL7n8f/StVX7zFc9kDCurQnGZcVfG2PJ5W9WhJMzVuG6Yn5+vIcVxGJIUs8aeW1ViCoDZ1n/kbHY3Ooufhi6inDUtghGTf3p8W7HtAJLtFgc3NiTFrToFRH+5etgyR3od93yEkkEjMYCbMw4vYJ8gUOMKjXk1Yvv38iTQLcY8TUFjNHR4u1dVfa5BIIDEzgzDvBWKfZELg6IF6NS2Lv02SSCQwMxMi70UsnmQK4OhRDzVLXUAHpDl49ncaTF084GBlqLcZi6BIR1jwIkQ0nojhTrlISc9CbkEhJIV5yIg9g+03PsOeU7NKHgfWCBHSYp6hsGZ9uFVXfiOTn/wQSawLGjhYgYUcN+c0Q4dfCNMibmFmjSdIUjjhk7o2FV6HlQ/K63/5zTlo1uEX0LQI3JpZA0+SFHD65P/ZO/P4mK73j3/uzCSRhAqJWEI2kaCW1FJVRO1bqdTPEt9QW0tbVUppqyXBV7WK1lYUVaoorRZVte8EpUJJyB6yNpLKOsnc+fz+mJBtljtZxfe+X6++2s7cOec5z3m2e3LPuR6wL43QkuZQg3+jQ3EPTvBysdP/F0xjdvj4knDcjsqGnbsnXOoYEFadgrCQWGgbtoCnYx6SkwTYO9qWeOxKSlvqlDCExGrRsIUnHPOSkSTYw9HWnAe4cpEaeRcJli7wdKpZxv26uUgJv42obDu4e7rA0PD1o0VmQhjC43Nh59ECzrWMSCLexqf956DOpl8wxbkUD6uVp09LsAm9ZCUgJDIb9b3coHPbDMT+HQOFS3M41SzFmCTalP7fJiMsPBP1vFxRuzTqKK0OTDZryP4l5g0xA3F3opDl0Awe9aygTU9BqqU97KU861lWnRRDm3gcSxacReupo9AkLQ6JKWnIzFYjOz0JoX9swcV2P+D3OV7ltl8eAHJTI3E3wRIunk4waOblGIuMok5AfKYjGhratynJhkzFaDWSw8KRWc8LriUmrZRxzkR9YRLNv4gOvQc4ecHFrqTEWQkhiMyuDy+3OrrxZMTi7xgFXJo7oTRhQD9SY2tZ4rfu96Z1LEUW/fNYKbqSZIdqpISFIFbbEC08HZGXnATB3hHS0q4xGy0HJOQ2MSMOd6Ky4NDMA/WstEhPSYWlvX3BI/DlUpdKpJR50Jx4KsVu1MlhCM+sBy/X2kXtVoo9lDL3lk9OeLLrf4NI0KtJOzVB5cRWA5gan4n6IjMxEdp69VGrkJxZCQnIdWwAOyOyS8r5ZSEzFrcTa8LTvU651iqVSRUvevwvo8GNpb3Q7/RY3Ng/EfbFvxbD8OWH+zHw0xnwLJN1FQ5617CkU5WGOskUXvS4tqRT1QZomSeKzBPTMWBrd+z71hd2VS2MjIwpNDewtFc/nB57A/snloj0EMO+xIf7B+LTGZ7VtpCQkZF5GqisurQMPA3xtNLGUD3rfxmZiuJpfCNN9UCbjDOHg5D01wFsv5BQ5PyF3OTr2L34K6S/NBoeZY7aWlCrxaN9btUFbf7+MrE6CS1TQWgQuvN9jBs/HYFL5+O1mdfRf/ogecFDplqgTT6Dw0FJ+OvAdlxIKBLpkXx9NxZ/lY6XRns8uQW6jIzM/waVVpeWnqchnlbeGKpn/S8jU1HIix5VhaI+Rs6di76WRzGjizMcGzVFi2dbwMPFHR38N+BB3wDMHVi/jBMkIiv+Txy9HAetGIego5cRm6aWdHBeVSJmxePPo5cRpxURF3QUl2PToH7ShZapQLLx94Gt2LblKwTO3YSs177Ee23lv1jIVA8U9Udi7ty+sDw6A12cHdGoaQs828IDLu4d4L/hAfoGzMXA+nIqlpGRqWIqpS4tq4jVP55WzhiqZ/0vI1ORyNtbqhoxDWGXgnAj5iEsG3mhVevmcLErpxs6bTyCfjmOu1kFUyxYN0WPoZ3R6IldBtciPugXHL+bVXBKsmCNpj2GovOTK7RMRZMZjtOHr0Pt0RU9Wjua8T56GZknAzEtDJeCbiDmoSUaebVC6+YuKK9QLyMjI1NuVGRdWk48DfG0QsdQLet/GZmKRV70kJGRkZGRkZGRkZGRkZGReSp5sp8Bk5GRkZGRkZGRMEJZBwAAIABJREFUkZGRkZGRkSkl8qKHjIyMjIyMjIyMjIyMjIzMU8kTueihjT+DI3+mS7tYTMSlHz7HnDcn4vXpC/H9lRRoK1Y842hScefENny+8iDiqlSQykOTegcntn2OlQfjqlb3pUJE7JGleO+D73A9q5J7jj2Cpe99gO8qu2MZ6WgeIOT4d/hs5e+If0KMu3r7mxnkJuPvPzbhv+tPwXg2qCIfFmNxZOl7+OC763jSPVhMvIQfPp+DNye+jukLv8eVFKmWo0HqnRPY9vlKHKzihCb+G4FzP36Fhd9dQa6Zv81N/ht/bPov1p+SWFcYFwQR537EVwu/wxVzBalInrRa6KlAgwchx/HdZyvx+5OSAJ4kqlEMfPIRkXjpB3w+501MfH06Fn5/BdLDtNT7jqqrd8ud6m571V3+6gqfOPJ4bd5zrNNrFSM0Ji7VRHO7//Mc+W0UMyJ3cIy7BZXOb/JITqUIWgIx9RI3Tu3GhkqBFh0W8KYp+as9IlMvbeTUbg2pFCzYYcFNVrshi/e4qqcVBVUzTj+trsyOeW9VT1oJKjabfpqV2bOMNMR7J7jyza5soBRo0XEh/65y434K/E0imujD/Hxce9ZVgJZ91jJBNHJxFfmweG8Ve1oJVDWbzkoNHWaiid5O/+dH8tuoDEbuGEN3CyWd3zxCk2lSTOWljVPZraGSgkUHLqiyhKZh5JHV/MDXizaCQDu/3cw247fRhz/nuPZ1qYAl+6xNoDFTMtla5BGu/sCXXjYCBTs/7pYuSMXyhNVCTwXiPZ5Y+Sa7NlBSsOjIhVWfAJ44qksMfPLRMHq7P58f+S2jMiK5Y4w7LZTOfFOCA5t131Fl9W75U91tr7rLX1158hY9Mg5xsouSgkUrfnjJuCVkH3uLbtY9uPK+rozJ+Hsftx0MYQbJnNtXeD2t4sUt0U/OEU5xVpbfokfObV6pjIGUgZwjU+isrL43YRl3D3PbjgvGb6wqpmMe3raDFyq946efcvP/nMOc3ERZpYsexcdS3f1NMpk7OfwZwfSiByvHh0vaVAbvHt7GHRfKdiNdsWTz2FtutO6xkro0mcG/923jwZAMA9fn8PaV60wr9P9HpjhTWaWLHjrE6C/5kqW5ix46MncO5zNC2Rc98gXhly9ZPlGLHsZqIZmykMPDk5tQ+T+36FE8DhiirDFQaj+VTGXX3dnH+JabNXusvK/TY8bf3LftIA2H6WLymXHfUWX1brlTHfKvMaq7/NWTJ2x7ixZJP2/EGStX1BRvY+va3/GvwWs1uHH0NO5pLWFloRuGbcvB8B/gBdu0U/hk7Mc4nlbBjyPq7UcFVbm9DioNpz4Zi4+Ppz3Zj6mqVKjOb8Cy9egD/1EvoNJf7W7rgT7+o/DCE/5O+WpHufq/shz9uRToG0s19zfJKJRQSXSNCvdhvTZlC48+/hj1Qv0nc58oAGhu4Ojpe9BaWkGXJm3RcrA/BnjZ6r087dQnGPvxcRQ1tyfE2qwsYVHKnyqUqnKcIytYllaQCsFILVTFkj0NKJ8U+69E9MUB/ZQtBkrvpzKp/Lpbc+MoTt/TwtLKQqdH25YY7D8A+sO0Pvmk33dUWb1b7lSD/GuU6i5/9eTJ0rUYhm3f3sewTV9gRCMg7uevsSPGUNjRICEhGWLxj3PvYMsbY7HiehYMvYtXm5mAiMhk5Oj9Vo20NN03mtRYxKZq9DcioR/ddWmIDQ1DXEYJSR9dgPS4MNwKiUWapujnd7a8gbErriOrrC8V1mYiISISyfoHbESGYojpiL0TjvgMYxcBuWmxCA2Lg8EhlxQQ6pQYRCVmGkkyWmQmRCDS0CC0aqTERCExU38LWnUKYqISYeBrIDcNafo21okZSAi7jfDELMOyZaXiQf5vxfT7iIzLKGmXBslFmp6OTcpbAhN2a8oGslKRmv+dJi0W0clq/b2kpen8RpOK2NhUFO3FxBxJmWcJchrVtUm/NCWjDk1qDCLizZnHR/2nIy7sFkJi06DXS0zYadG2pMUY0/4mbcz6ENNjcSc8HgZdXop/5D5ASnr+t5o0xITFILXIWQgi/r0fhQQTOtFmJSEiPN48HzbDN3PT4xB2KwSxxYOgiXnITUvTvye3wmOHhD40CUhIltZi7p0teGPsClw3mnBykRYbijBjcprMN4Z+l4OkyHDEZ5rtdQBEZCSE4XZ4IrJMupYWWUkRCI83EodM+bEZZKWm5tcaGqTFRsNAaC1DbDVQCxX5ufE5KVtcz0JqgRHjfqTx3G8yppTSfgz67yMpUx/k+6mI9PuRRmoyAJpUxETEm1HDFEJinWQKw3NiPNcbr29N60FaHCiKvhhY9n5M2J06DTo1aJAaG4uSJY9xPeivsUzU3ebk70KIGQkIux2ORAPBSZOQAGlhWuJ9gan7Dr31rpQ6vPhPJOjDhD8br3VNy2Qo/5rSOWBmTCglpmp5vfKbUxeUIW+Wa8ysLlT1oyaFUV+YzQ59VzJCo2bQB8/SQrCg97yrzCt2Xd61dZw8chi7uVpSUDZg+yHDOXz4KM7acZuX105kF2dLCkpHth88nMP95vFAku7hIXXU7/x0ij/HTphAv56etK/fjv5fX2U6yczos9y+5C2+3KYBW713gEfm96KTtYIq17d5rMS2uhxeNdRPzglOdVPSokMgzxwLZF9XO1pbCBRquPPV9TcLnd2Qw9CdMzmkvz8/Xr2Raz5+hS1cunH2b/EUSeZcXcuJXZxpKSjp2H4whw/347wDSeY9BqWO4u+fTqH/2Amc4NeTnvb12c7/a15NlybDI8TUv/jdeyP46rjpnLdgJgd4NORzfst5LkV3Vc6JqXRTWrBD4BkeC+xLVztrWggCa7i/yvU3jW9REv85ycUjh/L1Tzdz64YFHN/Lmz4fniy031zNqN8/5RT/sZwwwY89Pe1Zv50/v348CJH/nFzMkUNf56ebt3LDgvHs5e3DD0/mPOqAJxeP5NDXP+XmrRu4YHwvevt8SN3X6Qw/8S0DJvbjs/U9iu6fFJN4epk/e/b244z58znDrws9m3Xh+FXnqRu2huEHv+B7o3zoUdeT0367yHWvdaRTLQsKgg09/bfyrpHHDNPDT/DbgIns92x9ehTeX29U3pKYtFujNpDJ8GPfcN6EPmxerw1nHzzMgIHNaGchUFDa0qXvPB5NEMnMaJ7dvoRvvdyGDVq9xwNH5rOXkzUVKle+revExBxJmGejckrVtRG/lCAjSaZd/poT+vSl3/R5XPDRJA738+ULDgrT21tyQrlz5hD29/+Yqzeu4cevtKBLt9n8Lf6RJ5mw05INGhyLdH+TNuaSiEz96zu+N+JVjps+jwtmDqBHw+fot/xcvu1Tkn9EH1vND17rw2fr1eX/fXeL++cN5XOu9VnLQkHb5hO5OyaTYXtmcfDzzdmopgUVtdrwrV/vF8Se7N30sxNo2etT7v3Ul561lRQEgVYO3hy95gofktTvw+b5Zk7oTs4c0p/+H6/mxjUf85UWLuw2+zfqps7APETc5YlvAzix37Os71Hs7IQKjh3S+sjjtXWTOXJYN7paClQ2aM8hw4dz+KhZ3KHvsKycq1w7sQudLQUqHdtz8PDh9Jt3gEliDk9MdaPSogMDzxxjYF9X2llbUBBq0P3V9SxqbqbyjSGyeXvHu3x5wGv8KPAD+nVozMZte3H4xGmcOesDbrige8ZbTFjLPiW2t4hMOr2M/j1702/GfM6f4ccuns3YZfwqnk8pyGLZu/1oJ1iy16d7+amvJ2srBQqCFR28R3PNlYeFjcGEH5MUE7i2j4ntLZnhPPbNPE7o05z12szmwcMBHNjMjhaCQKWtC/vOO6p7vLyMsdVwLRSh2/pmbE7K2Lcm/CC/eG8UfTzq0nPab7y47jV2dKpFC0Ggjac/txYxYgkxpZT2Y9R/NeE8+MV7HOXjwbqe0/jbxXV8raMTa1kIFGw86b/1btEtgmmX+fWEPuzrN53zFnzEScP96PuCAxUStrcYq5PE1OvcM28w3W2sWKvHMoZrSPGfy9z52UR2qmfNGvZ+3JVpfE7e+OG40VxvrL6VrAeDcUDPgNPDS8bAcunHmN1lMvrsdi5562W2adCK7x04wvm9nGitUNH17WPUlTxG9EAarbEM193m5u/8rpJOc5l/T/b2m8H582fQr4snm3UZz1XnU3R5Lu8a100eyWHdXGkpKNmg/RAOHz6co2bt0HumoUH5JN13GK53TdfhJUZmWh+m/NlErWtUJn22J1Xn5saEwqOW6semxqdXfnPrAml5Ux/lGjOrGU/QokcafxnflqN2/EOS1Nz9gj42ApVNJvK3h/quz+ZPo+tQYdmDX8WIRT7fO8aBCksfLo8q9PmDw5zWvgcXB+dXaeJ9bh5SlwoLT047nsGHUcE8vXwQ7RVKOnYYzcBdZ3lo1RQOG7+OwcVXXYz1kx98FA5t6DtnO6//o6Ymfj9f91RR0WAs9+aPRXN3GbvbWNB73rX8RZ0kbhhgTQvvebyW31/23jF0UFjSZ3lUKfZ8PeDhae3ZY3FwfsATeX/zENZVWNBz2nFmSJSB2Ve5pHtT9lkWzMz8dmLW9KGtYMGWcy7mD3kq3ZQKOrTx5Zzt1/mPWsP4/a/TU6Vgg7F7qXf6SJJ5vPRhazqM2PV473HOlXkc9NbBx8H2weFpbN9jMQumbTOH1FXQwnMaj2eQzLvED1s7cMSuxy3wyrxBfOugroW8Sx+ytcMIFnx9hfMGvcWDOSTFBwz/6xxX+zpSoXTmlMeRM5NBAZ1o5z6RB1L4+LNrS3vSXmnHrouvMoekqHnIU9O9qFI8Q6+Bs7jlShLVeff48/imVBVprzgiH4T/xXOrfemoUNJ5SsGih1F59WDcbk3ZQDYTQs9xxcsOVChqs4XvXG47F86YkJNcO6Y5rQUF7Xqv4t3UKAafXs5B9goqHTtwdOAunj20ilOGjee64DzTc2Rynk3bqnRd6/dL0zKSmrvr+XJDd772c8Eey4zzc9jGwtRBphreXdadNhbenPfIcZI2cIB1Id8yYaf60T8Wqf4mZcx6e726hN2b9uGy4PzsLcZwTR9bChYtOeeimlL9I0+dzfDl3WklWNC55yxuvhhPNUUm/vwanZUqNu7gy7c3Xmc6SfGf3/iGh4oW7QMK4m3+oofS0Zt+Abt58VYwT22bxW4OSgoqV0749R+DPizZXjR3uay7TZGYl7RhAK0Lz6WeeRAfhPOvc6vp66ig0nlKoaKromOH9D50ov/E0XUUtOzxFWNMJZHsvRzjoKClz3IWmFv+oofCgW1853D79X+o1sRz/+ueVCkacOzex9Zm0ocNjubM+3zW5pFtkWLcd/S1V1DpPJxf/vIbL0bnf65n0SMzKICd7Nw5sUARzLy2lD3tlbTruphX8xWhW/RQ0tHbjwG7L/JW8Clum9WNDkqBKtcJ/PUfkZL8WCeI6UWP7ASGnlvBlx0UVNRuQd+523guPIYhJ9dyTHNrCgo79l51l5qHZY2tpOFayMSclLVvUcOHp6bTS6XgM14DOWvLFSap83jv5/Fsqiqa10zHlFLaj0n/Fal5eIrTvVRUPOPFgbO28EqSmnn3fub4pqqivqu5y/UvN6T7az8XnHeQcZ5z2liYPshUQp3E7H0cV19Biy6fM+xRU2Iiv+5jSaHm/3FHJkkjc/LloauGc32S8frWLD3ojQMl0R8Dy96Pcbt7yKjg01w+yJ4KpSM7jA7krrOHuGrKMI5fF8w8E3U+abrG0lt3lyZ/ZwYxoJMd3SceYEGYvsalPe2ptOvKxVcLfpv902jWUViyx1cxJmt9vfJJue8wWO+arsNLYFIfpv3Z+DwYl8lg/pWkczNsVO8ESPBjE+MzJL85dYHUvFmC8oyZ1ZAnZnuL9v6P2HStKyYNsQcAKN3HYFK/OuD9n/D1rrK+mlFE6MYF2IIOeE4bguDgYATfTIabtxdUmnDs/+kSLF1ao7OPNxopCWWrkZg5ogv6Tf0aezZPRmuV+T0qmwxFwKLRaGNvCWWDPhjdtwmElFu4EZP/eJDSAc7N26CdV938PUa14GBvDTHiNkLL4TV4YuhGLNgCdHhOi5DgYAQH30Symze8VBqE7/8Jl9RSZNAiduvH+CyyJ96b0ho2AAAFmowJwMIJ/8HI7s6FR4wmQwOwaHQb2Fsq0aDPaPRtIiDl1g3EGHwiSoP79+Lx79XDOBqvu8jK+zVM6lkHgm4Q2KgbBLQhwQgODsbNZDd4e6mgCd+Pny6pAc193Iv/F1cPH4WuCSt4vzYJPesIuh7u30P8v1dx+Gi87vEwK2+8Nqkn6ggAFHXg3rYTerRzKXJGgvb+dgSuuIrGIyejX91Hn9rAe9pCjG+WgfNLA7EjQQuF0hYuLg2gQA28MHkhXmtfD5YqJwx41QcOTMCtGwkG7FaBOu5t0alHO7gU24dpVF491DJity3DTdlADdT37IAXn3WEQlEfA2fNg/+L7mji1R1vfrMZb3spkHZqE7ZFO6F1Zx94N1KCylYYOXMEuvSbiq/3bMbkluGm58jEPEux1dLrWqIdIQ37FgTisONovDu4YI+lbbveeLGh6TCpdHBG8zbt4FU3/9paDrC3FhFxO1T3ek0Tdmo+JvxN0pj1oI3F1o8/Q2TP9zCltc7joWiCMQELMeE/I9HdWSXZP1SWNdDIpTFsBQEevjPwWqcGsIQCjn3743kbEUk1u2P2+DaoCUBh/xJ6tbOFGHId14s9Bqvw8MPCj/8PnVq0ho//Z9jz5VDU1UZj58qdBn1Yur0o4eDcHG3aeaFg6uxhLUbgtpFArKjjjradeqBdMQeu+NghvY9yRdkEQwMWYXQbe1gqG6DP6L5oIqTg1o0Y6MxNQr7RixpBu/YgRFMfTo11iVbR0Bej+9UFE1Nh2ak/OjlbGlIEtgeuwNXGIzG5QBGw8Z6GheObIeP8UgTuKKxHBTz8FuLj/+uEFq194P/ZHnw5tC600Tuxcuc93TBN+bFUatSHZ4cX8ayjAor6AzFrnj9edG8Cr+5v4pvNb8NLkYZTm7bhprVLGWOrYUzOiWUZ+1YoYeviggYKoMYLk7HwtfaoZ6mC04BX4eNAJNy6gQQtJMWU0tuPKf9VQGnrAhedkJi88DW0r2cJldMAvOrjACbcwo18X0nbtwCBhx0x+t3BBecd2LZD7xcbmtgHLrFOElRQqYrFe4VF0c9qGZ6Td/s9ZyDXT4LlFuP1rdoMPUhFfwwsYz8m85YlXFp3ho93IyipRKuRMzGiSz9M/XoPNk9uiXATdb4a5tdYAEqRv7W4vz0QK642xsjJ/VAQpr0xbeF4NMs4j6WBO1D+YdrIfYeBXGmyDteHCX1I8Wfj82BcJv22J1XnZbRRKX4M4+MzVD9IrwvKkDfLMWZWR0pxO18RaHDr228R1Xk2Gt27gzv5n7YZ0AP1fv0Zh9dtxM1x89CmtNJq/8HJY38iN68Jzu/9uSCBCX3x4by+UDV7BiIApUKAAgrUsnco9YFpj1GqoHzsA0rUrF0TCqbj4UMRgBJKt7HY+udYAIA6Pgh7dx7Evhs5oDoH2WXeNqXFPyeP4c/cPDQ5vxc/FwwYfT+ch76qZnhGhAQZUnBk/2lkeXyKNjUKNV/rRczY+KKeISsLgqSyJmrXVIDpD5E/ZD1Y4sVX+sPxh80Y3u4WJgQsx8JJL2DoMHfdKP45iWN/5iKvyXnsLRgEhL4fYl5fFZo9IwKWL+KV/o74YfNwtLs1AQHLF2LSC0OR3wQsX3wF/R1/wObh7XBrQgCWL5yEF4YOg3thuZVFS5rM03/g7EMBHRo1LlrsWLZHr271sWLTGRw9n4txr1pCyB9x4XAn2NighkBkZ2YaP+9FqSxRTEmRtwR67VaaDQAKQBBQ4iAsq44Y+WpzfPXpHQTfyAGeVUBQAIpa9nAo5ByS5gg1jMyzFomS5ESpdS1JxqyT+OWPRNj29kaLInFGAaXJNQ8l3MZuhc6V1IgP2oudB/fhRg6hzsnWJTwTdloajPmbNlXKvOgh5Qj2n86Cx6dtUNTlZ+CRy6fvkOofNfJtCygya0pr2NQQAEEo9KkC1rY1gLxUpDzQAjULyWxbCzWFguscX/kPBjrsxfbgSwDe1jWpZ5Ik2YvSDWO3/gnd1MUjaO9OHNx3AzlUI8dkIFaWsI3KiB3S+6hhoIXSoISqIKFBWbM2aiqI9IcPIUKLVIk+rA+1OhfQ3kd0tAZwsgRgjeZeLlAKKuO+l3kaf5x9CKFDIzQuqgi079UN9Vdswpmj55E77tXH8tjWqlmgb4UjXvnPQDjs3Y7gS9eAt51N+7E5PA6tRQ8etuo4Eq82/wqf3gnGjRygbY2yxFZDSIz/yjL2LeTbb1Ejhk0NAczORCYBPDAVU7RI3FdK+5Hkv3qFhI1NDQjMRmYmAWTh5C9/ING2N7yLJgAoTCYA8+ok0+ifE91XenK9xPpWmh7MpWQMLEs/0uxOCYVOQbAvarSS9FCjNDWW2fk7E6f/OIuHQgc0KhqcYNm+F7rVX4FNZ47ifO44lG+YNn7fAejLlcbrcL0Y1Ye02GO81pUiU3HbM0PnlhXhC8VVZMrO9PmO9Dq31Hmz3GJm9eTJWPTIOYtvdiXBtsk3mDWjyBeoV0dA4l/fYu2JmVjXp5RnkWsTEJeogbaBD6YGTIGjgcvKemCZMfStmGriTmHNonX4q97LmDr1fQy/uhq7QsqjNy0S4hKh0TaAz9QATDE0YFMyaOIRfV8N1so1769cAPSPuDgKOA5bjV++ysOYD3Zj/Zs++GXrFHy5aQlGNbeBNiEOiRotGvhMRYDBQdhg2Opf8FXeGHywez3e9PkFW6d8iU1LRqG5DaBwHIbVv3yFvDEfYPf6N+Hzy1ZM+XITloxqnv8XmeJokZb8ADkksjIegmhY6DsVnJ0bQcHg/IPEDK2klh7z5TWEdBvQjwpuro2hQDi0opEiRdIcwcg8W5ZRTtNIkVGMDEdEKqFUlTYkahB3ag0WrfsL9V6eiqnvD8fV1bvw2J0VjkbttOwU9Tep81JiFPHRuK8mauUa8nhz/MO8ak7Ib19rKp9ae6KZsxIMK4dH4gBAE4dTaxZh3V/18PLUqXh/+FWsLlUgrozYUXH6N4si5laWWGOFzq8OhtuWjfjlu2OY++IA1EE2IiITYNdrMvraG67etGnJeJBDMCsDD4mimnB2RiMFEZx/GKQhTVh7NoOzkgjLzcv/xIQflwcqN7g2VgDhWhgJraX24fxfS5sTA0VP2fou1oWEmFKmHFAe/ismIjwiFVSqzC+Ky1QnlQMS69vqgDS7M2i00vRQmhrL3PytTUPygxyQWcgoGZzg3EgBBucfxFpZYdogxutw/T8xpg+J/mxjbB5KIZM5Oi//0r0E5VfL66P0eRNAOdY81Y8nYHuLFim/rMfhFgtw4OBv+O23wv/8ge3vPAdLbQx+XLu79I+CCVaoYQVobgThYoYeCVLikVjJ2Uob8wPGdhmK3U3mYn3gf9C+XnmuPwmw0g0YQfoHjPjEXNMyCDVgUwPQ3L6Cyw9LNiNqyr5MJIo10eHtnfjzr31YNNwL6ourMXbguziQCghWNWAFDW4EXUTJUWiREp+IXIgQa3bA2zv/xF/7FmG4lxoXV4/FwHcPIFXXAWp2eBs7//wL+xYNh5f6IlaPHYh3D6QakEiBOo4OsBZERIXeQdGnaom8PA2gcETjJtZlHrtezJbXENJswDBa5ObmgcrGcHe3MtyLpDkyNs9lldM0UmTMUyqhFIiHsdFINjvOaBHzw1h0GbobTeauR+B/2qOkO5uw03JG6ryU+F0NG9SABrevXEZJlxeh0aBq/QMAoIBCAahcPcvelDYGP4ztgqG7m2Du+kD8p329MvwloDJiRxXHJ72UzYdr91+B37a/Drs9k9Bv5Dv4YNZ0/FhzHn7bOhGuRl7DqKjjCAdrAWJUKO4U2/7AvDxooIBj4yYwqgmFAgqo4OrpAWl+XA5oc5GbRygbu8NIaC21D+f/ukxzUra+i7VlMqaw9LKWl/8KSiiVAvgwFtHmJoBKqJOM9//k1belpUx2J1UPpaqxzMzfijpwdLCGIEYhtGRwgi5MN0alhmkjGKvDDfzCiD4kxh4T82C2TE+azsutltdPafNm+dY81Y+qX/QQ72Lz13+iy9ghsC/xpQqtJkxCj5pE2qF12Hy76DOOLPbvRwiCAFCXTAEASld4t3aEkPgLVm0OKbpOnHkNK5fsQWIpNFGin8LSsKhgLPIfubi8ZhF236uHjl098xcdtdBotEXHIggQQIgajfFtEiVQwtW7NRyFRPyyajNCig4Y11YuwZ5EjWkZlC7o1KEJhH/2Y9mKi0gv1Io25Ri+WHrQyJD1/VdxsvDrf5cgKBewaToIc3cF4eSirrCOPYQDV9RQunqjtaOAxF9WYXPRQSDz2kos2ZMIRdav+O+SIOTCBk0HzcWuoJNY1NUasYcO4IoayPr1v1ii6wCD5u5C0MlF6Godi0MHrhSTr0BKG5/+8KkNJJ/+AxeLnC+Qg/CIe0CjfhjS2Ui1KhUW+ZdOIxLklYYUGzBm9Fn482oI6DYAQzsaXhaXNEdG51lTRjlLUtwvpcioqt8WrZ0UyLuyH7/G6IkzRl8PdxlrFu3GvXod0dUzX1daDTSFH1kwYadSx1IgkHF/kzYvJVG6dEKHJgL+2b8MKy4W8XikHPsCSw/+U3n+YYis2wiJVqGN77DHHxX3YankXl6DRbvvoV7HriiYOk2Jp01Mxvp8KkM35vVhKEvqQ4BumBqUNDdjCa2MsUZMwu2/bTHuQDAu/PAl/vvFJny/6g10rGvC72180F+nCPxRVBHICY/APTRCvyGdYUzbWbdDEK1qA99hraT5cXmQ9SeuhhBuA4bCSGg1y4dLznLZ5qS08UNvWyZjSmqpZZXqvyZR1Efb1k5Q5F3B/l9jim5lMpUApNZJjx5cz8sruHHXZiOI6qpyAAAgAElEQVRHrfOtUltZude3+uOAfvQUMWXop0x2J1EPJmssfXW32fnbBj79fVAbyTj9x8Wir83NCYcuTA9B6cK0vvsCKfcdhf+zSNVptA7Xi1F9SIs9xudBikzFbc9MnZcaaX5supYvi++g1Hmz3GJmNaXKFz0eHPwca291QP8eNfV+r3DyxatdagA5V7Bu2W+FVlXzkJWlBplVbH+RAvUc60KhjcKtm+nQ/nsdZ65k4aXXx6ON5b84NnsQfD/5FgfPnMWx3SswZeiHSB40Bm1UgDYvD3kk1FnZEuxQXz8PoEUOcnIBqLMLvXtZi+zMHJC5yMnVtSyKIiBG4/jes0hWpyHk4Gr8eDUH0CYjPjoekbHpUNRzRF2FFlG3biJd+y+un7mCB5pYfO/nDOuaTfHq+lsGt+TU6Pk6xrexxL/HZmOQ7yf49uAZnD22GyumDMWHyYMwpo1Kggy56PbmO/CpnYWgRQPw0pgArNv1K37evAD+o76Fw4hBus5ycqAbcqG3TWuzkZlDMDcHuUaUqQndi+1nH5UJNmjRszMa2zSFp5sKqNETr49vA8t/j2H2IF988u1BnDl7DLtXTMHQD5MxaEwbqKBB6N7tKGiiBXp2bgybpp5wUwHQhGLv9rMo+LonOje2QVNPt/xPiJzsHIC5yMnWCapoNBrz3++MmtE7sXxr5OMCSIzZhS2HrTBk0Vz0q6n7bW5uLljskXxmZSGHMLlYxZxs5IDIzSlkbyblLYkhu5ViAwWNPEBE+IPHh/7lhn6LlfsUGBY4G91qANDmIS+PoDoL2UU7kTBHxudZmpxSda3HL296Y6IpGa264fVJHWGbcRwBYwLwR5waQC6iD+3BmUQttHF/4fSVMCTprQFE6FzpOPaeTYY6LQQHV/8InSvFIzo+ErHpJuxULwZijBR/kzgvJbDqhjff8UHtrCAsGvASxgSsw65ff8bmBf4Y9a0DRgxyNMM/AG1eLjQEqC3819N8W8ouakt5eRo9CwsA1NnILvgf3NqwBieazMCKGW0eWUEJH5ZsL6IIESKij+/F2WQ10kIOYvWPV5EDLZLjoxEfGYt0Q/PAHOi6zXk8jsqIHeboH3lZyFITzMo/X8EYinpwrKuANuoWbqZr8e/1M7jyQIscXUJDUXPLRA6J3Jxc6MzNjFhTBBHha8Zj3PdhSP37CPb9fgSnTp/H5euhiM8sdpCDWq17aixPo4tTikYYPf99dK4ZjZ3LtyKyQBHYteUwrIYswtx+ResKdXZ2of+5hQ1rTqDJjBWY0UYFaX4MAGqodYJAI+GhAO2DCIQ/eBxZEfrtSuxTDEPg7G66J9vLGFsN1UKS5qSMfTM3F7kEtEWNGFk6I9bdzEqIKaW2Hyn+y1zk6oQscpOYlZUD4lG8sUK31yeho20GjgeMQcAfcVADyI0+hD1nEqHVxuGv01cQpjcBWEmrk1SuaOqsgubvvdhyOhHqjGicWr8UB2JUgDoGIaHpOl82NCcwlOtroKeE+haS9ACDcUAvemJgmfrJekmC3WmRl5cHUo2sokYrTQ8maiy9dbfW3PytQKPR8/F+55qI3rkcWwuCE2J2bcFhqyFYNLcfCsJ0FtQkskydA2dQPmn3HfpzpYk6XC/G9SHJn03Mg0mZStieGTqXaqP6kOrHpmp5fb4juS4wI28Wp9xiZjWl6l4ck83g7dPYo5EFBQsXDnh/DY9GFXslmPoWf132Pge4qigAFFRO7DVjK6/cvcAdSyeyvZ2CEKzoOSyQ6/dc0r1jmGTOpQV8obaCCptGbOu7hGdTSTKHIdun8HlHCwoAIShZu4UvFxy6Rw1Fxp35hrP7u9BCAJUNunPaV7t5KcH4y6OK93M66hp3zu3HxkpQsHDnK/N38mpKEi9v/4QDnVUUBBWdB37Cn29lM+/WOr7SxJKCINDKoQ2HLT7CoFV9WVsQaNGwJxeeSSVzLnHBC7WpUNiwUVtfLjmbSmpuc/lLz1AAqGo5h0EG3kpEkjkh2znleUdaCCAgUFm7BX0XHOK9fDVLkoEi4w/P4wCPZ6gSQAgq2rcfz68v6b5LvbaTc/s1phICLdxf4fydV5mSdJnbPxlIZ5VAQeXMgZ/8zFt6X+2XyR/HutLlucF876sfuPenDZzt24fjvnn02jeSOSHcPuV5OloIBEBBWZstfBfw0KNBZP7Isa4ufG7we/zqh738acNs+vYZx2/yX42X+eNYuro8x8HvfcUf9v7EDbN92WfcNwzOJKmJ5IlNgfT1sKAAJRv2mMm1h+/q2hWTeGaZH9u7Pcs+r8/jkkXv03/AIL6z7Wa+bBpGHfuS49raUhBUbNz/I24+e48p13Zwds8GVEKg9bOjufRQuJ53WmsYeWITA309dPbWsAdnrj3Muzkm5C2Babs1ZQNkHoM+eJYqZQN2GjyEQ8fN5Eczx7N/55c4aXOw7nWxcWf4zez+dLEQCGUDdp/2FXdfSij0ujQTcyRhno3LaZ6u9fq/SRlJ5kVwz3QfOlkrKKhq0rFJKw5d/AXHuddhU5/R/GDtEYbrnYc83lr3CptYChQEKzq0GcbFR4K4qm9tCoIFG/ZcyDP3jdupIYqOZTF/P22Gv0kZs16ziufheQPo8cyjuGvP9uO/5qXUwteY9o+I41/zvZccqYSCdV98m6sP3ubDqJPc8H4vNlSCQo0W9Fuyh1eT7vHsptns7aQkFM+ww+sruf/mQ1JM4NGFvmzbsAFbDZ7MD+Z9xOkTfTlk3HKeScq3Pr0+HCLdXvJucd0rTWgpCBSsHNhm2GIeCVrFvrUFChYN2XPhGabqsalT109wU6AvPSwEQtmQPWau5eG7OZJ1U/rYIVX/IuMu7ODSie1ppwAFK08OC1zPPZfijbwSMYeXFrzA2goFbRq1pe/i33l651z2a6wkBAu6vzKfO6+mMOnydn4y0JkqQaDKeSA/+fkWdeZmKtboHQgTf5vJ5x3y83KhfwQrJ/aYf5wposi489u4cGRL2gigwtGH767az5sPdb9POrOMfu3d+Gyf1zlvySK+7z+Ag97ZxpuFXEtMOMqFvm3ZsEErDp78Aed9NJ0TfYdw3PIzTCp4L6VJPz51+zy3LRzJljYCoXCkz7urdLaqj7wgfvCsisoGnTh4yFCOm/kRZ47vz84vTeLmYN17DMsaW8U4E7WQkTkpa9+aqGP8clxb2goCVY3786PNZ3kv5Rp3zO7JBkpQsH6Wo5ceYriGkmJKqezHlP8G7uavX45jW1uBgqox+3+0mWfvpfDajtns2UBJCNZ8dvRSHgrXkMxjxJ7p9HGypkJQsaZjE7YauphfjHNnnaY+HP3BWh7RnwBovE4q4MHRj/iCvZKCoKSFfTtO2HyJu8Y50bFVP47/6Buevn7KwJyYyvXG6luSmigek6yHYnFgyVmmsiSaSD0xMCS07P0Yszsxjme+mc3+Lrp436D7NH61+1LBK4ZN6YESaix9dbeJOtMQYtIZLvNrT7dn+/D1eUu46H1/Dhj0Drc9Ck5iHC/sWMqJ7e2ogEArz2EMXL+Hl+KN3HsUk2/x76el3XfcCDFQ70qow4sjQR+m/Nn4PBiXSa/t5edfkzo3yxf0Y8qPzyaIRsenX/5MM+oCKXnTgPDlGjOrHwLJarxkYxh1chjCM+vBy7V20ReH5KYg/HYUsu3c4elSp8zn2RjsRwpZCQiJzEZ9LzfUUQFABmL/joHCpTmcHr29QJ2MsPBM1PNyRe1HHeSmIT7mJ7w/Oxv/3TMVLkaf18lFSvhtRGXbwd3TBXWKD1iKDAAADf6NDsU9OMHLxa7c9oCp1WpYWamQfj8Ud5KVaOzZDPVtSg4oNyUct6OyYefuCZcig1BDrbaClSod90PvIFnZGJ7N6uNxE2o11FZWUKXfR+idZCgbe6JZfRszHnHKRWrkXSRYusDTqab5c2wuZZZXH8ZsQINLH3qjyxfEzLOXMbveHcRom6Clh73ZvmF4jqTOswlbNQNDfmlMxoIfpyAsJBbahi3g6ZiH5CQB9o62JucgKyEEkdn14eVWR+cfGbH4O0YBl+ZOqKkwYaelGItUJI1ZH5p/ER16D3DygoudIY+vBP/QZiIhLBzxuXbwaOGMWuXeSRYSQiKRXd8LbrogiIzYvxGjcEFzp5qP5938eaiM2FHefaiRHBaOzHpecK1dKmsz04e1SDy+BAvOtsbUUU2QFpeIlLRMZKuzkZ4Uij+2XES7H37HHC/TsuSmRuJugiVcPJ1Q08Dl2swEhIXHI9fOAy2ca+nVl3E/NilGAZpL+NC7C77gTJy9PBv17sRA26QlPOzND2yl9mHdr8sUV8vWdzFMxpTSyCrNf6WjRkpYCGK1DdHC0xF5yUkQ7B1hK6kh03WSmBGHO1FZcGjmgXpWWqSnpMLS3t7oNizJlFt9W9Y4UPZ+ymR3xvQgpcYqUXeXPn/r5ElF5N0EWLp4wslQcDIHffcFZWlOYh1e6BcS9WHEn03Mg/kyFe+6nHVeDJN+XCG1/CPKmjfLO2ZWH57aRY+nmzScWzwLh57/Agt721W1MDLVmsKLHtewpFMlHGstIyMjA0BzYyl69TuNsTf2Y2KJQ71EhH35IfYP/BQzPCt8ubn8KbzocW0J5NAqIyMjI1NWnuq8WcE8zQs6TylaJB/bjiDvTzBfXvCQKTPa/PMWdPvZZWRkZCoHLZLPHEZQ0l84sP0CEgofl5CbjOu7F+Or9Jcw2qOaFm5aQhdaRcihVUZGRkam7DzlebOCkRc9qh0K1Ov1Nt4b6PI/9ZohmYpARFb8nzh6OQ5aMQ5BRy8jNk0tF+gyMjKVgAL1R87F3L6WODqjC5wdG6Fpi2fRwsMF7h38seFBXwTMHYj61bFKEbMQ/+dRXI7TQowLwtHLsUhTy5FVRkZGRqYsPMV5sxKQt7fIyPyvoo1H0C/HcTerIAQI1k3RY2hnNJIXiWVkZCoFEWlhlxB0IwYPLRvBq1VrNHexK/N5W1WJNj4Ivxy/i4LQKsC6aQ8M7dyo4s+FkpGRkZF5ynn68mZlIC96yMjIyMjIyMjIyMjIyMjIPJXID8DIyMjIyMjIyMjIyMjIyMg8lciLHjIyMjIyMjIyMjIyMjIyMk8lyoCAgICqFqJaIcbiyLJAfBPWAC96N4BFVctTqeQg7sZlBIfFIDY21ug/9x4QdRrYQRl7BMsCv0FYgxfh3aACtCX+i4gL+7D1uytQdfZ+fBaF+G8ELuzbiu+uqNDZW95HXRY0D0Jw8sdN2B/fFB2b1YIAQKzoeTUkS+odnNqzCfvvuz2WpVqSm4y/j+7EN8fS8VwH14J3u1doWyJijyxD4DdhaPCiNx5Nm35f0X9t1SMi8dJOrF25Fpt/PIrghw5o1aoRbKrMEDRIvXMKezbtx323jmhWyxxBnlQdm0CTijun9mDT/vtw69gMZg25SjDP7v+NuIB9W7/DFVVneMuHG5U/5Rn7JFMWP/0fwlA9Vcp8L6ZF4ML+77HlkoDOzzlV6zpMTLyEnWtXYu3mH3E0+CEcWrVCo6pLPOVA9faJqqpBZao5lDEL8d4q9rQSqGo2nafVVS1NZZPD+1cPcP3k9qwpgFA68vmRb3DKlCm6f96YxPF+L7NjY2tatHifF9Qi763qSStBxWbTT7O81aWJPMLVH/jSy0agYOfH3dkkqWHkkdX8wNeLNoJAO7/dzC7nfv93EHnvxEq+2bUBlYIFOy78m5pHn1fgvBqSJfXSRk7t1pBKwYIdFtzMl6X6oYk+zM/HtWddBWjZZy0TxEpqS7zHVT2tKKiacfppNY36SolrnwQ0jN7uz+dHfsuojEjuGONOC6Uz3zySUzXiiKm8tHEquzVUUrDowAU3zbTIJ1LHxhFTL3Hj1G5sqBRo0WEBzR1ylSDV7jWRPLL6A/p62VAQ7Oi3W84c5U15xj7JlNVP/0fQX0+Rpcv3IhPPbeJHr7ZgTUFgzf/bwcwKk7zi0URvp//zI/ltVAYjd4yhu4WSzm8eYRVlnrJT7X2iKmpQmaeBarLokcPbV64zrcTHt3nleolPK7jfDN49vI07LiSwMvJ1xWFApxIQ41azlyUIqyHckl7ye03URg594T3dolDGXR7etoMXKqq6EaP55UuWxZI0KUZ/yZcs5UWP8iDn8GQ2URZe9GDZ5lWy35a00ZwjU+isrN6LHiTJzJ0c/oxQPoW/GW1l3D3MbTsuFLnOkK/ou5ZkJcRdA2Qf41tu1uyx8r4u9mb8zX3bDjIko/JFKSCHR6Y4U1nKwvGJ07E+isuSc4RTnJXluOhR+lwkFel2LzL6y5doKS96FKU87bE8Y59BittU2fz0iaW844SBeqq0+V6MX8PeltV90SObx95yo3WPlbyvSzz8e982HqzaxFMOVHOfqOh7C5mnkmpxpkfaqU8w9uPjSNMW+RSnPhmLj4+nQWvohxXSry08+vhj1Av1q/WBKPrHJg2FjQ2sBQAQoNCjBKXL/2Hq+LaoowBg64E+/qPwQoW9NNoKlvqebLOy/B/belSBKFUlH0st9bxK91u9NqrSI0t1RKGEqrxcwoy2bD36wH/UC0Xf4W7AV/ReWwlx1xCaG0dx+p4WllYWuthr2xKD/QfAy7aSBSmGSlV6i3zSdFwSfbKoUIYhl+yhDLlIKubYvZXehPK/TDnbY3nGPgPos6my+OmTSUXECQP1VCnzvcLKEhbVa9dESTQ3cPT0PWgtrWChSzxoOdgfA6o68ZQD1donKvzeQuZp5Imxltz0OITdCkFsmqbo53e24I2xK3A9q/CbdXNxZ8sbGLviOrIMvXBXm4mEiEgk5+j/Oiv1AbIAACLS70ciLkOU0G+h79PS8n9fFDEjAWG3w5GYZTgNmerbGOb8VpuZgIjIZBRXgamxlQltCiKjiB5vjEUr1eMekZZWUlvSx5KL9Lgw3AqJRTHzqNYYmh/DZCE1Nf9qTRpio5Oh1nudGmlpuus0qbGITS2mNBO+kd8BUmMiEG/UNvXPKwCI6bG4Ex6PDE3R60367aMrJdpoblosQsPiYFhMLTITIhBpfLDFkKhndRp0atYgNTYWxdUsJRY8ljIrCRHh8cg0eKl0HzDZVm4aDEybiWulz19pMKUvTUICkqWHynxMz7+h3FNMOqTH3kF4fAaMqz8XabGhCIvLgGRRzdWxCf/NfZCC9HwVatJiEBaTitwiQ/kX96MSjNiaGbLkyx8bGlaq+F2huaiEGGbYvTnNmrKfrFQUhJNYRCfrj9qSrwMkxHDT8UKdlqbLPZpUxMamGrBrCTYgZiAh7DbCE7NKdfNtOvaZlyul2ZQEP5WUJ4uRlYoH+TYmpt9HZHm3/5gyxmIxHbF3whGfYU5BZTjfl649qYjISAjD7fBEGE6lWUgtUDzuR5ZjTaBJQIKJxCMl10vzNzPlzE1HXNgthMSmGWmvAnOXVo2UmCgkGnFeU76rVacgJirRgP9roU6JQVRipoHYYqQGreB7MZnqSZUveqjv7MKsVwZg4ud7cerkdrzzogd85hxEghaA+ho2fb4RQQkixJDteGfUCIye/xvu/bkJn28MQoIoImT7Oxg1YjTm/5asc4rcaBxa8ibGjJ+GuR9PQtfGDdB+zDpcywAgRuD3ZTPh170ZmrwQiJNB6zHueRc4uTVF4/otMWZbmM7ZDfSb/DACJ7cEYlL/VnDu+BHOF6pJtMlnsHxML/R/43N8v2sNZvRtAc+uE7D6wgOdXFL71oeZv82NPoQlb47B+Glz8fGkrmjcoD3GrLuGDGNjK6c/FYhR2xCw+i/kAciIOIktgZPQv5UzOn50XnfjaNZY1LizaxZeGTARn+89hZPb38GLHj6YczDB/OIq5zZ2z3gJTjY1YF33BUxZewR3cgBAi8RL32FKx7pwH7ICF1NNtyzGHMC7nexhXcMGzgM+wcEIDdKv/4B3fRrCpoYNGvq8jbUnYyACEGOOYMEgN9RpPwNHknRtG50fPWRFHMfG+RPRt4UrXlpyAkcCB8GzniNc3BrC3rUf5h9LhBZAVsw5/PDZ2xjc1hXdFh7D0YDecHVyhXu76TiuhnHfeMy/uLJuIvr2G4sFm7Zj9Qw/jF/9JzIKFVZ65xU6XaZd34qZI4dh0ryN2PX1RDzn3A6jV5zHAy2gvmbEbwsjxUaZilML+sHLzQutPRujnucwbPi78K1dLqIPLcGbY8Zj2tyPMalrYzRoPwbrrhnSslQ9ZyHm3A/47O3BaOvaDQuPHUVAb1c4ubqj3fTjUENCLCiM9l9c+PxVtGjUCB7NnGBf/zn8Z+2fSC9QhnQfMNpWBiJObkHgpP5o5dwRH503ckNl4Fq987f3HHaV0a9M6kvzF9ZPGQX/pSeQSg2ub5iEESNGwO/9nYg0GDRNz7/R3PNYuDRc3zoTI4dNwryNu/D1xOfg3G40VpwvOZdMPYUF/bzg5tUano3rwXPYBhQxydLqWFJui8HxNR9iXN9WaNxsCvaGHsB833Zo1rwVWro1QdtJexCbFY6f3h+CTq1aormnExo+9zb2xRkp0k36K5F6agH6ebnBq7UnGtfzxLANfxdaYDFhu5JzkYiYA++ik701atg4Y8AnBxGhScf1H96FT0Mb1LBpCJ+31+JkjKi79sgCDHKrg/YzjiBJa47dm4dx+8lCxPGNmD+xL1q4voQlJ44gcJAn6jm6wK2hPVz7zcexRK0Z1+VjMoab0HlWDM798BneHtwWrt0W4tjRAPR2dYKreztMP15SN0ZtQJuMM8vHoFf/N/D597uwZkZftPDsigmrL+CBlARtMvaZnyul2JRJP5WUJwsjIuL3ZZjp1x3NmryAwJNBWD/uebg4uaFp4/poOWYbwkRp7WtTrmD7x4PRrJY1atg2w/8tO42YpMtY/58WeKZxd0xedgiRohm5tLjK065j68yRGDZpHjbu+hoTn3NGu9ErcN7IhBnO9+a3p029gX3z+8OpVmN0mRCAtT8GFY23Ra9G8pnlGNOrP974/HvsWjMDfVt4ouuE1biQ374Y8TuWzfRD92ZN8ELgSQStH4fnXZzg1rQx6rccg21FFW9mTaDBX+unYJT/UpxIJTTXN2DSiBEY4fc+duYnHpO5y0x/kyyn+g52zXoFAyZ+jr2nTmL7Oy/Cw2cODhZWZoXlLt3cpJz6FKOGvYNvjp3BvuWT0Pu57vjoVMGYTPquNgWnPh2FYe98g2Nn9mH5pN54rvtHeNSENuUUPh01DO98cwxn9i3HpN7PoftHp6CGCZusyHsxmepPlW6u0dzlsu42tPCex2t5uo+SNgygtYU35z36IHsvxzgoaOmznFGFtm5l7x1DB4UlfZZHFTpb4wEPT2vPHouD8w+2EXl/8xDWVVjQc9pxZlCk5uEpTvdSUfGMFwfO2sIrSWrm3fuZ45uqqHSewsdn4unpV3wQzr/Oraavo6LotZlBDOhkR/eJB5jySJTMa1za055Ku65cfDWHNKfvEpjx2weHOa19Dy4Ozj/aR7zPzUPqUmHhyWnHM4zqVDJpm/myFQiLjnx78zZu26b7Z8uGz/hWNyd6TD3BHIp8EP4Xz632paNCSecpjw59kj4Wzd1l7G5jQe9516izhiRuGGBdxF4oJnBtHz1neiSsZZ/i+7XzbvK/nWpQsO7BLyMK7WHMC2ZAl5784q70fY3pv79BF6WKTaedfHyIUt7Vj9nWQkX3d04UOuBKzQtzunLk94k6O5UyP8XITgjluRUv00GhYO0Wvpy77RzDY0J4cu0YNrcWqLDrzVV3NXwYFczTywfRXqGkY4fRDNx1lodWTeGw8esYnGfKN0hSw7vrX2ZD99f48+N9khk8P6cNLR4fZGpoXsnsq0vYvWkfLgvO370rxnBNH1sKFi0556KuV/1+q2/Q+m0058RUuikVdGjjyznbr/MftYbx+1+np0rBBmP38mH+dQ8OT2P7HotZoObNHFJXQQvPaTSgZol6TmVU8GkuH2RPhdKRHUYHctfZQ1w1ZRjHrwtmnqRYQDJ7N/3sBCodvekXsJsXbwXz1LZZ7OagpKBy5YRf/9HNiBQfkNKW+IDhf53jal9HKpTOnFIo2JTwFSPX6p2/sviVVH2RzP5pNOsoLNnjqxiT5ymZnH8puYfZvLqkO5v2WcYCk17DPrYCLVrOoc6kc3hiqhuVCge28Z3D7df/oVoTz/2ve1KlaMCxex9SL+bq2GRuy6M6O5zLu1tRsHBmz1mbeTFeTYqJ/Pk1ZypVjdnB921uvJ5OUuQ/v71BD5UF2wcEM6+4bIXQK0vOCU51U1Lh0Ia+c7bz+j9qauL383VPFRUNxvLRkKXZrtRclM7f33ChUtWU004+jri8+nFbWqjc+c6JQslTfYFzuo7k94mieXafr9eEtX1Mn+lh0n6ymRB6jitedqBCUZstfOdy27lwxoSc5NoxzWktKGjXexXvaqReR5q2AQk6fxjF4NPLOcheQaVjB44O3MWzh1ZxyrDxXBes3xL022MmgwI60c59Ig8UOC6vLe1Je6Uduy6+aviQR4mxrzS5Ml9gPTYl1U+l5MmSiJqHPDXdiyrFM/QaOItbriRRnXePP49vSlURu5PS/kOe+aAdrRV27Lc2kpq8UK56pTc/OV/0ADXJufTxD65ySfem7LMsOP98DZExa/rQVrBgyzkX8wdSvJ4ynO8ltffgGw6wKjjTQ0w5zf+OeJUfHYg2GndIMjMogJ3s3DmxwMCYeW0pe9oradd1MXVltYYPT02nl0rBZ7wGctaWK0xS5/Hez+PZVFVU3tLUBLpx/sTRdRS07PEVYworWkruKoW/mZZTw7vLutOmcK5K2sAB1oX9vgJzF0nmXeKHrR04YtcjxeXwyrxBfOtgzqNBmPTdvEsfsrXDCBY0cYXzBr1FXRN5vPRhazqM2MWCr+dx0FsHjdxbSJyTMt2LyVR3qvhJDyUcnJujTTsv1M2XpJaDPazFCNwONbrMqBcxdCMWbAE6PKdFSHAwgoNvIsxTvGYAAB/KSURBVNnNG14qDcL3/4RLagWUti5waaAAaryAyQtfQ/t6llA5DcCrPg5gwi3cMLzsDEUdd7Tt1APtXArvg9Pi/vZArLjaGCMn90PdRx/beGPawvFolnEeSwN3IEFblr6l/lZE6MYF2IIOeE4bguDgYATfTIabtxdUmnDs/+mSge0QpSUd8XdCERoaitDQEISEhCIsISN/FVmBOu5t0alHOxRRl+SxAFA6wLl5G7Tzqpv/SFItONhbQ4y4jVKYB6BqgUnTXoaD+iw2bvjz8V8kNTd242jdkfBzl76/sWbvifBrDkTt/xFn8p/bU7UZhWFtBUTv/xFnHz3Ll3sVv15rhddecYSilPNTo74nOrz4LBwVCtQfOAvz/F+EexMvdH/zG2x+2wuKtFPYtO0mrF1ao7OPNxopCWWrkZg5ogv6Tf0aezZPRstwU74BIG0fFgQehuPodzH48T5JW7Tr/SIaPo4UBuZVG4utH3+GyJ7vYUprm/xLm2BMwEJM+M9IdHdWofxQosnQACwa3Qb2lko06DMafZsISLl1A7o/9oZio26w0IYEIzg4GDeT3eDtpYImfD9+uqTfC6TpORpOrTvDx7sRlFSi1ciZGNGlH6Z+vQebJz+LREmxoKBPhYcfFn78f+jUojV8/D/Dni+Hoq42GjtX7swfqnQfMNqWog7c23ZCj3Yups9EMefa/2/v3sOiqtY/gH/3zMhNjDwqIYF4y1KPqIGVpliailoKmeINgtQnO2kXPVLq0VTI6Gdp3tIuYql4T1Q8piZdhGOiCKaImKGgxICCIMow1/3+/hgUBuayB0GN3s/zWDqzZ+2911rvWmuv2bMXcBdxJbXtlHIQ1Ugqf9t9j3hlA/7z8SUMmDEVVVU6FAuiXsOEkP4wqdJybwQtiMZ43xZwkHtg0PjB8BaKkXnmsvlvjezMY9t9mwIOTp7w8WoKQeiI4HdfxdMeDoDMHYMDn4KL4Spc+0ciwtcVgAwtnhuIJ5sakPXbb3b8vM6U3DsIC6LHw7eFA+QegzB+sDeE4kycuVx5xvXafrvihUnj8ARykLA9qfKYFfAdOwrdhVwkbE9GVZO7B+n/fBUj3WX212XJbNUfJzzSyR99urpDJnsEw/49HxP7tIf34/3xxlexePNxGUp/WYeNGQqJ2+kl1AHYzvNmPujWOwA9POUg+T8RMnMMnh0yDWt2xuL1btLbaPHPOCxclgavkNcxpCpw0eOtKEQ8dgtHlyzEFhuBa73ta6CxjI04lZTH5s5F3hQ+Ph6QwQnPvB6FV/1awUHxKIa+HICWVIDMM8Y7baSl3wx9563CO75qHP7w3/hw7jvY1ysGc3q71uWMK4m4suE/+PjSAMyY2g3G5kwG79AFiHptAkL6t7HwOUvjOHvTI+hy4xE5dRNafxCHD4e3gdXaJv6JuIXLkOYVgterKhhceryFqIjHcOvoEizcUgBRJkdTHx8Yh5OvI+pVP7RyUODRoS8joCWhIPOMsf+o45jAygFK67ua2hlvEo9T3rINnvB9Eo9XNT5o4WzAxXPnoUUD910AoP8TecobSDt0GEoDADiix6uTMaC5AKmxq/8zD8obaTh0WGncj2MPvDp5AJoLAKDHn3lK3Eg7hMPGHcCxx6uYPKA5BCt1suGvxdhfXX1eidhP3g5hG04iDAA0SqTEb8X+vWegJg3UFfbeYCSi6OdEnNTq4H00HrvuXKQJGDx7PgYrHsNDBgBNBKDyIZxVBLi4OEGgCpSX2/qBpBxyk6michw5mIwywR+eXqZzSA5+A9HvkWVYl3QYR7XheNnhbvYt4bNiEX5OPAmtzhtH43dV/XZJGIzZ8wdD8dhD9XvbluxxBM2LQqhL1Uv6V30Q8k21beRyM7+hkpYP8nZh2HAyDACgUaYgfut+7D2jBmnUsLt6GA8Y7qPeQVjUbnz27UokRG7EqOZ6pO34GY+GfAdPe6YAFX4Im+iPZf/ZjY0HYzBwZDOIxb8hQ6mAomAPNh36GANHNMOtxG+R1jMMC11xV+UjgwABNR885YheIS/jieUf4ffTZ6BGdzjJBMggQ7MWLas9pE9abKh+3o2DhU3xQo/Opg2DzEwZ1izX4h+QcESFjh/5wqnay836vIuv+0jJUPvIFfKq2iN3hZurDHSzDGUGQCz5GYkntdB5H0V81clCGDwb8wcr8NhDliuPtHzuCpkgA2TN0KJl9ae+2dEW3D6mps3geudEZHAfOQHDWsYj7vRxAG/aFQO20gIAuVx6JZe+bV3jyo78crKQhBlikYTyl9D3FP+QgCOqjvjI16RGo8+7X6N2lZZDIa9qz+SubnCVEW6WlcEAWLzglpbHEvs2AIJw562qfTi7wEkABKHaizJnNHUCdCXFuC4CrnX5+kOuQNUpy+Hq5goZ3URZmfGM67v9VviFYaL/Mvxn90YcjBmIkc1EFP+WAaVCgYI9m3Do44EY0ewWEr9NQ8+whah+iWhPvZdE0thFVlkgNR786tgLIS8/geUf/Y7TZ9RAdycJ26lQVG67DkjLcxmMzVcLtKzjM1vLjxxEcpkAf08v037AwQ8D+z2CZeuScPioFuFWAtdqeyW+0kBjGWtxKqJEYpyZPZ/KoDMZ1bi4wEkgVJSXg+yIY7j0xpwV05Aw6FNExb+FxNN+kNQEqq8iJ68U2uoT666t0d5TjR8SjkDV8SOYNmd98K6UDrrWOK7YrvT0l7Yh9IWzeOSzNER0kXAm5UdwMLkMgr8nTLsGB/gN7IdHlq1D0uGj0Ia/DPPDahe4OAmginIYh8Z1HxNYOEDpfZdCerxJO05HtAvbAGOYa6BMicfW/XtxRk3QqCtgwD3ouxz6YGSgOzbHjsaTma9hwdIoTH4mCKPaAxALJcWuU5+RCHTfjNjRTyLztQVYGjUZzwSNQnvjDtBnZCDcN8di9JOZeG3BUkRNfgZBo9pXO+yadfJeXYuxv7L7O+kBAPp8/LI6GmtPtcKL06Zh1ug0rNqWVYeERBTkF0IveiBg2gJMdbe4Wf0SS3HtuhpEKtwqI6B1tfcUbdDGUwY6XfnAQ4d63netYylAfqEeokcApi2YCktZ0JAUXUMROdax3iqWPv8XrI5ei1OtXsS0abMwOm0V6lQ9bnN8Bm/+KwBfvhOP1d9mI+hfhdj5a0eMfa+VnQnJ8fiEMPRfPB0JmxJQPDIEhbHfoHzax3hl+Qzsi/svrr84EN9vykX/OU8Zi74BykfRri28ZEC2aIDlZlpKbBhwKfsiSkgORR0KT6/MxZ8aQjNtXW7BuVumj4cXC/JRqBfhETANCyw2BPaRlM/2tAWWxn3OnfBYGznoj6p8rHMMmEmrwdQlruojv8wlK7X8rfY9eihz/4SGmqFOVbpeVyyQ2LfZpfIARdFKu1GnFE3Ua/stfxwTwvpj8fQEbEooxsiQQsR+U45pH7+C5TP2Ie6/1/HiwO+xKbc/5jzV0J0t7mLsokC7tl6QIRuiwVruV9/OILkO1HufWYuI0mvXoSaC6lYZyDRw0aaNJ2R0uvJh2nYEbvX26l6NZUwqbUPEWd3Td+0TgbHdV2DeyV34at9s9H3F9oqBmqOL8Pzg1cipdg3vOHwdCnb7I/dPDaiZFvXSG+iVdqUnc3aArCAHG2bMwshen+NFd+tnIpZew3U1gVS3ULtraANPGeF05YNBpUR6vY8J7Om77LhBR/px6pH/y2pErz2FVi9Ow7RZo5G2ahuyKt9r8L5L5o5Rq3ZjuS4U7+/4Am8E7MaGqZ9hXcxYPOEgMXbdR2HV7uXQhb6PHV+8gYDdGzD1s3WIGfsEXCCD+6hV2L1ch9D3d+CLNwKwe8NUfLYuBmOfcDGf3oN0LcYeWPf35y3iZWwOexZBO7wx94uFmODX6i4ulgU4OjkC+jNIOWbmwURiMZSFDTD4lzWHe0tnCIYcnP+9xi1ypINOD8jcveDtXP+7rkVwhDELUmA+C5RoiCwwIW+Hp5/yrJdbicXLmxH2bBB2eM/FFwsnwK9VfUylyNEu7G280lqNpLVrcOTITqR1HYfBbvanJPMeg/DAh3Hj4CZ898ePWPN9W0x9YxLCg71QenAzdqVuwXbVi5jQuTI3GqB8RK0WOpLDq317OFrcSkps6CCXyyFQGa7k2n4gWq09OLnACXqcSz2BslrvGqDX37vbBQVHJzhCjzMpx8w88E5EsbLQ7oGfpHyul7ZABpkMULTtZNzvXcWAaVoNqw5x1UBtp6Tyt9n3CHBycQL055B6onaNhkGPe1el71Pfdpfqv/2WwXtMOAIfvoGDm77DHz+uwfdtp+KNSeEI9irFwc27kLplO1QvTkDnhl6J8a7GLiK0Wh1I7oX27S232qbbOUmqAw3TZ9YkQ3P3lnAWDMg5/3uNn5kQdMbAhZfdg55q7dV9Gcs0dJzZk74B2V/PR1KvGRjhno8tM9/Dnqu2GxzHPvPxU9btnxwb/2R8ORoPCU4wNmepMN+c2bnqip3pyTyCsPLLyWib8zWmTF6H323sTtbcHS2dBRhyzqN216CDHjK4e3lDag2r9zHB/ey7IOLy5jA8G7QD3nO/wMIJfjAN83vRdxlgcPXHm1tP4tTeaIx+XINjq8Iw7O19KJEauwYDXP3fxNaTp7A3ejQe1xzDqrBheHtfiXEPBlf4v7kVJ0/tRfTox6E5tgphw95G5du1PUjXYuyBdV8nPbQnViN6Rx5a9eqLTpUzb6JeD9Hkyw8BggCQQQ999dcFAQIIBr2+8psqOdr26AZ3oRC7V8Yiy6RRLUf6ihjsLLTndC3s9/b3Yndec0FAYADccA1HDh4z/X20OhsX8wDPISPQ29rYpr7I26JHN3cIhbuxMjbLdHmq8nSsiNkJYxZYOjeJiKR/O1gzuyTT4sTqaOzIa4VefTtVTsyK0Ovr4ZtJt2F4a0oPKP6Ixb9mnILf+P6wMHdsQwu8FB6E1qqfsDpiEc4Nmo5ANxcEhI3BY6rDWDIpDk1Hh8DndrWTXD7SqU6mIYvaYWhQLyuT11JiQ4FHunfDozIdUhP24LLJ3Z5U7b8mL915Te7zNPy9BRQlfIplx6o/f19EceInWLK/yPjPWnFriYU6Wm2/VPPFyr/J2/ZAN3cBhbtXItb0ZFGevgIxOwvtbvik5XM9tAWqc8jKVcA3eBTuOgZM0jIyU5IWmd3WWvnZHVd25hfV+L8FUspfb7PvkcPnaX94C0VI+HQZTKt0MRI/WYL9RWK1wzGtkVV/tX6w0vK4vvs2O5gtb7NBWOOUpdZdO/uiFi8hPKg1VD+tRsSicxg0PRBuLgEIG/MYVIeXYFJcU4wO8akV3/bUeymkjV0sUeFkWhao3VAE9bL2lWP17Zwl1AF9w/SZZuqAS0AgAtyAa0cO4php4CLbGLgYYe+gp3p7dVd9pfk6ZTtOGzrOpKevP78GM7Z3xoL/i8byxSPQMi8OM95PMF3ZyFxsOrmjbcdO6NSp6k9Hz2aQyX3wtL83hKIEfLrsGEybs0R8smS/9UOvOY6zOz0ZWgxbgvWRPXDzvzMRGvWr5RV4AMAlAIHGCoaDphUM6uyLyIMnhozobeWLHlN3NyYw1/E0zLhf0nFqT2B19A7kteqFvlWND/R3Gp970Hep9uDDmBRo4YIOw+diW8rPiO7rjCsH9iFVLy12VXs+REyKFnDpgOFztyHl52j0db6CA/tSAaiw58MYGN8ejrnbUvBzdF84XzmAfakak8OrOsoH6FqMPbDu750eBgMMMCD3x3gkX9OgNGs/Vm1Pgxoirilzobx0BTdlreD+DxnEnExk3BRx47ckpF4XIWvljn/IRORkZuCmeAO/JaVC9dwURPg64EZiJIYHz8P6/UlITtyBZVODMPvacIT6KgDSQqulGrf1ElQqNQgG6G/3khb2C1KjQg2QVo0KAgAZPMd/gFm9XZG7dSk23FlD0YDL277BIccRiJ47xHiHm9R9myPps04YMCUCvg43kBg5HMHz1mN/UjISdyzD1KDZuDY8FL4KS+emQ843IWjXvD3Gfptj9feyhqIilIgA6AaKi6xPGZO6AmoQtOqKam2ptHwwGAyAIRc/xifjmqYUWftXYXuaGhCvQZmrxKUrNwFooNECMOhMZ681Ghhf1pu5a0GBHtPnYoxHGbIV/TD+zq3QIq5sGoc2zq7o8PIXyJTw5YfrwAiEdNQjI+sRhE/pCgUAB/9QjOtuQHZpN0wc0aLa1hLLxyIR1y9mVy0HqD2P9Sv2QjZqISL7GW8jFnU66IigUVWYdFlOA2zHhmO/KZjcqylu/bgAoQsOIv/2Mrc7k1Aoisg/dQSpf1yFBmbK1bEf3pgeADdVCqKHPofQBWuxbc8uxC6aiLHrW2LMcONNjubi1uzqdpbiT62GFoCmotra7GIFytUE0qqhJQBOAzAlwhcONxIROTwY89bvR1JyInYsm4qg2dcwPNTXxreytvJZhE6nA5EGqorquWxHW3CbpgIVVf9A5per8ZP3u1j2rq/xk5JiQFpaAEFtbLygrn7cZmPF/LbWy89SXFliX37pVCpoiKAqL7d+ESel/CX0Pdp+b2B6gBtUKdEY+lwoFqzdhj27YrFo4lisbzkGwytv0VartQA0MK2S5VATQavWWjlW6XksqW+DCJ1WDwJBrB5TlW1ChUmbYPzmy9Zkg/nyVsN4yhWoOmURFeVqEGmh1trRfluKc4tcMTAiBB31Gch6JBxTuioAOMA/dBy6G7JR2m0iTJpcK/lsqY/QGDsU6Kx9HSpl7HIna67jYnbVMpHa8+uxYq8MoxZGol/1X3/Y2E5KGy4pz0UddDoCaVSosBpIRubqQKnHeHwwqzdcc7di6YZLd8YLhsvb8M0hR4yInoshtm7rt9pe3UVfaaFOSYlTKXlsHkGr1YIgmkx8kUoFNeHOxISk9LUZWPHWFjz2wXt4xkUOn9BPET28OS5vfAczd+XfqR+S+1IAgCP6vTEdAW4qpEQPxXOhC7B22x7sil2EiWPXo+WY4XfKwdx4qvY4TmJ6egNEACSKAFzRZ963iH6+CVI/Go+IrzMtP0RZ5onxH8xCb9dcbF26oWppcsNlbPvmEBxHRGNuZQUjrRbG4aRJxkNlzHhj+3Y3YwKdCioNgVTG54NUHqD0vsueeJN0nAYYw/xHxCdfg6Y0C/tXbYcxzJXIVV7C1R4N3XfpcT4+Dsm3GzmXzhjQ2wsuHTqhnUJi7OrPIz4uGVVJDEBvLxd06NTOuIfz8Yir2gE6D+gNL5cO6NTOWFK162QDXIsZcvBNSDs0bz8W3+bU7SlC7AFzX9eO0WXS2pHe5CAIJDi2JN9Ri+mHlJU02E0goUlrGhCVRCWkpuOLniE3mYxcPLtTcEwylRARqY/TomfcSCZzIc/uwRSTXEJEROqsOJr6lDs1EUCAQHK3zhS86ADl6YlIn0OJn4VT96YCCQovCpwTS8l5xZS+JZIGeMgJgjN1Hb+EDmTriczst+jST7RuYTB1bCIQ5K3p+Zmf06ELlQuxXk2iT8f5Ubuug2jK/BiKnjWRhg6fThszKteLsmvfNdh53FlxU+kp9yYkAARBTm6dg2nRgTyqStlcnuroxPye5CQ4Us/5qRaWEyul1M0f0rSB3sb8FZqQz6C36MNvj1JhrTXT9HTpp3W0MLgjNRFA8tbP08zPD9GFcunnostcSyO9HUgQBHJs6UujFv9AKSsHk5sgUJPWA2hh/EHaGBVCXVwEgsydAt5eSQkZpZR/dCNFhXQhFwEkcw+gt1cmUEat1bcqaN+kttT346xq+aKnc0ufo4cEEBRd6L0UTc0PmavElBH9LPWc9b9qyx7q6eLyQeQf+SvVTkFK+ZjZS8r71FUhJ4+nX6IRQeE0c85MigjsTc9NjqXTt4iIDJSf9BVFBvoY89ujP721fAcdL6gqGKuxcXs/F3fSOwGPkrNMIIWrO3n/M4gWfxJO7Zt3oIDx79PnP/xOmebKVU1EBiUdmj+UOj6kIAEgQdGC/CLW0PGS6qdvPm5rq1lHj1BO+laaO8SL5BCoSfuR9MHWNCq+eoLi5g2jNgqBBEUbGjZvF2VWEJE6i+KmPkXuTQQCQILcjToHL6IDedaXJbaZz4Z8SvoqkgJ9mpAAOXn0f4uW7zhO1bLZdltARGQooMNRwdS9tQf986XX6f35c+idScE0InwpJV2tSsxWDEQllUhLS3+Jflq3kII7Go+79fMz6fND583HSom5bS9ILD9zcWWdzfwy5NOvW5bQJL+HSQaBHDuNooVf7KTjSisLNdoqf0l9D5FBeYjmD+1IDykEAgRStPCjiDXHjX2QoYTSt86lIV5ygtCE2o/8gLamFdPVE3E0b1gbUggCKdoMo3m7MqnW4qdmy8N6Hlvv2y7Sj2tm0HPucoLsH9TnzVW0/1wZ5fz8Jc0a2JrkEMip8ziK2ZlGV/OSaV3kC/SoHCR7yJ+mrDDXPpLZY1n8/RHaOncIeclBQpP2NPKDrZRWfJVOxM2jYW0UJAgKajNsHu3KrJBWdy3179boMij62Z4063/VclV/kZYP8qfIX2u0uPbU+9J8OroxikK6uJAAGbkHvE0rEzIsHIOU+qOjlPe7kkLuQU+/NIKCwmfSnJkRFNj7OZoce7ra8qdSt7PdhtvuM/fTV5GB5NNEIMg9qP9by2nH8QLrS55ainnDVUr6dBz5tetKg6bMp5joWTRx6HCavjGDyq2lJ7Htq2tfWatOLf6ejtgRp1L6SVN6ykn8jMK7NyVBUJBX4ByKTc6j4vQtFDnAg+QQyLnreFpyIJv0NtLXXzpAH415gly9RtLSXyvLpewMbZnUlZoAJHv4SQpf8QspDVbKxXLGk/LQfBra8SFSCCAICmrhF0FrKjtoQ/5RM+OpEvPjOLWt9Ax0NSWOFkf408MykNzzBYpcs5dOF+dR0qLB1EIGEhStqU/EAtqeYam2GOhq0qc0zq8ddR00hebHRNOsiUNp+PSNVDWsTqTPwrtTU0EghVcgzYlNprzidNoSOYA85CDBuSuNX3KAjENje8cEBsr/dQstmeRHD8tAgmMnGrXwC9p5XHknXmz1XYb8pDrEm63j1FHm2pHk7SCQIDhSS99RtPiHFFo52I0EoQm1HhBFSSUN2HcREZVvp7C2PtTzpRm0fHM8ffdlJAUPCqevbq+PKyF2y7eHUVufnvTSjOW0Of47+jIymAaFf1W5xG45bQ9rSz49X6IZyzdT/HdfUmTwIAr/6jSVW7q2UEsrE7uup3QnaH5PJxIce9L8VFuLLLO/gvs76UFEROWkPJdBF69XVaiblzPobN7Nag2Dmq5eOEuXSms0TuqrdOHsJar5MpGGiv44Ralncui6lOtWiyzs1xrNdbqYkUl5N+34TEPQFNEfp1LpTM51MxfeRObP7RZdzsym6/f50E2UK+lcxkWqqh436XLGWcq7KWllesv0mbT4hZdoTW7NdDRUkn+Bvp4QTCtzJO7jVgEVlNXYtlxJyhIrn7dZPqaMF+MK6vLeMSovzqb09AtUVKe6LS021EUX6FT6eSpUE9HNq1R4y4781pVSTkYG5ZRY6CQsxm2tDe2Pvxo0RX/QqdQzlCOxIai/fCZpbYHhFinP/0ZpZ3KpzNJmUmNASlr1wVr5WYwrCRqg7bRe/lL6HiNdaQ5lZOSQpSpd7xq8b6uPY5FAUt21P85vFRRQ7SZXSdaa3Ppnq/5UTmYoutB7x8qpODud0i8UmWnvpW53m4060BB9ptU6oKHrFzMoM++m5IlOIpLeXtnZV1Ye8F32HQ0dZ/WUfp1iU0elORmUkVNi4cste9V3erVprl+kjMw8qo+uwd4xgbRE73XfRVSuPEcZF69X5fnNy5RxNo9qhnnD9F1qUquJSF9GeWdTKT2rgMrNNS/WYletJmMSeXQ2NZ2yCspN+l21cQdUlneWUtOzqMDsDqyorzK5dZkys6/b17axB5ZARPX3Q1fG/iLKf3oHQzf0x971wXi4xnul/1uMfx94Cp9EvVDrvftFf3w2ejz7CWhmMtJjnuaHTzcQzue7Yy2uGPt70eP47B549hPCzOR0xDxtqTWRuh1jjDHG6ur+L1nL2D2hx/mts/HRQR3adXHDmS2/IXD9/9W6MBOvJSIupQfmffDgTHgAgEgiRACigX9X2JA4n+0lLa4Y+/sRK59lIMJ6cyJ1O8YYY4zVFU96sL+JCpzdtwEb466CmjyKwCX/xYzutb9Rk7UaiDdn3IfDs8KgUuLk4RPIFw0QUw7jxJUu8Pd8GI4NvSzj3wznc11IiyvG/l4MUClP4vCJfIgGESmHT+BKF394PuxYYzl3qdsxxhhj7G7wz1vY30d5No4c+g2ajn3xfDf3v8iMnwhlym78eEFV9ZRpwRkdng9Cb08eFtcfzuc6+0vGFWMNSFQiZfePuKCqGl4Jzh3wfFBvmDQnUrdjjDHG2F3hSQ/GGGOMMcYYY4w1SrL7fQCMMcYYY4wxxhhjDYEnPRhjjDHGGGOMMdYo8aQHY4wxxhhjjDHGGiWe9GCMMcYYY4wxxlijxJMejDHGGGOMMcYYa5R40oMxxhhjjDHGGGONEk96MMYYY4wxxhhjrFHiSQ/GGGOMMcYYY4w1SjzpwRhjjDHGGGOMsUaJJz0YY4wxxhhjjDHWKPGkB2OMMcYYY4wxxholnvRgjDHGGGOMMcZYo8STHowxxhhjjDHGGGuUeNKDMcYYY4wxxhhjjRJPejDGGGOMMcYYY6xR4kkPxhhjjDHGGGOMNUo86cEYY4wxxhhjjLFGiSc9GGOMMcYYY4wx1ijxpAdjjDHGGGOMMcYaJZ70YIwxxhhjjDHGWKPEkx6MMcYYY4wxxhhrlHjSgzHGGGOMMcYYY40ST3owxhhjjDHGGGOsUeJJD8YYY4wxxhhjjDVK/w/VvhDhVvZfvQAAAABJRU5ErkJggg==)"
      ]
    },
    {
      "cell_type": "markdown",
      "metadata": {
        "id": "VDOH6bfmFRal"
      },
      "source": [
        "### Получение эмбеддингов товаров\n",
        "\n",
        "Для начала созданим начальные эмбединги для наших узлов. Для этого мы просто закодируем уникальные идентификаторы товаров в векторную форму эмбеддинга, используя слой `torch.nn.Embedding`"
      ]
    },
    {
      "cell_type": "markdown",
      "metadata": {
        "id": "VLQQJMw8D6TT"
      },
      "source": [
        "### Слой GG-NN (Gated Graph Neural Network)\n",
        "\n",
        "Нам требуется улучшить инициированные эмбеддинги. Для этого мы применяем слой Gated Graph Neural Network.\n",
        "\n",
        "Этот слой состоит из 2-х главных частей:\n",
        "\n",
        "1. Распространение сообщения для создания матрицы смежности (`self.propagate`).\n",
        "2. Блок GRU (`self.gru`). Размещен в функции `forward()`.\n",
        "\n",
        "Мы используем только один слой `GatedSessionGraphConv`, поскольку средняя длина сессий в нашем датасете меньше 5, так что у нас нет потребности в большем количестве."
      ]
    },
    {
      "cell_type": "markdown",
      "metadata": {
        "id": "nDgh7WquIIqi"
      },
      "source": [
        "#### Передача сообщений в PyGeometric\n",
        "Обобщении оператора свертки для нерегулярных структур данных обычно выражается по схеме передачи сообщений.\n",
        "\n",
        "PyG предоставляет базовый класс MessagePassing, который помогает в создании такого рода графовых нейронных сетей, автоматически реализуя распространение сообщений. От пользователя требуется только определить функции phi, т.е. message(), gamma, т.е. update(), а также используемую схему агрегации (add, mean или max).\n",
        "\n",
        "В данном случае используется простая функция передачи сообщений, основная на стратегии агрегации, т.е. путем простого перемножения матрицы смежности и эмбеддинга узла.\n",
        "\n",
        "Более продвинутые подходы к агрегации могут быть определены в дальнейшем для улучшения производительности, но в нашем случае нет такого разнообразия типов связей в данных, так что можно положиться на простой подход."
      ]
    },
    {
      "cell_type": "code",
      "execution_count": 17,
      "metadata": {
        "id": "7K3HWrcwqp0Z"
      },
      "outputs": [],
      "source": [
        "class GatedSessionGraphConv(pyg.nn.conv.MessagePassing):\n",
        "    def __init__(self, out_channels, aggr: str = 'add', **kwargs):\n",
        "        super().__init__(aggr=aggr, **kwargs)\n",
        "        self.out_channels = out_channels\n",
        "        self.gru = torch.nn.GRUCell(out_channels, out_channels, bias=False)\n",
        "\n",
        "    def forward(self, x, edge_index):\n",
        "        m = self.propagate(edge_index, x=x, size=None)\n",
        "        x = self.gru(m, x)\n",
        "        return x\n",
        "\n",
        "    def message(self, x_j):\n",
        "        return x_j\n",
        "\n",
        "    def message_and_aggregate(self, adj_t, x):\n",
        "        return matmul(adj_t, x, reduce=self.aggr)"
      ]
    },
    {
      "cell_type": "code",
      "execution_count": 18,
      "metadata": {
        "id": "TNsAHq8PCN3k"
      },
      "outputs": [],
      "source": [
        "class SRGNN(nn.Module):\n",
        "    def __init__(self, hidden_size, n_items):\n",
        "        super(SRGNN, self).__init__()\n",
        "        self.hidden_size = hidden_size\n",
        "        self.n_items = n_items\n",
        "\n",
        "        self.embedding = nn.Embedding(self.n_items, self.hidden_size)\n",
        "        # используем класс message-passing\n",
        "        self.gated = GatedSessionGraphConv(self.hidden_size)\n",
        "\n",
        "        self.q = nn.Linear(self.hidden_size, 1)\n",
        "        self.W_1 = nn.Linear(self.hidden_size, self.hidden_size, bias=False)\n",
        "        self.W_2 = nn.Linear(self.hidden_size, self.hidden_size)\n",
        "        self.W_3 = nn.Linear(2 * self.hidden_size, self.hidden_size, bias=False)\n",
        "\n",
        "    def reset_parameters(self):\n",
        "        stdv = 1.0 / math.sqrt(self.hidden_size)\n",
        "        for weight in self.parameters():\n",
        "            weight.data.uniform_(-stdv, stdv)\n",
        "\n",
        "    def forward(self, data):\n",
        "        x, edge_index, batch_map = data.x, data.edge_index, data.batch\n",
        "\n",
        "        # инициализируем эмбеддинги\n",
        "        embedding = self.embedding(x).squeeze()\n",
        "\n",
        "        # применяем свертку\n",
        "        v_i = self.gated(embedding, edge_index)\n",
        "\n",
        "        # разделяем узлы по сессиям\n",
        "        sections = list(torch.bincount(batch_map).cpu())\n",
        "        v_i_split = torch.split(v_i, sections)\n",
        "\n",
        "        v_n, v_n_repeat = [], []\n",
        "        for session in v_i_split:\n",
        "            v_n.append(session[-1])\n",
        "            v_n_repeat.append(\n",
        "                session[-1].view(1, -1).repeat(session.shape[0], 1))\n",
        "        v_n, v_n_repeat = torch.stack(v_n), torch.cat(v_n_repeat, dim=0)\n",
        "\n",
        "        q1 = self.W_1(v_n_repeat)\n",
        "        q2 = self.W_2(v_i)\n",
        "\n",
        "        # создаем глобальный эмбеддинг - взвешенное среднее от эмбеддингов товаров в сессии\n",
        "        alpha = self.q(F.sigmoid(q1 + q2))\n",
        "        s_g_split = torch.split(alpha * v_i, sections)\n",
        "\n",
        "        s_g = []\n",
        "        for session in s_g_split:\n",
        "            s_g_session = torch.sum(session, dim=0)\n",
        "            s_g.append(s_g_session)\n",
        "        s_g = torch.stack(s_g)\n",
        "\n",
        "        # финальный гибридный эмбеддинг сессии создается путем конкатенации локального и глобального эмбеддингов\n",
        "        s_l = v_n # локальный эмбеддинг\n",
        "        s_h = self.W_3(torch.cat([s_l, s_g], dim=-1))\n",
        "\n",
        "        # итогая оценка каждого товара определяется путем вычисления косинусной близости между эмбеддингом сессии (1 x d)\n",
        "        # и эмбеддингами всех 466867 уникальных товаров (466867 x d)\n",
        "        z = torch.mm(self.embedding.weight, s_h.T).T\n",
        "        return z"
      ]
    },
    {
      "cell_type": "markdown",
      "metadata": {
        "id": "Qd0wGgxOAIoJ"
      },
      "source": [
        "## Обучение модели"
      ]
    },
    {
      "cell_type": "code",
      "execution_count": 19,
      "metadata": {
        "id": "5gMZqEW81HYj"
      },
      "outputs": [],
      "source": [
        "# Определяем гиперпараметры\n",
        "args = {\n",
        "    'batch_size': 128,\n",
        "    'hidden_dim': 64,\n",
        "    'epochs': 20,\n",
        "    'l2_penalty': 0.0001,\n",
        "    'weight_decay': 0.1,\n",
        "    'step': 5,\n",
        "    'lr': 0.001,\n",
        "    'num_items': 466868}\n",
        "\n",
        "class objectview(object):\n",
        "    def __init__(self, d):\n",
        "        self.__dict__ = d\n",
        "\n",
        "args = objectview(args)"
      ]
    },
    {
      "cell_type": "code",
      "execution_count": 20,
      "metadata": {
        "id": "8iVoTPoJAKkU"
      },
      "outputs": [],
      "source": [
        "def train(args):\n",
        "    # Подготавливаем конвеер данных\n",
        "    train_dataset = GraphDataset('./', 'train')\n",
        "    train_loader = pyg_data.DataLoader(train_dataset,\n",
        "                                       batch_size=args.batch_size,\n",
        "                                       shuffle=False,\n",
        "                                       drop_last=True)\n",
        "    val_dataset = GraphDataset('./', 'val')\n",
        "    val_loader = pyg_data.DataLoader(val_dataset,\n",
        "                                     batch_size=args.batch_size,\n",
        "                                     shuffle=False,\n",
        "                                     drop_last=True)\n",
        "\n",
        "    # Строим модель\n",
        "    model = SRGNN(args.hidden_dim, args.num_items).to('cuda')\n",
        "\n",
        "    optimizer = torch.optim.Adam(model.parameters(), lr=args.lr, weight_decay=args.l2_penalty)\n",
        "    scheduler = optim.lr_scheduler.StepLR(optimizer, step_size=args.step, gamma=args.weight_decay)\n",
        "    criterion = nn.CrossEntropyLoss()\n",
        "\n",
        "    # Обучаем\n",
        "    losses = []\n",
        "    test_accs = []\n",
        "    top_k_accs = []\n",
        "\n",
        "    best_acc = 0\n",
        "    best_model = None\n",
        "\n",
        "    for epoch in range(args.epochs):\n",
        "        total_loss = 0\n",
        "        model.train()\n",
        "        for _, batch in enumerate(tqdm(train_loader)):\n",
        "            batch.to('cuda')\n",
        "            optimizer.zero_grad()\n",
        "\n",
        "            pred = model(batch)\n",
        "            label = batch.y\n",
        "            loss = criterion(pred, label)\n",
        "\n",
        "            loss.backward()\n",
        "            optimizer.step()\n",
        "            total_loss += loss.item() * batch.num_graphs\n",
        "\n",
        "        total_loss /= len(train_loader.dataset)\n",
        "        losses.append(total_loss)\n",
        "\n",
        "        scheduler.step()\n",
        "\n",
        "        if epoch % 1 == 0:\n",
        "            test_acc, top_k_acc = test(val_loader, model, is_validation=True)\n",
        "            print(test_acc)\n",
        "            test_accs.append(test_acc)\n",
        "            top_k_accs.append(top_k_acc)\n",
        "            if test_acc > best_acc:\n",
        "                best_acc = test_acc\n",
        "                best_model = copy.deepcopy(model)\n",
        "            else:\n",
        "                test_accs.append(test_accs[-1])\n",
        "\n",
        "    return test_accs, top_k_accs, losses, best_model, best_acc, val_loader"
      ]
    },
    {
      "cell_type": "code",
      "execution_count": 21,
      "metadata": {
        "id": "UTiJJ1pm0ks9"
      },
      "outputs": [],
      "source": [
        "def test(loader, test_model, is_validation=False, save_model_preds=False):\n",
        "    test_model.eval()\n",
        "\n",
        "    # Определяем K для метрики Hit@K\n",
        "    k = 10\n",
        "    correct = 0\n",
        "    top_k_correct = 0\n",
        "\n",
        "    for _, data in enumerate(tqdm(loader)):\n",
        "        data.to('cuda')\n",
        "        with torch.no_grad():\n",
        "            score = test_model(data)\n",
        "            # max(dim=1) возвращает значения и кортеж индексов, нужны только индексы\n",
        "            pred = score.max(dim=1)[1]\n",
        "            label = data.y\n",
        "\n",
        "        if save_model_preds:\n",
        "            data = {}\n",
        "            data['pred'] = pred.view(-1).cpu().detach().numpy()\n",
        "            data['label'] = label.view(-1).cpu().detach().numpy()\n",
        "\n",
        "            df = pd.DataFrame(data=data)\n",
        "            # Save locally as csv\n",
        "            df.to_csv('pred.csv', sep=',', index=False)\n",
        "\n",
        "        correct += pred.eq(label).sum().item()\n",
        "\n",
        "        # Рассчитываем метрику Hit@K только на тестовой выборке\n",
        "        if not is_validation:\n",
        "            score = score.cpu().detach().numpy()\n",
        "            for row in range(pred.size(0)):\n",
        "                top_k_pred = np.argpartition(score[row], -k)[-k:]\n",
        "                if label[row].item() in top_k_pred:\n",
        "                    top_k_correct += 1\n",
        "\n",
        "    if not is_validation:\n",
        "        return correct / len(loader), top_k_correct / len(loader)\n",
        "    else:\n",
        "        return correct / len(loader), 0"
      ]
    },
    {
      "cell_type": "code",
      "execution_count": 22,
      "metadata": {
        "id": "ktSdWKz2m-Ib"
      },
      "outputs": [],
      "source": [
        "plt.rcParams[\"figure.figsize\"] = (12, 8)"
      ]
    },
    {
      "cell_type": "code",
      "execution_count": 23,
      "metadata": {
        "colab": {
          "base_uri": "https://localhost:8080/",
          "height": 1000
        },
        "id": "pdNUqKJl1r35",
        "outputId": "6e60b9db-0e8b-43f4-e6f0-07d4bdc40d40"
      },
      "outputs": [
        {
          "output_type": "stream",
          "name": "stderr",
          "text": [
            "Processing...\n",
            "Done!\n",
            "/usr/local/lib/python3.10/dist-packages/torch_geometric/deprecation.py:26: UserWarning: 'data.DataLoader' is deprecated, use 'loader.DataLoader' instead\n",
            "  warnings.warn(out)\n",
            "Processing...\n",
            "Done!\n",
            "100%|██████████| 2919/2919 [04:28<00:00, 10.86it/s]\n",
            "100%|██████████| 387/387 [00:17<00:00, 21.69it/s]\n"
          ]
        },
        {
          "output_type": "stream",
          "name": "stdout",
          "text": [
            "13.87080103359173\n"
          ]
        },
        {
          "output_type": "stream",
          "name": "stderr",
          "text": [
            "100%|██████████| 2919/2919 [03:43<00:00, 13.07it/s]\n",
            "100%|██████████| 387/387 [00:10<00:00, 35.22it/s]\n"
          ]
        },
        {
          "output_type": "stream",
          "name": "stdout",
          "text": [
            "13.330749354005167\n"
          ]
        },
        {
          "output_type": "stream",
          "name": "stderr",
          "text": [
            "100%|██████████| 2919/2919 [03:43<00:00, 13.03it/s]\n",
            "100%|██████████| 387/387 [00:10<00:00, 36.77it/s]\n"
          ]
        },
        {
          "output_type": "stream",
          "name": "stdout",
          "text": [
            "15.025839793281653\n"
          ]
        },
        {
          "output_type": "stream",
          "name": "stderr",
          "text": [
            "100%|██████████| 2919/2919 [03:44<00:00, 13.02it/s]\n",
            "100%|██████████| 387/387 [00:09<00:00, 39.24it/s]\n"
          ]
        },
        {
          "output_type": "stream",
          "name": "stdout",
          "text": [
            "15.772609819121447\n"
          ]
        },
        {
          "output_type": "stream",
          "name": "stderr",
          "text": [
            "100%|██████████| 2919/2919 [03:45<00:00, 12.97it/s]\n",
            "100%|██████████| 387/387 [00:09<00:00, 39.34it/s]\n"
          ]
        },
        {
          "output_type": "stream",
          "name": "stdout",
          "text": [
            "16.56847545219638\n"
          ]
        },
        {
          "output_type": "stream",
          "name": "stderr",
          "text": [
            "100%|██████████| 2919/2919 [03:44<00:00, 13.01it/s]\n",
            "100%|██████████| 387/387 [00:07<00:00, 50.93it/s]\n"
          ]
        },
        {
          "output_type": "stream",
          "name": "stdout",
          "text": [
            "18.956072351421188\n"
          ]
        },
        {
          "output_type": "stream",
          "name": "stderr",
          "text": [
            "100%|██████████| 2919/2919 [03:46<00:00, 12.89it/s]\n",
            "100%|██████████| 387/387 [00:08<00:00, 47.87it/s]\n"
          ]
        },
        {
          "output_type": "stream",
          "name": "stdout",
          "text": [
            "19.43152454780362\n"
          ]
        },
        {
          "output_type": "stream",
          "name": "stderr",
          "text": [
            "100%|██████████| 2919/2919 [03:44<00:00, 13.00it/s]\n",
            "100%|██████████| 387/387 [00:07<00:00, 53.31it/s]\n"
          ]
        },
        {
          "output_type": "stream",
          "name": "stdout",
          "text": [
            "19.54780361757106\n"
          ]
        },
        {
          "output_type": "stream",
          "name": "stderr",
          "text": [
            "100%|██████████| 2919/2919 [03:45<00:00, 12.93it/s]\n",
            "100%|██████████| 387/387 [00:07<00:00, 55.08it/s]\n"
          ]
        },
        {
          "output_type": "stream",
          "name": "stdout",
          "text": [
            "19.733850129198967\n"
          ]
        },
        {
          "output_type": "stream",
          "name": "stderr",
          "text": [
            "100%|██████████| 2919/2919 [03:44<00:00, 12.98it/s]\n",
            "100%|██████████| 387/387 [00:07<00:00, 53.60it/s]\n"
          ]
        },
        {
          "output_type": "stream",
          "name": "stdout",
          "text": [
            "19.97157622739018\n"
          ]
        },
        {
          "output_type": "stream",
          "name": "stderr",
          "text": [
            "100%|██████████| 2919/2919 [03:44<00:00, 12.98it/s]\n",
            "100%|██████████| 387/387 [00:08<00:00, 43.48it/s]\n"
          ]
        },
        {
          "output_type": "stream",
          "name": "stdout",
          "text": [
            "20.00516795865633\n"
          ]
        },
        {
          "output_type": "stream",
          "name": "stderr",
          "text": [
            "100%|██████████| 2919/2919 [03:45<00:00, 12.97it/s]\n",
            "100%|██████████| 387/387 [00:09<00:00, 40.26it/s]\n"
          ]
        },
        {
          "output_type": "stream",
          "name": "stdout",
          "text": [
            "20.020671834625322\n"
          ]
        },
        {
          "output_type": "stream",
          "name": "stderr",
          "text": [
            "100%|██████████| 2919/2919 [03:44<00:00, 12.97it/s]\n",
            "100%|██████████| 387/387 [00:08<00:00, 46.18it/s]\n"
          ]
        },
        {
          "output_type": "stream",
          "name": "stdout",
          "text": [
            "20.041343669250647\n"
          ]
        },
        {
          "output_type": "stream",
          "name": "stderr",
          "text": [
            "100%|██████████| 2919/2919 [03:47<00:00, 12.84it/s]\n",
            "100%|██████████| 387/387 [00:08<00:00, 44.09it/s]\n"
          ]
        },
        {
          "output_type": "stream",
          "name": "stdout",
          "text": [
            "20.0671834625323\n"
          ]
        },
        {
          "output_type": "stream",
          "name": "stderr",
          "text": [
            "100%|██████████| 2919/2919 [03:45<00:00, 12.95it/s]\n",
            "100%|██████████| 387/387 [00:09<00:00, 39.64it/s]\n"
          ]
        },
        {
          "output_type": "stream",
          "name": "stdout",
          "text": [
            "20.10594315245478\n"
          ]
        },
        {
          "output_type": "stream",
          "name": "stderr",
          "text": [
            "100%|██████████| 2919/2919 [03:44<00:00, 12.97it/s]\n",
            "100%|██████████| 387/387 [00:09<00:00, 39.98it/s]\n"
          ]
        },
        {
          "output_type": "stream",
          "name": "stdout",
          "text": [
            "20.11627906976744\n"
          ]
        },
        {
          "output_type": "stream",
          "name": "stderr",
          "text": [
            "100%|██████████| 2919/2919 [03:44<00:00, 12.99it/s]\n",
            "100%|██████████| 387/387 [00:08<00:00, 43.64it/s]\n"
          ]
        },
        {
          "output_type": "stream",
          "name": "stdout",
          "text": [
            "20.11111111111111\n"
          ]
        },
        {
          "output_type": "stream",
          "name": "stderr",
          "text": [
            "100%|██████████| 2919/2919 [03:44<00:00, 13.02it/s]\n",
            "100%|██████████| 387/387 [00:08<00:00, 43.20it/s]\n"
          ]
        },
        {
          "output_type": "stream",
          "name": "stdout",
          "text": [
            "20.124031007751938\n"
          ]
        },
        {
          "output_type": "stream",
          "name": "stderr",
          "text": [
            "100%|██████████| 2919/2919 [03:44<00:00, 13.01it/s]\n",
            "100%|██████████| 387/387 [00:09<00:00, 42.38it/s]\n"
          ]
        },
        {
          "output_type": "stream",
          "name": "stdout",
          "text": [
            "20.126614987080103\n"
          ]
        },
        {
          "output_type": "stream",
          "name": "stderr",
          "text": [
            "100%|██████████| 2919/2919 [03:46<00:00, 12.88it/s]\n",
            "100%|██████████| 387/387 [00:08<00:00, 46.47it/s]\n"
          ]
        },
        {
          "output_type": "stream",
          "name": "stdout",
          "text": [
            "20.152454780361758\n",
            "[13.87080103359173, 13.330749354005167, 13.330749354005167, 15.025839793281653, 15.772609819121447, 16.56847545219638, 18.956072351421188, 19.43152454780362, 19.54780361757106, 19.733850129198967, 19.97157622739018, 20.00516795865633, 20.020671834625322, 20.041343669250647, 20.0671834625323, 20.10594315245478, 20.11627906976744, 20.11111111111111, 20.11111111111111, 20.124031007751938, 20.126614987080103, 20.152454780361758] [0, 0, 0, 0, 0, 0, 0, 0, 0, 0, 0, 0, 0, 0, 0, 0, 0, 0, 0, 0]\n",
            "Максимальная точность на тестовом наборе: 20.152454780361758\n",
            "Минимальная ощибка: 5.503988028095073\n"
          ]
        },
        {
          "output_type": "display_data",
          "data": {
            "text/plain": [
              "<Figure size 1200x800 with 1 Axes>"
            ],
            "image/png": "[encoded data removed]"
          },
          "metadata": {}
        }
      ],
      "source": [
        "test_accs, top_k_accs, losses, best_model, best_acc, test_loader = train(args)\n",
        "\n",
        "print(test_accs, top_k_accs)\n",
        "print(\"Максимальная точность на тестовом наборе: {0}\".format(max(test_accs)))\n",
        "print(\"Минимальная ошибка: {0}\".format(min(losses)))\n",
        "\n",
        "plt.plot(losses, label=\"training loss\")\n",
        "plt.plot(test_accs, label=\"test accuracy\")\n",
        "plt.legend()\n",
        "plt.show()"
      ]
    },
    {
      "cell_type": "markdown",
      "metadata": {
        "id": "dBL9dUJ-9Cmf"
      },
      "source": [
        "Точность на валидационных данных составила: 20.15 %"
      ]
    },
    {
      "cell_type": "markdown",
      "metadata": {
        "id": "bfUleigO6Xy1"
      },
      "source": [
        "## Оценка модели"
      ]
    },
    {
      "cell_type": "code",
      "execution_count": 24,
      "metadata": {
        "id": "9rTB4_lI1Ocg"
      },
      "outputs": [],
      "source": [
        "# Сохраним нашу лучшую модель\n",
        "torch.save(best_model.state_dict(), 'model')"
      ]
    },
    {
      "cell_type": "code",
      "execution_count": 25,
      "metadata": {
        "colab": {
          "base_uri": "https://localhost:8080/"
        },
        "id": "MoK2gVD7HVep",
        "outputId": "f79ab38f-b7c6-438a-ae7d-fe1925c8004f"
      },
      "outputs": [
        {
          "output_type": "stream",
          "name": "stderr",
          "text": [
            "Processing...\n",
            "Done!\n",
            "100%|██████████| 410/410 [10:25<00:00,  1.53s/it]\n"
          ]
        },
        {
          "output_type": "execute_result",
          "data": {
            "text/plain": [
              "(19.724390243902437, 43.19268292682927)"
            ]
          },
          "metadata": {},
          "execution_count": 25
        }
      ],
      "source": [
        "# Запустим тесты для нашей лучшей модели и сохраним предсказания\n",
        "test_dataset = GraphDataset('./', 'test')\n",
        "test_loader = pyg_data.DataLoader(test_dataset,\n",
        "                                  batch_size=args.batch_size,\n",
        "                                  shuffle=False,\n",
        "                                  drop_last=True)\n",
        "\n",
        "test(test_loader, best_model, is_validation=False, save_model_preds=True)"
      ]
    },
    {
      "cell_type": "markdown",
      "metadata": {
        "id": "g1svo7Ty64-0"
      },
      "source": [
        "### Результаты оценки:\n",
        "\n",
        "- Модель может предсказать какой следующий товар заинтересует пользователя вероятностью 20 %\n",
        "- Мы получили Hit@10 = 43.2 %, а это значит, что если наша модель рекомендует 10 товаров, то 4 из них будут соответствовать интересам пользователя. Это весьма хороший показатель качества нашей модели."
      ]
    },
    {
      "cell_type": "markdown",
      "metadata": {
        "id": "-YJPy8rR98XW"
      },
      "source": [
        "## Ссылки:\n"
      ]
    },
    {
      "cell_type": "markdown",
      "metadata": {
        "id": "6Ih55C2S-JPU"
      },
      "source": [
        "- https://arxiv.org/pdf/1811.00855.pdf\n",
        "- https://github.com/CRIPAC-DIG/SR-GNN\n",
        "- https://colab.research.google.com/drive/1X4uOWv_xkefDu_h-pbJg-fEkMfR7NGz9?usp=sharing\n",
        "- https://github.com/userbehavioranalysis/SR-GNN_PyTorch-Geometric\n",
        "- https://pytorch-geometric.readthedocs.io/\n",
        "- Shoujin Wang, Longbing Cao, Yan Wang, Quan Z. Sheng, Mehmet A. Orgun, and Defu Lian. 2021. A Survey on Session-based Recommender Systems. ACM Comput. Surv. 9, 4, Article 39 (May 2021), 39 pages. https: //doi.org/0000001.0000001\n",
        "- Wenjing Meng, Deqing Yang and Yanghua Xiao. 2020. Incorporating User Micro-behaviors and Item Knowledge into Multi-task Learning for Session-based Recommendation. In Proceedings of the 43rd International ACM.\n",
        "- Li, Yujia, et al. “Gated graph sequence neural networks.” arXiv preprint arXiv:1511.05493 (2015).\n",
        "- Wu, Shiwen, et al. “Graph neural networks in recommender systems: a survey.” arXiv preprint arXiv:2011.02260 (2020)."
      ]
    },
    {
      "cell_type": "code",
      "execution_count": 25,
      "metadata": {
        "id": "mg7TSUPn_NV4"
      },
      "outputs": [],
      "source": []
    }
  ],
  "metadata": {
    "accelerator": "GPU",
    "colab": {
      "provenance": [],
      "include_colab_link": true
    },
    "gpuClass": "standard",
    "kernelspec": {
      "display_name": "Python 3 (ipykernel)",
      "language": "python",
      "name": "python3"
    },
    "language_info": {
      "codemirror_mode": {
        "name": "ipython",
        "version": 3
      },
      "file_extension": ".py",
      "mimetype": "text/x-python",
      "name": "python",
      "nbconvert_exporter": "python",
      "pygments_lexer": "ipython3",
      "version": "3.11.5"
    }
  },
  "nbformat": 4,
  "nbformat_minor": 0
}